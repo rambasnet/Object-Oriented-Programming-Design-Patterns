{
 "cells": [
  {
   "cell_type": "markdown",
   "id": "2e23353b",
   "metadata": {},
   "source": [
    "# Object-Oriented Programming and Design Patterns in Python\n",
    "\n",
    "## Table of Contents\n",
    "\n",
    "### [Tools and Python Fundamentals Review](Tools-Python-Review.ipynb)\n",
    "\n",
    "### [Python Data Structures](PythonDataStructures.ipynb)\n",
    "\n",
    "### [Coding Best Practices](CodingBestPractices.ipynb)\n",
    "\n",
    "### [Object-Oriented Design](ObjectOrientedDesign.ipynb)\n",
    "\n",
    "### [Python Objects](PythonObjects.ipynb)\n",
    "\n",
    "### [When to Use Object-Oriented Programming](WhenToUseOOP.ipynb)\n",
    "\n",
    "### [Expecting the Unexpected](ExpectingTheUnexpected.ipynb)\n",
    "\n",
    "### [Testing Programs](TestingPrograms.ipynb)\n",
    "\n",
    "### [Test Data Generation](TestDataGeneration.ipynb)\n",
    "\n",
    "### [Testing with Mocking and Patching](TestingMockingPatching.ipynb)\n",
    "\n",
    "### [Serialization, JSON & Rich CLI](SerializationAndJSON.ipynb)\n",
    "\n",
    "### [When Objects are Alike - Inheritance](WhenObjectsAreAlike.ipynb)\n",
    "\n",
    "### [Abstract Base Classes and Operator Overloading](ABCOperatorOverloading.ipynb)\n",
    "\n",
    "### [The Iterator Pattern](IteratorPattern.ipynb)\n",
    "\n",
    "### [Common Design Patterns](CommonDesignPatterns.ipynb)\n",
    "\n",
    "### [Advanced Design Patterns](AdvancedDesignPatterns.ipynb)\n",
    "\n",
    "### [Intersection of OOP and Functional Programming](IntersectionOfOOPAndFunctionalProgramming.ipynb)"
   ]
  },
  {
   "cell_type": "markdown",
   "id": "ad9e88b8",
   "metadata": {},
   "source": []
  }
 ],
 "metadata": {
  "kernelspec": {
   "display_name": "oop",
   "language": "python",
   "name": "python3"
  },
  "language_info": {
   "name": "python",
   "version": "3.10.9"
  }
 },
 "nbformat": 4,
 "nbformat_minor": 5
}
