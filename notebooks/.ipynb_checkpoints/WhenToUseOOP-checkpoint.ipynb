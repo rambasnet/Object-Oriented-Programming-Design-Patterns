{
 "cells": [
  {
   "cell_type": "markdown",
   "id": "610c3fc1",
   "metadata": {},
   "source": [
    "# When to Use Object-Oriented Programming\n",
    "\n",
    "### Topics\n",
    "- how to recognize objects\n",
    "- data and behaviors, once again\n",
    "- wrapping data behaviors using properties\n",
    "- DRY principle and avoiding repetition"
   ]
  },
  {
   "cell_type": "markdown",
   "id": "1b63bef7",
   "metadata": {},
   "source": [
    "## Treat objects as objects\n",
    "\n",
    "- identify objects in the problem, and then model their data and behaviors\n",
    "- if data is the focus of a problem, use Python data structures such as list, dictionary, set, etc.\n",
    "- if behavior is the focus, simple function is more suitable\n",
    "- objects have both data and behavior and are of equal focus\n",
    "- e.g., design a program to model polygons in two-dimensional space\n",
    "    - we could start with each polygon represented as a list of points - list of tuples\n",
    "    - then convert it into OOD\n",
    "- OOD can be verbose; lot more lines of code compared to the functional counterpart\n",
    "- Code length, however, is not a good indicator of code complexity\n",
    "- *one-liner* can be a fun exercise but the result is often unreadable, even to the original author the next day\n",
    "- the more important a set of data is, the more likely it is to have multiple functions specfic to that data\n",
    "    - more useful to use a class with attributes and methods instead\n",
    "- certain interactions among objects, and inheritance can't be modeled elegantly without classes\n",
    "- composition can be modeled with data structures only, but the code is less readable\n",
    "    - e.g., we can have list of dictionaries holding tuple values\n",
    "    - less obvious what those tuples or dictionaries hold/represent!\n",
    "    \n",
    "#### NOTE: No one wins at code golf. Minimizing the volume of code is rarely desirable."
   ]
  },
  {
   "cell_type": "code",
   "execution_count": 1,
   "id": "0bfbaa5e",
   "metadata": {},
   "outputs": [],
   "source": [
    "# use built-in data structure to represent a square polygon\n",
    "square = [(1, 1), (1, 2), (2, 2), (2, 1)]"
   ]
  },
  {
   "cell_type": "code",
   "execution_count": 7,
   "id": "2ab42bf7",
   "metadata": {},
   "outputs": [],
   "source": [
    "from math import hypot\n",
    "\n",
    "# now find the perimeter of the square\n",
    "def distance(p1, p2):\n",
    "    return hypot(p1[0]-p2[0], p1[1]-p2[1])"
   ]
  },
  {
   "cell_type": "code",
   "execution_count": 8,
   "id": "31f301fe",
   "metadata": {},
   "outputs": [],
   "source": [
    "def perimeter(polygon):\n",
    "    # zip creates: (v[0], v[1]), (v[1], v[2]), and (v[2], v[0])\n",
    "    pairs = zip(polygon, polygon[1:]+polygon[:1])\n",
    "    return sum(distance(p1, p2) for p1, p2 in pairs)"
   ]
  },
  {
   "cell_type": "code",
   "execution_count": 9,
   "id": "08489b55",
   "metadata": {},
   "outputs": [
    {
     "data": {
      "text/plain": [
       "4.0"
      ]
     },
     "execution_count": 9,
     "metadata": {},
     "output_type": "execute_result"
    }
   ],
   "source": [
    "perimeter(square)"
   ]
  },
  {
   "cell_type": "code",
   "execution_count": 11,
   "id": "f6b8bbee",
   "metadata": {},
   "outputs": [],
   "source": [
    "from math import hypot\n",
    "from typing import Tuple, List\n",
    "\n",
    "# Type alias\n",
    "Point = Tuple[float, float] # this can be converted into a class\n",
    "\n",
    "def distance(p_1: Point, p_2: Point) -> float:\n",
    "    return hypot(p_1[0] - p_2[0], p_1[1] - p_2[1])\n",
    "\n",
    "Polygon = List[Point] # this can be converted into a class\n",
    "\n",
    "def perimeter(polygon: Polygon) -> float:\n",
    "    pairs = zip(polygon, polygon[1:] + polygon[:1])\n",
    "    return sum(distance(p1, p2) for p1, p2 in pairs)"
   ]
  },
  {
   "cell_type": "code",
   "execution_count": 13,
   "id": "ed2d6f0b",
   "metadata": {},
   "outputs": [],
   "source": [
    "from math import hypot\n",
    "from typing import Tuple, List, Optional, Iterable\n",
    "\n",
    "class Point:\n",
    "    def __init__(self, x: float, y: float) -> None:\n",
    "        self.x = x\n",
    "        self.y = y\n",
    "        \n",
    "    def distance(self, other: \"Point\") -> float:\n",
    "        return hypot(self.x - other.x, self.y - other.y)\n",
    "    \n",
    "class Polygon:\n",
    "    def __init__(self) -> None:\n",
    "        self._vertices: List[Point] = []\n",
    "            \n",
    "    def add_point(self, point: \"Point\") -> None:\n",
    "        self._vertices.append((point))\n",
    "        \n",
    "    def perimeter(self) -> float:\n",
    "        pairs = zip(self._vertices, self._vertices[1:] + self._vertices[:1])\n",
    "        return sum(p1.distance(p2) for p1, p2 in pairs)"
   ]
  },
  {
   "cell_type": "code",
   "execution_count": 14,
   "id": "2173533d",
   "metadata": {},
   "outputs": [],
   "source": [
    "square = Polygon()"
   ]
  },
  {
   "cell_type": "code",
   "execution_count": 15,
   "id": "8d1c64bd",
   "metadata": {},
   "outputs": [],
   "source": [
    "square.add_point(Point(1, 1))"
   ]
  },
  {
   "cell_type": "code",
   "execution_count": 16,
   "id": "b25fce04",
   "metadata": {},
   "outputs": [],
   "source": [
    "square.add_point(Point(1, 2))"
   ]
  },
  {
   "cell_type": "code",
   "execution_count": 17,
   "id": "20045f36",
   "metadata": {},
   "outputs": [],
   "source": [
    "square.add_point(Point(2, 2))"
   ]
  },
  {
   "cell_type": "code",
   "execution_count": 18,
   "id": "57c2a638",
   "metadata": {},
   "outputs": [],
   "source": [
    "square.add_point(Point(2, 1))"
   ]
  },
  {
   "cell_type": "code",
   "execution_count": 19,
   "id": "efa7672c",
   "metadata": {},
   "outputs": [
    {
     "data": {
      "text/plain": [
       "4.0"
      ]
     },
     "execution_count": 19,
     "metadata": {},
     "output_type": "execute_result"
    }
   ],
   "source": [
    "square.perimeter()"
   ]
  },
  {
   "cell_type": "code",
   "execution_count": 20,
   "id": "989f23fb",
   "metadata": {},
   "outputs": [],
   "source": [
    "# more verbose/steps, compared to functional design\n",
    "square = [(1, 1), (1, 2), (2, 2), (2, 1)]"
   ]
  },
  {
   "cell_type": "code",
   "execution_count": 21,
   "id": "b7c6a48c",
   "metadata": {},
   "outputs": [
    {
     "data": {
      "text/plain": [
       "4.0"
      ]
     },
     "execution_count": 21,
     "metadata": {},
     "output_type": "execute_result"
    }
   ],
   "source": [
    "perimeter(square)"
   ]
  },
  {
   "cell_type": "code",
   "execution_count": 22,
   "id": "c4de584c",
   "metadata": {},
   "outputs": [],
   "source": [
    "# we could shorten Polygon class\n",
    "# just initialized Polygon with point objects\n",
    "class Polygon_2:\n",
    "    def __init__(self, vertices: Optional[Iterable[Point]] = None) -> None:\n",
    "        self._vertices = list(vertices) if vertices else []\n",
    "        \n",
    "    def perimeter(self) -> float:\n",
    "        pairs = zip(self._vertices, self._vertices[1:]+self._vertices[:1])\n",
    "        return sum(p1.distance(p2) for p1, p2 in pairs)"
   ]
  },
  {
   "cell_type": "code",
   "execution_count": 23,
   "id": "6d1e1bb3",
   "metadata": {},
   "outputs": [],
   "source": [
    "square = Polygon_2([Point(1, 1), Point(1, 2), Point(2, 2), Point(2, 1)])"
   ]
  },
  {
   "cell_type": "code",
   "execution_count": 24,
   "id": "5d9829e8",
   "metadata": {},
   "outputs": [
    {
     "data": {
      "text/plain": [
       "4.0"
      ]
     },
     "execution_count": 24,
     "metadata": {},
     "output_type": "execute_result"
    }
   ],
   "source": [
    "square.perimeter()"
   ]
  },
  {
   "cell_type": "code",
   "execution_count": 36,
   "id": "ff2adb97",
   "metadata": {},
   "outputs": [],
   "source": [
    "# let's take one more step; allow Polygon to accet tuples too\n",
    "from typing import Union\n",
    "\n",
    "Pair = Tuple[float, float]\n",
    "Point_or_Tuple = Union[Point, Pair]\n",
    "\n",
    "class Polygon_3:\n",
    "    def __init__(self, vertices: Optional[Iterable[Point_or_Tuple]] = None) -> None:\n",
    "        self._vertices: List[Point] = []\n",
    "        if vertices:\n",
    "            for point_or_tuple in vertices:\n",
    "                self._vertices.append(Polygon_3.make_point(point_or_tuple))\n",
    "                \n",
    "    def perimeter(self) -> float:\n",
    "        pairs = zip(self._vertices, self._vertices[1:]+self._vertices[:1])\n",
    "        return sum(p1.distance(p2) for p1, p2 in pairs)\n",
    "    \n",
    "    @staticmethod\n",
    "    def make_point(item: Point_or_Tuple) -> Point:\n",
    "        return item if isinstance(item, Point) else Point(*item)\n",
    "    "
   ]
  },
  {
   "cell_type": "code",
   "execution_count": 37,
   "id": "b43b8fac",
   "metadata": {},
   "outputs": [],
   "source": [
    "square = Polygon_3([(1, 1), (1, 2), (2, 2), (2, 1)])"
   ]
  },
  {
   "cell_type": "code",
   "execution_count": 38,
   "id": "591912e3",
   "metadata": {},
   "outputs": [
    {
     "data": {
      "text/plain": [
       "4.0"
      ]
     },
     "execution_count": 38,
     "metadata": {},
     "output_type": "execute_result"
    }
   ],
   "source": [
    "square.perimeter()"
   ]
  },
  {
   "cell_type": "markdown",
   "id": "2d17c92e",
   "metadata": {},
   "source": [
    "## Adding behaviors to class data with properties\n",
    "\n",
    "- eventhough classes hold both data and behavior, we've explictly separated them with variables and methods\n",
    "- the distinction between data and behavior sometimes can be uncannily blurry\n",
    "- OOD teaches us to never access attributes directly\n",
    "    - OO deverlopers insist we write setters and getters (methods) to access attributes\n",
    "- setter and getter methods are not as readable and is not favored in my OOP languages\n",
    "    - they provide a simpler syntax to access attribues \"as if\" you're directly accessing them without the methods\n",
    "- why setters and getters?\n",
    "    - comiple code cleanly as functions\n",
    "    - write extra code for data validation, caching (avoid complex recomputation), etc. when accessing and setting\n",
    "- Python gives us `property` function that make methods *look* like attributes\n",
    "- or use **decorators** `@property`, `@method.setter`, `@method.deleter` to define properties"
   ]
  },
  {
   "cell_type": "code",
   "execution_count": 39,
   "id": "db857cf9",
   "metadata": {},
   "outputs": [],
   "source": [
    "class Color:\n",
    "    def __init__(self, rgb_value: int, name: str) -> None:\n",
    "        self._rgb_value = rgb_value\n",
    "        self._name = name\n",
    "        \n",
    "    def set_name(self, name: str) -> None:\n",
    "        self._name = name\n",
    "        \n",
    "    def get_name(self) -> str:\n",
    "        return self._name\n",
    "    \n",
    "    def set_rgb_value(self, rgb_value: int) -> None:\n",
    "        self._rgb_value = rgb_value\n",
    "        \n",
    "    def get_rgb_value(self) -> int:\n",
    "        return self._rgb_value"
   ]
  },
  {
   "cell_type": "code",
   "execution_count": 40,
   "id": "6abe3033",
   "metadata": {},
   "outputs": [],
   "source": [
    "c = Color(0xff0000, \"bright red\")"
   ]
  },
  {
   "cell_type": "code",
   "execution_count": 41,
   "id": "5a6dd1e3",
   "metadata": {},
   "outputs": [
    {
     "data": {
      "text/plain": [
       "'bright red'"
      ]
     },
     "execution_count": 41,
     "metadata": {},
     "output_type": "execute_result"
    }
   ],
   "source": [
    "c.get_name()"
   ]
  },
  {
   "cell_type": "code",
   "execution_count": 42,
   "id": "da2da984",
   "metadata": {},
   "outputs": [],
   "source": [
    "c.set_name(\"Red\")"
   ]
  },
  {
   "cell_type": "code",
   "execution_count": 43,
   "id": "f0329e9d",
   "metadata": {},
   "outputs": [
    {
     "data": {
      "text/plain": [
       "'Red'"
      ]
     },
     "execution_count": 43,
     "metadata": {},
     "output_type": "execute_result"
    }
   ],
   "source": [
    "c.get_name()"
   ]
  },
  {
   "cell_type": "code",
   "execution_count": 44,
   "id": "89ccf812",
   "metadata": {},
   "outputs": [],
   "source": [
    "# favored syntax - but not good design\n",
    "# access attribtues; not use getter and setter methods\n",
    "class Color_Py:\n",
    "    def __init__(self, rgb_value: int, name: str) -> None:\n",
    "        self.rgb_value = rgb_value\n",
    "        self.name = name"
   ]
  },
  {
   "cell_type": "code",
   "execution_count": 47,
   "id": "3772fa82",
   "metadata": {},
   "outputs": [],
   "source": [
    "c = Color_Py(0xff0000, \"bright red\")"
   ]
  },
  {
   "cell_type": "code",
   "execution_count": 48,
   "id": "c53f6a4d",
   "metadata": {},
   "outputs": [
    {
     "data": {
      "text/plain": [
       "'bright red'"
      ]
     },
     "execution_count": 48,
     "metadata": {},
     "output_type": "execute_result"
    }
   ],
   "source": [
    "c.name"
   ]
  },
  {
   "cell_type": "code",
   "execution_count": 49,
   "id": "d20691a2",
   "metadata": {},
   "outputs": [],
   "source": [
    "c.name = 'Red'"
   ]
  },
  {
   "cell_type": "code",
   "execution_count": 50,
   "id": "d530eee4",
   "metadata": {},
   "outputs": [
    {
     "data": {
      "text/plain": [
       "'Red'"
      ]
     },
     "execution_count": 50,
     "metadata": {},
     "output_type": "execute_result"
    }
   ],
   "source": [
    "c.name"
   ]
  },
  {
   "cell_type": "code",
   "execution_count": 54,
   "id": "bf7e5769",
   "metadata": {},
   "outputs": [],
   "source": [
    "# let's use property function\n",
    "\n",
    "class Color_VP:\n",
    "    \n",
    "    def __init__(self, rgb_value: int, name: str) -> None:\n",
    "        self._rgb_value = rgb_value\n",
    "        # redundant code!\n",
    "        if not name:\n",
    "            raise ValueError(f\"Invalid name {name!r}\")\n",
    "        self._name = name\n",
    "        \n",
    "    def _set_name(self, name: str) -> None:\n",
    "        if not name:\n",
    "            raise ValueError(f\"Invalid name {name!r}\")\n",
    "        self._name = name\n",
    "        \n",
    "    def _get_name(self) -> str:\n",
    "        return self._name\n",
    "    \n",
    "    # must use property after the getter and setters are defined\n",
    "    name = property(_get_name, _set_name)\n"
   ]
  },
  {
   "cell_type": "code",
   "execution_count": 55,
   "id": "031ed8f4",
   "metadata": {},
   "outputs": [],
   "source": [
    "c = Color_VP(0xff0000, \"bright red\")"
   ]
  },
  {
   "cell_type": "code",
   "execution_count": 56,
   "id": "30441010",
   "metadata": {},
   "outputs": [
    {
     "data": {
      "text/plain": [
       "'bright red'"
      ]
     },
     "execution_count": 56,
     "metadata": {},
     "output_type": "execute_result"
    }
   ],
   "source": [
    "c.name"
   ]
  },
  {
   "cell_type": "code",
   "execution_count": 57,
   "id": "b64ce066",
   "metadata": {},
   "outputs": [],
   "source": [
    "c.name = \"Red\""
   ]
  },
  {
   "cell_type": "code",
   "execution_count": 58,
   "id": "df82adee",
   "metadata": {},
   "outputs": [
    {
     "ename": "ValueError",
     "evalue": "Invalid name ''",
     "output_type": "error",
     "traceback": [
      "\u001b[0;31m---------------------------------------------------------------------------\u001b[0m",
      "\u001b[0;31mValueError\u001b[0m                                Traceback (most recent call last)",
      "Cell \u001b[0;32mIn[58], line 1\u001b[0m\n\u001b[0;32m----> 1\u001b[0m c\u001b[38;5;241m.\u001b[39mname \u001b[38;5;241m=\u001b[39m \u001b[38;5;124m'\u001b[39m\u001b[38;5;124m'\u001b[39m\n",
      "Cell \u001b[0;32mIn[54], line 13\u001b[0m, in \u001b[0;36mColor_VP._set_name\u001b[0;34m(self, name)\u001b[0m\n\u001b[1;32m     11\u001b[0m \u001b[38;5;28;01mdef\u001b[39;00m \u001b[38;5;21m_set_name\u001b[39m(\u001b[38;5;28mself\u001b[39m, name: \u001b[38;5;28mstr\u001b[39m) \u001b[38;5;241m-\u001b[39m\u001b[38;5;241m>\u001b[39m \u001b[38;5;28;01mNone\u001b[39;00m:\n\u001b[1;32m     12\u001b[0m     \u001b[38;5;28;01mif\u001b[39;00m \u001b[38;5;129;01mnot\u001b[39;00m name:\n\u001b[0;32m---> 13\u001b[0m         \u001b[38;5;28;01mraise\u001b[39;00m \u001b[38;5;167;01mValueError\u001b[39;00m(\u001b[38;5;124mf\u001b[39m\u001b[38;5;124m\"\u001b[39m\u001b[38;5;124mInvalid name \u001b[39m\u001b[38;5;132;01m{\u001b[39;00mname\u001b[38;5;132;01m!r}\u001b[39;00m\u001b[38;5;124m\"\u001b[39m)\n\u001b[1;32m     14\u001b[0m     \u001b[38;5;28mself\u001b[39m\u001b[38;5;241m.\u001b[39m_name \u001b[38;5;241m=\u001b[39m name\n",
      "\u001b[0;31mValueError\u001b[0m: Invalid name ''"
     ]
    }
   ],
   "source": [
    "# should throw an ValueError excpetion for empty name\n",
    "c.name = ''"
   ]
  },
  {
   "cell_type": "markdown",
   "id": "d1a3c035",
   "metadata": {},
   "source": [
    "### Properties in detail\n",
    "\n",
    "- `property` constructor can actually accept two additional arguments\n",
    "    - a `delete` function: delete associated attribute if necessary\n",
    "    - a `docstring` for the property\n"
   ]
  },
  {
   "cell_type": "code",
   "execution_count": 68,
   "id": "4ce2cb10",
   "metadata": {},
   "outputs": [],
   "source": [
    "class NorwegianBlue:\n",
    "    def __init__(self, name: str) -> None:\n",
    "        self._name = name\n",
    "        self._state: str\n",
    "    \n",
    "    def _get_state(self) -> str:\n",
    "        print(f\"Getting {self._name}'s state\")\n",
    "        return self._state\n",
    "    \n",
    "    def _set_state(self, state: str) -> str:\n",
    "        print(f\"Setting {self._name}'s State to {state!r}\")\n",
    "        self._state = state\n",
    "        \n",
    "    def _del_state(self) -> None:\n",
    "        print(f\"{self._name} is pushing up daisies!\")\n",
    "        del self._state\n",
    "        \n",
    "    silly = property(_get_state, _set_state, _del_state,\n",
    "                    \"This is a silly property\")"
   ]
  },
  {
   "cell_type": "code",
   "execution_count": 69,
   "id": "448ab4d1",
   "metadata": {},
   "outputs": [],
   "source": [
    "p = NorwegianBlue(\"Polly\")"
   ]
  },
  {
   "cell_type": "code",
   "execution_count": 70,
   "id": "85865095",
   "metadata": {},
   "outputs": [
    {
     "name": "stdout",
     "output_type": "stream",
     "text": [
      "Setting Polly's State to 'Pinning for the fjords'\n"
     ]
    }
   ],
   "source": [
    "p.silly = \"Pinning for the fjords\""
   ]
  },
  {
   "cell_type": "code",
   "execution_count": 71,
   "id": "e6668bc1",
   "metadata": {},
   "outputs": [
    {
     "name": "stdout",
     "output_type": "stream",
     "text": [
      "Getting Polly's state\n"
     ]
    },
    {
     "data": {
      "text/plain": [
       "'Pinning for the fjords'"
      ]
     },
     "execution_count": 71,
     "metadata": {},
     "output_type": "execute_result"
    }
   ],
   "source": [
    "p.silly"
   ]
  },
  {
   "cell_type": "code",
   "execution_count": 72,
   "id": "0bea1dc9",
   "metadata": {},
   "outputs": [
    {
     "name": "stdout",
     "output_type": "stream",
     "text": [
      "Polly is pushing up daisies!\n"
     ]
    }
   ],
   "source": [
    "del p.silly"
   ]
  },
  {
   "cell_type": "code",
   "execution_count": 73,
   "id": "34f15dca",
   "metadata": {},
   "outputs": [
    {
     "name": "stdout",
     "output_type": "stream",
     "text": [
      "Help on NorwegianBlue in module __main__ object:\n",
      "\n",
      "class NorwegianBlue(builtins.object)\n",
      " |  NorwegianBlue(name: str) -> None\n",
      " |  \n",
      " |  Methods defined here:\n",
      " |  \n",
      " |  __init__(self, name: str) -> None\n",
      " |      Initialize self.  See help(type(self)) for accurate signature.\n",
      " |  \n",
      " |  ----------------------------------------------------------------------\n",
      " |  Data descriptors defined here:\n",
      " |  \n",
      " |  __dict__\n",
      " |      dictionary for instance variables (if defined)\n",
      " |  \n",
      " |  __weakref__\n",
      " |      list of weak references to the object (if defined)\n",
      " |  \n",
      " |  silly\n",
      " |      This is a silly property\n",
      "\n"
     ]
    }
   ],
   "source": [
    "# see the docstring of silly\n",
    "help(p)"
   ]
  },
  {
   "cell_type": "code",
   "execution_count": 76,
   "id": "1d94354b",
   "metadata": {},
   "outputs": [],
   "source": [
    "# using decorator\n",
    "class NorwegianBlue_P:\n",
    "    def __init__(self, name: str) -> None:\n",
    "        self._name = name\n",
    "        self._state: str\n",
    "            \n",
    "    @property\n",
    "    def silly(self) -> str:\n",
    "        \"\"\"This is a silly property\"\"\"\n",
    "        print(f\"Getting {self._name}'s State\")\n",
    "        return self._state\n",
    "    \n",
    "    @silly.setter\n",
    "    def silly(self, state: str) -> None:\n",
    "        print(f\"Setting {self._name}'s State to {state!r}\")\n",
    "        self._state = state\n",
    "        \n",
    "    @silly.deleter\n",
    "    def silly(self) -> None:\n",
    "        print(f\"{self._name} is pushing up daisies!\")\n",
    "        del self._state"
   ]
  },
  {
   "cell_type": "markdown",
   "id": "97e4ca83",
   "metadata": {},
   "source": [
    "## When to use properties\n",
    "\n",
    "- can be confusing when properties blur the distinction between behavior and data\n",
    "- properties, data, behavior are generally called the attributes of a class\n",
    "- follow these principles:\n",
    "    - use methods to represent actions; method names are generally verbs\n",
    "    - use attributes or properties to represent the state of the object; these are nouns, adjectives, and prepositions\n",
    "        - use properties for attributes in the exceptional case when:\n",
    "            - complex computation is involved such as data validation, logging, access controls, caching, etc.\n",
    "- example of caching data"
   ]
  },
  {
   "cell_type": "code",
   "execution_count": 77,
   "id": "716c3d08",
   "metadata": {},
   "outputs": [],
   "source": [
    "from urllib.request import urlopen\n",
    "from typing import Optional, cast\n",
    "\n",
    "class WebPage:\n",
    "    def __init__(self, url: str) -> None:\n",
    "        self.url = url\n",
    "        self._content: Optional[bytes] = None\n",
    "            \n",
    "    @property\n",
    "    def content(self) -> bytes:\n",
    "        if self._content is None:\n",
    "            print(\"Retrieving New Page...\")\n",
    "            with urlopen(self.url) as response:\n",
    "                self._content = response.read()\n",
    "        return self._content"
   ]
  },
  {
   "cell_type": "code",
   "execution_count": 78,
   "id": "e7ca23da",
   "metadata": {},
   "outputs": [
    {
     "name": "stdout",
     "output_type": "stream",
     "text": [
      "Retrieving New Page...\n",
      "Initial Request     4.52186\n",
      "Subsequent Requests 0.00008\n"
     ]
    }
   ],
   "source": [
    "import time\n",
    "webpage = WebPage(\"http://ccphillips.net/\")\n",
    "now = time.perf_counter()\n",
    "content1 = webpage.content\n",
    "first_fetch = time.perf_counter() - now\n",
    "\n",
    "first_fetch = time.perf_counter() - now\n",
    "now = time.perf_counter()\n",
    "content2 = webpage.content\n",
    "second_fetch = time.perf_counter() - now\n",
    "assert content2 == content1, \"Problem: Pages were different\"\n",
    "print(f\"Initial Request     {first_fetch:.5f}\")\n",
    "print(f\"Subsequent Requests {second_fetch:.5f}\")"
   ]
  },
  {
   "cell_type": "markdown",
   "id": "c7f8d693",
   "metadata": {},
   "source": [
    "## Manager objects\n",
    "\n",
    "- higher level objects that manage other objects\n",
    "    - the object that ties everything together\n",
    "- these are sometimes called Facade objects because they present a pleasant, easy-to-use facade over some underlying complexity\n",
    "    - Facade is also a design pattern that's covered in more detail later in the course\n",
    "- similar to managers in officer, management object, may not do the actual work\n",
    "- the attributes on a management class tend to refer to other objects that do the visible work;\n",
    "    - managers typically delegate to other classes at the right time, and pass messages between them\n",
    "- assemble manager objects by knitting other objects together\n",
    "- to an extent, a manager is also an Adapter among the various interfaces\n",
    "    - another design pattern covered later in the course\n",
    "- Solution/Main class in `python3/OOP` subfolders of Kattis demos (https://github.com/rambasnet/Kattis-Demos-Testing) is example of manager class"
   ]
  },
  {
   "cell_type": "markdown",
   "id": "6f651130",
   "metadata": {},
   "source": [
    "## Removing duplicate code\n",
    "\n",
    "- Why is duplicate code bad thing?\n",
    "    - boils down to 2 reasons: **readability** and **maintainability**\n",
    "    \n",
    "- **copy-pasta** programming: copy/pasting similar code to extend/add new functionalities\n",
    "    - creates a big mess of tangled noodles of code like a bown of spaghetti\n",
    "- when we see similar or near duplicate code blocks, we have *additional* intellectual barrier to understanding:\n",
    "    1. Are they truly identical?\n",
    "    2. If not, how is one section different from the other?\n",
    "    3. When do we call the other?\n",
    "- you may be the only person working on the project and it may all makes sense to you now\n",
    "    - just easy to copy and paste! However, can you remember the logic behind it next day/next year? What if someone else takes over/joins the project?\n",
    "\n",
    "#### NOTE: Code should always be written to be readable first.\n",
    "\n",
    "### DRY principle\n",
    "\n",
    "- Python developers prefer elegant, clean code and follow the **Don't Repeat Yourself** principle\n",
    "- Never copy and paste code! Think thrice before hitting `Ctrl+C`"
   ]
  },
  {
   "cell_type": "code",
   "execution_count": null,
   "id": "f29c939c",
   "metadata": {},
   "outputs": [],
   "source": []
  }
 ],
 "metadata": {
  "kernelspec": {
   "display_name": "Python 3 (ipykernel)",
   "language": "python",
   "name": "python3"
  },
  "language_info": {
   "codemirror_mode": {
    "name": "ipython",
    "version": 3
   },
   "file_extension": ".py",
   "mimetype": "text/x-python",
   "name": "python",
   "nbconvert_exporter": "python",
   "pygments_lexer": "ipython3",
   "version": "3.10.9"
  },
  "vscode": {
   "interpreter": {
    "hash": "1a1af0ee75eeea9e2e1ee996c87e7a2b11a0bebd85af04bb136d915cefc0abce"
   }
  }
 },
 "nbformat": 4,
 "nbformat_minor": 5
}
