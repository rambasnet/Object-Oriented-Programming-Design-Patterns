{
 "cells": [
  {
   "cell_type": "markdown",
   "id": "56eb23c5-c2d9-4e0e-86ff-2cd9226ce675",
   "metadata": {},
   "source": [
    "# Software Engineering Methodology & Management Tools\n",
    "\n",
    "## Agile Vs Waterfall\n",
    "- see this article [https://www.forbes.com/advisor/business/agile-vs-waterfall-methodology/](https://www.forbes.com/advisor/business/agile-vs-waterfall-methodology/)\n",
    "\n",
    "## Software management tools\n",
    "\n",
    "### GitHub Projects\n",
    "\n",
    "- See [this](https://docs.github.com/en/issues/planning-and-tracking-with-projects/learning-about-projects/about-projects) for details\n",
    "\n",
    "###  Gantt chart - https://www.forbes.com/advisor/business/software/what-is-a-gantt-chart/\n",
    "\n",
    "- show the progress of various tasks required to complete the project\n",
    "    - List of tasks that comprise a project\n",
    "    - Start and end dates for each task\n",
    "    - Dependencies between tasks\n",
    "    - Scheduling\n",
    "    - Progress of each task\n",
    "    - Task owners\n",
    "    \n",
    "### Kanban board - https://www.forbes.com/advisor/business/software/what-is-kanban-board/\n",
    "- A Kanban board represents an overall project and typically breaks it up into three main parts:\n",
    "    - Requested tasks\n",
    "    - In-progress tasks\n",
    "    - Completed tasks\n",
    "\n",
    "### Team Interactions\n",
    "\n",
    "- MS Teams\n",
    "- Slack\n",
    "- Discord\n",
    "- Zoom"
   ]
  }
 ],
 "metadata": {
  "kernelspec": {
   "display_name": "Python 3 (ipykernel)",
   "language": "python",
   "name": "python3"
  },
  "language_info": {
   "codemirror_mode": {
    "name": "ipython",
    "version": 3
   },
   "file_extension": ".py",
   "mimetype": "text/x-python",
   "name": "python",
   "nbconvert_exporter": "python",
   "pygments_lexer": "ipython3",
   "version": "3.12.2"
  }
 },
 "nbformat": 4,
 "nbformat_minor": 5
}
