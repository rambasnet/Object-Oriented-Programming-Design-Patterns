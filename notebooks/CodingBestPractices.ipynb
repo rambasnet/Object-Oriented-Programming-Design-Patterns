{
 "cells": [
  {
   "cell_type": "markdown",
   "metadata": {},
   "source": [
    "# Coding Best Practices\n",
    "\n",
    "\n",
    "## Style Guidelines\n",
    "- every language may have its own style guidelines\n",
    "- Python has PEP 8 - https://peps.python.org/pep-0008/\n",
    "- common guidelines:\n",
    "    1. use meaningful and descriptive names for variables, functions, classes, etc.\n",
    "    2. use consistent indentation and spacing (use 4 spaces); don't mix tabs and spaces\n",
    "    3. use blank lines to separate logical sections of code; use 2 lines between functions and classes; use one line between methods inside a class\n",
    "    4. use comments and docstrings to explain the purpose and behavior of code\n",
    "    5. use consistent naming conventions (e.g., snake_case for variables and functions, CamelCase/CapsCase for classes)\n",
    "    6. use consistent and appropriate use of quotes (single or double) for strings\n",
    "\n",
    "- use linter tools to check for style violations\n",
    "    - pylint, flake8, black, etc.\n",
    "- use auto-formatters to automatically format code\n",
    "    - autopep8, black, yapf, etc.\n",
    "\n",
    "## Type Hints/Annotations\n",
    "\n",
    "- without type hints it is difficult to know what type of data a function expects and returns\n",
    "    - especially when working with large codebases or when the code is not well-documented\n",
    "    - makes the code less readable and maintainable and more error-prone\n",
    "- type hints were introduced in Python 3.5\n",
    "- everything in Python is a object that is associated with some type\n",
    "- Python is dynamically typed language\n",
    "- type of a variable or object is determined during run-time based on the type of data/object the variable is assigned\n",
    "- the built-in `type()` function can be used to know the type of an object"
   ]
  },
  {
   "cell_type": "code",
   "execution_count": 1,
   "metadata": {},
   "outputs": [
    {
     "data": {
      "text/plain": [
       "str"
      ]
     },
     "execution_count": 1,
     "metadata": {},
     "output_type": "execute_result"
    }
   ],
   "source": [
    "type(\"Hello World!\")"
   ]
  },
  {
   "cell_type": "code",
   "execution_count": 2,
   "metadata": {},
   "outputs": [
    {
     "data": {
      "text/plain": [
       "int"
      ]
     },
     "execution_count": 2,
     "metadata": {},
     "output_type": "execute_result"
    }
   ],
   "source": [
    "type(42)"
   ]
  },
  {
   "cell_type": "code",
   "execution_count": 3,
   "metadata": {},
   "outputs": [
    {
     "data": {
      "text/plain": [
       "float"
      ]
     },
     "execution_count": 3,
     "metadata": {},
     "output_type": "execute_result"
    }
   ],
   "source": [
    "type(1.5)"
   ]
  },
  {
   "cell_type": "code",
   "execution_count": 4,
   "metadata": {},
   "outputs": [],
   "source": [
    "msg = 'Hello World'"
   ]
  },
  {
   "cell_type": "code",
   "execution_count": 6,
   "metadata": {},
   "outputs": [],
   "source": [
    "msg = 42"
   ]
  },
  {
   "cell_type": "code",
   "execution_count": 7,
   "metadata": {},
   "outputs": [
    {
     "data": {
      "text/plain": [
       "int"
      ]
     },
     "execution_count": 7,
     "metadata": {},
     "output_type": "execute_result"
    }
   ],
   "source": [
    "type(msg)"
   ]
  },
  {
   "cell_type": "code",
   "execution_count": 8,
   "metadata": {},
   "outputs": [],
   "source": [
    "msg = 1.5"
   ]
  },
  {
   "cell_type": "code",
   "execution_count": 9,
   "metadata": {},
   "outputs": [
    {
     "data": {
      "text/plain": [
       "float"
      ]
     },
     "execution_count": 9,
     "metadata": {},
     "output_type": "execute_result"
    }
   ],
   "source": [
    "type(msg)"
   ]
  },
  {
   "cell_type": "code",
   "execution_count": 10,
   "metadata": {},
   "outputs": [
    {
     "data": {
      "text/plain": [
       "140554878311024"
      ]
     },
     "execution_count": 10,
     "metadata": {},
     "output_type": "execute_result"
    }
   ],
   "source": [
    "id(msg)"
   ]
  },
  {
   "cell_type": "markdown",
   "metadata": {},
   "source": [
    "## Type checking\n",
    "- issue with dynamic typing and operations"
   ]
  },
  {
   "cell_type": "code",
   "execution_count": 13,
   "metadata": {},
   "outputs": [],
   "source": [
    "def odd(n):\n",
    "    return n % 2 == 1"
   ]
  },
  {
   "cell_type": "code",
   "execution_count": 14,
   "metadata": {},
   "outputs": [
    {
     "data": {
      "text/plain": [
       "True"
      ]
     },
     "execution_count": 14,
     "metadata": {},
     "output_type": "execute_result"
    }
   ],
   "source": [
    "odd(3)"
   ]
  },
  {
   "cell_type": "code",
   "execution_count": 15,
   "metadata": {},
   "outputs": [
    {
     "data": {
      "text/plain": [
       "False"
      ]
     },
     "execution_count": 15,
     "metadata": {},
     "output_type": "execute_result"
    }
   ],
   "source": [
    "odd(4)"
   ]
  },
  {
   "cell_type": "code",
   "execution_count": 16,
   "metadata": {},
   "outputs": [
    {
     "ename": "TypeError",
     "evalue": "not all arguments converted during string formatting",
     "output_type": "error",
     "traceback": [
      "\u001b[0;31m---------------------------------------------------------------------------\u001b[0m",
      "\u001b[0;31mTypeError\u001b[0m                                 Traceback (most recent call last)",
      "Cell \u001b[0;32mIn[16], line 2\u001b[0m\n\u001b[1;32m      1\u001b[0m \u001b[38;5;66;03m# what about odd of str\u001b[39;00m\n\u001b[0;32m----> 2\u001b[0m \u001b[43modd\u001b[49m\u001b[43m(\u001b[49m\u001b[38;5;124;43m'\u001b[39;49m\u001b[38;5;124;43mHello World\u001b[39;49m\u001b[38;5;124;43m'\u001b[39;49m\u001b[43m)\u001b[49m\n",
      "Cell \u001b[0;32mIn[13], line 2\u001b[0m, in \u001b[0;36modd\u001b[0;34m(n)\u001b[0m\n\u001b[1;32m      1\u001b[0m \u001b[38;5;28;01mdef\u001b[39;00m \u001b[38;5;21modd\u001b[39m(n):\n\u001b[0;32m----> 2\u001b[0m     \u001b[38;5;28;01mreturn\u001b[39;00m \u001b[43mn\u001b[49m\u001b[43m \u001b[49m\u001b[38;5;241;43m%\u001b[39;49m\u001b[43m \u001b[49m\u001b[38;5;241;43m2\u001b[39;49m \u001b[38;5;241m==\u001b[39m \u001b[38;5;241m1\u001b[39m\n",
      "\u001b[0;31mTypeError\u001b[0m: not all arguments converted during string formatting"
     ]
    }
   ],
   "source": [
    "# what about odd of str\n",
    "odd('Hello World')"
   ]
  },
  {
   "cell_type": "code",
   "execution_count": 17,
   "metadata": {},
   "outputs": [],
   "source": [
    "# redefining odd using type hint\n",
    "def odd(n: int) -> bool:\n",
    "    return n % 2 == 1"
   ]
  },
  {
   "cell_type": "code",
   "execution_count": 18,
   "metadata": {},
   "outputs": [
    {
     "data": {
      "text/plain": [
       "False"
      ]
     },
     "execution_count": 18,
     "metadata": {},
     "output_type": "execute_result"
    }
   ],
   "source": [
    "odd(10)"
   ]
  },
  {
   "cell_type": "code",
   "execution_count": 19,
   "metadata": {},
   "outputs": [
    {
     "ename": "TypeError",
     "evalue": "not all arguments converted during string formatting",
     "output_type": "error",
     "traceback": [
      "\u001b[0;31m---------------------------------------------------------------------------\u001b[0m",
      "\u001b[0;31mTypeError\u001b[0m                                 Traceback (most recent call last)",
      "Cell \u001b[0;32mIn[19], line 1\u001b[0m\n\u001b[0;32m----> 1\u001b[0m \u001b[43modd\u001b[49m\u001b[43m(\u001b[49m\u001b[38;5;124;43m'\u001b[39;49m\u001b[38;5;124;43mhi\u001b[39;49m\u001b[38;5;124;43m'\u001b[39;49m\u001b[43m)\u001b[49m\n",
      "Cell \u001b[0;32mIn[17], line 3\u001b[0m, in \u001b[0;36modd\u001b[0;34m(n)\u001b[0m\n\u001b[1;32m      2\u001b[0m \u001b[38;5;28;01mdef\u001b[39;00m \u001b[38;5;21modd\u001b[39m(n: \u001b[38;5;28mint\u001b[39m) \u001b[38;5;241m-\u001b[39m\u001b[38;5;241m>\u001b[39m \u001b[38;5;28mbool\u001b[39m:\n\u001b[0;32m----> 3\u001b[0m     \u001b[38;5;28;01mreturn\u001b[39;00m \u001b[43mn\u001b[49m\u001b[43m \u001b[49m\u001b[38;5;241;43m%\u001b[39;49m\u001b[43m \u001b[49m\u001b[38;5;241;43m2\u001b[39;49m \u001b[38;5;241m==\u001b[39m \u001b[38;5;241m1\u001b[39m\n",
      "\u001b[0;31mTypeError\u001b[0m: not all arguments converted during string formatting"
     ]
    }
   ],
   "source": [
    "odd('hi')"
   ]
  },
  {
   "cell_type": "markdown",
   "metadata": {},
   "source": [
    "## annotating advanced types\n",
    "\n",
    "- only primitive types can be annotated directly\n",
    "    - int, float, str, and bool\n",
    "- for advanced types, import capitalized type names from `typing` module\n",
    "- Union, Optional, Any, Tuple, List, Dict, Set, etc.\n",
    "- `List[int]` - list of integers\n",
    "- `Dict[str, int]` - dictionary with string keys and integer values\n",
    "- `Tuple[int, str, float]` - tuple with an integer, string, and float\n",
    "- `Set[bool]` - set of booleans\n",
    "- `Optional[str]` - optional string (can be None)\n",
    "- `Union[int, float]` - can be either an integer or a float\n",
    "- `Any` - any type\n",
    "- `Callable[[int, int], int]` - function that takes two integers and returns an integer\n",
    "- `Iterable[str]` - iterable of strings\n",
    "- `Iterator[int]` - iterator of integers\n",
    "- `a: int | float` - variable `a` can be either an integer or a float\n",
    "- `def foo(a: int | float) -> int | float:` - function `foo` takes an integer or a float and returns an integer or a float\n"
   ]
  },
  {
   "cell_type": "code",
   "execution_count": 1,
   "metadata": {},
   "outputs": [],
   "source": [
    "from typing import List, Tuple\n",
    "\n",
    "def max_min(lst: List[float]) -> Tuple[float, float]:\n",
    "    return max(lst), min(lst)"
   ]
  },
  {
   "cell_type": "code",
   "execution_count": 2,
   "metadata": {},
   "outputs": [],
   "source": [
    "assert max_min([1.0, 2.0, 3.0, 4.0]) == (4.0, 1.0)"
   ]
  },
  {
   "cell_type": "markdown",
   "metadata": {},
   "source": [
    "## mypy tool\n",
    "\n",
    "- [https://mypy-lang.org/](https://mypy-lang.org/)\n",
    "- mypy tool is commonly used to check the Type hints for consistency\n",
    "    - it's an effort to make Python type safe similar to static-typed languages\n",
    "- it's a third-party library that must be installed using `pip` or `conda`\n",
    "- https://mypy.readthedocs.io/en/stable/getting_started.html#\n",
    "- if you use `--strict mode`, you'll never get a run-time error in Python unless you explicitly circumvent `mypy`!!\n",
    "- use `--disallow-untyped-defs` to warn if you add dynamic functions by mistake \n",
    "- Docker already has mypy installed from `requirements.txt` file\n",
    "\n",
    "```bash\n",
    "conda install mypy\n",
    "pip install mypy\n",
    "```"
   ]
  },
  {
   "cell_type": "code",
   "execution_count": 20,
   "metadata": {},
   "outputs": [
    {
     "name": "stdout",
     "output_type": "stream",
     "text": [
      "\"\"\"\n",
      "Python 3 Object-Oriented Programming 4th ed.\n",
      "Chapter 2, Objects in Python.\n",
      "NOTE. Remove the ``# type: ignore`` comments to reproduce examples in the text.\n",
      "\"\"\"\n",
      "#from __future__ import annotations\n",
      "# annotations is required for Python 3.7 and earlier for generic types\n",
      "\n",
      "def odd(n): # dynamic typing\n",
      "    return n % 2 != 0\n",
      "\n",
      "def add(arg1, arg2):\n",
      "    return arg1+arg2\n",
      "\n",
      "def main():\n",
      "    print(odd(\"Hello, world!\"))\n",
      "\n",
      "\n",
      "if __name__ == \"__main__\":\n",
      "    main()\n",
      "    print(add(1, 2))\n",
      "    print(add(\"Hello\", 1))\n",
      "\n"
     ]
    }
   ],
   "source": [
    "! cat src/objects/bad_hints.py"
   ]
  },
  {
   "cell_type": "code",
   "execution_count": 21,
   "metadata": {},
   "outputs": [
    {
     "name": "stdout",
     "output_type": "stream",
     "text": [
      "\u001b[1m\u001b[32mSuccess: no issues found in 1 source file\u001b[m\n"
     ]
    }
   ],
   "source": [
    "# technically there should be errors, but ...\n",
    "! mypy src/objects/bad_hints.py"
   ]
  },
  {
   "cell_type": "code",
   "execution_count": 22,
   "metadata": {},
   "outputs": [
    {
     "name": "stdout",
     "output_type": "stream",
     "text": [
      "src/objects/bad_hints.py:9: \u001b[1m\u001b[31merror:\u001b[m Function is missing a type annotation  \u001b[m\u001b[33m[no-untyped-def]\u001b[m\n",
      "src/objects/bad_hints.py:12: \u001b[1m\u001b[31merror:\u001b[m Function is missing a type annotation  \u001b[m\u001b[33m[no-untyped-def]\u001b[m\n",
      "src/objects/bad_hints.py:15: \u001b[1m\u001b[31merror:\u001b[m Function is missing a return type annotation  \u001b[m\u001b[33m[no-untyped-def]\u001b[m\n",
      "src/objects/bad_hints.py:15: \u001b[34mnote:\u001b[m Use \u001b[m\u001b[1m\"-> None\"\u001b[m if function does not return a value\u001b[m\n",
      "\u001b[1m\u001b[31mFound 3 errors in 1 file (checked 1 source file)\u001b[m\n"
     ]
    }
   ],
   "source": [
    "! mypy --disallow-untyped-defs src/objects/bad_hints.py"
   ]
  },
  {
   "cell_type": "code",
   "execution_count": 23,
   "metadata": {},
   "outputs": [
    {
     "name": "stdout",
     "output_type": "stream",
     "text": [
      "\u001b[1m\u001b[32mSuccess: no issues found in 1 source file\u001b[m\n"
     ]
    }
   ],
   "source": [
    "! mypy --strict src/objects/good_hints.py"
   ]
  },
  {
   "cell_type": "code",
   "execution_count": 24,
   "metadata": {},
   "outputs": [
    {
     "name": "stdout",
     "output_type": "stream",
     "text": [
      "#from __future__ import annotations\n",
      "# annotations is required for Python 3.7 and earlier for generic types\n",
      "\n",
      "def odd(n: int) -> bool: # dynamic typing\n",
      "    return n % 2 != 0\n",
      "\n",
      "def add(arg1: int, arg2: int) -> int: # static typing\n",
      "    return arg1+arg2\n",
      "\n",
      "def main() -> None:\n",
      "    print(odd(10))\n",
      "\n",
      "\n",
      "if __name__ == \"__main__\":\n",
      "    main()\n",
      "    print(add(1, 2)) # no issue\n",
      "    #print(add(\"Hello\", \"World\")) # issue here...\n",
      "\n"
     ]
    }
   ],
   "source": [
    "! cat src/objects/good_hints.py"
   ]
  },
  {
   "cell_type": "markdown",
   "metadata": {},
   "source": [
    "## Explaining yourself with docstrings\n",
    "\n",
    "- Python is easy to read and is self-documenting (mostly)\n",
    "- in OOP, it's important to write API documentation that clearly summarizes what each object and method does\n",
    "- Python supports this through **docstrings**\n",
    "- **docstrings** are strings with triple-single (''') or triple-double (\"\"\") quotes\n",
    "- one of the best things to include in a **docstring** is a concrete example\n",
    "- tools like **doctest** can locate and confirm these examples are correct; providing a quick test\n",
    "- see `src/objects/point.py` file for demo\n",
    "- run `mypy --strict point.py` to check for type correctness\n",
    "- run the script with `-i` option to enter into interactive mode\n",
    "    - `python -i point.py`\n",
    "- run the `doctest` to test the examples provided in **docstrings**\n",
    "    - `python -m doctest point.py`\n",
    "    - provides no output if all the examples are correct"
   ]
  },
  {
   "cell_type": "code",
   "execution_count": 26,
   "metadata": {},
   "outputs": [],
   "source": [
    "# should provide no error...\n",
    "! python -m doctest src/objects/point.py"
   ]
  },
  {
   "cell_type": "markdown",
   "metadata": {},
   "source": [
    "### VS Code Extension\n",
    "\n",
    "- use autoDocString extension to quickly write documentation of your methods/API\n",
    "- search for audoDocstring from the extension manager in VS Code and install it\n",
    "- just type ''' or \"\"\" under any class or function name to generate boilerplate docstrings\n",
    "\n",
    "### pdoc3\n",
    "\n",
    "- https://pypi.org/project/pdoc3/\n",
    "- auto-generate API documentation for Python projects\n",
    "\n",
    "```bash\n",
    "pip install pdoc3\n",
    "pdoc --help\n",
    "pdoc your_project\n",
    "pdoc -o documentations point.py\n",
    "# Create HTML documentation of point.py into the documentations folder\n",
    "```\n",
    "- pdoc3 is installed in Docker image"
   ]
  },
  {
   "cell_type": "markdown",
   "metadata": {},
   "source": [
    "## Modules and Packages\n",
    "\n",
    "- it's best practice to refactor code into modules and related packages\n",
    "- modules are Python files/scripts with .py extension\n",
    "- package is a collection of modules in a folder\n",
    "- package is a folder with `__init__.py` file (normally empty!)\n",
    "- packages help organize modules' folder hierarchy\n",
    "- never use wildcard **\\*** import\n",
    "    - pollutes the current namespace\n",
    "    - difficult to understand what names are imported from what modules and packages\n",
    "- must use import guard to enclose all your executable code\n",
    "\n",
    "\n",
    "```python\n",
    "if __name__ == \"__main__\":\n",
    "    # executable code; function call\n",
    "    main()\n",
    "```\n",
    "\n",
    "### Importing modules and names into Python scripts\n",
    "\n",
    "### Absolute imports\n",
    "\n",
    "- provides a complete path to the module, class, and function we want to import\n",
    "- let's see the demo packages and modules in the `src/objects` folder"
   ]
  },
  {
   "cell_type": "code",
   "execution_count": 27,
   "metadata": {},
   "outputs": [
    {
     "name": "stdout",
     "output_type": "stream",
     "text": [
      "/Users/rbasnet/projects/Object-Oriented-Programming-Design-Patterns/notebooks\n"
     ]
    }
   ],
   "source": [
    "! pwd"
   ]
  },
  {
   "cell_type": "code",
   "execution_count": 28,
   "metadata": {},
   "outputs": [
    {
     "name": "stdout",
     "output_type": "stream",
     "text": [
      "/Users/rbasnet/projects/Object-Oriented-Programming-Design-Patterns/notebooks/src/objects\n"
     ]
    }
   ],
   "source": [
    "%cd ./src/objects/"
   ]
  },
  {
   "cell_type": "code",
   "execution_count": 29,
   "metadata": {},
   "outputs": [
    {
     "name": "stdout",
     "output_type": "stream",
     "text": [
      "\u001b[34m__pycache__\u001b[m\u001b[m    \u001b[34mdocs\u001b[m\u001b[m           \u001b[34mecommerce\u001b[m\u001b[m      import_demo.py\n",
      "bad_hints.py   docstrings.py  good_hints.py  point.py\n"
     ]
    }
   ],
   "source": [
    "! ls"
   ]
  },
  {
   "cell_type": "code",
   "execution_count": null,
   "metadata": {},
   "outputs": [],
   "source": [
    "# importing package doesn't work\n",
    "\n",
    "import ecommerce"
   ]
  },
  {
   "cell_type": "code",
   "execution_count": 31,
   "metadata": {},
   "outputs": [
    {
     "data": {
      "text/plain": [
       "['__builtins__',\n",
       " '__cached__',\n",
       " '__doc__',\n",
       " '__file__',\n",
       " '__loader__',\n",
       " '__name__',\n",
       " '__package__',\n",
       " '__path__',\n",
       " '__spec__',\n",
       " 'database',\n",
       " 'db']"
      ]
     },
     "execution_count": 31,
     "metadata": {},
     "output_type": "execute_result"
    }
   ],
   "source": [
    "dir(ecommerce)"
   ]
  },
  {
   "cell_type": "code",
   "execution_count": 32,
   "metadata": {},
   "outputs": [
    {
     "ename": "AttributeError",
     "evalue": "module 'ecommerce' has no attribute 'products'",
     "output_type": "error",
     "traceback": [
      "\u001b[0;31m---------------------------------------------------------------------------\u001b[0m",
      "\u001b[0;31mAttributeError\u001b[0m                            Traceback (most recent call last)",
      "Cell \u001b[0;32mIn[32], line 1\u001b[0m\n\u001b[0;32m----> 1\u001b[0m product \u001b[38;5;241m=\u001b[39m \u001b[43mecommerce\u001b[49m\u001b[38;5;241;43m.\u001b[39;49m\u001b[43mproducts\u001b[49m\u001b[38;5;241m.\u001b[39mProduct(\u001b[38;5;124m\"\u001b[39m\u001b[38;5;124mname1\u001b[39m\u001b[38;5;124m\"\u001b[39m)\n",
      "\u001b[0;31mAttributeError\u001b[0m: module 'ecommerce' has no attribute 'products'"
     ]
    }
   ],
   "source": [
    "product = ecommerce.products.Product(\"name1\")"
   ]
  },
  {
   "cell_type": "code",
   "execution_count": null,
   "metadata": {},
   "outputs": [],
   "source": [
    "# imporing module is okay\n",
    "import ecommerce.products"
   ]
  },
  {
   "cell_type": "code",
   "execution_count": 34,
   "metadata": {},
   "outputs": [
    {
     "name": "stdout",
     "output_type": "stream",
     "text": [
      "Help on module ecommerce.products in ecommerce:\n",
      "\n",
      "NAME\n",
      "    ecommerce.products - Python 3 Object-Oriented Programming 4th ed.\n",
      "\n",
      "DESCRIPTION\n",
      "    Chapter 2, Objects in Python.\n",
      "\n",
      "CLASSES\n",
      "    builtins.object\n",
      "        Product\n",
      "    \n",
      "    class Product(builtins.object)\n",
      "     |  Product(name: str) -> None\n",
      "     |  \n",
      "     |  Methods defined here:\n",
      "     |  \n",
      "     |  __init__(self, name: str) -> None\n",
      "     |      Initialize self.  See help(type(self)) for accurate signature.\n",
      "     |  \n",
      "     |  ----------------------------------------------------------------------\n",
      "     |  Data descriptors defined here:\n",
      "     |  \n",
      "     |  __dict__\n",
      "     |      dictionary for instance variables (if defined)\n",
      "     |  \n",
      "     |  __weakref__\n",
      "     |      list of weak references to the object (if defined)\n",
      "\n",
      "FILE\n",
      "    /Users/rbasnet/projects/Object-Oriented-Programming-Design-Patterns/notebooks/src/objects/ecommerce/products.py\n",
      "\n",
      "\n"
     ]
    }
   ],
   "source": [
    "help(ecommerce.products)"
   ]
  },
  {
   "cell_type": "code",
   "execution_count": 35,
   "metadata": {},
   "outputs": [],
   "source": [
    "# importing and creating alias\n",
    "import ecommerce.products as pr"
   ]
  },
  {
   "cell_type": "code",
   "execution_count": 36,
   "metadata": {},
   "outputs": [
    {
     "data": {
      "text/plain": [
       "['DB',\n",
       " 'Database',\n",
       " 'Product',\n",
       " 'Query',\n",
       " '__builtins__',\n",
       " '__cached__',\n",
       " '__doc__',\n",
       " '__file__',\n",
       " '__loader__',\n",
       " '__name__',\n",
       " '__package__',\n",
       " '__spec__',\n",
       " 'database',\n",
       " 'send_mail']"
      ]
     },
     "execution_count": 36,
     "metadata": {},
     "output_type": "execute_result"
    }
   ],
   "source": [
    "dir(pr)"
   ]
  },
  {
   "cell_type": "code",
   "execution_count": 37,
   "metadata": {},
   "outputs": [],
   "source": [
    "product = pr.Product('Some name')"
   ]
  },
  {
   "cell_type": "code",
   "execution_count": 38,
   "metadata": {},
   "outputs": [],
   "source": [
    "# import just one module\n",
    "from ecommerce import products"
   ]
  },
  {
   "cell_type": "markdown",
   "metadata": {},
   "source": [
    "### Relative imports\n",
    "\n",
    "- import module, class, and function, relative to the current module\n",
    "- use `.` for the current package\n",
    "- use `..` for parent package\n",
    "\n",
    "```python\n",
    "from .database import Database\n",
    "from ..ecommerce.database import Database\n",
    "```"
   ]
  },
  {
   "cell_type": "markdown",
   "metadata": {},
   "source": [
    "## Unit testing with assert\n",
    "\n",
    "- testing is an essential part of software development\n",
    "- testing helps ensure that the code (functions) work as expected\n",
    "- testing helps catch bugs and errors early in the development cycle\n",
    "- testing helps improve code quality and maintainability\n",
    "- testing helps document the code and its behavior\n",
    "- testing helps ensure that new changes don't break existing functionality\n",
    "- testing helps ensure that the code is robust and reliable\n",
    "- testing helps ensure that the code is secure and performant\n",
    "- if there was no library and tools provided for unit testing, you could write your own\n",
    "- use the `assert` statement to assert how the two values are compared\n",
    "    - mostly equal!"
   ]
  },
  {
   "cell_type": "code",
   "execution_count": 2,
   "metadata": {},
   "outputs": [],
   "source": [
    "assert 'hello' == 'hello'"
   ]
  },
  {
   "cell_type": "code",
   "execution_count": 3,
   "metadata": {},
   "outputs": [],
   "source": [
    "assert 1.5 == 1.5000"
   ]
  },
  {
   "cell_type": "code",
   "execution_count": 4,
   "metadata": {},
   "outputs": [
    {
     "ename": "AssertionError",
     "evalue": "",
     "output_type": "error",
     "traceback": [
      "\u001b[0;31m---------------------------------------------------------------------------\u001b[0m",
      "\u001b[0;31mAssertionError\u001b[0m                            Traceback (most recent call last)",
      "Cell \u001b[0;32mIn[4], line 1\u001b[0m\n\u001b[0;32m----> 1\u001b[0m \u001b[38;5;28;01massert\u001b[39;00m \u001b[38;5;241m2.5\u001b[39m \u001b[38;5;241m==\u001b[39m \u001b[38;5;241m3\u001b[39m\n",
      "\u001b[0;31mAssertionError\u001b[0m: "
     ]
    }
   ],
   "source": [
    "assert 2.5 == 3"
   ]
  },
  {
   "cell_type": "code",
   "execution_count": 5,
   "metadata": {},
   "outputs": [],
   "source": [
    "def add(a: int, b: int) -> int:\n",
    "    return a + b"
   ]
  },
  {
   "cell_type": "code",
   "execution_count": 7,
   "metadata": {},
   "outputs": [],
   "source": [
    "def test_add_positives():\n",
    "    assert add(1, 2) == 3\n",
    "\n",
    "def test_add_negatives():\n",
    "    assert add(-1, -2) == -3\n",
    "\n",
    "def test_add_mixed():\n",
    "    assert add(-1, 1) == 0"
   ]
  },
  {
   "cell_type": "code",
   "execution_count": 8,
   "metadata": {},
   "outputs": [],
   "source": [
    "test_add_positives()\n",
    "test_add_negatives()\n",
    "test_add_mixed()"
   ]
  },
  {
   "cell_type": "markdown",
   "metadata": {},
   "source": [
    "## Pytest\n",
    "\n",
    "- Pytest helps your write better programs: [https://docs.pytest.org/en/8.0.x/](https://docs.pytest.org/en/8.0.x/)\n",
    "- Must explictly install pytest; not a part of standard library\n",
    "- `pip install -U pytest`\n",
    "- pytest can be executed for a single file, or all the files and subfolders within a folder\n",
    "- pytest can discover all the test modules that are named `test_*.py`\n",
    "- pytest will execute every `test_*()` function in the `test` module"
   ]
  },
  {
   "cell_type": "markdown",
   "metadata": {},
   "source": [
    "## Code coverage by unit tests\n",
    "\n",
    "- though not sufficient, code coverage provides measureable metrics to determine how good the test cases are\n",
    "- we can use `pytest-cov` plugin for pytest to demonstrate the code coverage from our tests\n",
    "- it must be installed `pip install pytest-cov`\n",
    "- more on it here: [https://pytest-cov.readthedocs.io/en/latest/readme.html](https://pytest-cov.readthedocs.io/en/latest/readme.html)\n",
    "- see [https://github.com/rambasnet/course-container](https://github.com/rambasnet/course-container)\n",
    "    - uses [https://app.codecov.io/](https://app.codecov.io/) that provides code coverage report and badge if ci-cd is configured\n",
    "    - you can login with github on the service and just configure each repo to use the app\n",
    "    - see the ci-test.yml file: [https://github.com/rambasnet/course-container/blob/main/.github/workflows/ci-test.yml](https://github.com/rambasnet/course-container/blob/main/.github/workflows/ci-test.yml)\n",
    "- see and run the Makefile in the root folder of this repo from a terminal"
   ]
  },
  {
   "cell_type": "markdown",
   "metadata": {},
   "source": [
    "## Automation using Makefile\n",
    "\n",
    "- projects often require repetitive tasks\n",
    "- you may have to run the same commands over and over again with different parameters; hard to remember\n",
    "- it's best to automate these tasks\n",
    "- **Makefile** is a simple way to do this\n",
    "- **Makefile** is a file with set of directives used with the **make** build automation tool\n",
    "- Makefile contains rules with targets and dependencies\n",
    "- a target is a label for a set of commands\n",
    "- a dependency is a file that is used as input to create the target\n",
    "- a rule looks like this:\n",
    "- **.PHONY** is used to mark targets that are not files\n",
    "\n",
    "```makefile\n",
    "target: dependency\n",
    "    command\n",
    "```\n",
    "- the command must be preceded by a **tab** character\n",
    "- the default target is the first target in the Makefile\n",
    "- the default target is usually called **all**\n",
    "- the **all** target is used to build the entire project\n",
    "\n",
    "```bash\n",
    "all: type-check style-check unittest all-test clean\n",
    "    @echo \"All tasks completed successfully!\"\n",
    "\n",
    ".PHONY: type-check\n",
    "type-check:\n",
    "    @echo \"Checking types...\"\n",
    "    mypy --strict src\n",
    "    @echo \"Type checking completed successfully!\"\n",
    "\n",
    "...\n",
    "\n",
    "```\n",
    "\n",
    "- you can run a specific target by specifying it as an argument to the **make** command\n",
    "- for example, to run the **clean** target, you would run the following command in the terminal:\n",
    "\n",
    "```bash\n",
    "make clean\n",
    "```\n",
    "- you can also run multiple targets at once by specifying them as arguments to the **make** command\n",
    "- for example, to run the **clean**\n",
    "- and **test** targets, you would run the following command in the terminal:\n",
    "\n",
    "```bash\n",
    "make clean test\n",
    "```\n",
    "- see global Makefile in the repo or local Makefiles specific to project in demo-assignments folder\n",
    "- for details see - https://www.gnu.org/software/make/manual/make.html\n",
    "- Makefile is installed in Docker image"
   ]
  },
  {
   "cell_type": "markdown",
   "metadata": {},
   "source": []
  }
 ],
 "metadata": {
  "kernelspec": {
   "display_name": "Python 3",
   "language": "python",
   "name": "python3"
  },
  "language_info": {
   "codemirror_mode": {
    "name": "ipython",
    "version": 3
   },
   "file_extension": ".py",
   "mimetype": "text/x-python",
   "name": "python",
   "nbconvert_exporter": "python",
   "pygments_lexer": "ipython3",
   "version": "3.12.1"
  }
 },
 "nbformat": 4,
 "nbformat_minor": 2
}
