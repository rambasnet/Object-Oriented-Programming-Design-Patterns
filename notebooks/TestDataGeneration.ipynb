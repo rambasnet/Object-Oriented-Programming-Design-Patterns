{
 "cells": [
  {
   "cell_type": "markdown",
   "id": "50c8220c",
   "metadata": {},
   "source": [
    "# Test Data Generation\n",
    "\n",
    "- generating good test data can be challenging\n",
    "- use Hypothesis library - https://hypothesis.readthedocs.io/en/latest/index.html\n",
    "- Hypothesis is a Python library for creating unit tests by automatically generating meaningful test data\n",
    "    - helps create edge test cases in your code, you'd not have thought to look for\n",
    "    - can use it with `pytest` and `unittest` libraries\n",
    "- hypothesis provides property-based testing \n",
    "- designed to test the aspects of a data property that should always be true\n",
    "- allows for a range of inputs to be programmed and tested within a single test, rather than having to write a different test (hard-coded inputs) for every value that you want to test\n",
    "- let's you do **fuzz testing**\n",
    "    - an automated software testing method that injects invalid, malformed, or unexpected inputs into a system to reveal software defects and security vulnerabilities \n",
    "- install hypothesis library\n",
    "- more detailed examples: [https://semaphoreci.com/blog/property-based-testing-python-hypothesis-pytest](https://semaphoreci.com/blog/property-based-testing-python-hypothesis-pytest) \n",
    "\n",
    "```bash\n",
    "pip install hypothesis\n",
    "```\n",
    "\n",
    "- see what data you can generate and how docs: [https://hypothesis.readthedocs.io/en/latest/data.html#](https://hypothesis.readthedocs.io/en/latest/data.html#)"
   ]
  },
  {
   "cell_type": "code",
   "execution_count": null,
   "id": "a78814e1",
   "metadata": {},
   "outputs": [],
   "source": [
    "! pip install hypothesis"
   ]
  },
  {
   "cell_type": "code",
   "execution_count": null,
   "id": "f5180e2d",
   "metadata": {},
   "outputs": [],
   "source": [
    "def add(nums:list[int]) -> int:\n",
    "    s: int = 0\n",
    "    for n in nums:\n",
    "        s += n\n",
    "    return s"
   ]
  },
  {
   "cell_type": "code",
   "execution_count": null,
   "id": "8ec07b20",
   "metadata": {},
   "outputs": [],
   "source": [
    "# typical unittesting; hardcoded input provided to functions/methods provides the expected output\n",
    "assert add([1, 2, 3]) == 6, '1 2 3 did NOT add to 6'\n",
    "assert add([1, 3, -1, 0, -1]) == 2, '1, 3, -1, 0, -1 did NOT add to 2'\n",
    "print('all tests done...')"
   ]
  },
  {
   "cell_type": "code",
   "execution_count": null,
   "id": "42d501c8",
   "metadata": {},
   "outputs": [],
   "source": [
    "# see settings docs: https://hypothesis.readthedocs.io/en/latest/settings.html\n",
    "from hypothesis import given, settings, Verbosity\n",
    "import hypothesis.strategies as some"
   ]
  },
  {
   "cell_type": "code",
   "execution_count": null,
   "id": "98c0b4b0",
   "metadata": {},
   "outputs": [],
   "source": [
    "# By default generates 100 random lists of integers\n",
    "@given(some.lists(some.integers()))\n",
    "def test_add(nums):\n",
    "    # print(nums) # uncomment it to see what nums are generated\n",
    "    assert add(nums) == sum(nums)"
   ]
  },
  {
   "cell_type": "code",
   "execution_count": null,
   "id": "6d3f5eeb",
   "metadata": {},
   "outputs": [],
   "source": [
    "test_add()"
   ]
  },
  {
   "cell_type": "code",
   "execution_count": null,
   "id": "f99c7a3c",
   "metadata": {},
   "outputs": [],
   "source": [
    "# more examples...\n",
    "@given(some.integers(), some.integers())\n",
    "# can set it to control the no. of examples, database, randomization, etc.\n",
    "@settings(max_examples=100, verbosity=Verbosity.verbose, derandomize=True)\n",
    "def test_ints_are_commutative(x, y):\n",
    "    #print(x, y)\n",
    "    assert x + y == y + x"
   ]
  },
  {
   "cell_type": "code",
   "execution_count": null,
   "id": "aa416ace",
   "metadata": {},
   "outputs": [],
   "source": [
    "test_ints_are_commutative()"
   ]
  },
  {
   "cell_type": "code",
   "execution_count": null,
   "id": "f7f889e4",
   "metadata": {},
   "outputs": [],
   "source": [
    "# explicitly give name to data\n",
    "@given(x=some.integers(), y=some.integers())\n",
    "def test_ints_cancel(x, y):\n",
    "    assert (x + y) - y == x"
   ]
  },
  {
   "cell_type": "code",
   "execution_count": null,
   "id": "b41bc8c9",
   "metadata": {},
   "outputs": [],
   "source": [
    "test_ints_cancel()"
   ]
  },
  {
   "cell_type": "code",
   "execution_count": null,
   "id": "37c03609",
   "metadata": {},
   "outputs": [],
   "source": [
    "# generate lists of arbitrary length (usually between 0 and\n",
    "# 100 elements) whose elements are integers.\n",
    "@given(some.lists(some.integers()))\n",
    "def test_reversing_twice_gives_same_list(xs):\n",
    "    ys = list(xs)\n",
    "    ys.reverse()\n",
    "    ys.reverse()\n",
    "    assert ys == xs"
   ]
  },
  {
   "cell_type": "code",
   "execution_count": null,
   "id": "b9b0f6c9",
   "metadata": {},
   "outputs": [],
   "source": [
    "test_reversing_twice_gives_same_list()"
   ]
  },
  {
   "cell_type": "code",
   "execution_count": null,
   "id": "4cca2f4c",
   "metadata": {},
   "outputs": [],
   "source": [
    "@given(some.tuples(some.booleans(), some.text()))\n",
    "def test_look_tuples_work_too(t):\n",
    "    # A tuple is generated as the one you provided, \n",
    "    # with the corresponding types in those positions.\n",
    "    assert len(t) == 2\n",
    "    assert isinstance(t[0], bool)\n",
    "    assert isinstance(t[1], str)"
   ]
  },
  {
   "cell_type": "code",
   "execution_count": null,
   "id": "da3a6914",
   "metadata": {},
   "outputs": [],
   "source": [
    "test_look_tuples_work_too()"
   ]
  },
  {
   "cell_type": "code",
   "execution_count": null,
   "id": "36bf9a81",
   "metadata": {},
   "outputs": [],
   "source": [
    "# generate even numbers between 10 and 20\n",
    "# use min_value and max_value or map method\n",
    "@given(some.integers(min_value=5, max_value=10).map(lambda x: x*2))\n",
    "def test_somefunc(num):\n",
    "    print(num)\n",
    "    #assert test some functions using num!\n",
    "    assert num % 2 == 0\n",
    "    assert 5 <= num <= 20"
   ]
  },
  {
   "cell_type": "code",
   "execution_count": null,
   "id": "01702c3a",
   "metadata": {},
   "outputs": [],
   "source": [
    "test_somefunc()"
   ]
  },
  {
   "cell_type": "code",
   "execution_count": null,
   "id": "38cd9567",
   "metadata": {},
   "outputs": [],
   "source": [
    "# can compose types such as list, tuple, etc...\n",
    "# list with at most 100 integers with min value of 1\n",
    "@given(some.lists(some.integers(min_value=1), min_size=1, max_size=100))\n",
    "def test_func1(nums):\n",
    "    print(nums)"
   ]
  },
  {
   "cell_type": "code",
   "execution_count": null,
   "id": "c314abe8",
   "metadata": {},
   "outputs": [],
   "source": [
    "test_func1()"
   ]
  },
  {
   "cell_type": "markdown",
   "id": "d630d5be-be6f-46a3-a704-90694c646713",
   "metadata": {},
   "source": [
    "### Software Requirement\n",
    "\n",
    "1. Define a function that takes an integer value between 1 and 10 as an argument\n",
    "2. Function finds and returns the square root of the integer value provided\n",
    "3. Function should throw AssertionError for invalid input"
   ]
  },
  {
   "cell_type": "code",
   "execution_count": null,
   "id": "365cbafd",
   "metadata": {},
   "outputs": [],
   "source": [
    "# see settings docs: https://hypothesis.readthedocs.io/en/latest/settings.html\n",
    "from hypothesis import given, settings, Verbosity\n",
    "import hypothesis.strategies as some\n",
    "\n",
    "def int_sqrt(n: int) -> float:\n",
    "    # Is this the correct implementation?\n",
    "    return n**0.5"
   ]
  },
  {
   "cell_type": "code",
   "execution_count": null,
   "id": "0a0a7d84",
   "metadata": {},
   "outputs": [],
   "source": [
    "def test_int_sqrt():\n",
    "    import math\n",
    "    assert int_sqrt(9) == 3, 'sqrt(9) != 3'\n",
    "    assert int_sqrt(4) == 2, 'sqrt(4) != 2'\n",
    "    assert int_sqrt(10) == math.sqrt(10)\n",
    "    # assert int_sqrt(100) == 10, 'sqrt(100) != 10'\n",
    "    # any problem here...?\n",
    "    print('all tests PASS...')"
   ]
  },
  {
   "cell_type": "code",
   "execution_count": null,
   "id": "9468407f",
   "metadata": {},
   "outputs": [],
   "source": [
    "test_int_sqrt()"
   ]
  },
  {
   "cell_type": "code",
   "execution_count": null,
   "id": "445fee60",
   "metadata": {},
   "outputs": [],
   "source": [
    "# Property-based testing using hypothesis\n",
    "from dataclasses import dataclass\n",
    "import hypothesis.strategies as st\n",
    "\n",
    "@dataclass\n",
    "class TestData:\n",
    "    int_value: st.SearchStrategy[int]\n",
    "\n",
    "# Generating correct input data range\n",
    "test_data = TestData(int_value=st.integers(min_value=1, max_value=10))"
   ]
  },
  {
   "cell_type": "code",
   "execution_count": null,
   "id": "e56044f1",
   "metadata": {},
   "outputs": [],
   "source": [
    "@given(st.data())\n",
    "def test_int_sqrt(data: st.DataObject):\n",
    "    import math\n",
    "\n",
    "    an_int = data.draw(test_data.int_value)\n",
    "    root = int_sqrt(an_int)\n",
    "    # TODO: uncomment to see the test data\n",
    "    # print(an_int, root) \n",
    "\n",
    "    assert isinstance(an_int, int)\n",
    "    assert root == math.sqrt(an_int)\n",
    "    print('all answer correct')"
   ]
  },
  {
   "cell_type": "code",
   "execution_count": null,
   "id": "136c9737",
   "metadata": {},
   "outputs": [],
   "source": [
    "test_int_sqrt()"
   ]
  },
  {
   "cell_type": "code",
   "execution_count": null,
   "id": "67a5fbe6",
   "metadata": {},
   "outputs": [],
   "source": [
    "# What if you pass a string, -negative, 0, float, larger than 10 values...?\n",
    "\n",
    "# Let's test for -ve values\n",
    "@given(some.integers(min_value=-100000, max_value=-1))\n",
    "def test_int_sqrt_negative(n: int):\n",
    "    # This should throw AssertionError, but does it...?\n",
    "    try:\n",
    "        root = int_sqrt(n)\n",
    "        print(f'root of {n} is {root}')\n",
    "    except AssertionError:\n",
    "        # This must be printed... to pass the test\n",
    "        print('AssertionError thrown... PASS')\n",
    "    else:\n",
    "        print('FAIL')"
   ]
  },
  {
   "cell_type": "code",
   "execution_count": null,
   "id": "b791a591",
   "metadata": {},
   "outputs": [],
   "source": [
    "test_int_sqrt_negative()"
   ]
  },
  {
   "cell_type": "code",
   "execution_count": null,
   "id": "32708e6d",
   "metadata": {},
   "outputs": [],
   "source": [
    "# let's test for larger than 10 values\n",
    "@given(some.integers(min_value=11, max_value=100))\n",
    "def test_int_sqrt_larger_positives(n: int):\n",
    "    # This should throw AssertionError, but does it...?\n",
    "    try:\n",
    "        #print(n)\n",
    "        root = int_sqrt(n)\n",
    "        print(f'root of {n} is {root}')\n",
    "    except AssertionError:\n",
    "        # This must be printed... to pass the test\n",
    "        print('AssertionError thrown... PASS')\n",
    "    else:\n",
    "        print('FAIL')"
   ]
  },
  {
   "cell_type": "code",
   "execution_count": null,
   "id": "22953b5e",
   "metadata": {},
   "outputs": [],
   "source": [
    "test_int_sqrt_larger_positives()"
   ]
  },
  {
   "cell_type": "code",
   "execution_count": null,
   "id": "d0d7bc54",
   "metadata": {},
   "outputs": [],
   "source": [
    "# let's test with float values\n",
    "@given(some.floats())\n",
    "def test_int_sqrt_floats(n: float):\n",
    "    # This should raise AssertionError, but does it...?\n",
    "    try:\n",
    "        #print(n)\n",
    "        root = int_sqrt(n)\n",
    "        print(f'root of {n} is {root}')\n",
    "    except AssertionError:\n",
    "        # This must be printed... to pass the test\n",
    "        print('AssertionError thrown... PASS')\n",
    "    else:\n",
    "        print('FAIL')"
   ]
  },
  {
   "cell_type": "code",
   "execution_count": null,
   "id": "59a2c78f",
   "metadata": {},
   "outputs": [],
   "source": [
    "test_int_sqrt_floats()"
   ]
  },
  {
   "cell_type": "code",
   "execution_count": null,
   "id": "815f0f2a",
   "metadata": {},
   "outputs": [],
   "source": [
    "# Let's test with some strings\n",
    "@given(some.text())\n",
    "def test_int_sqrt_strings(n: str):\n",
    "    # This should throw AssertionError, but does it...?\n",
    "    try:\n",
    "        #print(n)\n",
    "        root = int_sqrt(n)\n",
    "        print(f'root of {n} is {root}')\n",
    "    except AssertionError:\n",
    "        # This must be printed... to pass the test\n",
    "        print('AssertionError thrown...PASS')\n",
    "    else:\n",
    "        print('FAIL')"
   ]
  },
  {
   "cell_type": "code",
   "execution_count": null,
   "id": "e3658b87",
   "metadata": {},
   "outputs": [],
   "source": [
    "test_int_sqrt_strings()"
   ]
  },
  {
   "cell_type": "markdown",
   "id": "e891fb7f",
   "metadata": {},
   "source": [
    "## Fix int_sqrt( ) so all property-based test PASS\n",
    "\n",
    "- since all the tests use an AssertionError exception, use assert to fix various properties of the input data\n",
    "    - assert num >= 1 and num <= 10\n",
    "    - ...\n",
    "- you could decide to throw your custom error for invalid data and assert those errors accordingly\n",
    "- re-run all the property-based tests so every test PASSes"
   ]
  },
  {
   "cell_type": "markdown",
   "id": "7733ccfb",
   "metadata": {},
   "source": [
    "## Property-based testing demo\n",
    "\n",
    "- see `src/unittesting/inventory` folder\n",
    "    - a simple order processing and stock control system\n",
    "    - burrowed from book \"The Pragmatic Programmer\" by David Thomas and Andrew Hunt\n",
    "- two classes:\n",
    "    - `Warehouse` and `Order` in two separate modules\n",
    "- run several test modules provided in the order:\n",
    "- if the Warehouse doesn't have enough inventory, you shouldn't be able to create an Order!\n",
    "    - how do you check if the warehouse has enough inventory?\n",
    "    - Hypothesis will find this bug and report it!\n",
    "\n",
    "```bash\n",
    "pytest test_order.py # no hypothesis used; doesn't find error!\n",
    "pytest test_warehouse.py # no hypothesis used\n",
    "pytest test_order_fail.py # <-- this property-based testing using hypothesis will find error\n",
    "pytest test_order_fixed.py # use hypothesis on fixed order.py\n",
    "```\n",
    "\n",
    "- performs several property-based tests\n",
    "- automatically generates test data using `hypothesis`\n",
    "- finds the data that causes tests to fail\n",
    "    - use the data to create the separate explicit `unittest` - which becomes your regression test\n",
    "    - since the data is generated randomly, you may not guarantee the same data will be generated\n",
    "- property-based tests often surprise you!\n",
    "\n",
    "### Regression test\n",
    "- focus on the subset of unit tests targeting a subset of new code/feature\n",
    "- a type of software testing technique that re-runs functional and non-functional tests to ensure that a software application works as intended after any code changes, updates, revisions, improvements, or optimizations\n",
    "- change int_sqrt( ) function to accept values from 0 to 100\n",
    "- see if the existing test passes\n",
    "    - do you need new property-based tests?"
   ]
  },
  {
   "cell_type": "code",
   "execution_count": null,
   "id": "3f38e44c",
   "metadata": {},
   "outputs": [],
   "source": []
  }
 ],
 "metadata": {
  "kernelspec": {
   "display_name": "Python 3",
   "language": "python",
   "name": "python3"
  },
  "language_info": {
   "codemirror_mode": {
    "name": "ipython",
    "version": 3
   },
   "file_extension": ".py",
   "mimetype": "text/x-python",
   "name": "python",
   "nbconvert_exporter": "python",
   "pygments_lexer": "ipython3",
   "version": "3.12.1"
  }
 },
 "nbformat": 4,
 "nbformat_minor": 5
}
