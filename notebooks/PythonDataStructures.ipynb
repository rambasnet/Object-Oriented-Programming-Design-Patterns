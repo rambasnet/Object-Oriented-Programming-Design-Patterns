{
 "cells": [
  {
   "cell_type": "markdown",
   "id": "e6bd7a30",
   "metadata": {},
   "source": [
    "# Python Data Structures\n",
    "\n",
    "- discuss the object oriented features of some commonly used Python built-in data structures\n",
    "- learn when they should be used instead of a regular class and when they shouldn't:\n",
    "    - Tuples and Named Tuples\n",
    "    - Dataclasses\n",
    "    - Dictionaries\n",
    "    - Lists and Sets\n",
    "    - Three types of queues\n",
    "    \n",
    "## Empty objects\n",
    "\n",
    "- every class we've created, we implictly used `object` class\n",
    "- instantiating an object class is useless\n",
    "    - can't add attributes dynamically"
   ]
  },
  {
   "cell_type": "code",
   "execution_count": 1,
   "id": "b0a0af67",
   "metadata": {},
   "outputs": [],
   "source": [
    "o = object()"
   ]
  },
  {
   "cell_type": "code",
   "execution_count": 2,
   "id": "d760f34a",
   "metadata": {},
   "outputs": [
    {
     "ename": "AttributeError",
     "evalue": "'object' object has no attribute 'x'",
     "output_type": "error",
     "traceback": [
      "\u001b[0;31m---------------------------------------------------------------------------\u001b[0m",
      "\u001b[0;31mAttributeError\u001b[0m                            Traceback (most recent call last)",
      "Cell \u001b[0;32mIn[2], line 1\u001b[0m\n\u001b[0;32m----> 1\u001b[0m o\u001b[38;5;241m.\u001b[39mx \u001b[38;5;241m=\u001b[39m \u001b[38;5;241m5\u001b[39m\n",
      "\u001b[0;31mAttributeError\u001b[0m: 'object' object has no attribute 'x'"
     ]
    }
   ],
   "source": [
    "o.x = 5"
   ]
  },
  {
   "cell_type": "code",
   "execution_count": 3,
   "id": "a0414726",
   "metadata": {},
   "outputs": [],
   "source": [
    "class MyClass:\n",
    "    pass"
   ]
  },
  {
   "cell_type": "code",
   "execution_count": 4,
   "id": "51ec2f4b",
   "metadata": {},
   "outputs": [],
   "source": [
    "m = MyClass()\n",
    "m.x = \"hello\""
   ]
  },
  {
   "cell_type": "code",
   "execution_count": 5,
   "id": "7709bc87",
   "metadata": {},
   "outputs": [
    {
     "data": {
      "text/plain": [
       "'hello'"
      ]
     },
     "execution_count": 5,
     "metadata": {},
     "output_type": "execute_result"
    }
   ],
   "source": [
    "m.x"
   ]
  },
  {
   "cell_type": "markdown",
   "id": "7bbf3973",
   "metadata": {},
   "source": [
    "## Tuples and named tuples\n",
    "\n",
    "- tuples are object that can store a specific number of other objects in sequence\n",
    "- tuples are *immutable*\n",
    "    - can't modify - add, remove, or replace members on the fly\n",
    "- tuples are hashable which make them candidate for keys in dictionaries and members in sets\n",
    "- tuples overlap with the idea of coordinates or dimensions\n",
    "    - e.g., (x, y) pair or (r, g, b) color\n",
    "    - order matters"
   ]
  },
  {
   "cell_type": "code",
   "execution_count": 6,
   "id": "30a1f369",
   "metadata": {},
   "outputs": [],
   "source": [
    "# ticker, the current price, the 52-week high, and the 52-week low\n",
    "stock = \"AAPL\", 123.52, 53.15, 137.98"
   ]
  },
  {
   "cell_type": "code",
   "execution_count": 7,
   "id": "a4597dc8",
   "metadata": {},
   "outputs": [],
   "source": [
    "stock2 = (\"AAPL\", 123.52, 53.15, 137.98)"
   ]
  },
  {
   "cell_type": "code",
   "execution_count": 8,
   "id": "3d3bc4a0",
   "metadata": {},
   "outputs": [],
   "source": [
    "import datetime\n",
    "\n",
    "def middle(stock, date):\n",
    "    symbol, current, high, low = stock\n",
    "    return (((high + low) / 2), date)"
   ]
  },
  {
   "cell_type": "code",
   "execution_count": 9,
   "id": "0ddc98e7",
   "metadata": {},
   "outputs": [
    {
     "data": {
      "text/plain": [
       "(95.565, datetime.date(2020, 12, 4))"
      ]
     },
     "execution_count": 9,
     "metadata": {},
     "output_type": "execute_result"
    }
   ],
   "source": [
    "middle((\"AAPL\", 123.52, 53.15, 137.98), datetime.date(2020, 12, 4))"
   ]
  },
  {
   "cell_type": "code",
   "execution_count": 10,
   "id": "2b3d674f",
   "metadata": {},
   "outputs": [],
   "source": [
    "# single value tuple; must add a trailing ,\n",
    "a = (42, )"
   ]
  },
  {
   "cell_type": "code",
   "execution_count": 11,
   "id": "27a21a1a",
   "metadata": {},
   "outputs": [
    {
     "data": {
      "text/plain": [
       "42"
      ]
     },
     "execution_count": 11,
     "metadata": {},
     "output_type": "execute_result"
    }
   ],
   "source": [
    "a"
   ]
  },
  {
   "cell_type": "code",
   "execution_count": 14,
   "id": "88076b1c",
   "metadata": {},
   "outputs": [],
   "source": [
    "# no trailing , required for two or more values \n",
    "nums = (1, 2, 3,)"
   ]
  },
  {
   "cell_type": "code",
   "execution_count": 15,
   "id": "7290125a",
   "metadata": {},
   "outputs": [
    {
     "data": {
      "text/plain": [
       "(1, 2, 3)"
      ]
     },
     "execution_count": 15,
     "metadata": {},
     "output_type": "execute_result"
    }
   ],
   "source": [
    "nums"
   ]
  },
  {
   "cell_type": "code",
   "execution_count": 19,
   "id": "89bb1838",
   "metadata": {},
   "outputs": [],
   "source": [
    "a, b, c = nums"
   ]
  },
  {
   "cell_type": "code",
   "execution_count": 21,
   "id": "48318eac",
   "metadata": {},
   "outputs": [
    {
     "data": {
      "text/plain": [
       "(1, 3)"
      ]
     },
     "execution_count": 21,
     "metadata": {},
     "output_type": "execute_result"
    }
   ],
   "source": [
    "a, c"
   ]
  },
  {
   "cell_type": "code",
   "execution_count": 17,
   "id": "bbfd450f",
   "metadata": {},
   "outputs": [],
   "source": [
    "a, b, c = nums[0], nums[1], nums[2]"
   ]
  },
  {
   "cell_type": "code",
   "execution_count": 18,
   "id": "a214960a",
   "metadata": {},
   "outputs": [
    {
     "data": {
      "text/plain": [
       "(1, 2, 3)"
      ]
     },
     "execution_count": 18,
     "metadata": {},
     "output_type": "execute_result"
    }
   ],
   "source": [
    "a, b, c"
   ]
  },
  {
   "cell_type": "markdown",
   "id": "ac94f187",
   "metadata": {},
   "source": [
    "## Named tuple via typing.NamedTuple\n",
    "\n",
    "- named tuples are tuples with attitude\n",
    "- great way to create an immutable grouping of values\n",
    "- we don't need `__init__` method, it's created for us\n",
    "- names are created at the class level, but we're not actually creating class-level attributess"
   ]
  },
  {
   "cell_type": "code",
   "execution_count": 25,
   "id": "c327bad8",
   "metadata": {},
   "outputs": [],
   "source": [
    "from typing import NamedTuple\n",
    "\n",
    "class Stock(NamedTuple):\n",
    "    symbol: str\n",
    "    current: float\n",
    "    high: float\n",
    "    low: float"
   ]
  },
  {
   "cell_type": "code",
   "execution_count": 26,
   "id": "beec7462",
   "metadata": {},
   "outputs": [
    {
     "name": "stdout",
     "output_type": "stream",
     "text": [
      "Help on class Stock in module __main__:\n",
      "\n",
      "class Stock(builtins.tuple)\n",
      " |  Stock(symbol: str, current: float, high: float, low: float)\n",
      " |  \n",
      " |  Stock(symbol, current, high, low)\n",
      " |  \n",
      " |  Method resolution order:\n",
      " |      Stock\n",
      " |      builtins.tuple\n",
      " |      builtins.object\n",
      " |  \n",
      " |  Methods defined here:\n",
      " |  \n",
      " |  __getnewargs__(self)\n",
      " |      Return self as a plain tuple.  Used by copy and pickle.\n",
      " |  \n",
      " |  __repr__(self)\n",
      " |      Return a nicely formatted representation string\n",
      " |  \n",
      " |  _asdict(self)\n",
      " |      Return a new dict which maps field names to their values.\n",
      " |  \n",
      " |  _replace(self, /, **kwds)\n",
      " |      Return a new Stock object replacing specified fields with new values\n",
      " |  \n",
      " |  ----------------------------------------------------------------------\n",
      " |  Class methods defined here:\n",
      " |  \n",
      " |  _make(iterable) from builtins.type\n",
      " |      Make a new Stock object from a sequence or iterable\n",
      " |  \n",
      " |  ----------------------------------------------------------------------\n",
      " |  Static methods defined here:\n",
      " |  \n",
      " |  __new__(_cls, symbol: str, current: float, high: float, low: float)\n",
      " |      Create new instance of Stock(symbol, current, high, low)\n",
      " |  \n",
      " |  ----------------------------------------------------------------------\n",
      " |  Data descriptors defined here:\n",
      " |  \n",
      " |  symbol\n",
      " |      Alias for field number 0\n",
      " |  \n",
      " |  current\n",
      " |      Alias for field number 1\n",
      " |  \n",
      " |  high\n",
      " |      Alias for field number 2\n",
      " |  \n",
      " |  low\n",
      " |      Alias for field number 3\n",
      " |  \n",
      " |  ----------------------------------------------------------------------\n",
      " |  Data and other attributes defined here:\n",
      " |  \n",
      " |  __annotations__ = {'current': <class 'float'>, 'high': <class 'float'>...\n",
      " |  \n",
      " |  __match_args__ = ('symbol', 'current', 'high', 'low')\n",
      " |  \n",
      " |  __orig_bases__ = (<function NamedTuple>,)\n",
      " |  \n",
      " |  _field_defaults = {}\n",
      " |  \n",
      " |  _fields = ('symbol', 'current', 'high', 'low')\n",
      " |  \n",
      " |  ----------------------------------------------------------------------\n",
      " |  Methods inherited from builtins.tuple:\n",
      " |  \n",
      " |  __add__(self, value, /)\n",
      " |      Return self+value.\n",
      " |  \n",
      " |  __contains__(self, key, /)\n",
      " |      Return key in self.\n",
      " |  \n",
      " |  __eq__(self, value, /)\n",
      " |      Return self==value.\n",
      " |  \n",
      " |  __ge__(self, value, /)\n",
      " |      Return self>=value.\n",
      " |  \n",
      " |  __getattribute__(self, name, /)\n",
      " |      Return getattr(self, name).\n",
      " |  \n",
      " |  __getitem__(self, key, /)\n",
      " |      Return self[key].\n",
      " |  \n",
      " |  __gt__(self, value, /)\n",
      " |      Return self>value.\n",
      " |  \n",
      " |  __hash__(self, /)\n",
      " |      Return hash(self).\n",
      " |  \n",
      " |  __iter__(self, /)\n",
      " |      Implement iter(self).\n",
      " |  \n",
      " |  __le__(self, value, /)\n",
      " |      Return self<=value.\n",
      " |  \n",
      " |  __len__(self, /)\n",
      " |      Return len(self).\n",
      " |  \n",
      " |  __lt__(self, value, /)\n",
      " |      Return self<value.\n",
      " |  \n",
      " |  __mul__(self, value, /)\n",
      " |      Return self*value.\n",
      " |  \n",
      " |  __ne__(self, value, /)\n",
      " |      Return self!=value.\n",
      " |  \n",
      " |  __rmul__(self, value, /)\n",
      " |      Return value*self.\n",
      " |  \n",
      " |  count(self, value, /)\n",
      " |      Return number of occurrences of value.\n",
      " |  \n",
      " |  index(self, value, start=0, stop=9223372036854775807, /)\n",
      " |      Return first index of value.\n",
      " |      \n",
      " |      Raises ValueError if the value is not present.\n",
      " |  \n",
      " |  ----------------------------------------------------------------------\n",
      " |  Class methods inherited from builtins.tuple:\n",
      " |  \n",
      " |  __class_getitem__(...) from builtins.type\n",
      " |      See PEP 585\n",
      "\n"
     ]
    }
   ],
   "source": [
    "help(Stock)"
   ]
  },
  {
   "cell_type": "code",
   "execution_count": 27,
   "id": "01ff4219",
   "metadata": {},
   "outputs": [],
   "source": [
    "s2 = Stock(\"AAPL\", 123.52, high=137.98, low=53.15)"
   ]
  },
  {
   "cell_type": "code",
   "execution_count": 28,
   "id": "54265b02",
   "metadata": {},
   "outputs": [
    {
     "data": {
      "text/plain": [
       "137.98"
      ]
     },
     "execution_count": 28,
     "metadata": {},
     "output_type": "execute_result"
    }
   ],
   "source": [
    "s2.high"
   ]
  },
  {
   "cell_type": "code",
   "execution_count": 29,
   "id": "31cc7547",
   "metadata": {},
   "outputs": [
    {
     "data": {
      "text/plain": [
       "'AAPL'"
      ]
     },
     "execution_count": 29,
     "metadata": {},
     "output_type": "execute_result"
    }
   ],
   "source": [
    "s2.symbol"
   ]
  },
  {
   "cell_type": "code",
   "execution_count": 30,
   "id": "22c653b4",
   "metadata": {},
   "outputs": [
    {
     "ename": "AttributeError",
     "evalue": "can't set attribute",
     "output_type": "error",
     "traceback": [
      "\u001b[0;31m---------------------------------------------------------------------------\u001b[0m",
      "\u001b[0;31mAttributeError\u001b[0m                            Traceback (most recent call last)",
      "Cell \u001b[0;32mIn[30], line 1\u001b[0m\n\u001b[0;32m----> 1\u001b[0m s2\u001b[38;5;241m.\u001b[39mcurrent \u001b[38;5;241m=\u001b[39m \u001b[38;5;241m100\u001b[39m\n",
      "\u001b[0;31mAttributeError\u001b[0m: can't set attribute"
     ]
    }
   ],
   "source": [
    "s2.current = 100"
   ]
  },
  {
   "cell_type": "code",
   "execution_count": 31,
   "id": "20d2f101",
   "metadata": {},
   "outputs": [],
   "source": [
    "# tuple can contain mutable types\n",
    "t = (\"Relayer\", [\"Gates of Delirium\", \"Sound Chaser\"])"
   ]
  },
  {
   "cell_type": "code",
   "execution_count": 32,
   "id": "7c0cace2",
   "metadata": {},
   "outputs": [],
   "source": [
    "t[1].append('To Be Over')"
   ]
  },
  {
   "cell_type": "code",
   "execution_count": 33,
   "id": "58294691",
   "metadata": {},
   "outputs": [
    {
     "data": {
      "text/plain": [
       "('Relayer', ['Gates of Delirium', 'Sound Chaser', 'To Be Over'])"
      ]
     },
     "execution_count": 33,
     "metadata": {},
     "output_type": "execute_result"
    }
   ],
   "source": [
    "t"
   ]
  },
  {
   "cell_type": "code",
   "execution_count": 34,
   "id": "c558051a",
   "metadata": {},
   "outputs": [
    {
     "ename": "TypeError",
     "evalue": "unhashable type: 'list'",
     "output_type": "error",
     "traceback": [
      "\u001b[0;31m---------------------------------------------------------------------------\u001b[0m",
      "\u001b[0;31mTypeError\u001b[0m                                 Traceback (most recent call last)",
      "Cell \u001b[0;32mIn[34], line 1\u001b[0m\n\u001b[0;32m----> 1\u001b[0m \u001b[38;5;28;43mhash\u001b[39;49m\u001b[43m(\u001b[49m\u001b[43mt\u001b[49m\u001b[43m)\u001b[49m\n",
      "\u001b[0;31mTypeError\u001b[0m: unhashable type: 'list'"
     ]
    }
   ],
   "source": [
    "hash(t)"
   ]
  },
  {
   "cell_type": "code",
   "execution_count": 35,
   "id": "4227b9dc",
   "metadata": {},
   "outputs": [
    {
     "data": {
      "text/plain": [
       "1666602977145175382"
      ]
     },
     "execution_count": 35,
     "metadata": {},
     "output_type": "execute_result"
    }
   ],
   "source": [
    "hash(s2)"
   ]
  },
  {
   "cell_type": "code",
   "execution_count": 37,
   "id": "44fd1221",
   "metadata": {},
   "outputs": [],
   "source": [
    "# NamedTuple with property\n",
    "from typing import NamedTuple\n",
    "\n",
    "class Stock(NamedTuple):\n",
    "    symbol: str\n",
    "    current: float\n",
    "    high: float\n",
    "    low: float\n",
    "    \n",
    "    @property\n",
    "    def middle(self) -> float:\n",
    "        return (self.high + self.low)/2"
   ]
  },
  {
   "cell_type": "markdown",
   "id": "c823322d",
   "metadata": {},
   "source": [
    "## Dataclasses\n",
    "\n",
    "- since Python 3.7, dataclasses let us define ordinary objects with a clean syntax for specifying attributes\n"
   ]
  },
  {
   "cell_type": "code",
   "execution_count": 38,
   "id": "f0a8737a",
   "metadata": {},
   "outputs": [],
   "source": [
    "from dataclasses import dataclass\n",
    "\n",
    "@dataclass\n",
    "class Stock:\n",
    "    symbol: str\n",
    "    current: float\n",
    "    high: float\n",
    "    low: float\n",
    "    "
   ]
  },
  {
   "cell_type": "code",
   "execution_count": 39,
   "id": "00057a21",
   "metadata": {},
   "outputs": [
    {
     "name": "stdout",
     "output_type": "stream",
     "text": [
      "Help on class Stock in module __main__:\n",
      "\n",
      "class Stock(builtins.object)\n",
      " |  Stock(symbol: str, current: float, high: float, low: float) -> None\n",
      " |  \n",
      " |  Stock(symbol: str, current: float, high: float, low: float)\n",
      " |  \n",
      " |  Methods defined here:\n",
      " |  \n",
      " |  __eq__(self, other)\n",
      " |      Return self==value.\n",
      " |  \n",
      " |  __init__(self, symbol: str, current: float, high: float, low: float) -> None\n",
      " |      Initialize self.  See help(type(self)) for accurate signature.\n",
      " |  \n",
      " |  __repr__(self)\n",
      " |      Return repr(self).\n",
      " |  \n",
      " |  ----------------------------------------------------------------------\n",
      " |  Data descriptors defined here:\n",
      " |  \n",
      " |  __dict__\n",
      " |      dictionary for instance variables (if defined)\n",
      " |  \n",
      " |  __weakref__\n",
      " |      list of weak references to the object (if defined)\n",
      " |  \n",
      " |  ----------------------------------------------------------------------\n",
      " |  Data and other attributes defined here:\n",
      " |  \n",
      " |  __annotations__ = {'current': <class 'float'>, 'high': <class 'float'>...\n",
      " |  \n",
      " |  __dataclass_fields__ = {'current': Field(name='current',type=<class 'f...\n",
      " |  \n",
      " |  __dataclass_params__ = _DataclassParams(init=True,repr=True,eq=True,or...\n",
      " |  \n",
      " |  __hash__ = None\n",
      " |  \n",
      " |  __match_args__ = ('symbol', 'current', 'high', 'low')\n",
      "\n"
     ]
    }
   ],
   "source": [
    "help(Stock)"
   ]
  },
  {
   "cell_type": "code",
   "execution_count": 40,
   "id": "099f9530",
   "metadata": {},
   "outputs": [],
   "source": [
    "s = Stock(\"AAPL\", 123.52, 137.98, 53.15)"
   ]
  },
  {
   "cell_type": "code",
   "execution_count": 41,
   "id": "74403ad4",
   "metadata": {},
   "outputs": [
    {
     "data": {
      "text/plain": [
       "123.52"
      ]
     },
     "execution_count": 41,
     "metadata": {},
     "output_type": "execute_result"
    }
   ],
   "source": [
    "s.current"
   ]
  },
  {
   "cell_type": "code",
   "execution_count": 42,
   "id": "9fa08299",
   "metadata": {},
   "outputs": [],
   "source": [
    "s.current = 145.99"
   ]
  },
  {
   "cell_type": "code",
   "execution_count": 43,
   "id": "ee48dbca",
   "metadata": {},
   "outputs": [],
   "source": [
    "s.unexpected_attribute = 'allowed'"
   ]
  },
  {
   "cell_type": "code",
   "execution_count": 44,
   "id": "13528a66",
   "metadata": {},
   "outputs": [
    {
     "data": {
      "text/plain": [
       "'allowed'"
      ]
     },
     "execution_count": 44,
     "metadata": {},
     "output_type": "execute_result"
    }
   ],
   "source": [
    "s.unexpected_attribute"
   ]
  },
  {
   "cell_type": "code",
   "execution_count": 46,
   "id": "73d1eaf8",
   "metadata": {},
   "outputs": [],
   "source": [
    "class StockOrdinary:\n",
    "    def __init__(self, \n",
    "                 name: str, \n",
    "                 current: float, \n",
    "                 high: float, \n",
    "                 low: float) -> None:\n",
    "        \n",
    "        self.name = name\n",
    "        self.current = current\n",
    "        self.high = high\n",
    "        self.low = low"
   ]
  },
  {
   "cell_type": "code",
   "execution_count": 47,
   "id": "aa8dde8c",
   "metadata": {},
   "outputs": [],
   "source": [
    "s_ord = StockOrdinary(\"AAPL\", 123.52, 137.98, 53.15)"
   ]
  },
  {
   "cell_type": "code",
   "execution_count": 48,
   "id": "d4f43e46",
   "metadata": {},
   "outputs": [],
   "source": [
    "s_ord_2 = StockOrdinary(\"AAPL\", 123.52, 137.98, 53.15)"
   ]
  },
  {
   "cell_type": "code",
   "execution_count": 49,
   "id": "688d70e0",
   "metadata": {},
   "outputs": [
    {
     "data": {
      "text/plain": [
       "False"
      ]
     },
     "execution_count": 49,
     "metadata": {},
     "output_type": "execute_result"
    }
   ],
   "source": [
    "# can't compare two objects of regular Stock class\n",
    "s_ord == s_ord_2"
   ]
  },
  {
   "cell_type": "code",
   "execution_count": 52,
   "id": "8e0684fd",
   "metadata": {},
   "outputs": [],
   "source": [
    "stock2 = Stock(symbol='AAPL', current=122.25, high=137.98, low=53.15)"
   ]
  },
  {
   "cell_type": "code",
   "execution_count": 55,
   "id": "b83624a9",
   "metadata": {},
   "outputs": [],
   "source": [
    "stock1 = Stock(symbol='AAPL', current=122.25, high=137.98, low=53.15)"
   ]
  },
  {
   "cell_type": "code",
   "execution_count": 56,
   "id": "a78eb74e",
   "metadata": {},
   "outputs": [
    {
     "data": {
      "text/plain": [
       "True"
      ]
     },
     "execution_count": 56,
     "metadata": {},
     "output_type": "execute_result"
    }
   ],
   "source": [
    "# dataclass stocks are equal out of the box\n",
    "stock1 == stock2"
   ]
  },
  {
   "cell_type": "code",
   "execution_count": 2,
   "id": "90e0d3b9",
   "metadata": {},
   "outputs": [],
   "source": [
    "# dataclass also let's you initialize attributes\n",
    "from dataclasses import dataclass\n",
    "\n",
    "@dataclass\n",
    "class StockDefaults:\n",
    "    name: str\n",
    "    current: float = 0\n",
    "    high: float = 0\n",
    "    low: float = 0"
   ]
  },
  {
   "cell_type": "code",
   "execution_count": 3,
   "id": "cfe83da4",
   "metadata": {},
   "outputs": [],
   "source": [
    "# default values are used\n",
    "s1 = StockDefaults('GOOG')"
   ]
  },
  {
   "cell_type": "code",
   "execution_count": 4,
   "id": "52297eca",
   "metadata": {},
   "outputs": [
    {
     "data": {
      "text/plain": [
       "StockDefaults(name='GOOG', current=0, high=0, low=0)"
      ]
     },
     "execution_count": 4,
     "metadata": {},
     "output_type": "execute_result"
    }
   ],
   "source": [
    "s1"
   ]
  },
  {
   "cell_type": "code",
   "execution_count": 5,
   "id": "88cd02b9",
   "metadata": {},
   "outputs": [
    {
     "data": {
      "text/plain": [
       "StockDefaults(name='GOOG', current=1826.77, high=1847.2, low=1013.54)"
      ]
     },
     "execution_count": 5,
     "metadata": {},
     "output_type": "execute_result"
    }
   ],
   "source": [
    "# can still provide values for attributes\n",
    "StockDefaults(\"GOOG\", 1826.77, 1847.20, 1013.54)"
   ]
  },
  {
   "cell_type": "code",
   "execution_count": 6,
   "id": "58379cea",
   "metadata": {},
   "outputs": [],
   "source": [
    "# equal comparison is provided by default; we can also order the objects if needed\n",
    "@dataclass(order=True)\n",
    "class StockOrdered:\n",
    "    name: str\n",
    "    current: float = 0\n",
    "    high: float = 0\n",
    "    low: float = 0"
   ]
  },
  {
   "cell_type": "code",
   "execution_count": 7,
   "id": "a1fb42d0",
   "metadata": {},
   "outputs": [],
   "source": [
    "stock_ordered1 = StockOrdered(\"GOOG\", 1826.77, 1847.20, 1013.54)\n",
    "stock_ordered2 = StockOrdered(\"GOOG\")\n",
    "stock_ordered3 = StockOrdered(\"GOOG\", 1728.28, high=1733.18, low=1666.33)"
   ]
  },
  {
   "cell_type": "code",
   "execution_count": 8,
   "id": "bdfc7b85",
   "metadata": {},
   "outputs": [
    {
     "data": {
      "text/plain": [
       "False"
      ]
     },
     "execution_count": 8,
     "metadata": {},
     "output_type": "execute_result"
    }
   ],
   "source": [
    "stock_ordered1 < stock_ordered2"
   ]
  },
  {
   "cell_type": "code",
   "execution_count": 9,
   "id": "a7830a36",
   "metadata": {},
   "outputs": [
    {
     "data": {
      "text/plain": [
       "True"
      ]
     },
     "execution_count": 9,
     "metadata": {},
     "output_type": "execute_result"
    }
   ],
   "source": [
    "stock_ordered1 > stock_ordered2"
   ]
  },
  {
   "cell_type": "code",
   "execution_count": 10,
   "id": "b40be797",
   "metadata": {},
   "outputs": [],
   "source": [
    "from pprint import pprint"
   ]
  },
  {
   "cell_type": "code",
   "execution_count": 11,
   "id": "22513508",
   "metadata": {},
   "outputs": [
    {
     "name": "stdout",
     "output_type": "stream",
     "text": [
      "[StockOrdered(name='GOOG', current=0, high=0, low=0),\n",
      " StockOrdered(name='GOOG', current=1728.28, high=1733.18, low=1666.33),\n",
      " StockOrdered(name='GOOG', current=1826.77, high=1847.2, low=1013.54)]\n"
     ]
    }
   ],
   "source": [
    "pprint(sorted([stock_ordered1, stock_ordered2, stock_ordered3]))"
   ]
  },
  {
   "cell_type": "code",
   "execution_count": 12,
   "id": "c6023778",
   "metadata": {},
   "outputs": [],
   "source": [
    "# create frozen class similar to typing.NamedTuple\n",
    "@dataclass(frozen=True, order=True)\n",
    "class StockFrozen:\n",
    "    name: str\n",
    "    current: float = 0\n",
    "    high: float = 0\n",
    "    low: float = 0"
   ]
  },
  {
   "cell_type": "code",
   "execution_count": 13,
   "id": "4edcc662",
   "metadata": {},
   "outputs": [],
   "source": [
    "goog = StockFrozen(\"GOOG\")"
   ]
  },
  {
   "cell_type": "code",
   "execution_count": 14,
   "id": "1214ef61",
   "metadata": {},
   "outputs": [
    {
     "data": {
      "text/plain": [
       "0"
      ]
     },
     "execution_count": 14,
     "metadata": {},
     "output_type": "execute_result"
    }
   ],
   "source": [
    "goog.high"
   ]
  },
  {
   "cell_type": "code",
   "execution_count": 15,
   "id": "449658f7",
   "metadata": {},
   "outputs": [
    {
     "ename": "FrozenInstanceError",
     "evalue": "cannot assign to field 'high'",
     "output_type": "error",
     "traceback": [
      "\u001b[0;31m---------------------------------------------------------------------------\u001b[0m",
      "\u001b[0;31mFrozenInstanceError\u001b[0m                       Traceback (most recent call last)",
      "Cell \u001b[0;32mIn[15], line 2\u001b[0m\n\u001b[1;32m      1\u001b[0m \u001b[38;5;66;03m# can't updates attributes of Frozen instance\u001b[39;00m\n\u001b[0;32m----> 2\u001b[0m goog\u001b[38;5;241m.\u001b[39mhigh \u001b[38;5;241m=\u001b[39m \u001b[38;5;241m100\u001b[39m\n",
      "File \u001b[0;32m<string>:4\u001b[0m, in \u001b[0;36m__setattr__\u001b[0;34m(self, name, value)\u001b[0m\n",
      "\u001b[0;31mFrozenInstanceError\u001b[0m: cannot assign to field 'high'"
     ]
    }
   ],
   "source": [
    "# can't updates attributes of Frozen instance\n",
    "goog.high = 100"
   ]
  },
  {
   "cell_type": "markdown",
   "id": "c26255cd",
   "metadata": {},
   "source": [
    "## Dictionary\n",
    "\n",
    "- incredibly useful data structure that allow us to map objects directly to other objects\n",
    "- extremely efficient at looking up a **value**, given a specific **key** that maps to a value\n",
    "- this is possible due to use of the **hash** of the key to locate the value\n",
    "- every immutable Python object has a numeric hash code \n",
    "    - a relatively simple table is used to map the numeric hashes directly to values\n",
    "- Python class/objects are mutable; but if they are **hashable** can be used as key\n",
    "    - provide `__hash__()` that is used by built-in **hash** function when hashing\n",
    "- oder of the key/value inserted is maintained by dictionary from Python 3.7\n",
    "- for two values (strings or numbers, tuples) to be equal, they must have the same characters or values and their **hash** values must also be equal\n",
    "- **hash** collision can occur, so the look may be **not always** immidiate\n",
    "    - **hash** collision can slow down process\n",
    "- there are several ways to create a dictionary"
   ]
  },
  {
   "cell_type": "code",
   "execution_count": 94,
   "id": "5bf646d0",
   "metadata": {},
   "outputs": [
    {
     "name": "stdout",
     "output_type": "stream",
     "text": [
      "Help on built-in function hash in module builtins:\n",
      "\n",
      "hash(obj, /)\n",
      "    Return the hash value for the given object.\n",
      "    \n",
      "    Two objects that compare equal must also have the same hash value, but the\n",
      "    reverse is not necessarily true.\n",
      "\n"
     ]
    }
   ],
   "source": [
    "help(hash)"
   ]
  },
  {
   "cell_type": "code",
   "execution_count": 76,
   "id": "130bbc3b",
   "metadata": {},
   "outputs": [
    {
     "data": {
      "text/plain": [
       "-6234227045135174999"
      ]
     },
     "execution_count": 76,
     "metadata": {},
     "output_type": "execute_result"
    }
   ],
   "source": [
    "hash('abc')"
   ]
  },
  {
   "cell_type": "code",
   "execution_count": 77,
   "id": "8932d1fa",
   "metadata": {},
   "outputs": [
    {
     "data": {
      "text/plain": [
       "123"
      ]
     },
     "execution_count": 77,
     "metadata": {},
     "output_type": "execute_result"
    }
   ],
   "source": [
    "hash(123)"
   ]
  },
  {
   "cell_type": "code",
   "execution_count": 78,
   "id": "b656467e",
   "metadata": {},
   "outputs": [
    {
     "data": {
      "text/plain": [
       "8531899467551042527"
      ]
     },
     "execution_count": 78,
     "metadata": {},
     "output_type": "execute_result"
    }
   ],
   "source": [
    "hash(('a', 'b', 'c'))"
   ]
  },
  {
   "cell_type": "code",
   "execution_count": 79,
   "id": "6572acb3",
   "metadata": {},
   "outputs": [
    {
     "ename": "TypeError",
     "evalue": "unhashable type: 'list'",
     "output_type": "error",
     "traceback": [
      "\u001b[0;31m---------------------------------------------------------------------------\u001b[0m",
      "\u001b[0;31mTypeError\u001b[0m                                 Traceback (most recent call last)",
      "Cell \u001b[0;32mIn[79], line 1\u001b[0m\n\u001b[0;32m----> 1\u001b[0m \u001b[38;5;28;43mhash\u001b[39;49m\u001b[43m(\u001b[49m\u001b[43m[\u001b[49m\u001b[38;5;241;43m1\u001b[39;49m\u001b[43m,\u001b[49m\u001b[43m \u001b[49m\u001b[38;5;241;43m2\u001b[39;49m\u001b[43m,\u001b[49m\u001b[43m \u001b[49m\u001b[38;5;241;43m3\u001b[39;49m\u001b[43m]\u001b[49m\u001b[43m)\u001b[49m\n",
      "\u001b[0;31mTypeError\u001b[0m: unhashable type: 'list'"
     ]
    }
   ],
   "source": [
    "hash([1, 2, 3])"
   ]
  },
  {
   "cell_type": "code",
   "execution_count": 131,
   "id": "029066cd",
   "metadata": {},
   "outputs": [],
   "source": [
    "x = 2022\n",
    "y = 2305843009213695971"
   ]
  },
  {
   "cell_type": "code",
   "execution_count": 128,
   "id": "98480046",
   "metadata": {},
   "outputs": [
    {
     "data": {
      "text/plain": [
       "2022"
      ]
     },
     "execution_count": 128,
     "metadata": {},
     "output_type": "execute_result"
    }
   ],
   "source": [
    "hash(x)"
   ]
  },
  {
   "cell_type": "code",
   "execution_count": 129,
   "id": "2f08feec",
   "metadata": {},
   "outputs": [
    {
     "data": {
      "text/plain": [
       "2020"
      ]
     },
     "execution_count": 129,
     "metadata": {},
     "output_type": "execute_result"
    }
   ],
   "source": [
    "hash(y)"
   ]
  },
  {
   "cell_type": "code",
   "execution_count": 132,
   "id": "a5184342",
   "metadata": {},
   "outputs": [
    {
     "data": {
      "text/plain": [
       "False"
      ]
     },
     "execution_count": 132,
     "metadata": {},
     "output_type": "execute_result"
    }
   ],
   "source": [
    "# text book's Python version says two hashes are equal, but not here!!!!!!\n",
    "hash(x) == hash(y)"
   ]
  },
  {
   "cell_type": "code",
   "execution_count": 80,
   "id": "5ac98c25",
   "metadata": {},
   "outputs": [],
   "source": [
    "# using keyword parameters; similar to dataclass and namedtuple\n",
    "stock = dict(current=1235.20, high=1242.54, low=1231.06)"
   ]
  },
  {
   "cell_type": "code",
   "execution_count": 81,
   "id": "5b4424db",
   "metadata": {},
   "outputs": [
    {
     "data": {
      "text/plain": [
       "{'current': 1235.2, 'high': 1242.54, 'low': 1231.06}"
      ]
     },
     "execution_count": 81,
     "metadata": {},
     "output_type": "execute_result"
    }
   ],
   "source": [
    "stock"
   ]
  },
  {
   "cell_type": "code",
   "execution_count": 82,
   "id": "737b5981",
   "metadata": {},
   "outputs": [],
   "source": [
    "stocks = {\n",
    "    \"GOOG\": (1235.20, 1242.54, 1231.06),\n",
    "    \"MSFT\": (110.41, 110.45, 109.84) \n",
    "}"
   ]
  },
  {
   "cell_type": "code",
   "execution_count": 83,
   "id": "1e2d11be",
   "metadata": {},
   "outputs": [
    {
     "data": {
      "text/plain": [
       "{'GOOG': (1235.2, 1242.54, 1231.06), 'MSFT': (110.41, 110.45, 109.84)}"
      ]
     },
     "execution_count": 83,
     "metadata": {},
     "output_type": "execute_result"
    }
   ],
   "source": [
    "stocks"
   ]
  },
  {
   "cell_type": "code",
   "execution_count": 84,
   "id": "7cfd483e",
   "metadata": {},
   "outputs": [
    {
     "data": {
      "text/plain": [
       "(1235.2, 1242.54, 1231.06)"
      ]
     },
     "execution_count": 84,
     "metadata": {},
     "output_type": "execute_result"
    }
   ],
   "source": [
    "# accessing value\n",
    "stocks[\"GOOG\"]"
   ]
  },
  {
   "cell_type": "code",
   "execution_count": 85,
   "id": "6172e4a2",
   "metadata": {},
   "outputs": [
    {
     "ename": "KeyError",
     "evalue": "'APPL'",
     "output_type": "error",
     "traceback": [
      "\u001b[0;31m---------------------------------------------------------------------------\u001b[0m",
      "\u001b[0;31mKeyError\u001b[0m                                  Traceback (most recent call last)",
      "Cell \u001b[0;32mIn[85], line 1\u001b[0m\n\u001b[0;32m----> 1\u001b[0m \u001b[43mstocks\u001b[49m\u001b[43m[\u001b[49m\u001b[38;5;124;43m'\u001b[39;49m\u001b[38;5;124;43mAPPL\u001b[39;49m\u001b[38;5;124;43m'\u001b[39;49m\u001b[43m]\u001b[49m\n",
      "\u001b[0;31mKeyError\u001b[0m: 'APPL'"
     ]
    }
   ],
   "source": [
    "stocks['APPL']"
   ]
  },
  {
   "cell_type": "code",
   "execution_count": 87,
   "id": "a919666a",
   "metadata": {},
   "outputs": [
    {
     "name": "stdout",
     "output_type": "stream",
     "text": [
      "None\n"
     ]
    }
   ],
   "source": [
    "# better approach\n",
    "print(stocks.get('APPL'))"
   ]
  },
  {
   "cell_type": "code",
   "execution_count": 88,
   "id": "96ffd605",
   "metadata": {},
   "outputs": [
    {
     "name": "stdout",
     "output_type": "stream",
     "text": [
      "NOT FOUND\n"
     ]
    }
   ],
   "source": [
    "# provide default value\n",
    "print(stocks.get('APPL', 'NOT FOUND'))"
   ]
  },
  {
   "cell_type": "code",
   "execution_count": 89,
   "id": "1b81c988",
   "metadata": {},
   "outputs": [],
   "source": [
    "# updating existing key/value pairs\n",
    "stocks['GOOG'] = (100, 100, 100)"
   ]
  },
  {
   "cell_type": "code",
   "execution_count": 90,
   "id": "297d2dda",
   "metadata": {},
   "outputs": [
    {
     "data": {
      "text/plain": [
       "(100, 100, 100)"
      ]
     },
     "execution_count": 90,
     "metadata": {},
     "output_type": "execute_result"
    }
   ],
   "source": [
    "stocks.get(\"GOOG\")"
   ]
  },
  {
   "cell_type": "code",
   "execution_count": 91,
   "id": "3d311486",
   "metadata": {},
   "outputs": [
    {
     "data": {
      "text/plain": [
       "(100, 100, 100)"
      ]
     },
     "execution_count": 91,
     "metadata": {},
     "output_type": "execute_result"
    }
   ],
   "source": [
    "# adding new key/value iff the key doesn't exist\n",
    "# if key is in the dictionary, it behaves just like get\n",
    "stocks.setdefault(\"GOOG\", \"INVALID\")"
   ]
  },
  {
   "cell_type": "code",
   "execution_count": 92,
   "id": "875c8663",
   "metadata": {},
   "outputs": [
    {
     "data": {
      "text/plain": [
       "(10.87, 10.76, 10.9)"
      ]
     },
     "execution_count": 92,
     "metadata": {},
     "output_type": "execute_result"
    }
   ],
   "source": [
    "stocks.setdefault(\"BB\", (10.87, 10.76, 10.90))"
   ]
  },
  {
   "cell_type": "code",
   "execution_count": 93,
   "id": "6dc7625a",
   "metadata": {},
   "outputs": [
    {
     "data": {
      "text/plain": [
       "(10.87, 10.76, 10.9)"
      ]
     },
     "execution_count": 93,
     "metadata": {},
     "output_type": "execute_result"
    }
   ],
   "source": [
    "stocks['BB']"
   ]
  },
  {
   "cell_type": "code",
   "execution_count": 96,
   "id": "59c89016",
   "metadata": {},
   "outputs": [],
   "source": [
    "# mypy typehints; can use built-in types as typehints Python 3.9 and mypy 0.812\n",
    "# need: from __future__ import annotations as the first import \n",
    "# for older version of Python and mypy\n",
    "\n",
    "stocks: dict[str, tuple[float, float, float]] = {}"
   ]
  },
  {
   "cell_type": "code",
   "execution_count": 97,
   "id": "6bcd9c49",
   "metadata": {},
   "outputs": [
    {
     "data": {
      "text/plain": [
       "(150, 175, 125)"
      ]
     },
     "execution_count": 97,
     "metadata": {},
     "output_type": "execute_result"
    }
   ],
   "source": [
    "stocks.setdefault('APPL', (150, 175, 125))"
   ]
  },
  {
   "cell_type": "code",
   "execution_count": 98,
   "id": "cf405686",
   "metadata": {},
   "outputs": [
    {
     "data": {
      "text/plain": [
       "{'APPL': (150, 175, 125)}"
      ]
     },
     "execution_count": 98,
     "metadata": {},
     "output_type": "execute_result"
    }
   ],
   "source": [
    "stocks"
   ]
  },
  {
   "cell_type": "code",
   "execution_count": 99,
   "id": "aa18bcac",
   "metadata": {},
   "outputs": [
    {
     "name": "stdout",
     "output_type": "stream",
     "text": [
      "APPL last value is 150\n"
     ]
    }
   ],
   "source": [
    "for stock, values in stocks.items():\n",
    "    print(f\"{stock} last value is {values[0]}\")"
   ]
  },
  {
   "cell_type": "code",
   "execution_count": 118,
   "id": "ae437803",
   "metadata": {},
   "outputs": [],
   "source": [
    "# using objects as key\n",
    "class AnObject:\n",
    "    def __init__(self, avalue):\n",
    "        self.avalue = avalue\n",
    "        \n",
    "    def __repr__(self):\n",
    "        return f'AnObject: {self.avalue}'"
   ]
  },
  {
   "cell_type": "code",
   "execution_count": 119,
   "id": "c450d0a9",
   "metadata": {},
   "outputs": [],
   "source": [
    "random_keys = {}"
   ]
  },
  {
   "cell_type": "code",
   "execution_count": 120,
   "id": "4d92ad9f",
   "metadata": {},
   "outputs": [],
   "source": [
    "random_keys[\"astring\"] = \"somestring\"\n",
    "random_keys[5] = \"aninteger\"\n",
    "random_keys[25.2] = \"floats work too\"\n",
    "random_keys[(\"abc\", 123)] = \"so do tuples\""
   ]
  },
  {
   "cell_type": "code",
   "execution_count": 121,
   "id": "2424a8a7",
   "metadata": {},
   "outputs": [
    {
     "data": {
      "text/plain": [
       "{'astring': 'somestring',\n",
       " 5: 'aninteger',\n",
       " 25.2: 'floats work too',\n",
       " ('abc', 123): 'so do tuples'}"
      ]
     },
     "execution_count": 121,
     "metadata": {},
     "output_type": "execute_result"
    }
   ],
   "source": [
    "random_keys"
   ]
  },
  {
   "cell_type": "code",
   "execution_count": 122,
   "id": "e9b9b2c3",
   "metadata": {},
   "outputs": [],
   "source": [
    "my_object = AnObject(14)"
   ]
  },
  {
   "cell_type": "code",
   "execution_count": 123,
   "id": "e3310683",
   "metadata": {},
   "outputs": [],
   "source": [
    "random_keys[my_object] = \"We can even store objects\""
   ]
  },
  {
   "cell_type": "code",
   "execution_count": 124,
   "id": "7b29bbcd",
   "metadata": {},
   "outputs": [
    {
     "data": {
      "text/plain": [
       "{'astring': 'somestring',\n",
       " 5: 'aninteger',\n",
       " 25.2: 'floats work too',\n",
       " ('abc', 123): 'so do tuples',\n",
       " AnObject: 14: 'We can even store objects'}"
      ]
     },
     "execution_count": 124,
     "metadata": {},
     "output_type": "execute_result"
    }
   ],
   "source": [
    "random_keys"
   ]
  },
  {
   "cell_type": "code",
   "execution_count": 125,
   "id": "a014395a",
   "metadata": {},
   "outputs": [],
   "source": [
    "# change my_objects wouldn't affect the dictionary\n",
    "my_object.avalue = 12"
   ]
  },
  {
   "cell_type": "code",
   "execution_count": 126,
   "id": "05297346",
   "metadata": {},
   "outputs": [
    {
     "name": "stdout",
     "output_type": "stream",
     "text": [
      "'astring' has value 'somestring'\n",
      "5 has value 'aninteger'\n",
      "25.2 has value 'floats work too'\n",
      "('abc', 123) has value 'so do tuples'\n",
      "AnObject: 12 has value 'We can even store objects'\n"
     ]
    }
   ],
   "source": [
    "# random_keys has type hints: dict[Union[str, int, float, Tuple[str, int], AnObject], str]\n",
    "for key in random_keys:\n",
    "    print(f\"{key!r} has value {random_keys[key]!r}\")"
   ]
  },
  {
   "cell_type": "markdown",
   "id": "95ab5c4a",
   "metadata": {},
   "source": [
    "## Dictionary use cases\n",
    "\n",
    "- dictionaries are extremely versatile and have numerous uses\n",
    "- couple of important ones:\n",
    "    1. dict[str, tuple[float, float, float]] or dict[str, Stock]\n",
    "        - similar to the stock example where symbol maps to tuple of prices\n",
    "    2. dict[str, Union[str, float, Tuple[float, float]]\n",
    "        - e.g., {'name': 'GOOG', 'current': 1245.21, 'range': (1252.64, 1245.18)}\n",
    "        - this case overlaps with named tuples, dataclass and objects in general\n",
    "        \n",
    "- technically, most classes are implemented using dictionary    "
   ]
  },
  {
   "cell_type": "code",
   "execution_count": 133,
   "id": "c9b8480f",
   "metadata": {},
   "outputs": [
    {
     "name": "stdout",
     "output_type": "stream",
     "text": [
      "Help on AnObject in module __main__ object:\n",
      "\n",
      "class AnObject(builtins.object)\n",
      " |  AnObject(avalue)\n",
      " |  \n",
      " |  Methods defined here:\n",
      " |  \n",
      " |  __init__(self, avalue)\n",
      " |      Initialize self.  See help(type(self)) for accurate signature.\n",
      " |  \n",
      " |  __repr__(self)\n",
      " |      Return repr(self).\n",
      " |  \n",
      " |  ----------------------------------------------------------------------\n",
      " |  Data descriptors defined here:\n",
      " |  \n",
      " |  __dict__\n",
      " |      dictionary for instance variables (if defined)\n",
      " |  \n",
      " |  __weakref__\n",
      " |      list of weak references to the object (if defined)\n",
      "\n"
     ]
    }
   ],
   "source": [
    "help(my_object)"
   ]
  },
  {
   "cell_type": "code",
   "execution_count": 135,
   "id": "2cd72c3d",
   "metadata": {},
   "outputs": [
    {
     "data": {
      "text/plain": [
       "{'avalue': 12}"
      ]
     },
     "execution_count": 135,
     "metadata": {},
     "output_type": "execute_result"
    }
   ],
   "source": [
    "my_object.__dict__"
   ]
  },
  {
   "cell_type": "code",
   "execution_count": 136,
   "id": "c7bf61cf",
   "metadata": {},
   "outputs": [
    {
     "data": {
      "text/plain": [
       "12"
      ]
     },
     "execution_count": 136,
     "metadata": {},
     "output_type": "execute_result"
    }
   ],
   "source": [
    "my_object.__dict__['avalue']"
   ]
  },
  {
   "cell_type": "code",
   "execution_count": 137,
   "id": "256c4e24",
   "metadata": {},
   "outputs": [
    {
     "data": {
      "text/plain": [
       "12"
      ]
     },
     "execution_count": 137,
     "metadata": {},
     "output_type": "execute_result"
    }
   ],
   "source": [
    "my_object.avalue"
   ]
  },
  {
   "cell_type": "markdown",
   "id": "a58fb704",
   "metadata": {},
   "source": [
    "## Using defaultdict\n",
    "\n",
    "- we've used `setdefault` method to set the default value if the key doesn't exist in dict instance\n",
    "- this can get monotonous/expensive to check or setdefault value everytime a new key is inserted or existing key is updated\n",
    "- e.g. let's find letter frequencey using regular dictionary"
   ]
  },
  {
   "cell_type": "code",
   "execution_count": 139,
   "id": "2044a9d5",
   "metadata": {},
   "outputs": [],
   "source": [
    "def letter_frequency(sentence: str) -> dict[str, int]:\n",
    "    frequencies: dict[str, int] = {} # regular dictionary\n",
    "    for letter in sentence:\n",
    "        frequency = frequencies.setdefault(letter, 0)  # step 1\n",
    "        frequencies[letter] += 1 # step 2\n",
    "    return frequencies"
   ]
  },
  {
   "cell_type": "code",
   "execution_count": 140,
   "id": "1f331310",
   "metadata": {},
   "outputs": [],
   "source": [
    "hist = letter_frequency(\"Mississippi river is the longest river in Mississippi\")"
   ]
  },
  {
   "cell_type": "code",
   "execution_count": 141,
   "id": "51fecb3d",
   "metadata": {},
   "outputs": [
    {
     "data": {
      "text/plain": [
       "{'M': 2,\n",
       " 'i': 12,\n",
       " 's': 10,\n",
       " 'p': 4,\n",
       " ' ': 7,\n",
       " 'r': 4,\n",
       " 'v': 2,\n",
       " 'e': 4,\n",
       " 't': 2,\n",
       " 'h': 1,\n",
       " 'l': 1,\n",
       " 'o': 1,\n",
       " 'n': 2,\n",
       " 'g': 1}"
      ]
     },
     "execution_count": 141,
     "metadata": {},
     "output_type": "execute_result"
    }
   ],
   "source": [
    "hist"
   ]
  },
  {
   "cell_type": "code",
   "execution_count": 142,
   "id": "eb138cf0",
   "metadata": {},
   "outputs": [],
   "source": [
    "from collections import defaultdict\n",
    "\n",
    "def letter_frequency_2(sentence: str) -> defaultdict[str, int]:\n",
    "    frequencies: defaultdict[str, int] = defaultdict(int)\n",
    "    for letter in sentence:\n",
    "        frequencies[letter] += 1 # one step !!\n",
    "    return frequencies"
   ]
  },
  {
   "cell_type": "code",
   "execution_count": 143,
   "id": "fd76affa",
   "metadata": {},
   "outputs": [],
   "source": [
    "hist1 = hist = letter_frequency(\"Mississippi river is the longest river in Mississippi\")"
   ]
  },
  {
   "cell_type": "code",
   "execution_count": 144,
   "id": "2796859f",
   "metadata": {},
   "outputs": [
    {
     "data": {
      "text/plain": [
       "{'M': 2,\n",
       " 'i': 12,\n",
       " 's': 10,\n",
       " 'p': 4,\n",
       " ' ': 7,\n",
       " 'r': 4,\n",
       " 'v': 2,\n",
       " 'e': 4,\n",
       " 't': 2,\n",
       " 'h': 1,\n",
       " 'l': 1,\n",
       " 'o': 1,\n",
       " 'n': 2,\n",
       " 'g': 1}"
      ]
     },
     "execution_count": 144,
     "metadata": {},
     "output_type": "execute_result"
    }
   ],
   "source": [
    "hist1"
   ]
  },
  {
   "cell_type": "code",
   "execution_count": 154,
   "id": "8e6f8292",
   "metadata": {},
   "outputs": [
    {
     "data": {
      "text/plain": [
       "0"
      ]
     },
     "execution_count": 154,
     "metadata": {},
     "output_type": "execute_result"
    }
   ],
   "source": [
    "# int() function returns 0\n",
    "int()"
   ]
  },
  {
   "cell_type": "code",
   "execution_count": 160,
   "id": "fc7b22cf",
   "metadata": {},
   "outputs": [
    {
     "data": {
      "text/plain": [
       "''"
      ]
     },
     "execution_count": 160,
     "metadata": {},
     "output_type": "execute_result"
    }
   ],
   "source": [
    "# we can pass a whole bunch of built-in and user \n",
    "# defined functions to initilize the new key with!\n",
    "str()"
   ]
  },
  {
   "cell_type": "code",
   "execution_count": 157,
   "id": "27b8279d",
   "metadata": {},
   "outputs": [
    {
     "data": {
      "text/plain": [
       "0.0"
      ]
     },
     "execution_count": 157,
     "metadata": {},
     "output_type": "execute_result"
    }
   ],
   "source": [
    "float()"
   ]
  },
  {
   "cell_type": "code",
   "execution_count": 158,
   "id": "9477f493",
   "metadata": {},
   "outputs": [
    {
     "data": {
      "text/plain": [
       "[]"
      ]
     },
     "execution_count": 158,
     "metadata": {},
     "output_type": "execute_result"
    }
   ],
   "source": [
    "list()"
   ]
  },
  {
   "cell_type": "code",
   "execution_count": 159,
   "id": "53ddaf02",
   "metadata": {},
   "outputs": [
    {
     "data": {
      "text/plain": [
       "{}"
      ]
     },
     "execution_count": 159,
     "metadata": {},
     "output_type": "execute_result"
    }
   ],
   "source": [
    "dict()"
   ]
  },
  {
   "cell_type": "code",
   "execution_count": 147,
   "id": "42c31410",
   "metadata": {},
   "outputs": [],
   "source": [
    "# initializing distance dict in Diajkstra's SSSP algorithm\n",
    "# dist[(u, v)] = infinity\n",
    "import math\n",
    "dist: defaultdict[tuple[int, int], int] = defaultdict(lambda: math.inf)"
   ]
  },
  {
   "cell_type": "code",
   "execution_count": 148,
   "id": "4e5d01a4",
   "metadata": {},
   "outputs": [
    {
     "data": {
      "text/plain": [
       "inf"
      ]
     },
     "execution_count": 148,
     "metadata": {},
     "output_type": "execute_result"
    }
   ],
   "source": [
    "dist[(1, 2)]"
   ]
  },
  {
   "cell_type": "code",
   "execution_count": 151,
   "id": "4fd2a35e",
   "metadata": {},
   "outputs": [],
   "source": [
    "if dist[(1, 2)] > 100:\n",
    "    dist[(1, 2)] = 1+2"
   ]
  },
  {
   "cell_type": "code",
   "execution_count": 152,
   "id": "26bc3696",
   "metadata": {},
   "outputs": [
    {
     "data": {
      "text/plain": [
       "3"
      ]
     },
     "execution_count": 152,
     "metadata": {},
     "output_type": "execute_result"
    }
   ],
   "source": [
    "dist[(1, 2)]"
   ]
  },
  {
   "cell_type": "code",
   "execution_count": 163,
   "id": "510152b2",
   "metadata": {},
   "outputs": [],
   "source": [
    "# we can create our own functions and dataclass with default values\n",
    "# to pass as a default function for defaultdict\n",
    "from dataclasses import dataclass\n",
    "\n",
    "@dataclass\n",
    "class Price:\n",
    "    current: float = 0.0\n",
    "    high: float = 0.0\n",
    "    low: float = 0.0"
   ]
  },
  {
   "cell_type": "code",
   "execution_count": 164,
   "id": "b1557af9",
   "metadata": {},
   "outputs": [
    {
     "data": {
      "text/plain": [
       "Price(current=0.0, high=0.0, low=0.0)"
      ]
     },
     "execution_count": 164,
     "metadata": {},
     "output_type": "execute_result"
    }
   ],
   "source": [
    "Price()"
   ]
  },
  {
   "cell_type": "code",
   "execution_count": 166,
   "id": "d43235bb",
   "metadata": {},
   "outputs": [],
   "source": [
    "portfolio = defaultdict(Price)"
   ]
  },
  {
   "cell_type": "code",
   "execution_count": 167,
   "id": "2a87f3c4",
   "metadata": {},
   "outputs": [
    {
     "data": {
      "text/plain": [
       "Price(current=0.0, high=0.0, low=0.0)"
      ]
     },
     "execution_count": 167,
     "metadata": {},
     "output_type": "execute_result"
    }
   ],
   "source": [
    "portfolio['GOOG']"
   ]
  },
  {
   "cell_type": "code",
   "execution_count": 168,
   "id": "bcb17752",
   "metadata": {},
   "outputs": [
    {
     "data": {
      "text/plain": [
       "defaultdict(__main__.Price, {'GOOG': Price(current=0.0, high=0.0, low=0.0)})"
      ]
     },
     "execution_count": 168,
     "metadata": {},
     "output_type": "execute_result"
    }
   ],
   "source": [
    "portfolio"
   ]
  },
  {
   "cell_type": "code",
   "execution_count": 184,
   "id": "ef874646",
   "metadata": {},
   "outputs": [],
   "source": [
    "portfolio[\"AAPL\"] = Price(current=122.25, high=137.98, low=53.15)"
   ]
  },
  {
   "cell_type": "code",
   "execution_count": 170,
   "id": "136175bc",
   "metadata": {},
   "outputs": [],
   "source": [
    "from pprint import pprint"
   ]
  },
  {
   "cell_type": "code",
   "execution_count": 171,
   "id": "fdfec733",
   "metadata": {},
   "outputs": [
    {
     "name": "stdout",
     "output_type": "stream",
     "text": [
      "defaultdict(<class '__main__.Price'>,\n",
      "            {'AAPL': Price(current=122.25, high=137.98, low=53.15),\n",
      "             'GOOG': Price(current=0.0, high=0.0, low=0.0)})\n"
     ]
    }
   ],
   "source": [
    "pprint(portfolio)"
   ]
  },
  {
   "cell_type": "code",
   "execution_count": 172,
   "id": "6192686b",
   "metadata": {},
   "outputs": [
    {
     "data": {
      "text/plain": [
       "defaultdict(__main__.Price,\n",
       "            {'GOOG': Price(current=0.0, high=0.0, low=0.0),\n",
       "             'AAPL': Price(current=122.25, high=137.98, low=53.15)})"
      ]
     },
     "execution_count": 172,
     "metadata": {},
     "output_type": "execute_result"
    }
   ],
   "source": [
    "# jupyter notebook uses pprint to print values of variables/objects\n",
    "portfolio"
   ]
  },
  {
   "cell_type": "code",
   "execution_count": 173,
   "id": "ec942fcd",
   "metadata": {},
   "outputs": [],
   "source": [
    "# what if we wanted prices for stocks grouped by month\n",
    "# dictionary within dictionary by month!\n",
    "# within inner dictionary we want Price\n",
    "\n",
    "def make_defaultdict():\n",
    "    return defaultdict(Price)"
   ]
  },
  {
   "cell_type": "code",
   "execution_count": 174,
   "id": "9130adc3",
   "metadata": {},
   "outputs": [],
   "source": [
    "by_month = defaultdict(make_defaultdict)"
   ]
  },
  {
   "cell_type": "code",
   "execution_count": 176,
   "id": "0721c2a3",
   "metadata": {},
   "outputs": [],
   "source": [
    "by_month[\"APPL\"][\"Jan\"] = Price(current=122.25, high=137.98, low=53.15)"
   ]
  },
  {
   "cell_type": "code",
   "execution_count": 177,
   "id": "01476da2",
   "metadata": {},
   "outputs": [
    {
     "data": {
      "text/plain": [
       "defaultdict(<function __main__.make_defaultdict()>,\n",
       "            {'APPL': defaultdict(__main__.Price,\n",
       "                         {'Jan': Price(current=122.25, high=137.98, low=53.15)})})"
      ]
     },
     "execution_count": 177,
     "metadata": {},
     "output_type": "execute_result"
    }
   ],
   "source": [
    "by_month"
   ]
  },
  {
   "cell_type": "code",
   "execution_count": 179,
   "id": "90e0d6fe",
   "metadata": {},
   "outputs": [
    {
     "data": {
      "text/plain": [
       "defaultdict(__main__.Price,\n",
       "            {'Jan': Price(current=122.25, high=137.98, low=53.15)})"
      ]
     },
     "execution_count": 179,
     "metadata": {},
     "output_type": "execute_result"
    }
   ],
   "source": [
    "by_month['APPL']"
   ]
  },
  {
   "cell_type": "code",
   "execution_count": 180,
   "id": "1354b99a",
   "metadata": {},
   "outputs": [
    {
     "data": {
      "text/plain": [
       "Price(current=122.25, high=137.98, low=53.15)"
      ]
     },
     "execution_count": 180,
     "metadata": {},
     "output_type": "execute_result"
    }
   ],
   "source": [
    "by_month['APPL']['Jan']"
   ]
  },
  {
   "cell_type": "code",
   "execution_count": 181,
   "id": "ef5ba4e5",
   "metadata": {},
   "outputs": [],
   "source": [
    "# shortcut is to use lambda function\n",
    "by_month1 = defaultdict(lambda: defaultdict(Price))"
   ]
  },
  {
   "cell_type": "code",
   "execution_count": 182,
   "id": "e5b1dd67",
   "metadata": {},
   "outputs": [],
   "source": [
    "by_month1[\"APPL\"][\"Jan\"] = Price(current=122.25, high=137.98, low=53.15)"
   ]
  },
  {
   "cell_type": "code",
   "execution_count": 183,
   "id": "3e9257e1",
   "metadata": {},
   "outputs": [
    {
     "data": {
      "text/plain": [
       "defaultdict(<function __main__.<lambda>()>,\n",
       "            {'APPL': defaultdict(__main__.Price,\n",
       "                         {'Jan': Price(current=122.25, high=137.98, low=53.15)})})"
      ]
     },
     "execution_count": 183,
     "metadata": {},
     "output_type": "execute_result"
    }
   ],
   "source": [
    "by_month1"
   ]
  },
  {
   "cell_type": "markdown",
   "id": "fe5a871f",
   "metadata": {},
   "source": [
    "## Counter\n",
    "\n",
    "- well can be very important tasks develop do:\n",
    "    - *I want to count specific instances in an iterable* use case is so common that Python develpers thought it deserved a special built-in data structure!"
   ]
  },
  {
   "cell_type": "code",
   "execution_count": 185,
   "id": "fc4e3f6d",
   "metadata": {},
   "outputs": [],
   "source": [
    "from collections import Counter"
   ]
  },
  {
   "cell_type": "code",
   "execution_count": 186,
   "id": "91911d25",
   "metadata": {},
   "outputs": [],
   "source": [
    "freq = Counter(\"Mississippi river is the longest river in Mississippi\")"
   ]
  },
  {
   "cell_type": "code",
   "execution_count": 187,
   "id": "77458d4a",
   "metadata": {},
   "outputs": [
    {
     "data": {
      "text/plain": [
       "[('i', 12),\n",
       " ('s', 10),\n",
       " (' ', 7),\n",
       " ('p', 4),\n",
       " ('r', 4),\n",
       " ('e', 4),\n",
       " ('M', 2),\n",
       " ('v', 2),\n",
       " ('t', 2),\n",
       " ('n', 2),\n",
       " ('h', 1),\n",
       " ('l', 1),\n",
       " ('o', 1),\n",
       " ('g', 1)]"
      ]
     },
     "execution_count": 187,
     "metadata": {},
     "output_type": "execute_result"
    }
   ],
   "source": [
    "freq.most_common()"
   ]
  },
  {
   "cell_type": "code",
   "execution_count": 188,
   "id": "8903584a",
   "metadata": {},
   "outputs": [
    {
     "data": {
      "text/plain": [
       "[('i', 12), ('s', 10), (' ', 7), ('p', 4), ('r', 4)]"
      ]
     },
     "execution_count": 188,
     "metadata": {},
     "output_type": "execute_result"
    }
   ],
   "source": [
    "freq.most_common(5)"
   ]
  },
  {
   "cell_type": "markdown",
   "id": "971b4c8a",
   "metadata": {},
   "source": [
    "## Lists\n",
    "\n",
    "- generic list structure is integrated \n",
    "- list should be used to store several instances of same type of objects\n",
    "    - however, Python list can store any type of objects\n",
    "- lists also maintain the order of the elements\n",
    "- lists are mutable\n",
    "- don't use list for collecting different attributes of same object\n",
    "    - tuple, named typle, dataclass and dictionary may be better\n",
    "- some example of list: list[str], list[int], list[tuple], list[float], etc."
   ]
  },
  {
   "cell_type": "code",
   "execution_count": 195,
   "id": "f25cc9f5",
   "metadata": {},
   "outputs": [],
   "source": [
    "numbers = list(range(20, -1, -1))"
   ]
  },
  {
   "cell_type": "code",
   "execution_count": 196,
   "id": "2c2fff62",
   "metadata": {},
   "outputs": [
    {
     "data": {
      "text/plain": [
       "[20, 19, 18, 17, 16, 15, 14, 13, 12, 11, 10, 9, 8, 7, 6, 5, 4, 3, 2, 1, 0]"
      ]
     },
     "execution_count": 196,
     "metadata": {},
     "output_type": "execute_result"
    }
   ],
   "source": [
    "numbers"
   ]
  },
  {
   "cell_type": "code",
   "execution_count": 197,
   "id": "5648c143",
   "metadata": {},
   "outputs": [],
   "source": [
    "nums = [2, 4, 6, 8]"
   ]
  },
  {
   "cell_type": "code",
   "execution_count": 198,
   "id": "6abad3da",
   "metadata": {},
   "outputs": [],
   "source": [
    "nums.append(10)"
   ]
  },
  {
   "cell_type": "code",
   "execution_count": 194,
   "id": "48b9eeef",
   "metadata": {},
   "outputs": [
    {
     "name": "stdout",
     "output_type": "stream",
     "text": [
      "Help on list object:\n",
      "\n",
      "class list(object)\n",
      " |  list(iterable=(), /)\n",
      " |  \n",
      " |  Built-in mutable sequence.\n",
      " |  \n",
      " |  If no argument is given, the constructor creates a new empty list.\n",
      " |  The argument must be an iterable if specified.\n",
      " |  \n",
      " |  Methods defined here:\n",
      " |  \n",
      " |  __add__(self, value, /)\n",
      " |      Return self+value.\n",
      " |  \n",
      " |  __contains__(self, key, /)\n",
      " |      Return key in self.\n",
      " |  \n",
      " |  __delitem__(self, key, /)\n",
      " |      Delete self[key].\n",
      " |  \n",
      " |  __eq__(self, value, /)\n",
      " |      Return self==value.\n",
      " |  \n",
      " |  __ge__(self, value, /)\n",
      " |      Return self>=value.\n",
      " |  \n",
      " |  __getattribute__(self, name, /)\n",
      " |      Return getattr(self, name).\n",
      " |  \n",
      " |  __getitem__(...)\n",
      " |      x.__getitem__(y) <==> x[y]\n",
      " |  \n",
      " |  __gt__(self, value, /)\n",
      " |      Return self>value.\n",
      " |  \n",
      " |  __iadd__(self, value, /)\n",
      " |      Implement self+=value.\n",
      " |  \n",
      " |  __imul__(self, value, /)\n",
      " |      Implement self*=value.\n",
      " |  \n",
      " |  __init__(self, /, *args, **kwargs)\n",
      " |      Initialize self.  See help(type(self)) for accurate signature.\n",
      " |  \n",
      " |  __iter__(self, /)\n",
      " |      Implement iter(self).\n",
      " |  \n",
      " |  __le__(self, value, /)\n",
      " |      Return self<=value.\n",
      " |  \n",
      " |  __len__(self, /)\n",
      " |      Return len(self).\n",
      " |  \n",
      " |  __lt__(self, value, /)\n",
      " |      Return self<value.\n",
      " |  \n",
      " |  __mul__(self, value, /)\n",
      " |      Return self*value.\n",
      " |  \n",
      " |  __ne__(self, value, /)\n",
      " |      Return self!=value.\n",
      " |  \n",
      " |  __repr__(self, /)\n",
      " |      Return repr(self).\n",
      " |  \n",
      " |  __reversed__(self, /)\n",
      " |      Return a reverse iterator over the list.\n",
      " |  \n",
      " |  __rmul__(self, value, /)\n",
      " |      Return value*self.\n",
      " |  \n",
      " |  __setitem__(self, key, value, /)\n",
      " |      Set self[key] to value.\n",
      " |  \n",
      " |  __sizeof__(self, /)\n",
      " |      Return the size of the list in memory, in bytes.\n",
      " |  \n",
      " |  append(self, object, /)\n",
      " |      Append object to the end of the list.\n",
      " |  \n",
      " |  clear(self, /)\n",
      " |      Remove all items from list.\n",
      " |  \n",
      " |  copy(self, /)\n",
      " |      Return a shallow copy of the list.\n",
      " |  \n",
      " |  count(self, value, /)\n",
      " |      Return number of occurrences of value.\n",
      " |  \n",
      " |  extend(self, iterable, /)\n",
      " |      Extend list by appending elements from the iterable.\n",
      " |  \n",
      " |  index(self, value, start=0, stop=9223372036854775807, /)\n",
      " |      Return first index of value.\n",
      " |      \n",
      " |      Raises ValueError if the value is not present.\n",
      " |  \n",
      " |  insert(self, index, object, /)\n",
      " |      Insert object before index.\n",
      " |  \n",
      " |  pop(self, index=-1, /)\n",
      " |      Remove and return item at index (default last).\n",
      " |      \n",
      " |      Raises IndexError if list is empty or index is out of range.\n",
      " |  \n",
      " |  remove(self, value, /)\n",
      " |      Remove first occurrence of value.\n",
      " |      \n",
      " |      Raises ValueError if the value is not present.\n",
      " |  \n",
      " |  reverse(self, /)\n",
      " |      Reverse *IN PLACE*.\n",
      " |  \n",
      " |  sort(self, /, *, key=None, reverse=False)\n",
      " |      Sort the list in ascending order and return None.\n",
      " |      \n",
      " |      The sort is in-place (i.e. the list itself is modified) and stable (i.e. the\n",
      " |      order of two equal elements is maintained).\n",
      " |      \n",
      " |      If a key function is given, apply it once to each list item and sort them,\n",
      " |      ascending or descending, according to their function values.\n",
      " |      \n",
      " |      The reverse flag can be set to sort in descending order.\n",
      " |  \n",
      " |  ----------------------------------------------------------------------\n",
      " |  Class methods defined here:\n",
      " |  \n",
      " |  __class_getitem__(...) from builtins.type\n",
      " |      See PEP 585\n",
      " |  \n",
      " |  ----------------------------------------------------------------------\n",
      " |  Static methods defined here:\n",
      " |  \n",
      " |  __new__(*args, **kwargs) from builtins.type\n",
      " |      Create and return a new object.  See help(type) for accurate signature.\n",
      " |  \n",
      " |  ----------------------------------------------------------------------\n",
      " |  Data and other attributes defined here:\n",
      " |  \n",
      " |  __hash__ = None\n",
      "\n"
     ]
    }
   ],
   "source": [
    "help(nums)"
   ]
  },
  {
   "cell_type": "code",
   "execution_count": 203,
   "id": "9ed30851",
   "metadata": {},
   "outputs": [],
   "source": [
    "nums.reverse()"
   ]
  },
  {
   "cell_type": "code",
   "execution_count": 204,
   "id": "52b97c19",
   "metadata": {},
   "outputs": [
    {
     "data": {
      "text/plain": [
       "[10, 8, 6, 4, 2]"
      ]
     },
     "execution_count": 204,
     "metadata": {},
     "output_type": "execute_result"
    }
   ],
   "source": [
    "nums"
   ]
  },
  {
   "cell_type": "code",
   "execution_count": 205,
   "id": "3acac7dc",
   "metadata": {},
   "outputs": [],
   "source": [
    "numbers.sort()"
   ]
  },
  {
   "cell_type": "code",
   "execution_count": 206,
   "id": "0b1e96f4",
   "metadata": {},
   "outputs": [
    {
     "data": {
      "text/plain": [
       "[0, 1, 2, 3, 4, 5, 6, 7, 8, 9, 10, 11, 12, 13, 14, 15, 16, 17, 18, 19, 20]"
      ]
     },
     "execution_count": 206,
     "metadata": {},
     "output_type": "execute_result"
    }
   ],
   "source": [
    "numbers"
   ]
  },
  {
   "cell_type": "markdown",
   "id": "1b76536b",
   "metadata": {},
   "source": [
    "### Sorting lists\n",
    "\n",
    "- see this article on Python sorting algorithms: https://realpython.com/sorting-algorithms-python/\n",
    "- important tasks of working with lists is to sort them!\n",
    "- sorting is popular topic studied in algorithm class\n",
    "    - many sorting algorithms with differnt running time!\n",
    "- Python uses Timsort algorithm created by Tim Peters \n",
    "- Timsort algorithm is considered a hybrid sorting algorithm\n",
    "    - employs a best-of-both-worlds combination of insertion sort and merge sort "
   ]
  },
  {
   "cell_type": "code",
   "execution_count": 207,
   "id": "46e40ec9",
   "metadata": {},
   "outputs": [],
   "source": [
    "numbers.sort(reverse=True)"
   ]
  },
  {
   "cell_type": "code",
   "execution_count": 208,
   "id": "cce39aaa",
   "metadata": {},
   "outputs": [
    {
     "data": {
      "text/plain": [
       "[20, 19, 18, 17, 16, 15, 14, 13, 12, 11, 10, 9, 8, 7, 6, 5, 4, 3, 2, 1, 0]"
      ]
     },
     "execution_count": 208,
     "metadata": {},
     "output_type": "execute_result"
    }
   ],
   "source": [
    "numbers"
   ]
  },
  {
   "cell_type": "code",
   "execution_count": 211,
   "id": "17c03547",
   "metadata": {},
   "outputs": [],
   "source": [
    "# sorting objects with multiple values\n",
    "values = [(1, 'a'), (2, 'b'), (1, '1'), (2, 'a')]"
   ]
  },
  {
   "cell_type": "code",
   "execution_count": 212,
   "id": "cb2cb90c",
   "metadata": {},
   "outputs": [],
   "source": [
    "values.sort()"
   ]
  },
  {
   "cell_type": "code",
   "execution_count": 213,
   "id": "aadd1d09",
   "metadata": {},
   "outputs": [
    {
     "data": {
      "text/plain": [
       "[(1, '1'), (1, 'a'), (2, 'a'), (2, 'b')]"
      ]
     },
     "execution_count": 213,
     "metadata": {},
     "output_type": "execute_result"
    }
   ],
   "source": [
    "values"
   ]
  },
  {
   "cell_type": "code",
   "execution_count": 217,
   "id": "8e0093f8",
   "metadata": {},
   "outputs": [],
   "source": [
    "values.sort(key=lambda t: t[0])"
   ]
  },
  {
   "cell_type": "code",
   "execution_count": 218,
   "id": "45e865fc",
   "metadata": {},
   "outputs": [
    {
     "data": {
      "text/plain": [
       "[(1, '1'), (1, 'a'), (2, 'a'), (2, 'b')]"
      ]
     },
     "execution_count": 218,
     "metadata": {},
     "output_type": "execute_result"
    }
   ],
   "source": [
    "values"
   ]
  },
  {
   "cell_type": "code",
   "execution_count": 219,
   "id": "4842d0b7",
   "metadata": {},
   "outputs": [],
   "source": [
    "values.sort(key=lambda t: t[1])"
   ]
  },
  {
   "cell_type": "code",
   "execution_count": 220,
   "id": "4f97c908",
   "metadata": {},
   "outputs": [
    {
     "data": {
      "text/plain": [
       "[(1, '1'), (1, 'a'), (2, 'a'), (2, 'b')]"
      ]
     },
     "execution_count": 220,
     "metadata": {},
     "output_type": "execute_result"
    }
   ],
   "source": [
    "values"
   ]
  },
  {
   "cell_type": "code",
   "execution_count": 239,
   "id": "c535bf71",
   "metadata": {},
   "outputs": [],
   "source": [
    "# another option\n",
    "import operator"
   ]
  },
  {
   "cell_type": "code",
   "execution_count": 240,
   "id": "9e425467",
   "metadata": {},
   "outputs": [],
   "source": [
    "values.sort(key=operator.itemgetter(0))"
   ]
  },
  {
   "cell_type": "code",
   "execution_count": 241,
   "id": "d09586c8",
   "metadata": {},
   "outputs": [
    {
     "data": {
      "text/plain": [
       "[(1, '1'), (1, 'a'), (2, 'a'), (2, 'b')]"
      ]
     },
     "execution_count": 241,
     "metadata": {},
     "output_type": "execute_result"
    }
   ],
   "source": [
    "values"
   ]
  },
  {
   "cell_type": "code",
   "execution_count": 222,
   "id": "2abc9d17",
   "metadata": {},
   "outputs": [],
   "source": [
    "# sorting user defined objects\n",
    "# use order=True paramter to dataclass \n",
    "# if you want to order based on all the attributes in the order declared...\n",
    "@dataclass\n",
    "class Student:\n",
    "    first_name: str\n",
    "    last_name: str\n",
    "    id: int\n",
    "    gpa: float\n",
    "        \n",
    "    # you need to define __lt__ function to compare two objects of Student type\n",
    "    def __lt__(self, other: 'Student') -> bool:\n",
    "        return self.gpa > other.gpa"
   ]
  },
  {
   "cell_type": "code",
   "execution_count": 223,
   "id": "5f62e2ed",
   "metadata": {},
   "outputs": [],
   "source": [
    "s1 = Student('John', 'Smith', 123, 2.5)\n",
    "s2 = Student('Jake', 'Jordan', 200, 3.5)\n",
    "s3 = Student('Alice', 'Wonderland', 300, 4.5)"
   ]
  },
  {
   "cell_type": "code",
   "execution_count": 224,
   "id": "ef91bf9e",
   "metadata": {},
   "outputs": [],
   "source": [
    "students = [s1, s2, s3]"
   ]
  },
  {
   "cell_type": "code",
   "execution_count": 225,
   "id": "0dd7bb46",
   "metadata": {},
   "outputs": [
    {
     "data": {
      "text/plain": [
       "[Student(first_name='John', last_name='Smith', id=123, gpa=2.5),\n",
       " Student(first_name='Jake', last_name='Jordan', id=200, gpa=3.5),\n",
       " Student(first_name='Alice', last_name='Wonderland', id=300, gpa=4.5)]"
      ]
     },
     "execution_count": 225,
     "metadata": {},
     "output_type": "execute_result"
    }
   ],
   "source": [
    "students"
   ]
  },
  {
   "cell_type": "code",
   "execution_count": 227,
   "id": "1080a3c2",
   "metadata": {},
   "outputs": [],
   "source": [
    "# use the __lt__ function provided in each object to order\n",
    "students.sort()"
   ]
  },
  {
   "cell_type": "code",
   "execution_count": 228,
   "id": "cba11d95",
   "metadata": {},
   "outputs": [
    {
     "data": {
      "text/plain": [
       "[Student(first_name='Alice', last_name='Wonderland', id=300, gpa=4.5),\n",
       " Student(first_name='Jake', last_name='Jordan', id=200, gpa=3.5),\n",
       " Student(first_name='John', last_name='Smith', id=123, gpa=2.5)]"
      ]
     },
     "execution_count": 228,
     "metadata": {},
     "output_type": "execute_result"
    }
   ],
   "source": [
    "students"
   ]
  },
  {
   "cell_type": "code",
   "execution_count": 234,
   "id": "c3a76c7d",
   "metadata": {},
   "outputs": [],
   "source": [
    "# also sort based on each attribute\n",
    "students.sort(reverse=True, key=lambda item: item.last_name)"
   ]
  },
  {
   "cell_type": "code",
   "execution_count": 235,
   "id": "1c75c4d8",
   "metadata": {},
   "outputs": [
    {
     "data": {
      "text/plain": [
       "[Student(first_name='Alice', last_name='Wonderland', id=300, gpa=4.5),\n",
       " Student(first_name='John', last_name='Smith', id=123, gpa=2.5),\n",
       " Student(first_name='Jake', last_name='Jordan', id=200, gpa=3.5)]"
      ]
     },
     "execution_count": 235,
     "metadata": {},
     "output_type": "execute_result"
    }
   ],
   "source": [
    "students"
   ]
  },
  {
   "cell_type": "code",
   "execution_count": 236,
   "id": "31478290",
   "metadata": {},
   "outputs": [],
   "source": [
    "students.sort(key=lambda item: item.id)"
   ]
  },
  {
   "cell_type": "code",
   "execution_count": 237,
   "id": "f0e5e183",
   "metadata": {},
   "outputs": [
    {
     "data": {
      "text/plain": [
       "[Student(first_name='John', last_name='Smith', id=123, gpa=2.5),\n",
       " Student(first_name='Jake', last_name='Jordan', id=200, gpa=3.5),\n",
       " Student(first_name='Alice', last_name='Wonderland', id=300, gpa=4.5)]"
      ]
     },
     "execution_count": 237,
     "metadata": {},
     "output_type": "execute_result"
    }
   ],
   "source": [
    "students"
   ]
  },
  {
   "cell_type": "code",
   "execution_count": 238,
   "id": "64b86d61",
   "metadata": {},
   "outputs": [],
   "source": [
    "# another options is to use operator module\n",
    "import operator"
   ]
  },
  {
   "cell_type": "code",
   "execution_count": 242,
   "id": "c153470f",
   "metadata": {},
   "outputs": [],
   "source": [
    "students.sort(key=operator.attrgetter(\"gpa\"))"
   ]
  },
  {
   "cell_type": "code",
   "execution_count": 243,
   "id": "a1115fb8",
   "metadata": {},
   "outputs": [
    {
     "data": {
      "text/plain": [
       "[Student(first_name='John', last_name='Smith', id=123, gpa=2.5),\n",
       " Student(first_name='Jake', last_name='Jordan', id=200, gpa=3.5),\n",
       " Student(first_name='Alice', last_name='Wonderland', id=300, gpa=4.5)]"
      ]
     },
     "execution_count": 243,
     "metadata": {},
     "output_type": "execute_result"
    }
   ],
   "source": [
    "students"
   ]
  },
  {
   "cell_type": "markdown",
   "id": "b64b6c72",
   "metadata": {},
   "source": [
    "### List comprehension\n",
    "\n",
    "- list shortcuts can make you an efficient programmer\n",
    "- E.g., an arithmetic set $S = \\{x^2 : x \\in \\{0 ... 9\\}\\}$\n",
    "    - is equivalent to: \n",
    "    ```python\n",
    "    S = [x**2 for x in range(10)]\n",
    "    ```\n",
    "- consists of brackets containing an expression followed by a for clause, then zero or more for or if clauses\n",
    "    - the expressions can be anything\n",
    "    - always results a new list from evaluating expression\n",
    "- syntax:\n",
    "```python\n",
    "someList = [expression for item in list if conditional] # one-way selector\n",
    "someList = [expression if conditionl else expression for item in list] # two-way selector\n",
    "```"
   ]
  },
  {
   "cell_type": "code",
   "execution_count": 244,
   "id": "f9b14330",
   "metadata": {},
   "outputs": [],
   "source": [
    "# beginner way to create a list of squared values of list 0 to 9?\n",
    "sq = []\n",
    "for i in range(10):\n",
    "    sq.append(i**2)"
   ]
  },
  {
   "cell_type": "code",
   "execution_count": 245,
   "id": "8dbeee55",
   "metadata": {},
   "outputs": [
    {
     "data": {
      "text/plain": [
       "[0, 1, 4, 9, 16, 25, 36, 49, 64, 81]"
      ]
     },
     "execution_count": 245,
     "metadata": {},
     "output_type": "execute_result"
    }
   ],
   "source": [
    "sq"
   ]
  },
  {
   "cell_type": "code",
   "execution_count": 246,
   "id": "60d67328",
   "metadata": {},
   "outputs": [],
   "source": [
    "# prefessional way: List comprehension:\n",
    "S = [x**2 for x in range(10)]"
   ]
  },
  {
   "cell_type": "code",
   "execution_count": 247,
   "id": "089aa82a",
   "metadata": {},
   "outputs": [
    {
     "data": {
      "text/plain": [
       "[0, 1, 4, 9, 16, 25, 36, 49, 64, 81]"
      ]
     },
     "execution_count": 247,
     "metadata": {},
     "output_type": "execute_result"
    }
   ],
   "source": [
    "S"
   ]
  },
  {
   "cell_type": "markdown",
   "id": "7ac8de52",
   "metadata": {},
   "source": [
    "In Math: $V = \\{2^0, 2^1, 2^2, 2^3, ... 2^{12}\\}$"
   ]
  },
  {
   "cell_type": "code",
   "execution_count": 248,
   "id": "5d8d5e8e",
   "metadata": {},
   "outputs": [
    {
     "name": "stdout",
     "output_type": "stream",
     "text": [
      "[1, 2, 4, 8, 16, 32, 64, 128, 256, 512, 1024, 2048, 4096]\n"
     ]
    }
   ],
   "source": [
    "V = [2**x for x in range(13)]\n",
    "print(V)"
   ]
  },
  {
   "cell_type": "markdown",
   "id": "1bbaa0e6",
   "metadata": {},
   "source": [
    "In Math: $M = \\{x | x \\in S \\ and \\ x \\ even\\}$"
   ]
  },
  {
   "cell_type": "code",
   "execution_count": 249,
   "id": "e443e064",
   "metadata": {},
   "outputs": [],
   "source": [
    "# List comprehension\n",
    "M1 = [x for x in S if x%2==0]"
   ]
  },
  {
   "cell_type": "code",
   "execution_count": 250,
   "id": "c5da07d9",
   "metadata": {},
   "outputs": [
    {
     "data": {
      "text/plain": [
       "[0, 4, 16, 36, 64]"
      ]
     },
     "execution_count": 250,
     "metadata": {},
     "output_type": "execute_result"
    }
   ],
   "source": [
    "M1"
   ]
  },
  {
   "cell_type": "code",
   "execution_count": 253,
   "id": "0cf518be",
   "metadata": {},
   "outputs": [],
   "source": [
    "evens = [True if x%2==0 else False for x in range(1, 21)]"
   ]
  },
  {
   "cell_type": "code",
   "execution_count": 254,
   "id": "ce238f62",
   "metadata": {},
   "outputs": [
    {
     "data": {
      "text/plain": [
       "[False,\n",
       " True,\n",
       " False,\n",
       " True,\n",
       " False,\n",
       " True,\n",
       " False,\n",
       " True,\n",
       " False,\n",
       " True,\n",
       " False,\n",
       " True,\n",
       " False,\n",
       " True,\n",
       " False,\n",
       " True,\n",
       " False,\n",
       " True,\n",
       " False,\n",
       " True]"
      ]
     },
     "execution_count": 254,
     "metadata": {},
     "output_type": "execute_result"
    }
   ],
   "source": [
    "evens"
   ]
  },
  {
   "cell_type": "code",
   "execution_count": 255,
   "id": "d75b80fc",
   "metadata": {},
   "outputs": [],
   "source": [
    "sentence = \"The quick brown fox jumps over the lazy dog\"\n",
    "# words = sentence.split()\n",
    "# can make a list of tuples or list of lists\n",
    "wlist = [(w.upper(), w.lower(), len(w)) for w in sentence.split()]"
   ]
  },
  {
   "cell_type": "code",
   "execution_count": 256,
   "id": "6298c43c",
   "metadata": {},
   "outputs": [
    {
     "data": {
      "text/plain": [
       "[('THE', 'the', 3),\n",
       " ('QUICK', 'quick', 5),\n",
       " ('BROWN', 'brown', 5),\n",
       " ('FOX', 'fox', 3),\n",
       " ('JUMPS', 'jumps', 5),\n",
       " ('OVER', 'over', 4),\n",
       " ('THE', 'the', 3),\n",
       " ('LAZY', 'lazy', 4),\n",
       " ('DOG', 'dog', 3)]"
      ]
     },
     "execution_count": 256,
     "metadata": {},
     "output_type": "execute_result"
    }
   ],
   "source": [
    "wlist"
   ]
  },
  {
   "cell_type": "markdown",
   "id": "beae17c3",
   "metadata": {},
   "source": [
    "### Nested list comprehension\n",
    "\n",
    "- syntax to handle the nested lists with nested loop in loop comphrension\n",
    "\n",
    "```python\n",
    "lst = [value for innerList in outerList for value in innerList]\n",
    "lst = [value for innerList in outerList for value in innerList if condition]\n",
    "lst = [value if condition else value1 for innerList in outerList for value in innerList]\n",
    "```"
   ]
  },
  {
   "cell_type": "code",
   "execution_count": 257,
   "id": "b997628e",
   "metadata": {},
   "outputs": [],
   "source": [
    "# let's create a nestedList of [[1, 2, 3, 4]*4]\n",
    "nestedList = [list(range(1, 5))]*5"
   ]
  },
  {
   "cell_type": "code",
   "execution_count": 258,
   "id": "c2fb5ee5",
   "metadata": {},
   "outputs": [
    {
     "data": {
      "text/plain": [
       "[[1, 2, 3, 4], [1, 2, 3, 4], [1, 2, 3, 4], [1, 2, 3, 4], [1, 2, 3, 4]]"
      ]
     },
     "execution_count": 258,
     "metadata": {},
     "output_type": "execute_result"
    }
   ],
   "source": [
    "nestedList"
   ]
  },
  {
   "cell_type": "code",
   "execution_count": 259,
   "id": "bd5721b6",
   "metadata": {},
   "outputs": [],
   "source": [
    "# let's just keep the even values from each nested lists\n",
    "even = [x for lst in nestedList for x in lst if x%2==0 ]"
   ]
  },
  {
   "cell_type": "code",
   "execution_count": 260,
   "id": "e1b4a3a9",
   "metadata": {},
   "outputs": [
    {
     "data": {
      "text/plain": [
       "[2, 4, 2, 4, 2, 4, 2, 4, 2, 4]"
      ]
     },
     "execution_count": 260,
     "metadata": {},
     "output_type": "execute_result"
    }
   ],
   "source": [
    "even"
   ]
  },
  {
   "cell_type": "code",
   "execution_count": 261,
   "id": "9f45217a",
   "metadata": {},
   "outputs": [],
   "source": [
    "# let's create boolen single list of True/False\n",
    "evenOdd = [True if x%2 == 0 else False for lst in nestedList for x in lst]"
   ]
  },
  {
   "cell_type": "code",
   "execution_count": 262,
   "id": "998f3f9d",
   "metadata": {},
   "outputs": [
    {
     "data": {
      "text/plain": [
       "[False,\n",
       " True,\n",
       " False,\n",
       " True,\n",
       " False,\n",
       " True,\n",
       " False,\n",
       " True,\n",
       " False,\n",
       " True,\n",
       " False,\n",
       " True,\n",
       " False,\n",
       " True,\n",
       " False,\n",
       " True,\n",
       " False,\n",
       " True,\n",
       " False,\n",
       " True]"
      ]
     },
     "execution_count": 262,
     "metadata": {},
     "output_type": "execute_result"
    }
   ],
   "source": [
    "evenOdd"
   ]
  },
  {
   "cell_type": "markdown",
   "id": "a6b0d014",
   "metadata": {},
   "source": [
    "## Sets\n",
    "\n",
    "- lists are great and versatile, but sometimes we need all the elements of a container to be unique\n",
    "- Python sets can store any hashable objects, not just strings and numbers\n",
    "    - hashable object must implement `__hash__()` method\n",
    "- sets are inherently unordered due to hash-based data structure used for efficient access to the members\n",
    "- its easy to check if an item is **in** the set\n",
    "- if you need to order the set, must convert it into list\n",
    "    - iterator of Set will access elements in alphabetical order, however!\n",
    "- not literal syntax to create an empty list\n",
    "- must use `set()` function to create an empty set"
   ]
  },
  {
   "cell_type": "code",
   "execution_count": 263,
   "id": "b66b05d8",
   "metadata": {},
   "outputs": [],
   "source": [
    "song_library = [\n",
    "    (\"Phantom Of The Opera\", \"Sarah Brightman\"),\n",
    "    (\"Knocking On Heaven's Door\", \"Guns N' Roses\"),\n",
    "    (\"Captain Nemo\", \"Sarah Brightman\"),\n",
    "    (\"Patterns In The Ivy\", \"Opeth\"),\n",
    "    (\"November Rain\", \"Guns N' Roses\"),\n",
    "    (\"Beautiful\", \"Sarah Brightman\"),\n",
    "    (\"Mal's Song\", \"Vixy and Tony\"), ]"
   ]
  },
  {
   "cell_type": "code",
   "execution_count": 264,
   "id": "9f9ca83c",
   "metadata": {},
   "outputs": [],
   "source": [
    "artists = set()"
   ]
  },
  {
   "cell_type": "code",
   "execution_count": 267,
   "id": "386ca9c5",
   "metadata": {},
   "outputs": [],
   "source": [
    "for song, artist in song_library:\n",
    "    artists.add(artist)"
   ]
  },
  {
   "cell_type": "code",
   "execution_count": 268,
   "id": "5d824a0b",
   "metadata": {},
   "outputs": [
    {
     "data": {
      "text/plain": [
       "{\"Guns N' Roses\", 'Opeth', 'Sarah Brightman', 'Vixy and Tony'}"
      ]
     },
     "execution_count": 268,
     "metadata": {},
     "output_type": "execute_result"
    }
   ],
   "source": [
    "artists"
   ]
  },
  {
   "cell_type": "code",
   "execution_count": 269,
   "id": "bec10025",
   "metadata": {},
   "outputs": [
    {
     "data": {
      "text/plain": [
       "True"
      ]
     },
     "execution_count": 269,
     "metadata": {},
     "output_type": "execute_result"
    }
   ],
   "source": [
    "'Opeth' in artists"
   ]
  },
  {
   "cell_type": "code",
   "execution_count": 270,
   "id": "d08ae04f",
   "metadata": {},
   "outputs": [
    {
     "data": {
      "text/plain": [
       "False"
      ]
     },
     "execution_count": 270,
     "metadata": {},
     "output_type": "execute_result"
    }
   ],
   "source": [
    "'Michael' in artists"
   ]
  },
  {
   "cell_type": "code",
   "execution_count": 271,
   "id": "101c8b0f",
   "metadata": {},
   "outputs": [],
   "source": [
    "alphabetical = sorted(list(artists))"
   ]
  },
  {
   "cell_type": "code",
   "execution_count": 272,
   "id": "e61d6293",
   "metadata": {},
   "outputs": [
    {
     "data": {
      "text/plain": [
       "[\"Guns N' Roses\", 'Opeth', 'Sarah Brightman', 'Vixy and Tony']"
      ]
     },
     "execution_count": 272,
     "metadata": {},
     "output_type": "execute_result"
    }
   ],
   "source": [
    "alphabetical"
   ]
  },
  {
   "cell_type": "code",
   "execution_count": 273,
   "id": "1b54d33d",
   "metadata": {},
   "outputs": [],
   "source": [
    "aset = set([1, 2, 3, 4, 5, 6])\n",
    "bset = set([3, 4, 7, 8, 9, 10])"
   ]
  },
  {
   "cell_type": "code",
   "execution_count": 274,
   "id": "a8eca97d",
   "metadata": {},
   "outputs": [
    {
     "name": "stdout",
     "output_type": "stream",
     "text": [
      "Help on class set in module builtins:\n",
      "\n",
      "class set(object)\n",
      " |  set() -> new empty set object\n",
      " |  set(iterable) -> new set object\n",
      " |  \n",
      " |  Build an unordered collection of unique elements.\n",
      " |  \n",
      " |  Methods defined here:\n",
      " |  \n",
      " |  __and__(self, value, /)\n",
      " |      Return self&value.\n",
      " |  \n",
      " |  __contains__(...)\n",
      " |      x.__contains__(y) <==> y in x.\n",
      " |  \n",
      " |  __eq__(self, value, /)\n",
      " |      Return self==value.\n",
      " |  \n",
      " |  __ge__(self, value, /)\n",
      " |      Return self>=value.\n",
      " |  \n",
      " |  __getattribute__(self, name, /)\n",
      " |      Return getattr(self, name).\n",
      " |  \n",
      " |  __gt__(self, value, /)\n",
      " |      Return self>value.\n",
      " |  \n",
      " |  __iand__(self, value, /)\n",
      " |      Return self&=value.\n",
      " |  \n",
      " |  __init__(self, /, *args, **kwargs)\n",
      " |      Initialize self.  See help(type(self)) for accurate signature.\n",
      " |  \n",
      " |  __ior__(self, value, /)\n",
      " |      Return self|=value.\n",
      " |  \n",
      " |  __isub__(self, value, /)\n",
      " |      Return self-=value.\n",
      " |  \n",
      " |  __iter__(self, /)\n",
      " |      Implement iter(self).\n",
      " |  \n",
      " |  __ixor__(self, value, /)\n",
      " |      Return self^=value.\n",
      " |  \n",
      " |  __le__(self, value, /)\n",
      " |      Return self<=value.\n",
      " |  \n",
      " |  __len__(self, /)\n",
      " |      Return len(self).\n",
      " |  \n",
      " |  __lt__(self, value, /)\n",
      " |      Return self<value.\n",
      " |  \n",
      " |  __ne__(self, value, /)\n",
      " |      Return self!=value.\n",
      " |  \n",
      " |  __or__(self, value, /)\n",
      " |      Return self|value.\n",
      " |  \n",
      " |  __rand__(self, value, /)\n",
      " |      Return value&self.\n",
      " |  \n",
      " |  __reduce__(...)\n",
      " |      Return state information for pickling.\n",
      " |  \n",
      " |  __repr__(self, /)\n",
      " |      Return repr(self).\n",
      " |  \n",
      " |  __ror__(self, value, /)\n",
      " |      Return value|self.\n",
      " |  \n",
      " |  __rsub__(self, value, /)\n",
      " |      Return value-self.\n",
      " |  \n",
      " |  __rxor__(self, value, /)\n",
      " |      Return value^self.\n",
      " |  \n",
      " |  __sizeof__(...)\n",
      " |      S.__sizeof__() -> size of S in memory, in bytes\n",
      " |  \n",
      " |  __sub__(self, value, /)\n",
      " |      Return self-value.\n",
      " |  \n",
      " |  __xor__(self, value, /)\n",
      " |      Return self^value.\n",
      " |  \n",
      " |  add(...)\n",
      " |      Add an element to a set.\n",
      " |      \n",
      " |      This has no effect if the element is already present.\n",
      " |  \n",
      " |  clear(...)\n",
      " |      Remove all elements from this set.\n",
      " |  \n",
      " |  copy(...)\n",
      " |      Return a shallow copy of a set.\n",
      " |  \n",
      " |  difference(...)\n",
      " |      Return the difference of two or more sets as a new set.\n",
      " |      \n",
      " |      (i.e. all elements that are in this set but not the others.)\n",
      " |  \n",
      " |  difference_update(...)\n",
      " |      Remove all elements of another set from this set.\n",
      " |  \n",
      " |  discard(...)\n",
      " |      Remove an element from a set if it is a member.\n",
      " |      \n",
      " |      If the element is not a member, do nothing.\n",
      " |  \n",
      " |  intersection(...)\n",
      " |      Return the intersection of two sets as a new set.\n",
      " |      \n",
      " |      (i.e. all elements that are in both sets.)\n",
      " |  \n",
      " |  intersection_update(...)\n",
      " |      Update a set with the intersection of itself and another.\n",
      " |  \n",
      " |  isdisjoint(...)\n",
      " |      Return True if two sets have a null intersection.\n",
      " |  \n",
      " |  issubset(...)\n",
      " |      Report whether another set contains this set.\n",
      " |  \n",
      " |  issuperset(...)\n",
      " |      Report whether this set contains another set.\n",
      " |  \n",
      " |  pop(...)\n",
      " |      Remove and return an arbitrary set element.\n",
      " |      Raises KeyError if the set is empty.\n",
      " |  \n",
      " |  remove(...)\n",
      " |      Remove an element from a set; it must be a member.\n",
      " |      \n",
      " |      If the element is not a member, raise a KeyError.\n",
      " |  \n",
      " |  symmetric_difference(...)\n",
      " |      Return the symmetric difference of two sets as a new set.\n",
      " |      \n",
      " |      (i.e. all elements that are in exactly one of the sets.)\n",
      " |  \n",
      " |  symmetric_difference_update(...)\n",
      " |      Update a set with the symmetric difference of itself and another.\n",
      " |  \n",
      " |  union(...)\n",
      " |      Return the union of sets as a new set.\n",
      " |      \n",
      " |      (i.e. all elements that are in either set.)\n",
      " |  \n",
      " |  update(...)\n",
      " |      Update a set with the union of itself and others.\n",
      " |  \n",
      " |  ----------------------------------------------------------------------\n",
      " |  Class methods defined here:\n",
      " |  \n",
      " |  __class_getitem__(...) from builtins.type\n",
      " |      See PEP 585\n",
      " |  \n",
      " |  ----------------------------------------------------------------------\n",
      " |  Static methods defined here:\n",
      " |  \n",
      " |  __new__(*args, **kwargs) from builtins.type\n",
      " |      Create and return a new object.  See help(type) for accurate signature.\n",
      " |  \n",
      " |  ----------------------------------------------------------------------\n",
      " |  Data and other attributes defined here:\n",
      " |  \n",
      " |  __hash__ = None\n",
      "\n"
     ]
    }
   ],
   "source": [
    "# set operations\n",
    "help(set)"
   ]
  },
  {
   "cell_type": "code",
   "execution_count": 275,
   "id": "d9f53dd1",
   "metadata": {},
   "outputs": [
    {
     "data": {
      "text/plain": [
       "{1, 2, 5, 6}"
      ]
     },
     "execution_count": 275,
     "metadata": {},
     "output_type": "execute_result"
    }
   ],
   "source": [
    "aset.difference(bset)"
   ]
  },
  {
   "cell_type": "code",
   "execution_count": 276,
   "id": "6a8b0008",
   "metadata": {},
   "outputs": [
    {
     "data": {
      "text/plain": [
       "{1, 2, 5, 6}"
      ]
     },
     "execution_count": 276,
     "metadata": {},
     "output_type": "execute_result"
    }
   ],
   "source": [
    "# operator for difference\n",
    "aset - bset"
   ]
  },
  {
   "cell_type": "code",
   "execution_count": 277,
   "id": "397279d5",
   "metadata": {},
   "outputs": [
    {
     "data": {
      "text/plain": [
       "{3, 4}"
      ]
     },
     "execution_count": 277,
     "metadata": {},
     "output_type": "execute_result"
    }
   ],
   "source": [
    "aset.intersection(bset)"
   ]
  },
  {
   "cell_type": "code",
   "execution_count": 278,
   "id": "70d46795",
   "metadata": {},
   "outputs": [
    {
     "data": {
      "text/plain": [
       "{3, 4}"
      ]
     },
     "execution_count": 278,
     "metadata": {},
     "output_type": "execute_result"
    }
   ],
   "source": [
    "# operator for intersection\n",
    "aset & bset"
   ]
  },
  {
   "cell_type": "code",
   "execution_count": 279,
   "id": "e2a912a8",
   "metadata": {},
   "outputs": [
    {
     "data": {
      "text/plain": [
       "{1, 2, 5, 6, 7, 8, 9, 10}"
      ]
     },
     "execution_count": 279,
     "metadata": {},
     "output_type": "execute_result"
    }
   ],
   "source": [
    "aset.symmetric_difference(bset)"
   ]
  },
  {
   "cell_type": "code",
   "execution_count": 280,
   "id": "d928186d",
   "metadata": {},
   "outputs": [
    {
     "data": {
      "text/plain": [
       "{1, 2, 5, 6, 7, 8, 9, 10}"
      ]
     },
     "execution_count": 280,
     "metadata": {},
     "output_type": "execute_result"
    }
   ],
   "source": [
    "# operator for symmetric difference\n",
    "aset ^ bset"
   ]
  },
  {
   "cell_type": "code",
   "execution_count": 281,
   "id": "d7888d48",
   "metadata": {},
   "outputs": [
    {
     "data": {
      "text/plain": [
       "{1, 2, 3, 4, 5, 6, 7, 8, 9, 10}"
      ]
     },
     "execution_count": 281,
     "metadata": {},
     "output_type": "execute_result"
    }
   ],
   "source": [
    "aset.union(bset)"
   ]
  },
  {
   "cell_type": "code",
   "execution_count": 282,
   "id": "28d38ae2",
   "metadata": {},
   "outputs": [
    {
     "data": {
      "text/plain": [
       "{1, 2, 3, 4, 5, 6, 7, 8, 9, 10}"
      ]
     },
     "execution_count": 282,
     "metadata": {},
     "output_type": "execute_result"
    }
   ],
   "source": [
    "# union operator\n",
    "aset | bset"
   ]
  },
  {
   "cell_type": "markdown",
   "id": "7ac7db8e",
   "metadata": {},
   "source": [
    "## Stack\n",
    "\n",
    "- **Last In First Out** data structure\n",
    "- Python doesn't provide stack datastructure; but **list** can be easily adapted as stack\n",
    "    - use append() to push\n",
    "    - use pop() to pop the last element pushed\n",
    "- extend List class to create Stack class\n",
    "    - we'll learn that in \"When Objects are Alike (Inheritance)\" chapter"
   ]
  },
  {
   "cell_type": "code",
   "execution_count": 283,
   "id": "46af10ce",
   "metadata": {},
   "outputs": [],
   "source": [
    "stack = list()"
   ]
  },
  {
   "cell_type": "code",
   "execution_count": 284,
   "id": "ad1d4252",
   "metadata": {},
   "outputs": [],
   "source": [
    "stack.append(1)\n",
    "stack.append(2)\n",
    "stack.append((3, 4))"
   ]
  },
  {
   "cell_type": "code",
   "execution_count": 285,
   "id": "dca5a885",
   "metadata": {},
   "outputs": [
    {
     "data": {
      "text/plain": [
       "(3, 4)"
      ]
     },
     "execution_count": 285,
     "metadata": {},
     "output_type": "execute_result"
    }
   ],
   "source": [
    "stack.pop()"
   ]
  },
  {
   "cell_type": "code",
   "execution_count": 286,
   "id": "701cf7d7",
   "metadata": {},
   "outputs": [
    {
     "data": {
      "text/plain": [
       "2"
      ]
     },
     "execution_count": 286,
     "metadata": {},
     "output_type": "execute_result"
    }
   ],
   "source": [
    "stack.pop()"
   ]
  },
  {
   "cell_type": "code",
   "execution_count": 287,
   "id": "9106a258",
   "metadata": {},
   "outputs": [
    {
     "data": {
      "text/plain": [
       "1"
      ]
     },
     "execution_count": 287,
     "metadata": {},
     "output_type": "execute_result"
    }
   ],
   "source": [
    "stack.pop()"
   ]
  },
  {
   "cell_type": "markdown",
   "id": "00217690",
   "metadata": {},
   "source": [
    "## Queues\n",
    "\n",
    "- **First In First Out (FIFIO)** data structure\n",
    "- Python doesn't provide queue data structure; but list can be easily adapted to use it as a queue\n",
    "- `queue` module provide queue often used for multithreading\n",
    "- there are three important types of queues:\n",
    "    1. simple queue using `append()` and `pop()` on list\n",
    "    2. double ended queue (deque) from collections.deque\n",
    "    3. heapq (priority queue) from heapq module\n",
    "        - creates min pririty queue; smaller values have higher priorities\n",
    "\n",
    "- extend List class to create Queue class\n",
    "    - we'll learn that in \"When Objects are Alike (Inheritance)\" chapter"
   ]
  },
  {
   "cell_type": "code",
   "execution_count": 291,
   "id": "12ada69f",
   "metadata": {},
   "outputs": [],
   "source": [
    "q = list()"
   ]
  },
  {
   "cell_type": "code",
   "execution_count": 292,
   "id": "d12e7677",
   "metadata": {},
   "outputs": [],
   "source": [
    "q.append(1)"
   ]
  },
  {
   "cell_type": "code",
   "execution_count": 293,
   "id": "053b5afd",
   "metadata": {},
   "outputs": [],
   "source": [
    "q.append(2)"
   ]
  },
  {
   "cell_type": "code",
   "execution_count": 294,
   "id": "f4aa2c37",
   "metadata": {},
   "outputs": [],
   "source": [
    "q.append((3, 4))"
   ]
  },
  {
   "cell_type": "code",
   "execution_count": 295,
   "id": "8b4eed97",
   "metadata": {},
   "outputs": [
    {
     "data": {
      "text/plain": [
       "1"
      ]
     },
     "execution_count": 295,
     "metadata": {},
     "output_type": "execute_result"
    }
   ],
   "source": [
    "q.pop(0)"
   ]
  },
  {
   "cell_type": "code",
   "execution_count": 296,
   "id": "614f9e8b",
   "metadata": {},
   "outputs": [
    {
     "data": {
      "text/plain": [
       "2"
      ]
     },
     "execution_count": 296,
     "metadata": {},
     "output_type": "execute_result"
    }
   ],
   "source": [
    "q.pop(0)"
   ]
  },
  {
   "cell_type": "code",
   "execution_count": 297,
   "id": "e733fff4",
   "metadata": {},
   "outputs": [
    {
     "data": {
      "text/plain": [
       "(3, 4)"
      ]
     },
     "execution_count": 297,
     "metadata": {},
     "output_type": "execute_result"
    }
   ],
   "source": [
    "q.pop(0)"
   ]
  },
  {
   "cell_type": "code",
   "execution_count": 299,
   "id": "009e3023",
   "metadata": {},
   "outputs": [],
   "source": [
    "from collections import deque"
   ]
  },
  {
   "cell_type": "code",
   "execution_count": 300,
   "id": "c20b3ff1",
   "metadata": {},
   "outputs": [
    {
     "name": "stdout",
     "output_type": "stream",
     "text": [
      "Help on class deque in module collections:\n",
      "\n",
      "class deque(builtins.object)\n",
      " |  deque([iterable[, maxlen]]) --> deque object\n",
      " |  \n",
      " |  A list-like sequence optimized for data accesses near its endpoints.\n",
      " |  \n",
      " |  Methods defined here:\n",
      " |  \n",
      " |  __add__(self, value, /)\n",
      " |      Return self+value.\n",
      " |  \n",
      " |  __bool__(self, /)\n",
      " |      True if self else False\n",
      " |  \n",
      " |  __contains__(self, key, /)\n",
      " |      Return key in self.\n",
      " |  \n",
      " |  __copy__(...)\n",
      " |      Return a shallow copy of a deque.\n",
      " |  \n",
      " |  __delitem__(self, key, /)\n",
      " |      Delete self[key].\n",
      " |  \n",
      " |  __eq__(self, value, /)\n",
      " |      Return self==value.\n",
      " |  \n",
      " |  __ge__(self, value, /)\n",
      " |      Return self>=value.\n",
      " |  \n",
      " |  __getattribute__(self, name, /)\n",
      " |      Return getattr(self, name).\n",
      " |  \n",
      " |  __getitem__(self, key, /)\n",
      " |      Return self[key].\n",
      " |  \n",
      " |  __gt__(self, value, /)\n",
      " |      Return self>value.\n",
      " |  \n",
      " |  __iadd__(self, value, /)\n",
      " |      Implement self+=value.\n",
      " |  \n",
      " |  __imul__(self, value, /)\n",
      " |      Implement self*=value.\n",
      " |  \n",
      " |  __init__(self, /, *args, **kwargs)\n",
      " |      Initialize self.  See help(type(self)) for accurate signature.\n",
      " |  \n",
      " |  __iter__(self, /)\n",
      " |      Implement iter(self).\n",
      " |  \n",
      " |  __le__(self, value, /)\n",
      " |      Return self<=value.\n",
      " |  \n",
      " |  __len__(self, /)\n",
      " |      Return len(self).\n",
      " |  \n",
      " |  __lt__(self, value, /)\n",
      " |      Return self<value.\n",
      " |  \n",
      " |  __mul__(self, value, /)\n",
      " |      Return self*value.\n",
      " |  \n",
      " |  __ne__(self, value, /)\n",
      " |      Return self!=value.\n",
      " |  \n",
      " |  __reduce__(...)\n",
      " |      Return state information for pickling.\n",
      " |  \n",
      " |  __repr__(self, /)\n",
      " |      Return repr(self).\n",
      " |  \n",
      " |  __reversed__(...)\n",
      " |      D.__reversed__() -- return a reverse iterator over the deque\n",
      " |  \n",
      " |  __rmul__(self, value, /)\n",
      " |      Return value*self.\n",
      " |  \n",
      " |  __setitem__(self, key, value, /)\n",
      " |      Set self[key] to value.\n",
      " |  \n",
      " |  __sizeof__(...)\n",
      " |      D.__sizeof__() -- size of D in memory, in bytes\n",
      " |  \n",
      " |  append(...)\n",
      " |      Add an element to the right side of the deque.\n",
      " |  \n",
      " |  appendleft(...)\n",
      " |      Add an element to the left side of the deque.\n",
      " |  \n",
      " |  clear(...)\n",
      " |      Remove all elements from the deque.\n",
      " |  \n",
      " |  copy(...)\n",
      " |      Return a shallow copy of a deque.\n",
      " |  \n",
      " |  count(...)\n",
      " |      D.count(value) -> integer -- return number of occurrences of value\n",
      " |  \n",
      " |  extend(...)\n",
      " |      Extend the right side of the deque with elements from the iterable\n",
      " |  \n",
      " |  extendleft(...)\n",
      " |      Extend the left side of the deque with elements from the iterable\n",
      " |  \n",
      " |  index(...)\n",
      " |      D.index(value, [start, [stop]]) -> integer -- return first index of value.\n",
      " |      Raises ValueError if the value is not present.\n",
      " |  \n",
      " |  insert(...)\n",
      " |      D.insert(index, object) -- insert object before index\n",
      " |  \n",
      " |  pop(...)\n",
      " |      Remove and return the rightmost element.\n",
      " |  \n",
      " |  popleft(...)\n",
      " |      Remove and return the leftmost element.\n",
      " |  \n",
      " |  remove(...)\n",
      " |      D.remove(value) -- remove first occurrence of value.\n",
      " |  \n",
      " |  reverse(...)\n",
      " |      D.reverse() -- reverse *IN PLACE*\n",
      " |  \n",
      " |  rotate(...)\n",
      " |      Rotate the deque n steps to the right (default n=1).  If n is negative, rotates left.\n",
      " |  \n",
      " |  ----------------------------------------------------------------------\n",
      " |  Class methods defined here:\n",
      " |  \n",
      " |  __class_getitem__(...) from builtins.type\n",
      " |      See PEP 585\n",
      " |  \n",
      " |  ----------------------------------------------------------------------\n",
      " |  Static methods defined here:\n",
      " |  \n",
      " |  __new__(*args, **kwargs) from builtins.type\n",
      " |      Create and return a new object.  See help(type) for accurate signature.\n",
      " |  \n",
      " |  ----------------------------------------------------------------------\n",
      " |  Data descriptors defined here:\n",
      " |  \n",
      " |  maxlen\n",
      " |      maximum size of a deque or None if unbounded\n",
      " |  \n",
      " |  ----------------------------------------------------------------------\n",
      " |  Data and other attributes defined here:\n",
      " |  \n",
      " |  __hash__ = None\n",
      "\n"
     ]
    }
   ],
   "source": [
    "help(deque)"
   ]
  },
  {
   "cell_type": "code",
   "execution_count": 301,
   "id": "570ead1b",
   "metadata": {},
   "outputs": [],
   "source": [
    "deq = deque()"
   ]
  },
  {
   "cell_type": "code",
   "execution_count": 302,
   "id": "f8d1b76e",
   "metadata": {},
   "outputs": [],
   "source": [
    "deq.append(10)"
   ]
  },
  {
   "cell_type": "code",
   "execution_count": 303,
   "id": "0919f10b",
   "metadata": {},
   "outputs": [],
   "source": [
    "deq.appendleft(9)"
   ]
  },
  {
   "cell_type": "code",
   "execution_count": 304,
   "id": "cf08743e",
   "metadata": {},
   "outputs": [
    {
     "data": {
      "text/plain": [
       "deque([9, 10])"
      ]
     },
     "execution_count": 304,
     "metadata": {},
     "output_type": "execute_result"
    }
   ],
   "source": [
    "deq"
   ]
  },
  {
   "cell_type": "code",
   "execution_count": 305,
   "id": "895b7cca",
   "metadata": {},
   "outputs": [],
   "source": [
    "deq.insert(0, 100)"
   ]
  },
  {
   "cell_type": "code",
   "execution_count": 306,
   "id": "b2e3599c",
   "metadata": {},
   "outputs": [
    {
     "data": {
      "text/plain": [
       "deque([100, 9, 10])"
      ]
     },
     "execution_count": 306,
     "metadata": {},
     "output_type": "execute_result"
    }
   ],
   "source": [
    "deq"
   ]
  },
  {
   "cell_type": "code",
   "execution_count": 307,
   "id": "633f3b6d",
   "metadata": {},
   "outputs": [
    {
     "data": {
      "text/plain": [
       "10"
      ]
     },
     "execution_count": 307,
     "metadata": {},
     "output_type": "execute_result"
    }
   ],
   "source": [
    "deq.pop()"
   ]
  },
  {
   "cell_type": "code",
   "execution_count": 308,
   "id": "fa1e7c84",
   "metadata": {},
   "outputs": [
    {
     "data": {
      "text/plain": [
       "100"
      ]
     },
     "execution_count": 308,
     "metadata": {},
     "output_type": "execute_result"
    }
   ],
   "source": [
    "deq.popleft()"
   ]
  },
  {
   "cell_type": "code",
   "execution_count": 309,
   "id": "64498cc8",
   "metadata": {},
   "outputs": [],
   "source": [
    "import heapq"
   ]
  },
  {
   "cell_type": "code",
   "execution_count": 310,
   "id": "bf0c185b",
   "metadata": {},
   "outputs": [
    {
     "name": "stdout",
     "output_type": "stream",
     "text": [
      "Help on module heapq:\n",
      "\n",
      "NAME\n",
      "    heapq - Heap queue algorithm (a.k.a. priority queue).\n",
      "\n",
      "MODULE REFERENCE\n",
      "    https://docs.python.org/3.10/library/heapq.html\n",
      "    \n",
      "    The following documentation is automatically generated from the Python\n",
      "    source files.  It may be incomplete, incorrect or include features that\n",
      "    are considered implementation detail and may vary between Python\n",
      "    implementations.  When in doubt, consult the module reference at the\n",
      "    location listed above.\n",
      "\n",
      "DESCRIPTION\n",
      "    Heaps are arrays for which a[k] <= a[2*k+1] and a[k] <= a[2*k+2] for\n",
      "    all k, counting elements from 0.  For the sake of comparison,\n",
      "    non-existing elements are considered to be infinite.  The interesting\n",
      "    property of a heap is that a[0] is always its smallest element.\n",
      "    \n",
      "    Usage:\n",
      "    \n",
      "    heap = []            # creates an empty heap\n",
      "    heappush(heap, item) # pushes a new item on the heap\n",
      "    item = heappop(heap) # pops the smallest item from the heap\n",
      "    item = heap[0]       # smallest item on the heap without popping it\n",
      "    heapify(x)           # transforms list into a heap, in-place, in linear time\n",
      "    item = heapreplace(heap, item) # pops and returns smallest item, and adds\n",
      "                                   # new item; the heap size is unchanged\n",
      "    \n",
      "    Our API differs from textbook heap algorithms as follows:\n",
      "    \n",
      "    - We use 0-based indexing.  This makes the relationship between the\n",
      "      index for a node and the indexes for its children slightly less\n",
      "      obvious, but is more suitable since Python uses 0-based indexing.\n",
      "    \n",
      "    - Our heappop() method returns the smallest item, not the largest.\n",
      "    \n",
      "    These two make it possible to view the heap as a regular Python list\n",
      "    without surprises: heap[0] is the smallest item, and heap.sort()\n",
      "    maintains the heap invariant!\n",
      "\n",
      "FUNCTIONS\n",
      "    heapify(heap, /)\n",
      "        Transform list into a heap, in-place, in O(len(heap)) time.\n",
      "    \n",
      "    heappop(heap, /)\n",
      "        Pop the smallest item off the heap, maintaining the heap invariant.\n",
      "    \n",
      "    heappush(heap, item, /)\n",
      "        Push item onto heap, maintaining the heap invariant.\n",
      "    \n",
      "    heappushpop(heap, item, /)\n",
      "        Push item on the heap, then pop and return the smallest item from the heap.\n",
      "        \n",
      "        The combined action runs more efficiently than heappush() followed by\n",
      "        a separate call to heappop().\n",
      "    \n",
      "    heapreplace(heap, item, /)\n",
      "        Pop and return the current smallest value, and add the new item.\n",
      "        \n",
      "        This is more efficient than heappop() followed by heappush(), and can be\n",
      "        more appropriate when using a fixed-size heap.  Note that the value\n",
      "        returned may be larger than item!  That constrains reasonable uses of\n",
      "        this routine unless written as part of a conditional replacement:\n",
      "        \n",
      "            if item > heap[0]:\n",
      "                item = heapreplace(heap, item)\n",
      "    \n",
      "    merge(*iterables, key=None, reverse=False)\n",
      "        Merge multiple sorted inputs into a single sorted output.\n",
      "        \n",
      "        Similar to sorted(itertools.chain(*iterables)) but returns a generator,\n",
      "        does not pull the data into memory all at once, and assumes that each of\n",
      "        the input streams is already sorted (smallest to largest).\n",
      "        \n",
      "        >>> list(merge([1,3,5,7], [0,2,4,8], [5,10,15,20], [], [25]))\n",
      "        [0, 1, 2, 3, 4, 5, 5, 7, 8, 10, 15, 20, 25]\n",
      "        \n",
      "        If *key* is not None, applies a key function to each element to determine\n",
      "        its sort order.\n",
      "        \n",
      "        >>> list(merge(['dog', 'horse'], ['cat', 'fish', 'kangaroo'], key=len))\n",
      "        ['dog', 'cat', 'fish', 'horse', 'kangaroo']\n",
      "    \n",
      "    nlargest(n, iterable, key=None)\n",
      "        Find the n largest elements in a dataset.\n",
      "        \n",
      "        Equivalent to:  sorted(iterable, key=key, reverse=True)[:n]\n",
      "    \n",
      "    nsmallest(n, iterable, key=None)\n",
      "        Find the n smallest elements in a dataset.\n",
      "        \n",
      "        Equivalent to:  sorted(iterable, key=key)[:n]\n",
      "\n",
      "DATA\n",
      "    __about__ = 'Heap queues\\n\\n[explanation by François Pinard]\\n\\nH... t...\n",
      "    __all__ = ['heappush', 'heappop', 'heapify', 'heapreplace', 'merge', '...\n",
      "\n",
      "FILE\n",
      "    /opt/anaconda3/envs/py/lib/python3.10/heapq.py\n",
      "\n",
      "\n"
     ]
    }
   ],
   "source": [
    "help(heapq)"
   ]
  },
  {
   "cell_type": "code",
   "execution_count": 318,
   "id": "ce26c84a",
   "metadata": {},
   "outputs": [],
   "source": [
    "heap = []"
   ]
  },
  {
   "cell_type": "code",
   "execution_count": 319,
   "id": "0734aafb",
   "metadata": {},
   "outputs": [],
   "source": [
    "heapq.heappush(heap, (10, 'Go to Work'))"
   ]
  },
  {
   "cell_type": "code",
   "execution_count": 320,
   "id": "26ed2c67",
   "metadata": {},
   "outputs": [],
   "source": [
    "heapq.heappush(heap, (5, 'Eat Breakfast'))"
   ]
  },
  {
   "cell_type": "code",
   "execution_count": 322,
   "id": "1e36bfb1",
   "metadata": {},
   "outputs": [],
   "source": [
    "heapq.heappush(heap, (1, 'Wake up'))"
   ]
  },
  {
   "cell_type": "code",
   "execution_count": 323,
   "id": "22b55f53",
   "metadata": {},
   "outputs": [
    {
     "data": {
      "text/plain": [
       "[(1, 'Wake up'), (10, 'Go to Work'), (5, 'Eat Breakfast')]"
      ]
     },
     "execution_count": 323,
     "metadata": {},
     "output_type": "execute_result"
    }
   ],
   "source": [
    "heap"
   ]
  },
  {
   "cell_type": "code",
   "execution_count": 325,
   "id": "905d3a5f",
   "metadata": {},
   "outputs": [
    {
     "data": {
      "text/plain": [
       "(1, 'Wake up')"
      ]
     },
     "execution_count": 325,
     "metadata": {},
     "output_type": "execute_result"
    }
   ],
   "source": [
    "heapq.heappop(heap)"
   ]
  },
  {
   "cell_type": "code",
   "execution_count": null,
   "id": "55d3be39",
   "metadata": {},
   "outputs": [],
   "source": []
  }
 ],
 "metadata": {
  "kernelspec": {
   "display_name": "Python 3 (ipykernel)",
   "language": "python",
   "name": "python3"
  },
  "language_info": {
   "codemirror_mode": {
    "name": "ipython",
    "version": 3
   },
   "file_extension": ".py",
   "mimetype": "text/x-python",
   "name": "python",
   "nbconvert_exporter": "python",
   "pygments_lexer": "ipython3",
   "version": "3.10.9"
  }
 },
 "nbformat": 4,
 "nbformat_minor": 5
}
