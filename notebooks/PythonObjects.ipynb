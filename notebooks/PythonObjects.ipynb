{
 "cells": [
  {
   "cell_type": "markdown",
   "id": "56a531c0",
   "metadata": {},
   "source": [
    "# Objects In Python\n",
    "- once the design step is completed, we turn those designs into code and a working program\n",
    "\n",
    "## Type Hints\n",
    "- everything in Python is object\n",
    "- Python is dynamically typed language\n",
    "- type of a variable or object is determined during run-time based on the type of data/object the variable is assigned\n",
    "- the built-in `type()` function can be used to know the type of an object"
   ]
  },
  {
   "cell_type": "code",
   "execution_count": 1,
   "id": "111ff52b",
   "metadata": {},
   "outputs": [
    {
     "data": {
      "text/plain": [
       "str"
      ]
     },
     "execution_count": 1,
     "metadata": {},
     "output_type": "execute_result"
    }
   ],
   "source": [
    "type(\"Hello World!\")"
   ]
  },
  {
   "cell_type": "code",
   "execution_count": 2,
   "id": "68896b58",
   "metadata": {},
   "outputs": [
    {
     "data": {
      "text/plain": [
       "int"
      ]
     },
     "execution_count": 2,
     "metadata": {},
     "output_type": "execute_result"
    }
   ],
   "source": [
    "type(42)"
   ]
  },
  {
   "cell_type": "code",
   "execution_count": 3,
   "id": "aea340af",
   "metadata": {},
   "outputs": [
    {
     "data": {
      "text/plain": [
       "float"
      ]
     },
     "execution_count": 3,
     "metadata": {},
     "output_type": "execute_result"
    }
   ],
   "source": [
    "type(1.5)"
   ]
  },
  {
   "cell_type": "code",
   "execution_count": 4,
   "id": "92b25c9a",
   "metadata": {},
   "outputs": [],
   "source": [
    "msg = 'Hello World'"
   ]
  },
  {
   "cell_type": "code",
   "execution_count": 5,
   "id": "3c6f4697",
   "metadata": {},
   "outputs": [
    {
     "data": {
      "text/plain": [
       "str"
      ]
     },
     "execution_count": 5,
     "metadata": {},
     "output_type": "execute_result"
    }
   ],
   "source": [
    "type(msg)"
   ]
  },
  {
   "cell_type": "code",
   "execution_count": 6,
   "id": "3dce5c61",
   "metadata": {},
   "outputs": [],
   "source": [
    "msg = 42"
   ]
  },
  {
   "cell_type": "code",
   "execution_count": 7,
   "id": "fa68829c",
   "metadata": {},
   "outputs": [
    {
     "data": {
      "text/plain": [
       "int"
      ]
     },
     "execution_count": 7,
     "metadata": {},
     "output_type": "execute_result"
    }
   ],
   "source": [
    "type(msg)"
   ]
  },
  {
   "cell_type": "code",
   "execution_count": 8,
   "id": "6f283190",
   "metadata": {},
   "outputs": [],
   "source": [
    "msg = 1.5"
   ]
  },
  {
   "cell_type": "code",
   "execution_count": 9,
   "id": "fdd74f6f",
   "metadata": {},
   "outputs": [
    {
     "data": {
      "text/plain": [
       "float"
      ]
     },
     "execution_count": 9,
     "metadata": {},
     "output_type": "execute_result"
    }
   ],
   "source": [
    "type(msg)"
   ]
  },
  {
   "cell_type": "code",
   "execution_count": 10,
   "id": "c3c53b4b",
   "metadata": {},
   "outputs": [
    {
     "data": {
      "text/plain": [
       "139867419825168"
      ]
     },
     "execution_count": 10,
     "metadata": {},
     "output_type": "execute_result"
    }
   ],
   "source": [
    "id(msg)"
   ]
  },
  {
   "cell_type": "markdown",
   "id": "cead2cc7",
   "metadata": {},
   "source": [
    "## Type checking\n",
    "- issue with dynamic typing and operations"
   ]
  },
  {
   "cell_type": "code",
   "execution_count": 11,
   "id": "1cd6ca70",
   "metadata": {},
   "outputs": [],
   "source": [
    "def odd(n):\n",
    "    return n%2 == 1"
   ]
  },
  {
   "cell_type": "code",
   "execution_count": 12,
   "id": "0ef20da1",
   "metadata": {},
   "outputs": [
    {
     "data": {
      "text/plain": [
       "True"
      ]
     },
     "execution_count": 12,
     "metadata": {},
     "output_type": "execute_result"
    }
   ],
   "source": [
    "odd(3)"
   ]
  },
  {
   "cell_type": "code",
   "execution_count": 13,
   "id": "9e8486e1",
   "metadata": {},
   "outputs": [
    {
     "data": {
      "text/plain": [
       "False"
      ]
     },
     "execution_count": 13,
     "metadata": {},
     "output_type": "execute_result"
    }
   ],
   "source": [
    "odd(4)"
   ]
  },
  {
   "cell_type": "code",
   "execution_count": 14,
   "id": "d6994414",
   "metadata": {},
   "outputs": [
    {
     "ename": "TypeError",
     "evalue": "not all arguments converted during string formatting",
     "output_type": "error",
     "traceback": [
      "\u001b[0;31m---------------------------------------------------------------------------\u001b[0m",
      "\u001b[0;31mTypeError\u001b[0m                                 Traceback (most recent call last)",
      "Cell \u001b[0;32mIn[14], line 2\u001b[0m\n\u001b[1;32m      1\u001b[0m \u001b[38;5;66;03m# what about odd of str\u001b[39;00m\n\u001b[0;32m----> 2\u001b[0m \u001b[43modd\u001b[49m\u001b[43m(\u001b[49m\u001b[38;5;124;43m'\u001b[39;49m\u001b[38;5;124;43mHello World\u001b[39;49m\u001b[38;5;124;43m'\u001b[39;49m\u001b[43m)\u001b[49m\n",
      "Cell \u001b[0;32mIn[11], line 2\u001b[0m, in \u001b[0;36modd\u001b[0;34m(n)\u001b[0m\n\u001b[1;32m      1\u001b[0m \u001b[38;5;28;01mdef\u001b[39;00m \u001b[38;5;21modd\u001b[39m(n):\n\u001b[0;32m----> 2\u001b[0m     \u001b[38;5;28;01mreturn\u001b[39;00m \u001b[43mn\u001b[49m\u001b[38;5;241;43m%\u001b[39;49m\u001b[38;5;241;43m2\u001b[39;49m \u001b[38;5;241m==\u001b[39m \u001b[38;5;241m1\u001b[39m\n",
      "\u001b[0;31mTypeError\u001b[0m: not all arguments converted during string formatting"
     ]
    }
   ],
   "source": [
    "# what about odd of str\n",
    "odd('Hello World')"
   ]
  },
  {
   "cell_type": "code",
   "execution_count": 15,
   "id": "e885563f",
   "metadata": {},
   "outputs": [],
   "source": [
    "# redefining odd using type hint\n",
    "def odd(n: int) -> bool:\n",
    "    return n%2 == 1"
   ]
  },
  {
   "cell_type": "code",
   "execution_count": 16,
   "id": "449f7d30",
   "metadata": {},
   "outputs": [
    {
     "data": {
      "text/plain": [
       "False"
      ]
     },
     "execution_count": 16,
     "metadata": {},
     "output_type": "execute_result"
    }
   ],
   "source": [
    "odd(10)"
   ]
  },
  {
   "cell_type": "code",
   "execution_count": 17,
   "id": "7359276c",
   "metadata": {},
   "outputs": [
    {
     "ename": "TypeError",
     "evalue": "not all arguments converted during string formatting",
     "output_type": "error",
     "traceback": [
      "\u001b[0;31m---------------------------------------------------------------------------\u001b[0m",
      "\u001b[0;31mTypeError\u001b[0m                                 Traceback (most recent call last)",
      "Cell \u001b[0;32mIn[17], line 1\u001b[0m\n\u001b[0;32m----> 1\u001b[0m \u001b[43modd\u001b[49m\u001b[43m(\u001b[49m\u001b[38;5;124;43m'\u001b[39;49m\u001b[38;5;124;43mhi\u001b[39;49m\u001b[38;5;124;43m'\u001b[39;49m\u001b[43m)\u001b[49m\n",
      "Cell \u001b[0;32mIn[15], line 3\u001b[0m, in \u001b[0;36modd\u001b[0;34m(n)\u001b[0m\n\u001b[1;32m      2\u001b[0m \u001b[38;5;28;01mdef\u001b[39;00m \u001b[38;5;21modd\u001b[39m(n: \u001b[38;5;28mint\u001b[39m) \u001b[38;5;241m-\u001b[39m\u001b[38;5;241m>\u001b[39m \u001b[38;5;28mbool\u001b[39m:\n\u001b[0;32m----> 3\u001b[0m     \u001b[38;5;28;01mreturn\u001b[39;00m \u001b[43mn\u001b[49m\u001b[38;5;241;43m%\u001b[39;49m\u001b[38;5;241;43m2\u001b[39;49m \u001b[38;5;241m==\u001b[39m \u001b[38;5;241m1\u001b[39m\n",
      "\u001b[0;31mTypeError\u001b[0m: not all arguments converted during string formatting"
     ]
    }
   ],
   "source": [
    "odd('hi')"
   ]
  },
  {
   "cell_type": "markdown",
   "id": "1a89e5f3",
   "metadata": {},
   "source": [
    "## mypy tool\n",
    "\n",
    "- [https://mypy-lang.org/](https://mypy-lang.org/)\n",
    "- mypy tool is commonly used to check the Type hints for consistency\n",
    "    - it's an effort to make Python type safe similar to static-typed languages\n",
    "- it's a third-party library that must be installed using `pip` or `conda`\n",
    "- https://mypy.readthedocs.io/en/stable/getting_started.html#\n",
    "- if you use `--strict mode`, you'll never get a run-time error in Python unless you explicitly circumvent `mypy`!!\n",
    "- use `--disallow-untyped-defs` to warn if you add dynamic functions by mistake "
   ]
  },
  {
   "cell_type": "code",
   "execution_count": 18,
   "id": "613406fc",
   "metadata": {},
   "outputs": [
    {
     "name": "stdout",
     "output_type": "stream",
     "text": [
      "/usr/bin/sh: 1: conda: not found\n"
     ]
    }
   ],
   "source": [
    "! conda install mypy"
   ]
  },
  {
   "cell_type": "code",
   "execution_count": 19,
   "id": "624c6a9f",
   "metadata": {},
   "outputs": [
    {
     "name": "stdout",
     "output_type": "stream",
     "text": [
      "\"\"\"\n",
      "Python 3 Object-Oriented Programming 4th ed.\n",
      "Chapter 2, Objects in Python.\n",
      "NOTE. Remove the ``# type: ignore`` comments to reproduce examples in the text.\n",
      "\"\"\"\n",
      "#from __future__ import annotations\n",
      "# annotations is required for Python 3.7 and earlier for generic types\n",
      "\n",
      "def odd(n): # dynamic typing\n",
      "    return n % 2 != 0\n",
      "\n",
      "def add(arg1, arg2):\n",
      "    return arg1+arg2\n",
      "\n",
      "def main():\n",
      "    print(odd(\"Hello, world!\"))\n",
      "\n",
      "\n",
      "if __name__ == \"__main__\":\n",
      "    main()\n",
      "    print(add(1, 2))\n",
      "    print(add(\"Hello\", 1))\n",
      "\n"
     ]
    }
   ],
   "source": [
    "! cat src/objects/bad_hints.py"
   ]
  },
  {
   "cell_type": "code",
   "execution_count": 20,
   "id": "03e44e96",
   "metadata": {},
   "outputs": [
    {
     "name": "stdout",
     "output_type": "stream",
     "text": [
      "\u001b[1m\u001b[32mSuccess: no issues found in 1 source file\u001b[m\n"
     ]
    }
   ],
   "source": [
    "# technically there should be errors, but ...\n",
    "! mypy src/objects/bad_hints.py"
   ]
  },
  {
   "cell_type": "code",
   "execution_count": 23,
   "id": "a2ee4b55",
   "metadata": {},
   "outputs": [
    {
     "name": "stdout",
     "output_type": "stream",
     "text": [
      "src/objects/bad_hints.py:9: \u001b[1m\u001b[31merror:\u001b[m Function is missing a type annotation  \u001b[m\u001b[33m[no-untyped-def]\u001b[m\n",
      "src/objects/bad_hints.py:12: \u001b[1m\u001b[31merror:\u001b[m Function is missing a type annotation  \u001b[m\u001b[33m[no-untyped-def]\u001b[m\n",
      "src/objects/bad_hints.py:15: \u001b[1m\u001b[31merror:\u001b[m Function is missing a return type annotation  \u001b[m\u001b[33m[no-untyped-def]\u001b[m\n",
      "src/objects/bad_hints.py:15: \u001b[34mnote:\u001b[m Use \u001b[m\u001b[1m\"-> None\"\u001b[m if function does not return a value\u001b[m\n",
      "\u001b[1m\u001b[31mFound 3 errors in 1 file (checked 1 source file)\u001b[m\n"
     ]
    }
   ],
   "source": [
    "! mypy --disallow-untyped-defs src/objects/bad_hints.py"
   ]
  },
  {
   "cell_type": "code",
   "execution_count": 24,
   "id": "314e3d92",
   "metadata": {},
   "outputs": [
    {
     "name": "stdout",
     "output_type": "stream",
     "text": [
      "\u001b[1m\u001b[32mSuccess: no issues found in 1 source file\u001b[m\n"
     ]
    }
   ],
   "source": [
    "! mypy --strict src/objects/good_hints.py"
   ]
  },
  {
   "cell_type": "markdown",
   "id": "81049542",
   "metadata": {},
   "source": [
    "## Creating Python classes\n",
    "- use `class` keyword to define a Python class\n",
    "- class helps essentially create new **type**\n",
    "- class is a synonym for type\n",
    "- class name must follow standard Python variable naming rules:\n",
    "    - it must start with a letter or underscore\n",
    "    - can only be comprised of letters, underscores, or numbers.\n",
    "    - the Python style guide (PEP 8) recommends using CapWords for the class name"
   ]
  },
  {
   "cell_type": "code",
   "execution_count": 25,
   "id": "11ab6b8a",
   "metadata": {},
   "outputs": [],
   "source": [
    "class HelloClass:\n",
    "    pass"
   ]
  },
  {
   "cell_type": "code",
   "execution_count": 26,
   "id": "b67626b1",
   "metadata": {},
   "outputs": [],
   "source": [
    "# instantiate objects from HelloClass\n",
    "a = HelloClass()"
   ]
  },
  {
   "cell_type": "code",
   "execution_count": 27,
   "id": "59f24f6f",
   "metadata": {},
   "outputs": [
    {
     "name": "stdout",
     "output_type": "stream",
     "text": [
      "<__main__.HelloClass object at 0x7f35681a40e0>\n"
     ]
    }
   ],
   "source": [
    "print(a)"
   ]
  },
  {
   "cell_type": "code",
   "execution_count": 28,
   "id": "a380e42d",
   "metadata": {},
   "outputs": [],
   "source": [
    "b = HelloClass()"
   ]
  },
  {
   "cell_type": "code",
   "execution_count": 29,
   "id": "85c8ef81",
   "metadata": {},
   "outputs": [
    {
     "name": "stdout",
     "output_type": "stream",
     "text": [
      "<__main__.HelloClass object at 0x7f35681a66c0>\n"
     ]
    }
   ],
   "source": [
    "print(b)"
   ]
  },
  {
   "cell_type": "code",
   "execution_count": 30,
   "id": "e572bcbc",
   "metadata": {},
   "outputs": [
    {
     "data": {
      "text/plain": [
       "False"
      ]
     },
     "execution_count": 30,
     "metadata": {},
     "output_type": "execute_result"
    }
   ],
   "source": [
    "# a and b are two distinct objects stored at different memory locations\n",
    "a is b"
   ]
  },
  {
   "cell_type": "markdown",
   "id": "1438aadb",
   "metadata": {},
   "source": [
    "## Adding attributes\n",
    "- the HelloClass is syntactically valid but useless\n",
    "- we can dynamically add attributes in Python\n",
    "- let's define a class representing a point in 2-D geometry\n",
    "- use the dot `.` operator to add/access attributes"
   ]
  },
  {
   "cell_type": "code",
   "execution_count": 31,
   "id": "7fb92787",
   "metadata": {},
   "outputs": [],
   "source": [
    "class Point:\n",
    "    pass"
   ]
  },
  {
   "cell_type": "code",
   "execution_count": 32,
   "id": "a562d1b3",
   "metadata": {},
   "outputs": [],
   "source": [
    "p1 = Point()"
   ]
  },
  {
   "cell_type": "code",
   "execution_count": 33,
   "id": "d6b103d5",
   "metadata": {},
   "outputs": [],
   "source": [
    "p2 = Point()"
   ]
  },
  {
   "cell_type": "code",
   "execution_count": 34,
   "id": "395d7fc1",
   "metadata": {},
   "outputs": [],
   "source": [
    "p1.x = 5\n",
    "p1.y = 4"
   ]
  },
  {
   "cell_type": "code",
   "execution_count": 35,
   "id": "07466cf7",
   "metadata": {},
   "outputs": [],
   "source": [
    "p2.x = 3\n",
    "p2.y = 6"
   ]
  },
  {
   "cell_type": "code",
   "execution_count": 36,
   "id": "07ae4534",
   "metadata": {},
   "outputs": [
    {
     "name": "stdout",
     "output_type": "stream",
     "text": [
      "5 4\n"
     ]
    }
   ],
   "source": [
    "print(p1.x, p1.y)"
   ]
  },
  {
   "cell_type": "code",
   "execution_count": 37,
   "id": "b7e85082",
   "metadata": {},
   "outputs": [
    {
     "name": "stdout",
     "output_type": "stream",
     "text": [
      "3 6\n"
     ]
    }
   ],
   "source": [
    "print(p2.x, p2.y)"
   ]
  },
  {
   "cell_type": "markdown",
   "id": "0d83be70",
   "metadata": {},
   "source": [
    "## Making it do something\n",
    "- adding behaviors/methods\n",
    "- `self` is a required parameter which refers to each instance of the class\n",
    "- `self` is essentially replaced by object name"
   ]
  },
  {
   "cell_type": "code",
   "execution_count": 38,
   "id": "7d558260",
   "metadata": {},
   "outputs": [],
   "source": [
    "class Point:\n",
    "    def reset(self):\n",
    "        self.x = 0\n",
    "        self.y = 0\n",
    "        \n",
    "    def reset1(): # not correct!\n",
    "        self.x = 0\n",
    "        self.y = 0"
   ]
  },
  {
   "cell_type": "code",
   "execution_count": 39,
   "id": "ffa5ac7e",
   "metadata": {},
   "outputs": [],
   "source": [
    "p = Point()"
   ]
  },
  {
   "cell_type": "code",
   "execution_count": 40,
   "id": "c7cddd63",
   "metadata": {},
   "outputs": [],
   "source": [
    "p.reset()"
   ]
  },
  {
   "cell_type": "code",
   "execution_count": 41,
   "id": "f86a94af",
   "metadata": {},
   "outputs": [
    {
     "name": "stdout",
     "output_type": "stream",
     "text": [
      "0 0\n"
     ]
    }
   ],
   "source": [
    "print(p.x, p.y)"
   ]
  },
  {
   "cell_type": "code",
   "execution_count": 42,
   "id": "3209be7c",
   "metadata": {},
   "outputs": [
    {
     "ename": "TypeError",
     "evalue": "Point.reset1() takes 0 positional arguments but 1 was given",
     "output_type": "error",
     "traceback": [
      "\u001b[0;31m---------------------------------------------------------------------------\u001b[0m",
      "\u001b[0;31mTypeError\u001b[0m                                 Traceback (most recent call last)",
      "Cell \u001b[0;32mIn[42], line 1\u001b[0m\n\u001b[0;32m----> 1\u001b[0m \u001b[43mp\u001b[49m\u001b[38;5;241;43m.\u001b[39;49m\u001b[43mreset1\u001b[49m\u001b[43m(\u001b[49m\u001b[43m)\u001b[49m\n",
      "\u001b[0;31mTypeError\u001b[0m: Point.reset1() takes 0 positional arguments but 1 was given"
     ]
    }
   ],
   "source": [
    "p.reset1()"
   ]
  },
  {
   "cell_type": "code",
   "execution_count": 43,
   "id": "492bd438",
   "metadata": {},
   "outputs": [
    {
     "ename": "NameError",
     "evalue": "name 'self' is not defined",
     "output_type": "error",
     "traceback": [
      "\u001b[0;31m---------------------------------------------------------------------------\u001b[0m",
      "\u001b[0;31mNameError\u001b[0m                                 Traceback (most recent call last)",
      "Cell \u001b[0;32mIn[43], line 2\u001b[0m\n\u001b[1;32m      1\u001b[0m \u001b[38;5;66;03m# self is not defined!\u001b[39;00m\n\u001b[0;32m----> 2\u001b[0m \u001b[43mPoint\u001b[49m\u001b[38;5;241;43m.\u001b[39;49m\u001b[43mreset1\u001b[49m\u001b[43m(\u001b[49m\u001b[43m)\u001b[49m\n",
      "Cell \u001b[0;32mIn[38], line 7\u001b[0m, in \u001b[0;36mPoint.reset1\u001b[0;34m()\u001b[0m\n\u001b[1;32m      6\u001b[0m \u001b[38;5;28;01mdef\u001b[39;00m \u001b[38;5;21mreset1\u001b[39m(): \u001b[38;5;66;03m# not correct!\u001b[39;00m\n\u001b[0;32m----> 7\u001b[0m     \u001b[38;5;28;43mself\u001b[39;49m\u001b[38;5;241m.\u001b[39mx \u001b[38;5;241m=\u001b[39m \u001b[38;5;241m0\u001b[39m\n\u001b[1;32m      8\u001b[0m     \u001b[38;5;28mself\u001b[39m\u001b[38;5;241m.\u001b[39my \u001b[38;5;241m=\u001b[39m \u001b[38;5;241m0\u001b[39m\n",
      "\u001b[0;31mNameError\u001b[0m: name 'self' is not defined"
     ]
    }
   ],
   "source": [
    "# self is not defined!\n",
    "Point.reset1()"
   ]
  },
  {
   "cell_type": "markdown",
   "id": "2d00d693",
   "metadata": {},
   "source": [
    "## More arguments\n",
    "- add more methods that take arguments"
   ]
  },
  {
   "cell_type": "code",
   "execution_count": 44,
   "id": "8fb4e52a",
   "metadata": {},
   "outputs": [],
   "source": [
    "import math\n",
    "\n",
    "class Point:\n",
    "    def move(self, x: float, y:float) -> None:\n",
    "        self.x = x\n",
    "        self.y = y\n",
    "    \n",
    "    def reset(self) -> None:\n",
    "        self.move(0, 0)\n",
    "        \n",
    "    def calculate_distance(self, other: \"Point\") -> float:\n",
    "        return math.hypot(self.x - other.x, self.y - other.y)"
   ]
  },
  {
   "cell_type": "code",
   "execution_count": 45,
   "id": "d622af9c",
   "metadata": {},
   "outputs": [],
   "source": [
    "point1 = Point()"
   ]
  },
  {
   "cell_type": "code",
   "execution_count": 46,
   "id": "ad9263de",
   "metadata": {},
   "outputs": [],
   "source": [
    "point2 = Point()"
   ]
  },
  {
   "cell_type": "code",
   "execution_count": 47,
   "id": "8be1d6c5",
   "metadata": {},
   "outputs": [],
   "source": [
    "point1.reset()"
   ]
  },
  {
   "cell_type": "code",
   "execution_count": 48,
   "id": "db347157",
   "metadata": {},
   "outputs": [],
   "source": [
    "point2.move(5, 0)"
   ]
  },
  {
   "cell_type": "code",
   "execution_count": 49,
   "id": "ac63e366",
   "metadata": {},
   "outputs": [
    {
     "name": "stdout",
     "output_type": "stream",
     "text": [
      "5.0\n"
     ]
    }
   ],
   "source": [
    "print(point2.calculate_distance(point1))"
   ]
  },
  {
   "cell_type": "code",
   "execution_count": 50,
   "id": "3e3c1a17",
   "metadata": {},
   "outputs": [],
   "source": [
    "assert point2.calculate_distance(point1) == point1.calculate_distance(point2)"
   ]
  },
  {
   "cell_type": "code",
   "execution_count": 51,
   "id": "3318bf89",
   "metadata": {},
   "outputs": [],
   "source": [
    "point1.move(3, 4)"
   ]
  },
  {
   "cell_type": "code",
   "execution_count": 52,
   "id": "9dab7f58",
   "metadata": {},
   "outputs": [
    {
     "name": "stdout",
     "output_type": "stream",
     "text": [
      "4.47213595499958\n"
     ]
    }
   ],
   "source": [
    "print(point1.calculate_distance(point2))"
   ]
  },
  {
   "cell_type": "code",
   "execution_count": 53,
   "id": "04fdd1b5",
   "metadata": {},
   "outputs": [
    {
     "name": "stdout",
     "output_type": "stream",
     "text": [
      "0.0\n"
     ]
    }
   ],
   "source": [
    "print(point1.calculate_distance(point1))"
   ]
  },
  {
   "cell_type": "markdown",
   "id": "c69e983f",
   "metadata": {},
   "source": [
    "## Initializing the object\n",
    "- attributes are dynamically attached in Python\n",
    "- it's hard for tools like mypy to know what attributes are available on objects of a class (could be very inconsistent)\n",
    "- most programming languages have constructors to properly construct and initialize the objects with required attributes\n",
    "- Python provides `__new__()` constructor method, but is rarely used\n",
    "- `__init__()` - initializer method is more common to initialize the required attributes across all the instances of a given class "
   ]
  },
  {
   "cell_type": "code",
   "execution_count": 54,
   "id": "64570521",
   "metadata": {},
   "outputs": [],
   "source": [
    "point = Point()"
   ]
  },
  {
   "cell_type": "code",
   "execution_count": 55,
   "id": "c523e4d5",
   "metadata": {},
   "outputs": [],
   "source": [
    "point.x = 5"
   ]
  },
  {
   "cell_type": "code",
   "execution_count": 56,
   "id": "235308b9",
   "metadata": {},
   "outputs": [
    {
     "name": "stdout",
     "output_type": "stream",
     "text": [
      "5\n"
     ]
    }
   ],
   "source": [
    "print(point.x)"
   ]
  },
  {
   "cell_type": "code",
   "execution_count": 57,
   "id": "cce34d0d",
   "metadata": {},
   "outputs": [
    {
     "ename": "AttributeError",
     "evalue": "'Point' object has no attribute 'y'",
     "output_type": "error",
     "traceback": [
      "\u001b[0;31m---------------------------------------------------------------------------\u001b[0m",
      "\u001b[0;31mAttributeError\u001b[0m                            Traceback (most recent call last)",
      "Cell \u001b[0;32mIn[57], line 1\u001b[0m\n\u001b[0;32m----> 1\u001b[0m \u001b[38;5;28mprint\u001b[39m(\u001b[43mpoint\u001b[49m\u001b[38;5;241;43m.\u001b[39;49m\u001b[43my\u001b[49m)\n",
      "\u001b[0;31mAttributeError\u001b[0m: 'Point' object has no attribute 'y'"
     ]
    }
   ],
   "source": [
    "print(point.y)"
   ]
  },
  {
   "cell_type": "code",
   "execution_count": 58,
   "id": "e6a4cde7",
   "metadata": {},
   "outputs": [],
   "source": [
    "import math\n",
    "\n",
    "class Point:\n",
    "    def __init__(self, x: float, y: float) -> None:\n",
    "        self.move(x, y)\n",
    "        \n",
    "    def move(self, x: float, y: float) -> None:\n",
    "        self.x = x\n",
    "        self.y = y\n",
    "        \n",
    "    def reset(self) -> None:\n",
    "        self.move(0, 0)\n",
    "        \n",
    "    def calculate_distance(self, other: \"Point\") -> None:\n",
    "        return math.hypot(self.x - other.x, self.y - other.y)\n",
    "    "
   ]
  },
  {
   "cell_type": "code",
   "execution_count": 59,
   "id": "9477a0a5",
   "metadata": {},
   "outputs": [],
   "source": [
    "point = Point(3, 5)"
   ]
  },
  {
   "cell_type": "code",
   "execution_count": 60,
   "id": "cce77d18",
   "metadata": {},
   "outputs": [
    {
     "name": "stdout",
     "output_type": "stream",
     "text": [
      "3 5\n"
     ]
    }
   ],
   "source": [
    "print(point.x, point.y)"
   ]
  },
  {
   "cell_type": "code",
   "execution_count": 63,
   "id": "8b49f21e-8288-4b0d-8e25-5b9362d5fa0f",
   "metadata": {},
   "outputs": [],
   "source": [
    "point.z = 100"
   ]
  },
  {
   "cell_type": "code",
   "execution_count": 64,
   "id": "ebd54a5f-b259-49f4-89f8-095adbc44aa0",
   "metadata": {},
   "outputs": [
    {
     "name": "stdout",
     "output_type": "stream",
     "text": [
      "3 5 100\n"
     ]
    }
   ],
   "source": [
    "print(point.x, point.y, point.z)"
   ]
  },
  {
   "cell_type": "code",
   "execution_count": 65,
   "id": "ee294f95-6ba5-4b27-a6ce-9fa4567deaad",
   "metadata": {},
   "outputs": [],
   "source": [
    "# preventing dynamic attribute addition using __slots__ attribute\n",
    "\n",
    "import math\n",
    "\n",
    "class Point:\n",
    "    # prevents adding new attributes dynamically\n",
    "    __slots__ = ['x', 'y']\n",
    "    \n",
    "    def __init__(self, x: float, y: float) -> None:\n",
    "        self.x = x\n",
    "        self.y = y\n",
    "        "
   ]
  },
  {
   "cell_type": "code",
   "execution_count": 66,
   "id": "3dbb2297-1e97-4449-8676-7565a406b3f3",
   "metadata": {},
   "outputs": [],
   "source": [
    "p1 = Point(4, 5)"
   ]
  },
  {
   "cell_type": "code",
   "execution_count": 67,
   "id": "8ac97592-4f77-482e-86f2-3b31fedd8b64",
   "metadata": {},
   "outputs": [
    {
     "name": "stdout",
     "output_type": "stream",
     "text": [
      "4 5\n"
     ]
    }
   ],
   "source": [
    "print(p1.x, p1.y)"
   ]
  },
  {
   "cell_type": "code",
   "execution_count": 68,
   "id": "e4a9f16b-a2a9-4a93-8946-2983b64a3d85",
   "metadata": {},
   "outputs": [
    {
     "ename": "AttributeError",
     "evalue": "'Point' object has no attribute 'z'",
     "output_type": "error",
     "traceback": [
      "\u001b[0;31m---------------------------------------------------------------------------\u001b[0m",
      "\u001b[0;31mAttributeError\u001b[0m                            Traceback (most recent call last)",
      "Cell \u001b[0;32mIn[68], line 1\u001b[0m\n\u001b[0;32m----> 1\u001b[0m \u001b[43mp1\u001b[49m\u001b[38;5;241;43m.\u001b[39;49m\u001b[43mz\u001b[49m \u001b[38;5;241m=\u001b[39m \u001b[38;5;241m100\u001b[39m\n",
      "\u001b[0;31mAttributeError\u001b[0m: 'Point' object has no attribute 'z'"
     ]
    }
   ],
   "source": [
    "p1.z = 100"
   ]
  },
  {
   "cell_type": "markdown",
   "id": "cc5d82e2",
   "metadata": {},
   "source": [
    "## Type hints and defaults\n",
    "\n",
    "- sometimes providing the default values for parameters may be useful making them optional"
   ]
  },
  {
   "cell_type": "code",
   "execution_count": 61,
   "id": "46b96979",
   "metadata": {},
   "outputs": [],
   "source": [
    "class Point:\n",
    "    def __init__(self, x: float = 0, y: float = 0) -> None:\n",
    "        self.x = x\n",
    "        self.y = y"
   ]
  },
  {
   "cell_type": "code",
   "execution_count": 62,
   "id": "2f97a3fa",
   "metadata": {},
   "outputs": [],
   "source": [
    "# Multiline parameters; not common but may be used to \n",
    "# keep the line short and easier to read\n",
    "class Point:\n",
    "    def __init__(\n",
    "        self,\n",
    "        x: float = 0,\n",
    "        y: float = 0\n",
    "    ) -> None:\n",
    "        self.x = x\n",
    "        self.y = y"
   ]
  },
  {
   "cell_type": "markdown",
   "id": "6b39f84c",
   "metadata": {},
   "source": [
    "## Explaining yourself with docstrings\n",
    "\n",
    "- Python is easy to read and is self-documenting (mostly)\n",
    "- in OOP, it's important to write API documentation that clearly summarizes what each object and method does\n",
    "- Python supports this through **docstrings**\n",
    "- **docstrings** are strings with triple-single (''') or triple-double (\"\"\") quotes\n",
    "- one of the best things to include in a **docstring** is a concrete example\n",
    "- tools like **doctest** can locate and confirm these examples are correct; providing a quick test\n",
    "- see `src/objects/point.py` file for demo\n",
    "- run `mypy --strict point.py` to check for type correctness\n",
    "- run the script with `-i` option to enter into interactive mode\n",
    "    - `python -i point.py`\n",
    "- run the `doctest` to test the examples provided in **docstrings**\n",
    "    - `python -m doctest point.py`\n",
    "    - provides no output if all the examples are correct"
   ]
  },
  {
   "cell_type": "code",
   "execution_count": 69,
   "id": "88417cdc",
   "metadata": {},
   "outputs": [],
   "source": [
    "# should provide no error...\n",
    "! python -m doctest src/objects/point.py"
   ]
  },
  {
   "cell_type": "markdown",
   "id": "80f5f1db",
   "metadata": {},
   "source": [
    "### VS Code Extension\n",
    "\n",
    "- use autoDocString extension to quickly write documentation of your methods/API\n",
    "- search for audoDocstring from the extension manager in VS Code and install it\n",
    "- just type ''' or \"\"\" under any class or function name to generate boilerplate docstrings\n",
    "\n",
    "### pdoc3\n",
    "\n",
    "- https://pypi.org/project/pdoc3/\n",
    "- auto-generate API documentation for Python projects\n",
    "\n",
    "```bash\n",
    "pip install pdoc3\n",
    "pdoc --help\n",
    "pdoc your_project\n",
    "pdoc -o documentations point.py\n",
    "# Create HTML documentation of point.py into the documentations folder\n",
    "```"
   ]
  },
  {
   "cell_type": "code",
   "execution_count": 70,
   "id": "b1e1df9d",
   "metadata": {},
   "outputs": [
    {
     "name": "stdout",
     "output_type": "stream",
     "text": [
      "Defaulting to user installation because normal site-packages is not writeable\n",
      "Collecting pdoc3\n",
      "  Downloading pdoc3-0.11.1.tar.gz (97 kB)\n",
      "  Preparing metadata (setup.py) ... \u001b[?25ldone\n",
      "\u001b[?25hCollecting mako (from pdoc3)\n",
      "  Downloading Mako-1.3.5-py3-none-any.whl.metadata (2.9 kB)\n",
      "Collecting markdown>=3.0 (from pdoc3)\n",
      "  Downloading Markdown-3.6-py3-none-any.whl.metadata (7.0 kB)\n",
      "Requirement already satisfied: MarkupSafe>=0.9.2 in /usr/local/lib/python3.12/site-packages (from mako->pdoc3) (2.1.5)\n",
      "Downloading Markdown-3.6-py3-none-any.whl (105 kB)\n",
      "Downloading Mako-1.3.5-py3-none-any.whl (78 kB)\n",
      "Building wheels for collected packages: pdoc3\n",
      "  Building wheel for pdoc3 (setup.py) ... \u001b[?25ldone\n",
      "\u001b[?25h  Created wheel for pdoc3: filename=pdoc3-0.11.1-py3-none-any.whl size=125432 sha256=d300f00ad01cd83dc94159828da998953e5fb9d16809659f22e545a941585b0e\n",
      "  Stored in directory: /home/user/.cache/pip/wheels/ba/2e/e4/03f302cf828003216e3131d5cc5e46dce5c2fee0c8e534f11c\n",
      "Successfully built pdoc3\n",
      "Installing collected packages: markdown, mako, pdoc3\n",
      "\u001b[33m  WARNING: The script markdown_py is installed in '/home/user/.local/bin' which is not on PATH.\n",
      "  Consider adding this directory to PATH or, if you prefer to suppress this warning, use --no-warn-script-location.\u001b[0m\u001b[33m\n",
      "\u001b[0m\u001b[33m  WARNING: The script mako-render is installed in '/home/user/.local/bin' which is not on PATH.\n",
      "  Consider adding this directory to PATH or, if you prefer to suppress this warning, use --no-warn-script-location.\u001b[0m\u001b[33m\n",
      "\u001b[0m\u001b[33m  WARNING: The scripts pdoc and pdoc3 are installed in '/home/user/.local/bin' which is not on PATH.\n",
      "  Consider adding this directory to PATH or, if you prefer to suppress this warning, use --no-warn-script-location.\u001b[0m\u001b[33m\n",
      "\u001b[0mSuccessfully installed mako-1.3.5 markdown-3.6 pdoc3-0.11.1\n"
     ]
    }
   ],
   "source": [
    "! pip install pdoc3"
   ]
  },
  {
   "cell_type": "markdown",
   "id": "7b405ad2",
   "metadata": {},
   "source": [
    "## Modules and Packages\n",
    "\n",
    "- modules are Python files/scripts with .py extension\n",
    "- package is a collection of modules in a folder\n",
    "- package is a folder with `__init__.py` file (normally empty!)\n",
    "- packages help organize modules' folder hierarchy\n",
    "- never use wildcard **\\*** import\n",
    "    - pollutes the current namespace\n",
    "    - difficult to understand what names are imported from what modules and packages\n",
    "- must use import guard to enclose all your executable code\n",
    "\n",
    "```python\n",
    "if __name__ == \"__main__\":\n",
    "    # executable code; function call\n",
    "    main()\n",
    "```\n",
    "\n",
    "### Importing modules and names into Python scripts\n",
    "\n",
    "### Absolute imports\n",
    "\n",
    "- provides a complete path to the module, class, and function we want to import\n",
    "- let's see the demo packages and modules in the `src/objects` folder"
   ]
  },
  {
   "cell_type": "code",
   "execution_count": 71,
   "id": "279e29b7",
   "metadata": {},
   "outputs": [
    {
     "name": "stdout",
     "output_type": "stream",
     "text": [
      "/home/user/Object-Oriented-Programming-Design-Patterns/notebooks\n"
     ]
    }
   ],
   "source": [
    "! pwd"
   ]
  },
  {
   "cell_type": "code",
   "execution_count": 72,
   "id": "782eeb49",
   "metadata": {},
   "outputs": [
    {
     "name": "stdout",
     "output_type": "stream",
     "text": [
      "00-TableOfContents.ipynb\t\t\t TestingPrograms.ipynb\n",
      "ABCOperatorOverloading.ipynb\t\t\t Tools-Python-Review.ipynb\n",
      "AdvancedDesignPatterns.ipynb\t\t\t WhenObjectsAreAlike.ipynb\n",
      "CommonDesignPatterns.ipynb\t\t\t WhenToUseOOP.ipynb\n",
      "ExpectingTheUnexpected.ipynb\t\t\t context.txt\n",
      "IntersectionOfOOPAndFunctionalProgramming.ipynb  data\n",
      "IteratorPattern.ipynb\t\t\t\t demo.log\n",
      "ObjectOrientedDesign.ipynb\t\t\t filename.txt\n",
      "PythonDataStructures.ipynb\t\t\t pickled_list.pkl\n",
      "PythonObjects.ipynb\t\t\t\t plantuml\n",
      "SerializationAndJSON.ipynb\t\t\t resources\n",
      "SoftwareEngineering.ipynb\t\t\t src\n",
      "TestDataGeneration.ipynb\t\t\t tools\n",
      "TestingMockingPatching.ipynb\n"
     ]
    }
   ],
   "source": [
    "! ls "
   ]
  },
  {
   "cell_type": "code",
   "execution_count": 73,
   "id": "2f87a24b",
   "metadata": {},
   "outputs": [
    {
     "name": "stdout",
     "output_type": "stream",
     "text": [
      "/home/user/Object-Oriented-Programming-Design-Patterns/notebooks/src/objects\n"
     ]
    }
   ],
   "source": [
    "%cd ./src/objects/"
   ]
  },
  {
   "cell_type": "code",
   "execution_count": 74,
   "id": "03772fb1",
   "metadata": {},
   "outputs": [
    {
     "name": "stdout",
     "output_type": "stream",
     "text": [
      "/home/user/Object-Oriented-Programming-Design-Patterns/notebooks/src/objects\n"
     ]
    }
   ],
   "source": [
    "! pwd"
   ]
  },
  {
   "cell_type": "code",
   "execution_count": 75,
   "id": "200cde15",
   "metadata": {},
   "outputs": [
    {
     "name": "stdout",
     "output_type": "stream",
     "text": [
      "__pycache__   docs\t     ecommerce\t    import_demo.py\n",
      "bad_hints.py  docstrings.py  good_hints.py  point.py\n"
     ]
    }
   ],
   "source": [
    "! ls"
   ]
  },
  {
   "cell_type": "code",
   "execution_count": 76,
   "id": "d540953a",
   "metadata": {},
   "outputs": [],
   "source": [
    "# importing the whole package doesn't import any modules; not a good idea!\n",
    "# you can import code in __init__.py file to import a specific module; but not recommended!\n",
    "import ecommerce"
   ]
  },
  {
   "cell_type": "code",
   "execution_count": 77,
   "id": "ff821752",
   "metadata": {},
   "outputs": [
    {
     "data": {
      "text/plain": [
       "['__builtins__',\n",
       " '__cached__',\n",
       " '__doc__',\n",
       " '__file__',\n",
       " '__loader__',\n",
       " '__name__',\n",
       " '__package__',\n",
       " '__path__',\n",
       " '__spec__',\n",
       " 'database',\n",
       " 'db']"
      ]
     },
     "execution_count": 77,
     "metadata": {},
     "output_type": "execute_result"
    }
   ],
   "source": [
    "# user dir() built-in function to see the package contents\n",
    "dir(ecommerce)"
   ]
  },
  {
   "cell_type": "code",
   "execution_count": 78,
   "id": "de8a81a4",
   "metadata": {},
   "outputs": [
    {
     "ename": "AttributeError",
     "evalue": "module 'ecommerce' has no attribute 'products'",
     "output_type": "error",
     "traceback": [
      "\u001b[0;31m---------------------------------------------------------------------------\u001b[0m",
      "\u001b[0;31mAttributeError\u001b[0m                            Traceback (most recent call last)",
      "Cell \u001b[0;32mIn[78], line 1\u001b[0m\n\u001b[0;32m----> 1\u001b[0m product \u001b[38;5;241m=\u001b[39m \u001b[43mecommerce\u001b[49m\u001b[38;5;241;43m.\u001b[39;49m\u001b[43mproducts\u001b[49m\u001b[38;5;241m.\u001b[39mProduct(\u001b[38;5;124m\"\u001b[39m\u001b[38;5;124mname1\u001b[39m\u001b[38;5;124m\"\u001b[39m)\n",
      "\u001b[0;31mAttributeError\u001b[0m: module 'ecommerce' has no attribute 'products'"
     ]
    }
   ],
   "source": [
    "product = ecommerce.products.Product(\"name1\")"
   ]
  },
  {
   "cell_type": "code",
   "execution_count": 79,
   "id": "4d62808c-08d1-4c92-a142-54386385d500",
   "metadata": {},
   "outputs": [],
   "source": [
    "import ecommerce.products"
   ]
  },
  {
   "cell_type": "code",
   "execution_count": 80,
   "id": "7734527d",
   "metadata": {},
   "outputs": [
    {
     "name": "stdout",
     "output_type": "stream",
     "text": [
      "Help on module ecommerce.products in ecommerce:\n",
      "\n",
      "NAME\n",
      "    ecommerce.products - Python 3 Object-Oriented Programming 4th ed.\n",
      "\n",
      "DESCRIPTION\n",
      "    Chapter 2, Objects in Python.\n",
      "\n",
      "CLASSES\n",
      "    builtins.object\n",
      "        Product\n",
      "\n",
      "    class Product(builtins.object)\n",
      "     |  Product(name: str) -> None\n",
      "     |\n",
      "     |  Methods defined here:\n",
      "     |\n",
      "     |  __init__(self, name: str) -> None\n",
      "     |      Initialize self.  See help(type(self)) for accurate signature.\n",
      "     |\n",
      "     |  ----------------------------------------------------------------------\n",
      "     |  Data descriptors defined here:\n",
      "     |\n",
      "     |  __dict__\n",
      "     |      dictionary for instance variables\n",
      "     |\n",
      "     |  __weakref__\n",
      "     |      list of weak references to the object\n",
      "\n",
      "FILE\n",
      "    /home/user/Object-Oriented-Programming-Design-Patterns/notebooks/src/objects/ecommerce/products.py\n",
      "\n",
      "\n"
     ]
    }
   ],
   "source": [
    "help(ecommerce.products)"
   ]
  },
  {
   "cell_type": "code",
   "execution_count": 81,
   "id": "f4db7134",
   "metadata": {},
   "outputs": [],
   "source": [
    "# importing and creating alias\n",
    "import ecommerce.products as pr"
   ]
  },
  {
   "cell_type": "code",
   "execution_count": 82,
   "id": "d39a5b34",
   "metadata": {},
   "outputs": [
    {
     "data": {
      "text/plain": [
       "['DB',\n",
       " 'Database',\n",
       " 'Product',\n",
       " 'Query',\n",
       " '__builtins__',\n",
       " '__cached__',\n",
       " '__doc__',\n",
       " '__file__',\n",
       " '__loader__',\n",
       " '__name__',\n",
       " '__package__',\n",
       " '__spec__',\n",
       " 'database',\n",
       " 'send_mail']"
      ]
     },
     "execution_count": 82,
     "metadata": {},
     "output_type": "execute_result"
    }
   ],
   "source": [
    "dir(pr)"
   ]
  },
  {
   "cell_type": "code",
   "execution_count": 83,
   "id": "5f9f97e5",
   "metadata": {},
   "outputs": [],
   "source": [
    "product = pr.Product('Some name')"
   ]
  },
  {
   "cell_type": "code",
   "execution_count": 84,
   "id": "d0b8ee89",
   "metadata": {},
   "outputs": [
    {
     "name": "stdout",
     "output_type": "stream",
     "text": [
      "Some name\n"
     ]
    }
   ],
   "source": [
    "print(product.name)"
   ]
  },
  {
   "cell_type": "code",
   "execution_count": 85,
   "id": "5fd061dc",
   "metadata": {},
   "outputs": [],
   "source": [
    "# import just one module\n",
    "from ecommerce import products"
   ]
  },
  {
   "cell_type": "markdown",
   "id": "6724bf3f",
   "metadata": {},
   "source": [
    "### Relative imports\n",
    "- import module, class, and function, relative to the current module\n",
    "- use `.` for the current package\n",
    "- use `..` for parent package\n",
    "\n",
    "```python\n",
    "from .database import Database\n",
    "from ..ecommerce.database import Database\n",
    "```"
   ]
  },
  {
   "cell_type": "markdown",
   "id": "4a05acb7",
   "metadata": {},
   "source": [
    "## Class Member Access Control\n",
    "\n",
    "- who can access my data and methods?\n",
    "- OOP languages such as C++, Java have the concept of **access control**\n",
    "- keywords such as private, protected, and public are used to qualify access controls on class members\n",
    "- Python doesn't believe in rules that may come on your way\n",
    "- Python makes use of saying: \"We're all adults here.\"\n",
    "    - no need to declare a variable private, if we can all see the source code!\n",
    "- Python recommends using a single `_` leading underscore/prefix\n",
    "    - *notion that this is an internal member variable/method*\n",
    "    - *think three times before accessing it directly* from objects\n",
    "- use `__` double leading underscores/prefix:\n",
    "    - *to strongly demand that the method/variable remain private* and never access from outside the object\n",
    "- `_` and `__` prefixes are just guidance/recommendation/best practices but never enforced as syntax"
   ]
  },
  {
   "cell_type": "markdown",
   "id": "f33a7ad1",
   "metadata": {},
   "source": [
    "## Property\n",
    "\n",
    "- Object's properties/attributes should not be accessed directly\n",
    "- they should be treated as private; use leading `_` or `__`\n",
    "- peroperties should be exposed via getter and setter API's\n",
    "- `@propery` builtin-function decorator allows us to define methods that can be accessed like an attribute\n",
    "- `@property` makes a method getter\n",
    "- `@<method_name>.setter` makes it a setter method\n",
    "- `@<method_name>.deleter` deletes an attribute\n",
    "    - use `del object.attribute` to delete an attribute"
   ]
  },
  {
   "cell_type": "code",
   "execution_count": 86,
   "id": "032da8ae",
   "metadata": {},
   "outputs": [],
   "source": [
    "class Student:\n",
    "    def __init__(self, first_name: str, last_name: str) -> None:\n",
    "        self.first_name: str = first_name # public\n",
    "        self._last_name: str = last_name # treat as private\n",
    "        \n",
    "    # define the getter method using property decorator\n",
    "    @property\n",
    "    def last_name(self) -> str:\n",
    "        \"\"\"\n",
    "        Getter for _last_name property \n",
    "            - doc should be written to getter property!!\n",
    "        \"\"\"\n",
    "        return self._last_name\n",
    "    \n",
    "    # define the setter method using decorator\n",
    "    @last_name.setter\n",
    "    def last_name(self, value: str) -> None:\n",
    "        \"\"\"\n",
    "        Setter for _last_name property\n",
    "        \"\"\"\n",
    "        if value.isalpha:\n",
    "            self._last_name = value\n",
    "        else:\n",
    "            raise TypeError('Non-alphabetic in value:', value)\n",
    "            \n",
    "    @last_name.deleter\n",
    "    def last_name(self) -> None:\n",
    "        del self._last_name\n",
    "\n",
    "    def __str__(self):\n",
    "        \"\"\"\n",
    "        String representation of the object\n",
    "        \"\"\"\n",
    "        return f'{self._last_name}, {self.first_name}'\n",
    "    \n",
    "    # using getter and setter functions - not recommended!!\n",
    "    def _get_last_name(self) -> str:\n",
    "        return self._last_name\n",
    "    \n",
    "    def _set_last_name(self, last_name: str) -> None:\n",
    "        if last_name.isalpha:\n",
    "            self._last_name = last_name\n",
    "        else:\n",
    "            raise TypeError('Non-alphabetic in last_name', last_name)\n",
    "    \n",
    "    def _del_last_name(self) -> None:\n",
    "        del self._last_name\n",
    "        \n",
    "    # using property function to define getter and setter, deleter, doc\n",
    "    l_name = property(fget=_get_last_name, \n",
    "                      fset=_set_last_name,\n",
    "                      fdel=_del_last_name,\n",
    "                      doc=\"Last name property.\"\n",
    "                      )"
   ]
  },
  {
   "cell_type": "code",
   "execution_count": 87,
   "id": "5ee3013a",
   "metadata": {},
   "outputs": [],
   "source": [
    "student = Student(\"John\", \"Doe\")"
   ]
  },
  {
   "cell_type": "code",
   "execution_count": 88,
   "id": "eae82f27",
   "metadata": {},
   "outputs": [
    {
     "name": "stdout",
     "output_type": "stream",
     "text": [
      "John\n"
     ]
    }
   ],
   "source": [
    "# access the first name using data property\n",
    "print(student.first_name)"
   ]
  },
  {
   "cell_type": "code",
   "execution_count": 89,
   "id": "d4efaa9c-0727-4d6b-aba4-0c74f7fbec00",
   "metadata": {},
   "outputs": [],
   "source": [
    "student.first_name = \"2323asfs_\""
   ]
  },
  {
   "cell_type": "code",
   "execution_count": 90,
   "id": "cd4d8a29",
   "metadata": {},
   "outputs": [
    {
     "name": "stdout",
     "output_type": "stream",
     "text": [
      "Doe\n"
     ]
    }
   ],
   "source": [
    "# access the last name using data property\n",
    "print(student._last_name)"
   ]
  },
  {
   "cell_type": "code",
   "execution_count": 91,
   "id": "b100b14e",
   "metadata": {},
   "outputs": [
    {
     "name": "stdout",
     "output_type": "stream",
     "text": [
      "Doe\n"
     ]
    }
   ],
   "source": [
    "# access the last name using getter property\n",
    "print(student.last_name)"
   ]
  },
  {
   "cell_type": "code",
   "execution_count": 92,
   "id": "39021f26",
   "metadata": {},
   "outputs": [
    {
     "ename": "TypeError",
     "evalue": "'str' object is not callable",
     "output_type": "error",
     "traceback": [
      "\u001b[0;31m---------------------------------------------------------------------------\u001b[0m",
      "\u001b[0;31mTypeError\u001b[0m                                 Traceback (most recent call last)",
      "Cell \u001b[0;32mIn[92], line 3\u001b[0m\n\u001b[1;32m      1\u001b[0m \u001b[38;5;66;03m# @property makes method more like an attribute property\u001b[39;00m\n\u001b[1;32m      2\u001b[0m \u001b[38;5;66;03m# the following will raise an Exception\u001b[39;00m\n\u001b[0;32m----> 3\u001b[0m \u001b[38;5;28mprint\u001b[39m(\u001b[43mstudent\u001b[49m\u001b[38;5;241;43m.\u001b[39;49m\u001b[43mlast_name\u001b[49m\u001b[43m(\u001b[49m\u001b[43m)\u001b[49m)\n",
      "\u001b[0;31mTypeError\u001b[0m: 'str' object is not callable"
     ]
    }
   ],
   "source": [
    "# @property makes method more like an attribute property\n",
    "# the following will raise an Exception\n",
    "print(student.last_name())"
   ]
  },
  {
   "cell_type": "code",
   "execution_count": 93,
   "id": "520589b4",
   "metadata": {},
   "outputs": [],
   "source": [
    "student.last_name = \"Smith\""
   ]
  },
  {
   "cell_type": "code",
   "execution_count": 94,
   "id": "afaff3ed",
   "metadata": {},
   "outputs": [
    {
     "name": "stdout",
     "output_type": "stream",
     "text": [
      "Smith, 2323asfs_\n"
     ]
    }
   ],
   "source": [
    "print(student)"
   ]
  },
  {
   "cell_type": "code",
   "execution_count": 95,
   "id": "8b651800",
   "metadata": {},
   "outputs": [
    {
     "data": {
      "text/plain": [
       "'Smith'"
      ]
     },
     "execution_count": 95,
     "metadata": {},
     "output_type": "execute_result"
    }
   ],
   "source": [
    "student.l_name"
   ]
  },
  {
   "cell_type": "code",
   "execution_count": 96,
   "id": "1398e0fa",
   "metadata": {},
   "outputs": [],
   "source": [
    "student.l_name = \"Johnson\""
   ]
  },
  {
   "cell_type": "code",
   "execution_count": 97,
   "id": "25873abc",
   "metadata": {},
   "outputs": [
    {
     "data": {
      "text/plain": [
       "'Johnson'"
      ]
     },
     "execution_count": 97,
     "metadata": {},
     "output_type": "execute_result"
    }
   ],
   "source": [
    "student.last_name"
   ]
  },
  {
   "cell_type": "code",
   "execution_count": 98,
   "id": "239c3ab0",
   "metadata": {},
   "outputs": [
    {
     "name": "stdout",
     "output_type": "stream",
     "text": [
      "Help on Student in module __main__ object:\n",
      "\n",
      "class Student(builtins.object)\n",
      " |  Student(first_name: str, last_name: str) -> None\n",
      " |\n",
      " |  Methods defined here:\n",
      " |\n",
      " |  __init__(self, first_name: str, last_name: str) -> None\n",
      " |      Initialize self.  See help(type(self)) for accurate signature.\n",
      " |\n",
      " |  __str__(self)\n",
      " |      String representation of the object\n",
      " |\n",
      " |  ----------------------------------------------------------------------\n",
      " |  Data descriptors defined here:\n",
      " |\n",
      " |  __dict__\n",
      " |      dictionary for instance variables\n",
      " |\n",
      " |  __weakref__\n",
      " |      list of weak references to the object\n",
      " |\n",
      " |  l_name\n",
      " |      Last name property.\n",
      " |\n",
      " |  last_name\n",
      " |      Getter for _last_name property\n",
      " |          - doc should be written to getter property!!\n",
      "\n"
     ]
    }
   ],
   "source": [
    "help(student)"
   ]
  },
  {
   "cell_type": "code",
   "execution_count": 99,
   "id": "82636a12",
   "metadata": {},
   "outputs": [],
   "source": [
    "# let's delete l_name attribute\n",
    "del student.l_name"
   ]
  },
  {
   "cell_type": "code",
   "execution_count": 100,
   "id": "426bf262",
   "metadata": {},
   "outputs": [
    {
     "ename": "AttributeError",
     "evalue": "'Student' object has no attribute '_last_name'",
     "output_type": "error",
     "traceback": [
      "\u001b[0;31m---------------------------------------------------------------------------\u001b[0m",
      "\u001b[0;31mAttributeError\u001b[0m                            Traceback (most recent call last)",
      "Cell \u001b[0;32mIn[100], line 2\u001b[0m\n\u001b[1;32m      1\u001b[0m \u001b[38;5;66;03m# this will now throw an AttributeError\u001b[39;00m\n\u001b[0;32m----> 2\u001b[0m \u001b[38;5;28;43mprint\u001b[39;49m\u001b[43m(\u001b[49m\u001b[43mstudent\u001b[49m\u001b[43m)\u001b[49m\n",
      "Cell \u001b[0;32mIn[86], line 34\u001b[0m, in \u001b[0;36mStudent.__str__\u001b[0;34m(self)\u001b[0m\n\u001b[1;32m     30\u001b[0m \u001b[38;5;28;01mdef\u001b[39;00m \u001b[38;5;21m__str__\u001b[39m(\u001b[38;5;28mself\u001b[39m):\n\u001b[1;32m     31\u001b[0m \u001b[38;5;250m    \u001b[39m\u001b[38;5;124;03m\"\"\"\u001b[39;00m\n\u001b[1;32m     32\u001b[0m \u001b[38;5;124;03m    String representation of the object\u001b[39;00m\n\u001b[1;32m     33\u001b[0m \u001b[38;5;124;03m    \"\"\"\u001b[39;00m\n\u001b[0;32m---> 34\u001b[0m     \u001b[38;5;28;01mreturn\u001b[39;00m \u001b[38;5;124mf\u001b[39m\u001b[38;5;124m'\u001b[39m\u001b[38;5;132;01m{\u001b[39;00m\u001b[38;5;28;43mself\u001b[39;49m\u001b[38;5;241;43m.\u001b[39;49m\u001b[43m_last_name\u001b[49m\u001b[38;5;132;01m}\u001b[39;00m\u001b[38;5;124m, \u001b[39m\u001b[38;5;132;01m{\u001b[39;00m\u001b[38;5;28mself\u001b[39m\u001b[38;5;241m.\u001b[39mfirst_name\u001b[38;5;132;01m}\u001b[39;00m\u001b[38;5;124m'\u001b[39m\n",
      "\u001b[0;31mAttributeError\u001b[0m: 'Student' object has no attribute '_last_name'"
     ]
    }
   ],
   "source": [
    "# this will now throw an AttributeError\n",
    "print(student)"
   ]
  },
  {
   "cell_type": "code",
   "execution_count": 101,
   "id": "f5a5f4e7",
   "metadata": {},
   "outputs": [
    {
     "ename": "AttributeError",
     "evalue": "'Student' object has no attribute '_last_name'",
     "output_type": "error",
     "traceback": [
      "\u001b[0;31m---------------------------------------------------------------------------\u001b[0m",
      "\u001b[0;31mAttributeError\u001b[0m                            Traceback (most recent call last)",
      "Cell \u001b[0;32mIn[101], line 1\u001b[0m\n\u001b[0;32m----> 1\u001b[0m \u001b[38;5;28;01mdel\u001b[39;00m \u001b[43mstudent\u001b[49m\u001b[38;5;241;43m.\u001b[39;49m\u001b[43mlast_name\u001b[49m\n",
      "Cell \u001b[0;32mIn[86], line 28\u001b[0m, in \u001b[0;36mStudent.last_name\u001b[0;34m(self)\u001b[0m\n\u001b[1;32m     26\u001b[0m \u001b[38;5;129m@last_name\u001b[39m\u001b[38;5;241m.\u001b[39mdeleter\n\u001b[1;32m     27\u001b[0m \u001b[38;5;28;01mdef\u001b[39;00m \u001b[38;5;21mlast_name\u001b[39m(\u001b[38;5;28mself\u001b[39m) \u001b[38;5;241m-\u001b[39m\u001b[38;5;241m>\u001b[39m \u001b[38;5;28;01mNone\u001b[39;00m:\n\u001b[0;32m---> 28\u001b[0m     \u001b[38;5;28;01mdel\u001b[39;00m \u001b[38;5;28;43mself\u001b[39;49m\u001b[38;5;241;43m.\u001b[39;49m\u001b[43m_last_name\u001b[49m\n",
      "\u001b[0;31mAttributeError\u001b[0m: 'Student' object has no attribute '_last_name'"
     ]
    }
   ],
   "source": [
    "del student.last_name"
   ]
  },
  {
   "cell_type": "markdown",
   "id": "0bc19c94",
   "metadata": {},
   "source": [
    "## Types of Class Methods\n",
    "\n",
    "- functions are normally called methods within a class\n",
    "- see this resource: https://realpython.com/instance-class-and-static-methods-demystified/\n",
    "\n",
    "### Instance Properties\n",
    "\n",
    "- attached to each instances with (self)\n",
    "- special methods:\n",
    "    - `getter`, `setter`, `deleter` methods\n",
    "    - use `@property` `@method.setter`, `@method.deleter` decorators\n",
    "- used as attribues/variables\n",
    "- see example above\n",
    "\n",
    "### Instance Methods\n",
    "    \n",
    "- regular *instance method*\n",
    "- methods take **self** first parameter which points to an instance itself\n",
    "- they freely access all the attributes and other methods on the same object\n",
    "- gives them lot of power when modifying an object's state\n",
    "- see example below\n",
    "    \n",
    "### Class Methods\n",
    "\n",
    "- methods belong to the class itself and are shared across all the instances\n",
    "- takes `cls` parameter that points to class and not the object instance\n",
    "- use `@classmethod` decorator to mark method as class method\n",
    "- can't modify/access object attributes and methods\n",
    "    - but can access/modify only class state/variables that are shared across all the instances\n",
    "\n",
    "### Static Methods\n",
    "\n",
    "- use `@staticmethod` decorator to mark static methods\n",
    "- acts as a regular function within a Class namespace\n",
    "- doesn't take `cls` or `self` parameters\n",
    "    - but can take any other arguments\n",
    "- neither modify class state nor object state"
   ]
  },
  {
   "cell_type": "code",
   "execution_count": 102,
   "id": "e4a91bd1",
   "metadata": {},
   "outputs": [],
   "source": [
    "class MyClass:\n",
    "    class_var = 10\n",
    "    \n",
    "    def method(self, a, b):\n",
    "        self.a = a\n",
    "        self.b = b\n",
    "        return 'instance method called', self, self.__add()\n",
    "\n",
    "    def __add(self):\n",
    "        return self.a + self.b\n",
    "\n",
    "    @classmethod\n",
    "    def classmethod(cls, a, b):\n",
    "        return 'class method called', cls, a+b+cls.class_var\n",
    "\n",
    "    @staticmethod\n",
    "    def staticmethod(a, b):\n",
    "        return 'static method called', a+b+MyClass.class_var"
   ]
  },
  {
   "cell_type": "code",
   "execution_count": 103,
   "id": "132ecac5",
   "metadata": {},
   "outputs": [
    {
     "data": {
      "text/plain": [
       "('instance method called', <__main__.MyClass at 0x7f3568222d20>, 5)"
      ]
     },
     "execution_count": 103,
     "metadata": {},
     "output_type": "execute_result"
    }
   ],
   "source": [
    "instance = MyClass()\n",
    "instance.method(2, 3)"
   ]
  },
  {
   "cell_type": "code",
   "execution_count": 104,
   "id": "aeca739a",
   "metadata": {},
   "outputs": [
    {
     "data": {
      "text/plain": [
       "('class method called', __main__.MyClass, 18)"
      ]
     },
     "execution_count": 104,
     "metadata": {},
     "output_type": "execute_result"
    }
   ],
   "source": [
    "# call class method\n",
    "MyClass.classmethod(3, 5)"
   ]
  },
  {
   "cell_type": "code",
   "execution_count": 105,
   "id": "961ace48",
   "metadata": {},
   "outputs": [
    {
     "data": {
      "text/plain": [
       "('static method called', 18)"
      ]
     },
     "execution_count": 105,
     "metadata": {},
     "output_type": "execute_result"
    }
   ],
   "source": [
    "# call static method\n",
    "MyClass.staticmethod(3, 5)"
   ]
  },
  {
   "cell_type": "markdown",
   "id": "bb3b269c",
   "metadata": {},
   "source": [
    "## UML Diagrams\n",
    "\n",
    "- use plantuml - https://plantuml.com/\n",
    "- must create description file\n",
    "    - see guide for syntax - https://plantuml.com/guide\n",
    "    - shows how to create plantuml description files\n",
    "- can use plantuml from local Terminal to generate diagrams or VS Code extension\n",
    "\n",
    "### VS Code Extension\n",
    "\n",
    "- install VS Code extension by jebbs - https://marketplace.visualstudio.com/items?itemName=jebbs.plantuml\n",
    "- allows to preview UML diagrams using local or remote render\n",
    "- install recommended libraries following the extension documentation\n",
    "- configure the extension\n",
    "- on VS Code, create .plantuml file and enter `option+D` (Mac) or `alt+D` (Win)\n",
    "- to save image file:\n",
    "    - enter command+P and > PlantUML: Export Current Diagram and pick image type\n",
    "    \n",
    "### Local System and Makefile\n",
    "\n",
    "- to render UML images locally, must install **Java** runtime and **Graphviz** library\n",
    "- follow the instruction for your platform here - https://plantuml.com/starting\n",
    "- on a local Terminal type the following command\n",
    "- you must also download plantuml.jar file\n",
    "\n",
    "```bash\n",
    "java -jar <path_to_plantuml.jar> <folder/file.plantuml>\n",
    "```\n",
    "- it automatically creates file.png in the same folder where .plantuml file is\n",
    "\n",
    "- see Makefile for for demo: https://github.com/rambasnet/Kattis-Demos-Testing/tree/main/hello/python3/OOP"
   ]
  },
  {
   "cell_type": "markdown",
   "id": "fbaae722",
   "metadata": {},
   "source": [
    "## Exercies\n",
    "\n",
    "- Solve the following Kattis problems using OOD\n",
    "- must use at least two classes; property, methods, attributes, etc.\n",
    "- must use docstrings for each class and method\n",
    "- must use mypy to ensure you're using variables and functions type correctly\n",
    "- attributes must be privates\n",
    "- must use getter and setter methods for each attribute where appropriate\n",
    "- must generate HTML documentation of the docstrings into a documentations directory\n",
    "- must create UML diagrams of each class and their interactions\n",
    "\n",
    "1. Sum Kind of Problem - https://open.kattis.com/problems/sumkindofproblem\n",
    "2. Convex Polygon Area - https://open.kattis.com/problems/convexpolygonarea"
   ]
  },
  {
   "cell_type": "code",
   "execution_count": null,
   "id": "95d9e944",
   "metadata": {},
   "outputs": [],
   "source": []
  }
 ],
 "metadata": {
  "kernelspec": {
   "display_name": "Python 3 (ipykernel)",
   "language": "python",
   "name": "python3"
  },
  "language_info": {
   "codemirror_mode": {
    "name": "ipython",
    "version": 3
   },
   "file_extension": ".py",
   "mimetype": "text/x-python",
   "name": "python",
   "nbconvert_exporter": "python",
   "pygments_lexer": "ipython3",
   "version": "3.12.4"
  }
 },
 "nbformat": 4,
 "nbformat_minor": 5
}
