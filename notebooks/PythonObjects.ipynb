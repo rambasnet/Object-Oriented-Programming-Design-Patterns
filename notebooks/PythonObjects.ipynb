{
 "cells": [
  {
   "cell_type": "markdown",
   "id": "56a531c0",
   "metadata": {},
   "source": [
    "# Objects In Python\n",
    "- once the design step is completed, we turn those designs into code and a working program"
   ]
  },
  {
   "cell_type": "markdown",
   "id": "81049542",
   "metadata": {},
   "source": [
    "## Creating Python classes\n",
    "- use `class` keyword to define a Python class\n",
    "- class helps essentially create new **type**\n",
    "- class is a synonym for type\n",
    "- class name must follow standard Python variable naming rules:\n",
    "    - it must start with a letter or underscore\n",
    "    - can only be comprised of letters, underscores, or numbers.\n",
    "    - the Python style guide (PEP 8) recommends using CapWords for the class name"
   ]
  },
  {
   "cell_type": "code",
   "execution_count": null,
   "id": "11ab6b8a",
   "metadata": {},
   "outputs": [],
   "source": [
    "class HelloClass:\n",
    "    pass"
   ]
  },
  {
   "cell_type": "code",
   "execution_count": null,
   "id": "b67626b1",
   "metadata": {},
   "outputs": [],
   "source": [
    "# instantiate objects from HelloClass\n",
    "a = HelloClass()"
   ]
  },
  {
   "cell_type": "code",
   "execution_count": null,
   "id": "59f24f6f",
   "metadata": {},
   "outputs": [],
   "source": [
    "print(a)"
   ]
  },
  {
   "cell_type": "code",
   "execution_count": null,
   "id": "a380e42d",
   "metadata": {},
   "outputs": [],
   "source": [
    "b = HelloClass()"
   ]
  },
  {
   "cell_type": "code",
   "execution_count": null,
   "id": "85c8ef81",
   "metadata": {},
   "outputs": [],
   "source": [
    "print(b)"
   ]
  },
  {
   "cell_type": "code",
   "execution_count": null,
   "id": "e572bcbc",
   "metadata": {},
   "outputs": [],
   "source": [
    "# a and b are two distinct objects stored at different memory locations\n",
    "a is b"
   ]
  },
  {
   "cell_type": "markdown",
   "id": "1438aadb",
   "metadata": {},
   "source": [
    "## Adding attributes\n",
    "- the HelloClass is syntactically valid but useless\n",
    "- we can dynamically add attributes in Python\n",
    "- let's define a class representing a point in 2-D geometry\n",
    "- use the dot `.` operator to add/access attributes"
   ]
  },
  {
   "cell_type": "code",
   "execution_count": null,
   "id": "7fb92787",
   "metadata": {},
   "outputs": [],
   "source": [
    "class Point:\n",
    "    pass"
   ]
  },
  {
   "cell_type": "code",
   "execution_count": null,
   "id": "a562d1b3",
   "metadata": {},
   "outputs": [],
   "source": [
    "p1 = Point()"
   ]
  },
  {
   "cell_type": "code",
   "execution_count": null,
   "id": "d6b103d5",
   "metadata": {},
   "outputs": [],
   "source": [
    "p2 = Point()"
   ]
  },
  {
   "cell_type": "code",
   "execution_count": null,
   "id": "395d7fc1",
   "metadata": {},
   "outputs": [],
   "source": [
    "p1.x = 5\n",
    "p1.y = 4"
   ]
  },
  {
   "cell_type": "code",
   "execution_count": null,
   "id": "07466cf7",
   "metadata": {},
   "outputs": [],
   "source": [
    "p2.x = 3\n",
    "p2.y = 6"
   ]
  },
  {
   "cell_type": "code",
   "execution_count": null,
   "id": "07ae4534",
   "metadata": {},
   "outputs": [],
   "source": [
    "print(p1.x, p1.y)"
   ]
  },
  {
   "cell_type": "code",
   "execution_count": null,
   "id": "b7e85082",
   "metadata": {},
   "outputs": [],
   "source": [
    "print(p2.x, p2.y)"
   ]
  },
  {
   "cell_type": "markdown",
   "id": "0d83be70",
   "metadata": {},
   "source": [
    "## Making it do something\n",
    "- adding behaviors/methods\n",
    "- `self` is a required parameter which refers to each instance of the class\n",
    "- `self` is essentially replaced by object name"
   ]
  },
  {
   "cell_type": "code",
   "execution_count": null,
   "id": "7d558260",
   "metadata": {},
   "outputs": [],
   "source": [
    "class Point:\n",
    "    def reset(self):\n",
    "        self.x = 0\n",
    "        self.y = 0\n",
    "        \n",
    "    def reset1(): # not correct!\n",
    "        self.x = 0\n",
    "        self.y = 0"
   ]
  },
  {
   "cell_type": "code",
   "execution_count": null,
   "id": "ffa5ac7e",
   "metadata": {},
   "outputs": [],
   "source": [
    "p = Point()"
   ]
  },
  {
   "cell_type": "code",
   "execution_count": null,
   "id": "c7cddd63",
   "metadata": {},
   "outputs": [],
   "source": [
    "p.reset()"
   ]
  },
  {
   "cell_type": "code",
   "execution_count": null,
   "id": "f86a94af",
   "metadata": {},
   "outputs": [],
   "source": [
    "print(p.x, p.y)"
   ]
  },
  {
   "cell_type": "code",
   "execution_count": null,
   "id": "3209be7c",
   "metadata": {},
   "outputs": [],
   "source": [
    "p.reset1()"
   ]
  },
  {
   "cell_type": "code",
   "execution_count": null,
   "id": "492bd438",
   "metadata": {},
   "outputs": [],
   "source": [
    "# self is not defined!\n",
    "Point.reset1()"
   ]
  },
  {
   "cell_type": "markdown",
   "id": "2d00d693",
   "metadata": {},
   "source": [
    "## More arguments\n",
    "- add more methods that take arguments"
   ]
  },
  {
   "cell_type": "code",
   "execution_count": null,
   "id": "8fb4e52a",
   "metadata": {},
   "outputs": [],
   "source": [
    "import math\n",
    "\n",
    "class Point:\n",
    "    def move(self, x: float, y:float) -> None:\n",
    "        self.x = x\n",
    "        self.y = y\n",
    "    \n",
    "    def reset(self) -> None:\n",
    "        self.move(0, 0)\n",
    "        \n",
    "    def calculate_distance(self, other: \"Point\") -> float:\n",
    "        return math.hypot(self.x - other.x, self.y - other.y)"
   ]
  },
  {
   "cell_type": "code",
   "execution_count": null,
   "id": "d622af9c",
   "metadata": {},
   "outputs": [],
   "source": [
    "point1 = Point()"
   ]
  },
  {
   "cell_type": "code",
   "execution_count": null,
   "id": "ad9263de",
   "metadata": {},
   "outputs": [],
   "source": [
    "point2 = Point()"
   ]
  },
  {
   "cell_type": "code",
   "execution_count": null,
   "id": "8be1d6c5",
   "metadata": {},
   "outputs": [],
   "source": [
    "point1.reset()"
   ]
  },
  {
   "cell_type": "code",
   "execution_count": null,
   "id": "db347157",
   "metadata": {},
   "outputs": [],
   "source": [
    "point2.move(5, 0)"
   ]
  },
  {
   "cell_type": "code",
   "execution_count": null,
   "id": "ac63e366",
   "metadata": {},
   "outputs": [],
   "source": [
    "print(point2.calculate_distance(point1))"
   ]
  },
  {
   "cell_type": "code",
   "execution_count": null,
   "id": "3e3c1a17",
   "metadata": {},
   "outputs": [],
   "source": [
    "assert point2.calculate_distance(point1) == point1.calculate_distance(point2)"
   ]
  },
  {
   "cell_type": "code",
   "execution_count": null,
   "id": "3318bf89",
   "metadata": {},
   "outputs": [],
   "source": [
    "point1.move(3, 4)"
   ]
  },
  {
   "cell_type": "code",
   "execution_count": null,
   "id": "9dab7f58",
   "metadata": {},
   "outputs": [],
   "source": [
    "print(point1.calculate_distance(point2))"
   ]
  },
  {
   "cell_type": "code",
   "execution_count": null,
   "id": "04fdd1b5",
   "metadata": {},
   "outputs": [],
   "source": [
    "print(point1.calculate_distance(point1))"
   ]
  },
  {
   "cell_type": "markdown",
   "id": "c69e983f",
   "metadata": {},
   "source": [
    "## Initializing the object\n",
    "- attributes are dynamically attached in Python\n",
    "- it's hard for tools like mypy to know what attributes are available on objects of a class (could be very inconsistent)\n",
    "- most programming languages have constructors to properly construct and initialize the objects with required attributes\n",
    "- Python provides `__new__()` constructor method, but is rarely used\n",
    "- `__init__()` - initializer method is more common to initialize the required attributes across all the instances of a given class "
   ]
  },
  {
   "cell_type": "code",
   "execution_count": null,
   "id": "64570521",
   "metadata": {},
   "outputs": [],
   "source": [
    "point = Point()"
   ]
  },
  {
   "cell_type": "code",
   "execution_count": null,
   "id": "c523e4d5",
   "metadata": {},
   "outputs": [],
   "source": [
    "point.x = 5"
   ]
  },
  {
   "cell_type": "code",
   "execution_count": null,
   "id": "235308b9",
   "metadata": {},
   "outputs": [],
   "source": [
    "print(point.x)"
   ]
  },
  {
   "cell_type": "code",
   "execution_count": null,
   "id": "cce34d0d",
   "metadata": {},
   "outputs": [],
   "source": [
    "print(point.y)"
   ]
  },
  {
   "cell_type": "code",
   "execution_count": null,
   "id": "e6a4cde7",
   "metadata": {},
   "outputs": [],
   "source": [
    "import math\n",
    "\n",
    "class Point:\n",
    "    def __init__(self, x: float, y: float) -> None:\n",
    "        self.move(x, y)\n",
    "        \n",
    "    def move(self, x: float, y: float) -> None:\n",
    "        self.x = x\n",
    "        self.y = y\n",
    "        \n",
    "    def reset(self) -> None:\n",
    "        self.move(0, 0)\n",
    "        \n",
    "    def calculate_distance(self, other: \"Point\") -> None:\n",
    "        return math.hypot(self.x - other.x, self.y - other.y)\n",
    "    "
   ]
  },
  {
   "cell_type": "code",
   "execution_count": null,
   "id": "9477a0a5",
   "metadata": {},
   "outputs": [],
   "source": [
    "point = Point(3, 5)"
   ]
  },
  {
   "cell_type": "code",
   "execution_count": null,
   "id": "cce77d18",
   "metadata": {},
   "outputs": [],
   "source": [
    "print(point.x, point.y)"
   ]
  },
  {
   "cell_type": "code",
   "execution_count": null,
   "id": "8b49f21e-8288-4b0d-8e25-5b9362d5fa0f",
   "metadata": {},
   "outputs": [],
   "source": [
    "point.z = 100"
   ]
  },
  {
   "cell_type": "code",
   "execution_count": null,
   "id": "ebd54a5f-b259-49f4-89f8-095adbc44aa0",
   "metadata": {},
   "outputs": [],
   "source": [
    "print(point.x, point.y, point.z)"
   ]
  },
  {
   "cell_type": "code",
   "execution_count": null,
   "id": "ee294f95-6ba5-4b27-a6ce-9fa4567deaad",
   "metadata": {},
   "outputs": [],
   "source": [
    "# preventing dynamic attribute addition using __slots__ attribute\n",
    "\n",
    "import math\n",
    "\n",
    "class Point:\n",
    "    # prevents adding new attributes dynamically\n",
    "    __slots__ = ['x', 'y']\n",
    "    \n",
    "    def __init__(self, x: float, y: float) -> None:\n",
    "        self.x = x\n",
    "        self.y = y\n",
    "        "
   ]
  },
  {
   "cell_type": "code",
   "execution_count": null,
   "id": "3dbb2297-1e97-4449-8676-7565a406b3f3",
   "metadata": {},
   "outputs": [],
   "source": [
    "p1 = Point(4, 5)"
   ]
  },
  {
   "cell_type": "code",
   "execution_count": null,
   "id": "8ac97592-4f77-482e-86f2-3b31fedd8b64",
   "metadata": {},
   "outputs": [],
   "source": [
    "print(p1.x, p1.y)"
   ]
  },
  {
   "cell_type": "code",
   "execution_count": null,
   "id": "e4a9f16b-a2a9-4a93-8946-2983b64a3d85",
   "metadata": {},
   "outputs": [],
   "source": [
    "p1.z = 100"
   ]
  },
  {
   "cell_type": "markdown",
   "id": "cc5d82e2",
   "metadata": {},
   "source": [
    "## Type hints and defaults\n",
    "\n",
    "- sometimes providing the default values for parameters may be useful making them optional"
   ]
  },
  {
   "cell_type": "code",
   "execution_count": null,
   "id": "46b96979",
   "metadata": {},
   "outputs": [],
   "source": [
    "class Point:\n",
    "    def __init__(self, x: float = 0, y: float = 0) -> None:\n",
    "        self.x = x\n",
    "        self.y = y"
   ]
  },
  {
   "cell_type": "code",
   "execution_count": null,
   "id": "2f97a3fa",
   "metadata": {},
   "outputs": [],
   "source": [
    "# Multiline parameters; not common but may be used to \n",
    "# keep the line short and easier to read\n",
    "class Point:\n",
    "    def __init__(\n",
    "        self,\n",
    "        x: float = 0,\n",
    "        y: float = 0\n",
    "    ) -> None:\n",
    "        self.x = x\n",
    "        self.y = y"
   ]
  },
  {
   "cell_type": "markdown",
   "id": "4a05acb7",
   "metadata": {},
   "source": [
    "## Class Member Access Control\n",
    "\n",
    "- who can access my data and methods?\n",
    "- OOP languages such as C++, Java have the concept of **access control**\n",
    "- keywords such as private, protected, and public are used to qualify access controls on class members\n",
    "- Python doesn't believe in rules that may come on your way\n",
    "- Python makes use of saying: \"We're all adults here.\"\n",
    "    - no need to declare a variable private, if we can all see the source code!\n",
    "- Python recommends using a single `_` leading underscore/prefix\n",
    "    - *notion that this is an internal member variable/method*\n",
    "    - *think three times before accessing it directly* from objects\n",
    "- use `__` double leading underscores/prefix:\n",
    "    - *to strongly demand that the method/variable remain private* and never access from outside the object\n",
    "- `_` and `__` prefixes are just guidance/recommendation/best practices but never enforced as syntax"
   ]
  },
  {
   "cell_type": "markdown",
   "id": "f33a7ad1",
   "metadata": {},
   "source": [
    "## Property\n",
    "\n",
    "- Object's properties/attributes should not be accessed directly\n",
    "- they should be treated as private; use leading `_` or `__`\n",
    "- peroperties should be exposed via getter and setter API's\n",
    "- `@propery` builtin-function decorator allows us to define methods that can be accessed like an attribute\n",
    "- `@property` makes a method getter\n",
    "- `@<method_name>.setter` makes it a setter method\n",
    "- `@<method_name>.deleter` deletes an attribute\n",
    "    - use `del object.attribute` to delete an attribute"
   ]
  },
  {
   "cell_type": "code",
   "execution_count": null,
   "id": "032da8ae",
   "metadata": {},
   "outputs": [],
   "source": [
    "class Student:\n",
    "    def __init__(self, first_name: str, last_name: str) -> None:\n",
    "        self.first_name: str = first_name # public\n",
    "        self._last_name: str = last_name # treat as private\n",
    "        \n",
    "    # define the getter method using property decorator\n",
    "    @property\n",
    "    def last_name(self) -> str:\n",
    "        \"\"\"\n",
    "        Getter for _last_name property \n",
    "            - doc should be written to getter property!!\n",
    "        \"\"\"\n",
    "        return self._last_name\n",
    "    \n",
    "    # define the setter method using decorator\n",
    "    @last_name.setter\n",
    "    def last_name(self, value: str) -> None:\n",
    "        \"\"\"\n",
    "        Setter for _last_name property\n",
    "        \"\"\"\n",
    "        if value.isalpha:\n",
    "            self._last_name = value\n",
    "        else:\n",
    "            raise TypeError('Non-alphabetic in value:', value)\n",
    "            \n",
    "    @last_name.deleter\n",
    "    def last_name(self) -> None:\n",
    "        del self._last_name\n",
    "\n",
    "    def __str__(self):\n",
    "        \"\"\"\n",
    "        String representation of the object\n",
    "        \"\"\"\n",
    "        return f'{self._last_name}, {self.first_name}'\n",
    "    \n",
    "    # using getter and setter functions - not recommended!!\n",
    "    def _get_last_name(self) -> str:\n",
    "        return self._last_name\n",
    "    \n",
    "    def _set_last_name(self, last_name: str) -> None:\n",
    "        if last_name.isalpha:\n",
    "            self._last_name = last_name\n",
    "        else:\n",
    "            raise TypeError('Non-alphabetic in last_name', last_name)\n",
    "    \n",
    "    def _del_last_name(self) -> None:\n",
    "        del self._last_name\n",
    "        \n",
    "    # using property function to define getter and setter, deleter, doc\n",
    "    l_name = property(fget=_get_last_name, \n",
    "                      fset=_set_last_name,\n",
    "                      fdel=_del_last_name,\n",
    "                      doc=\"Last Name property.\"\n",
    "                      )"
   ]
  },
  {
   "cell_type": "code",
   "execution_count": null,
   "id": "5ee3013a",
   "metadata": {},
   "outputs": [],
   "source": [
    "student = Student(\"John\", \"Doe\")"
   ]
  },
  {
   "cell_type": "code",
   "execution_count": null,
   "id": "eae82f27",
   "metadata": {},
   "outputs": [],
   "source": [
    "# access the first name using data property\n",
    "print(student.first_name)"
   ]
  },
  {
   "cell_type": "code",
   "execution_count": null,
   "id": "d4efaa9c-0727-4d6b-aba4-0c74f7fbec00",
   "metadata": {},
   "outputs": [],
   "source": [
    "student.first_name = \"2323asfs_\""
   ]
  },
  {
   "cell_type": "code",
   "execution_count": null,
   "id": "cd4d8a29",
   "metadata": {},
   "outputs": [],
   "source": [
    "# access the last name using data property\n",
    "print(student._last_name)"
   ]
  },
  {
   "cell_type": "code",
   "execution_count": null,
   "id": "b100b14e",
   "metadata": {},
   "outputs": [],
   "source": [
    "# access the last name using getter property\n",
    "print(student.last_name)"
   ]
  },
  {
   "cell_type": "code",
   "execution_count": null,
   "id": "39021f26",
   "metadata": {},
   "outputs": [],
   "source": [
    "# @property makes method more like an attribute property\n",
    "# the following will raise an Exception\n",
    "print(student.last_name())"
   ]
  },
  {
   "cell_type": "code",
   "execution_count": null,
   "id": "520589b4",
   "metadata": {},
   "outputs": [],
   "source": [
    "student.last_name = \"Smith\""
   ]
  },
  {
   "cell_type": "code",
   "execution_count": null,
   "id": "afaff3ed",
   "metadata": {},
   "outputs": [],
   "source": [
    "print(student)"
   ]
  },
  {
   "cell_type": "code",
   "execution_count": null,
   "id": "8b651800",
   "metadata": {},
   "outputs": [],
   "source": [
    "student.l_name"
   ]
  },
  {
   "cell_type": "code",
   "execution_count": null,
   "id": "1398e0fa",
   "metadata": {},
   "outputs": [],
   "source": [
    "student.l_name = \"Johnson\""
   ]
  },
  {
   "cell_type": "code",
   "execution_count": null,
   "id": "25873abc",
   "metadata": {},
   "outputs": [],
   "source": [
    "student.last_name"
   ]
  },
  {
   "cell_type": "code",
   "execution_count": null,
   "id": "239c3ab0",
   "metadata": {},
   "outputs": [],
   "source": [
    "help(student)"
   ]
  },
  {
   "cell_type": "code",
   "execution_count": null,
   "id": "82636a12",
   "metadata": {},
   "outputs": [],
   "source": [
    "# let's delete l_name attribute\n",
    "del student.l_name"
   ]
  },
  {
   "cell_type": "code",
   "execution_count": null,
   "id": "426bf262",
   "metadata": {},
   "outputs": [],
   "source": [
    "# this will now throw an AttributeError\n",
    "print(student)"
   ]
  },
  {
   "cell_type": "code",
   "execution_count": null,
   "id": "f5a5f4e7",
   "metadata": {},
   "outputs": [],
   "source": [
    "del student.last_name"
   ]
  },
  {
   "cell_type": "markdown",
   "id": "0bc19c94",
   "metadata": {},
   "source": [
    "## Types of Class Methods\n",
    "\n",
    "- functions are normally called methods within a class\n",
    "- see this resource: https://realpython.com/instance-class-and-static-methods-demystified/\n",
    "\n",
    "### Instance Properties\n",
    "\n",
    "- attached to each instances with (self)\n",
    "- special methods:\n",
    "    - `getter`, `setter`, `deleter` methods\n",
    "    - use `@property` `@method.setter`, `@method.deleter` decorators\n",
    "- used as attribues/variables\n",
    "- see example above\n",
    "\n",
    "### Instance Methods\n",
    "    \n",
    "- regular *instance method*\n",
    "- methods take **self** first parameter which points to an instance itself\n",
    "- they freely access all the attributes and other methods on the same object\n",
    "- gives them lot of power when modifying an object's state\n",
    "- see example below\n",
    "    \n",
    "### Class Methods\n",
    "\n",
    "- methods belong to the class itself and are shared across all the instances\n",
    "- takes `cls` parameter that points to class and not the object instance\n",
    "- use `@classmethod` decorator to mark method as class method\n",
    "- can't modify/access object attributes and methods\n",
    "    - but can access/modify only class state/variables that are shared across all the instances\n",
    "\n",
    "### Static Methods\n",
    "\n",
    "- use `@staticmethod` decorator to mark static methods\n",
    "- acts as a regular function within a Class namespace\n",
    "- doesn't take `cls` or `self` parameters\n",
    "    - but can take any other arguments\n",
    "- neither modify class state nor object state"
   ]
  },
  {
   "cell_type": "code",
   "execution_count": null,
   "id": "e4a91bd1",
   "metadata": {},
   "outputs": [],
   "source": [
    "class MyClass:\n",
    "    class_var = 10\n",
    "\n",
    "    def __init__(self, a=5, b=10):\n",
    "        self.a = a\n",
    "        self.b = b\n",
    "    \n",
    "    def set_method(self, a, b):\n",
    "        self.a = a\n",
    "        self.b = b\n",
    "        return 'instance method called', self, self.__add()\n",
    "\n",
    "    def __add(self):\n",
    "        return self.a + self.b + MyClass.class_var\n",
    "\n",
    "    @classmethod\n",
    "    def classmethod(cls, a, b):\n",
    "        return 'class method called', cls, a+b+cls.class_var\n",
    "\n",
    "    @staticmethod\n",
    "    def staticmethod(a, b):\n",
    "        return 'static method called', a+b+MyClass.class_var"
   ]
  },
  {
   "cell_type": "code",
   "execution_count": null,
   "id": "132ecac5",
   "metadata": {},
   "outputs": [],
   "source": [
    "instance = MyClass()\n",
    "instance.set_method(2, 3)"
   ]
  },
  {
   "cell_type": "code",
   "execution_count": null,
   "id": "aeca739a",
   "metadata": {},
   "outputs": [],
   "source": [
    "# call class method\n",
    "MyClass.classmethod(3, 5)"
   ]
  },
  {
   "cell_type": "code",
   "execution_count": null,
   "id": "961ace48",
   "metadata": {},
   "outputs": [],
   "source": [
    "# call static method\n",
    "MyClass.staticmethod(3, 5)"
   ]
  },
  {
   "cell_type": "code",
   "execution_count": null,
   "id": "1968f5cf",
   "metadata": {},
   "outputs": [],
   "source": [
    "# multiple instances of MyClass is allowed and expected\n",
    "instance1 = MyClass()\n",
    "instance2 = MyClass()"
   ]
  },
  {
   "cell_type": "code",
   "execution_count": null,
   "id": "de470975",
   "metadata": {},
   "outputs": [],
   "source": [
    "# those instances are in fact different objects\n",
    "instance1 is instance2"
   ]
  },
  {
   "cell_type": "markdown",
   "id": "1f17389d",
   "metadata": {},
   "source": [
    "## Singleton Pattern\n",
    "\n",
    "- also called anti-pattern because there is only one instance of the class\n",
    "- use `__new__()` method to create a new instance of the class\n",
    "- `__new__()` is a class method that is called before the `__init__()` instance method\n",
    "- use `cls` parameter to check if the instance is already created\n",
    "- return the instance if it's already created\n",
    "- otherwise, create a new instance and return it\n",
    "- `__new__()` method takes the `cls` as the first argument\n",
    "    - also takes the rest of the arguments that are passed to the `__init__` method"
   ]
  },
  {
   "cell_type": "code",
   "execution_count": null,
   "id": "4e8f863a",
   "metadata": {},
   "outputs": [],
   "source": [
    "from __future__ import annotations\n",
    "\n",
    "class MySingletonClass:\n",
    "    _instance: \"MyClass\" | None = None\n",
    "\n",
    "    # singleton pattern\n",
    "    def __new__(cls, *args, **kwargs):\n",
    "        # we don't care about (a, b) so use args and kwargs within __new__\n",
    "        # not providing them will create syntax error because __init__ is defined with two arguments \n",
    "        if not cls._instance:\n",
    "            cls._instance = super().__new__(cls)\n",
    "        return cls._instance\n",
    "\n",
    "    def __init__(self, a, b):\n",
    "        self.a = a\n",
    "        self.b = b\n",
    "\n",
    "    def __str__(self):\n",
    "        return f'{self.a}, {self.b}'\n",
    "    \n",
    "    def __eq__(self, other):\n",
    "        return self.a == other.a and self.b == other.b"
   ]
  },
  {
   "cell_type": "code",
   "execution_count": null,
   "id": "a764ca44",
   "metadata": {},
   "outputs": [],
   "source": [
    "obj1 = MySingletonClass(2, 3)\n",
    "obj2 = MySingletonClass(3, 4)"
   ]
  },
  {
   "cell_type": "code",
   "execution_count": 4,
   "id": "b9b63da3",
   "metadata": {},
   "outputs": [
    {
     "data": {
      "text/plain": [
       "True"
      ]
     },
     "execution_count": 4,
     "metadata": {},
     "output_type": "execute_result"
    }
   ],
   "source": [
    "obj1 is obj2"
   ]
  },
  {
   "cell_type": "code",
   "execution_count": 5,
   "id": "b302bf1f",
   "metadata": {},
   "outputs": [
    {
     "name": "stdout",
     "output_type": "stream",
     "text": [
      "3, 4\n",
      "3, 4\n"
     ]
    }
   ],
   "source": [
    "print(obj1)\n",
    "print(obj2)"
   ]
  },
  {
   "cell_type": "code",
   "execution_count": 6,
   "id": "ad9b3855",
   "metadata": {},
   "outputs": [
    {
     "data": {
      "text/plain": [
       "True"
      ]
     },
     "execution_count": 6,
     "metadata": {},
     "output_type": "execute_result"
    }
   ],
   "source": [
    "obj1 == obj2"
   ]
  },
  {
   "cell_type": "code",
   "execution_count": null,
   "id": "230d3650",
   "metadata": {},
   "outputs": [],
   "source": [
    "def test_singleton():\n",
    "    obj1 = MySingletonClass(2, 3)\n",
    "    obj2 = MySingletonClass(30, 40)\n",
    "    assert obj1 is obj2"
   ]
  },
  {
   "cell_type": "code",
   "execution_count": 8,
   "id": "fdb8bf6c",
   "metadata": {},
   "outputs": [],
   "source": [
    "test_singleton()"
   ]
  },
  {
   "cell_type": "markdown",
   "id": "fbaae722",
   "metadata": {},
   "source": [
    "## Exercies\n",
    "\n",
    "- Solve the following Kattis problems using OOD\n",
    "- must use at least two classes; property, methods, attributes, etc.\n",
    "- must use docstrings for each class and method\n",
    "- must use mypy to ensure you're using variables and functions type correctly\n",
    "- attributes must be privates\n",
    "- must use getter and setter methods for each attribute where appropriate\n",
    "- must generate HTML documentation of the docstrings into a documentations directory\n",
    "- must create UML diagrams of each class and their interactions\n",
    "\n",
    "1. Sum Kind of Problem - https://open.kattis.com/problems/sumkindofproblem\n",
    "2. Convex Polygon Area - https://open.kattis.com/problems/convexpolygonarea"
   ]
  },
  {
   "cell_type": "code",
   "execution_count": null,
   "id": "95d9e944",
   "metadata": {},
   "outputs": [],
   "source": []
  }
 ],
 "metadata": {
  "kernelspec": {
   "display_name": "Python 3",
   "language": "python",
   "name": "python3"
  },
  "language_info": {
   "codemirror_mode": {
    "name": "ipython",
    "version": 3
   },
   "file_extension": ".py",
   "mimetype": "text/x-python",
   "name": "python",
   "nbconvert_exporter": "python",
   "pygments_lexer": "ipython3",
   "version": "3.12.1"
  }
 },
 "nbformat": 4,
 "nbformat_minor": 5
}
