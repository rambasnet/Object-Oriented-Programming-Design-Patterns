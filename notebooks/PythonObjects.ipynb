{
 "cells": [
  {
   "cell_type": "markdown",
   "id": "56a531c0",
   "metadata": {},
   "source": [
    "# Objects In Python\n",
    "- once the design step is completed, we turn those designs into code and a working program\n",
    "\n",
    "## Type Hints\n",
    "- everything in Python is object\n",
    "- Python is dynamically typed language\n",
    "- type of a variable or object is determined during run-time based on the type of data/object the variable is assigned\n",
    "- the built-in `type()` function can be used to know the type of an object"
   ]
  },
  {
   "cell_type": "code",
   "execution_count": null,
   "id": "111ff52b",
   "metadata": {},
   "outputs": [],
   "source": [
    "type(\"Hello World!\")"
   ]
  },
  {
   "cell_type": "code",
   "execution_count": null,
   "id": "68896b58",
   "metadata": {},
   "outputs": [],
   "source": [
    "type(42)"
   ]
  },
  {
   "cell_type": "code",
   "execution_count": null,
   "id": "aea340af",
   "metadata": {},
   "outputs": [],
   "source": [
    "type(1.5)"
   ]
  },
  {
   "cell_type": "code",
   "execution_count": null,
   "id": "92b25c9a",
   "metadata": {},
   "outputs": [],
   "source": [
    "msg = 'Hello World'"
   ]
  },
  {
   "cell_type": "code",
   "execution_count": null,
   "id": "3c6f4697",
   "metadata": {},
   "outputs": [],
   "source": [
    "type(msg)"
   ]
  },
  {
   "cell_type": "code",
   "execution_count": null,
   "id": "3dce5c61",
   "metadata": {},
   "outputs": [],
   "source": [
    "msg = 42"
   ]
  },
  {
   "cell_type": "code",
   "execution_count": null,
   "id": "fa68829c",
   "metadata": {},
   "outputs": [],
   "source": [
    "type(msg)"
   ]
  },
  {
   "cell_type": "code",
   "execution_count": null,
   "id": "6f283190",
   "metadata": {},
   "outputs": [],
   "source": [
    "msg = 1.5"
   ]
  },
  {
   "cell_type": "code",
   "execution_count": null,
   "id": "fdd74f6f",
   "metadata": {},
   "outputs": [],
   "source": [
    "type(msg)"
   ]
  },
  {
   "cell_type": "code",
   "execution_count": null,
   "id": "c3c53b4b",
   "metadata": {},
   "outputs": [],
   "source": [
    "id(msg)"
   ]
  },
  {
   "cell_type": "markdown",
   "id": "cead2cc7",
   "metadata": {},
   "source": [
    "## Type checking\n",
    "- issue with dynamic typing and operations"
   ]
  },
  {
   "cell_type": "code",
   "execution_count": null,
   "id": "1cd6ca70",
   "metadata": {},
   "outputs": [],
   "source": [
    "def odd(n):\n",
    "    return n%2 == 1"
   ]
  },
  {
   "cell_type": "code",
   "execution_count": null,
   "id": "0ef20da1",
   "metadata": {},
   "outputs": [],
   "source": [
    "odd(3)"
   ]
  },
  {
   "cell_type": "code",
   "execution_count": null,
   "id": "9e8486e1",
   "metadata": {},
   "outputs": [],
   "source": [
    "odd(4)"
   ]
  },
  {
   "cell_type": "code",
   "execution_count": null,
   "id": "d6994414",
   "metadata": {},
   "outputs": [],
   "source": [
    "# what about odd of str\n",
    "odd('Hello World')"
   ]
  },
  {
   "cell_type": "code",
   "execution_count": null,
   "id": "e885563f",
   "metadata": {},
   "outputs": [],
   "source": [
    "# redefining odd using type hint\n",
    "def odd(n: int) -> bool:\n",
    "    return n%2 == 1"
   ]
  },
  {
   "cell_type": "code",
   "execution_count": null,
   "id": "449f7d30",
   "metadata": {},
   "outputs": [],
   "source": [
    "odd(10)"
   ]
  },
  {
   "cell_type": "code",
   "execution_count": null,
   "id": "7359276c",
   "metadata": {},
   "outputs": [],
   "source": [
    "odd('hi')"
   ]
  },
  {
   "cell_type": "markdown",
   "id": "1a89e5f3",
   "metadata": {},
   "source": [
    "## mypy tool\n",
    "\n",
    "- [https://mypy-lang.org/](https://mypy-lang.org/)\n",
    "- mypy tool is commonly used to check the Type hints for consistency\n",
    "    - it's an effort to make Python type safe similar to static-typed languages\n",
    "- it's a third-party library that must be installed using `pip` or `conda`\n",
    "- https://mypy.readthedocs.io/en/stable/getting_started.html#\n",
    "- if you use `--strict mode`, you'll never get a run-time error in Python unless you explicitly circumvent `mypy`!!\n",
    "- use `--disallow-untyped-defs` to warn if you add dynamic functions by mistake "
   ]
  },
  {
   "cell_type": "code",
   "execution_count": null,
   "id": "613406fc",
   "metadata": {},
   "outputs": [],
   "source": [
    "! conda install mypy"
   ]
  },
  {
   "cell_type": "code",
   "execution_count": null,
   "id": "624c6a9f",
   "metadata": {},
   "outputs": [],
   "source": [
    "! cat src/objects/bad_hints.py"
   ]
  },
  {
   "cell_type": "code",
   "execution_count": null,
   "id": "03e44e96",
   "metadata": {},
   "outputs": [],
   "source": [
    "# technically there should be errors, but ...\n",
    "! mypy src/objects/bad_hints.py"
   ]
  },
  {
   "cell_type": "code",
   "execution_count": null,
   "id": "a2ee4b55",
   "metadata": {},
   "outputs": [],
   "source": [
    "! mypy --disallow-untyped-defs src/objects/bad_hints.py"
   ]
  },
  {
   "cell_type": "code",
   "execution_count": null,
   "id": "314e3d92",
   "metadata": {},
   "outputs": [],
   "source": [
    "! mypy --strict src/objects/good_hints.py"
   ]
  },
  {
   "cell_type": "markdown",
   "id": "81049542",
   "metadata": {},
   "source": [
    "## Creating Python classes\n",
    "- use `class` keyword to define a Python class\n",
    "- class helps essentially create new **type**\n",
    "- class is a synonym for type\n",
    "- class name must follow standard Python variable naming rules:\n",
    "    - it must start with a letter or underscore\n",
    "    - can only be comprised of letters, underscores, or numbers.\n",
    "    - the Python style guide (PEP 8) recommends using CapWords for the class name"
   ]
  },
  {
   "cell_type": "code",
   "execution_count": null,
   "id": "11ab6b8a",
   "metadata": {},
   "outputs": [],
   "source": [
    "class HelloClass:\n",
    "    pass"
   ]
  },
  {
   "cell_type": "code",
   "execution_count": null,
   "id": "b67626b1",
   "metadata": {},
   "outputs": [],
   "source": [
    "# instantiate objects from HelloClass\n",
    "a = HelloClass()"
   ]
  },
  {
   "cell_type": "code",
   "execution_count": null,
   "id": "59f24f6f",
   "metadata": {},
   "outputs": [],
   "source": [
    "print(a)"
   ]
  },
  {
   "cell_type": "code",
   "execution_count": null,
   "id": "a380e42d",
   "metadata": {},
   "outputs": [],
   "source": [
    "b = HelloClass()"
   ]
  },
  {
   "cell_type": "code",
   "execution_count": null,
   "id": "85c8ef81",
   "metadata": {},
   "outputs": [],
   "source": [
    "print(b)"
   ]
  },
  {
   "cell_type": "code",
   "execution_count": null,
   "id": "e572bcbc",
   "metadata": {},
   "outputs": [],
   "source": [
    "# a and b are two distinct objects stored at different memory locations\n",
    "a is b"
   ]
  },
  {
   "cell_type": "markdown",
   "id": "1438aadb",
   "metadata": {},
   "source": [
    "## Adding attributes\n",
    "- the HelloClass is syntactically valid but useless\n",
    "- we can dynamically add attributes in Python\n",
    "- let's define a class representing a point in 2-D geometry\n",
    "- use the dot `.` operator to add/access attributes"
   ]
  },
  {
   "cell_type": "code",
   "execution_count": null,
   "id": "7fb92787",
   "metadata": {},
   "outputs": [],
   "source": [
    "class Point:\n",
    "    pass"
   ]
  },
  {
   "cell_type": "code",
   "execution_count": null,
   "id": "a562d1b3",
   "metadata": {},
   "outputs": [],
   "source": [
    "p1 = Point()"
   ]
  },
  {
   "cell_type": "code",
   "execution_count": null,
   "id": "d6b103d5",
   "metadata": {},
   "outputs": [],
   "source": [
    "p2 = Point()"
   ]
  },
  {
   "cell_type": "code",
   "execution_count": null,
   "id": "395d7fc1",
   "metadata": {},
   "outputs": [],
   "source": [
    "p1.x = 5\n",
    "p1.y = 4"
   ]
  },
  {
   "cell_type": "code",
   "execution_count": null,
   "id": "07466cf7",
   "metadata": {},
   "outputs": [],
   "source": [
    "p2.x = 3\n",
    "p2.y = 6"
   ]
  },
  {
   "cell_type": "code",
   "execution_count": null,
   "id": "07ae4534",
   "metadata": {},
   "outputs": [],
   "source": [
    "print(p1.x, p1.y)"
   ]
  },
  {
   "cell_type": "code",
   "execution_count": null,
   "id": "b7e85082",
   "metadata": {},
   "outputs": [],
   "source": [
    "print(p2.x, p2.y)"
   ]
  },
  {
   "cell_type": "markdown",
   "id": "0d83be70",
   "metadata": {},
   "source": [
    "## Making it do something\n",
    "- adding behaviors/methods\n",
    "- `self` is a required parameter which refers to each instance of the class\n",
    "- `self` is essentially replaced by object name"
   ]
  },
  {
   "cell_type": "code",
   "execution_count": null,
   "id": "7d558260",
   "metadata": {},
   "outputs": [],
   "source": [
    "class Point:\n",
    "    def reset(self):\n",
    "        self.x = 0\n",
    "        self.y = 0\n",
    "        \n",
    "    def reset1(): # not correct!\n",
    "        self.x = 0\n",
    "        self.y = 0"
   ]
  },
  {
   "cell_type": "code",
   "execution_count": null,
   "id": "ffa5ac7e",
   "metadata": {},
   "outputs": [],
   "source": [
    "p = Point()"
   ]
  },
  {
   "cell_type": "code",
   "execution_count": null,
   "id": "c7cddd63",
   "metadata": {},
   "outputs": [],
   "source": [
    "p.reset()"
   ]
  },
  {
   "cell_type": "code",
   "execution_count": null,
   "id": "f86a94af",
   "metadata": {},
   "outputs": [],
   "source": [
    "print(p.x, p.y)"
   ]
  },
  {
   "cell_type": "code",
   "execution_count": null,
   "id": "3209be7c",
   "metadata": {},
   "outputs": [],
   "source": [
    "p.reset1()"
   ]
  },
  {
   "cell_type": "code",
   "execution_count": null,
   "id": "492bd438",
   "metadata": {},
   "outputs": [],
   "source": [
    "# self is not defined!\n",
    "Point.reset1()"
   ]
  },
  {
   "cell_type": "markdown",
   "id": "2d00d693",
   "metadata": {},
   "source": [
    "## More arguments\n",
    "- add more methods that take arguments"
   ]
  },
  {
   "cell_type": "code",
   "execution_count": null,
   "id": "8fb4e52a",
   "metadata": {},
   "outputs": [],
   "source": [
    "import math\n",
    "\n",
    "class Point:\n",
    "    def move(self, x: float, y:float) -> None:\n",
    "        self.x = x\n",
    "        self.y = y\n",
    "    \n",
    "    def reset(self) -> None:\n",
    "        self.move(0, 0)\n",
    "        \n",
    "    def calculate_distance(self, other: \"Point\") -> float:\n",
    "        return math.hypot(self.x - other.x, self.y - other.y)"
   ]
  },
  {
   "cell_type": "code",
   "execution_count": null,
   "id": "d622af9c",
   "metadata": {},
   "outputs": [],
   "source": [
    "point1 = Point()"
   ]
  },
  {
   "cell_type": "code",
   "execution_count": null,
   "id": "ad9263de",
   "metadata": {},
   "outputs": [],
   "source": [
    "point2 = Point()"
   ]
  },
  {
   "cell_type": "code",
   "execution_count": null,
   "id": "8be1d6c5",
   "metadata": {},
   "outputs": [],
   "source": [
    "point1.reset()"
   ]
  },
  {
   "cell_type": "code",
   "execution_count": null,
   "id": "db347157",
   "metadata": {},
   "outputs": [],
   "source": [
    "point2.move(5, 0)"
   ]
  },
  {
   "cell_type": "code",
   "execution_count": null,
   "id": "ac63e366",
   "metadata": {},
   "outputs": [],
   "source": [
    "print(point2.calculate_distance(point1))"
   ]
  },
  {
   "cell_type": "code",
   "execution_count": null,
   "id": "3e3c1a17",
   "metadata": {},
   "outputs": [],
   "source": [
    "assert point2.calculate_distance(point1) == point1.calculate_distance(point2)"
   ]
  },
  {
   "cell_type": "code",
   "execution_count": null,
   "id": "3318bf89",
   "metadata": {},
   "outputs": [],
   "source": [
    "point1.move(3, 4)"
   ]
  },
  {
   "cell_type": "code",
   "execution_count": null,
   "id": "9dab7f58",
   "metadata": {},
   "outputs": [],
   "source": [
    "print(point1.calculate_distance(point2))"
   ]
  },
  {
   "cell_type": "code",
   "execution_count": null,
   "id": "04fdd1b5",
   "metadata": {},
   "outputs": [],
   "source": [
    "print(point1.calculate_distance(point1))"
   ]
  },
  {
   "cell_type": "markdown",
   "id": "c69e983f",
   "metadata": {},
   "source": [
    "## Initializing the object\n",
    "- attributes are dynamically attached in Python\n",
    "- it's hard for tools like mypy to know what attributes are available on objects of a class (could be very inconsistent)\n",
    "- most programming languages have constructors to properly construct and initialize the objects with required attributes\n",
    "- Python provides `__new__()` constructor method, but is rarely used\n",
    "- `__init__()` - initializer method is more common to initialize the required attributes across all the instances of a given class "
   ]
  },
  {
   "cell_type": "code",
   "execution_count": null,
   "id": "64570521",
   "metadata": {},
   "outputs": [],
   "source": [
    "point = Point()"
   ]
  },
  {
   "cell_type": "code",
   "execution_count": null,
   "id": "c523e4d5",
   "metadata": {},
   "outputs": [],
   "source": [
    "point.x = 5"
   ]
  },
  {
   "cell_type": "code",
   "execution_count": null,
   "id": "235308b9",
   "metadata": {},
   "outputs": [],
   "source": [
    "print(point.x)"
   ]
  },
  {
   "cell_type": "code",
   "execution_count": null,
   "id": "cce34d0d",
   "metadata": {},
   "outputs": [],
   "source": [
    "print(point.y)"
   ]
  },
  {
   "cell_type": "code",
   "execution_count": null,
   "id": "e6a4cde7",
   "metadata": {},
   "outputs": [],
   "source": [
    "import math\n",
    "\n",
    "class Point:\n",
    "    def __init__(self, x: float, y: float) -> None:\n",
    "        self.move(x, y)\n",
    "        \n",
    "    def move(self, x: float, y: float) -> None:\n",
    "        self.x = x\n",
    "        self.y = y\n",
    "        \n",
    "    def reset(self) -> None:\n",
    "        self.move(0, 0)\n",
    "        \n",
    "    def calculate_distance(self, other: \"Point\") -> None:\n",
    "        return math.hypot(self.x - other.x, self.y - other.y)\n",
    "    "
   ]
  },
  {
   "cell_type": "code",
   "execution_count": null,
   "id": "9477a0a5",
   "metadata": {},
   "outputs": [],
   "source": [
    "point = Point(3, 5)"
   ]
  },
  {
   "cell_type": "code",
   "execution_count": null,
   "id": "cce77d18",
   "metadata": {},
   "outputs": [],
   "source": [
    "print(point.x, point.y)"
   ]
  },
  {
   "cell_type": "markdown",
   "id": "cc5d82e2",
   "metadata": {},
   "source": [
    "## Type hints and defaults\n",
    "\n",
    "- sometimes providing the default values for parameters may be useful making them optional"
   ]
  },
  {
   "cell_type": "code",
   "execution_count": null,
   "id": "46b96979",
   "metadata": {},
   "outputs": [],
   "source": [
    "class Point:\n",
    "    def __init__(self, x: float = 0, y: float = 0) -> None:\n",
    "        self.x = x\n",
    "        self.y = y"
   ]
  },
  {
   "cell_type": "code",
   "execution_count": null,
   "id": "2f97a3fa",
   "metadata": {},
   "outputs": [],
   "source": [
    "# multiline parameters; not common but may be used to \n",
    "# keep the line short and easier to read\n",
    "class Point:\n",
    "    def __init__(\n",
    "        self,\n",
    "        x: float = 0,\n",
    "        y: float = 0\n",
    "    ) -> None:\n",
    "        self.x = x\n",
    "        self.y = y"
   ]
  },
  {
   "cell_type": "markdown",
   "id": "6b39f84c",
   "metadata": {},
   "source": [
    "## Explaining yourself with docstrings\n",
    "\n",
    "- Python is easy to read and is self-documenting (mostly)\n",
    "- in OOP, it's important to write API documentation that clearly summarizes what each object and method does\n",
    "- Python supports this through **docstrings**\n",
    "- **docstrings** are strings with triple-single (''') or triple-double (\"\"\") quotes\n",
    "- one of the best things to include in a **docstring** is a concrete example\n",
    "- tools like **doctest** can locate and confirm these examples are correct; providing a quick test\n",
    "- see `src/objects/point.py` file for demo\n",
    "- run `mypy --strict point.py` to check for type correctness\n",
    "- run the script with `-i` option to enter into interactive mode\n",
    "    - `python -i point.py`\n",
    "- run the `doctest` to test the examples provided in **docstrings**\n",
    "    - `python -m doctest point.py`\n",
    "    - provides no output if all the examples are correct"
   ]
  },
  {
   "cell_type": "code",
   "execution_count": null,
   "id": "88417cdc",
   "metadata": {},
   "outputs": [],
   "source": [
    "# should provide no error...\n",
    "! python -m doctest src/objects/point.py"
   ]
  },
  {
   "cell_type": "markdown",
   "id": "80f5f1db",
   "metadata": {},
   "source": [
    "### VS Code Extension\n",
    "\n",
    "- use autoDocString extension to quickly write documentation of your methods/API\n",
    "- search for audoDocstring from the extension manager in VS Code and install it\n",
    "- just type ''' or \"\"\" under any class or function name to generate boilerplate docstrings\n",
    "\n",
    "### pdoc3\n",
    "\n",
    "- https://pypi.org/project/pdoc3/\n",
    "- auto-generate API documentation for Python projects\n",
    "\n",
    "```bash\n",
    "pip install pdoc3\n",
    "pdoc --help\n",
    "pdoc your_project\n",
    "pdoc -o documentations point.py\n",
    "# Create HTML documentation of point.py into the documentations folder\n",
    "```"
   ]
  },
  {
   "cell_type": "code",
   "execution_count": null,
   "id": "b1e1df9d",
   "metadata": {},
   "outputs": [],
   "source": [
    "! pip install pdoc3"
   ]
  },
  {
   "cell_type": "markdown",
   "id": "7b405ad2",
   "metadata": {},
   "source": [
    "## Modules and Packages\n",
    "\n",
    "- modules are Python files/scripts with .py extension\n",
    "- package is a collection of modules in a folder\n",
    "- package is a folder with `__init__.py` file (normally empty!)\n",
    "- packages help organize modules' folder hierarchy\n",
    "- never use wildcard **\\*** import\n",
    "    - pollutes the current namespace\n",
    "    - difficult to understand what names are imported from what modules and packages\n",
    "- must use import guard to enclose all your executable code\n",
    "\n",
    "```python\n",
    "if __name__ == \"__main__\":\n",
    "    # executable code; function call\n",
    "    main()\n",
    "```\n",
    "\n",
    "### Importing modules and names into Python scripts\n",
    "\n",
    "### Absolute imports\n",
    "\n",
    "- provides a complete path to the module, class, and function we want to import\n",
    "- let's see the demo packages and modules in the `src/objects` folder"
   ]
  },
  {
   "cell_type": "code",
   "execution_count": null,
   "id": "279e29b7",
   "metadata": {},
   "outputs": [],
   "source": [
    "! pwd"
   ]
  },
  {
   "cell_type": "code",
   "execution_count": null,
   "id": "782eeb49",
   "metadata": {},
   "outputs": [],
   "source": [
    "! ls "
   ]
  },
  {
   "cell_type": "code",
   "execution_count": null,
   "id": "2f87a24b",
   "metadata": {},
   "outputs": [],
   "source": [
    "%cd ./src/objects/"
   ]
  },
  {
   "cell_type": "code",
   "execution_count": null,
   "id": "03772fb1",
   "metadata": {},
   "outputs": [],
   "source": [
    "! pwd"
   ]
  },
  {
   "cell_type": "code",
   "execution_count": null,
   "id": "200cde15",
   "metadata": {},
   "outputs": [],
   "source": [
    "! ls"
   ]
  },
  {
   "cell_type": "code",
   "execution_count": null,
   "id": "d540953a",
   "metadata": {},
   "outputs": [],
   "source": [
    "# importing the whole package doesn't import any modules; not a good idea!\n",
    "# you can import code in __init__.py file to import a specific module; but not recommended!\n",
    "import ecommerce"
   ]
  },
  {
   "cell_type": "code",
   "execution_count": null,
   "id": "ff821752",
   "metadata": {},
   "outputs": [],
   "source": [
    "# user dir() built-in function to see the package contents\n",
    "dir(ecommerce)"
   ]
  },
  {
   "cell_type": "code",
   "execution_count": null,
   "id": "de8a81a4",
   "metadata": {},
   "outputs": [],
   "source": [
    "product = ecommerce.products.Product(\"name1\")"
   ]
  },
  {
   "cell_type": "code",
   "execution_count": null,
   "id": "4d62808c-08d1-4c92-a142-54386385d500",
   "metadata": {},
   "outputs": [],
   "source": [
    "import ecommerce.products"
   ]
  },
  {
   "cell_type": "code",
   "execution_count": null,
   "id": "7734527d",
   "metadata": {},
   "outputs": [],
   "source": [
    "help(ecommerce.products)"
   ]
  },
  {
   "cell_type": "code",
   "execution_count": null,
   "id": "f4db7134",
   "metadata": {},
   "outputs": [],
   "source": [
    "# importing and creating alias\n",
    "import ecommerce.products as pr"
   ]
  },
  {
   "cell_type": "code",
   "execution_count": null,
   "id": "d39a5b34",
   "metadata": {},
   "outputs": [],
   "source": [
    "dir(pr)"
   ]
  },
  {
   "cell_type": "code",
   "execution_count": null,
   "id": "5f9f97e5",
   "metadata": {},
   "outputs": [],
   "source": [
    "product = pr.Product('Some name')"
   ]
  },
  {
   "cell_type": "code",
   "execution_count": null,
   "id": "d0b8ee89",
   "metadata": {},
   "outputs": [],
   "source": [
    "print(product.name)"
   ]
  },
  {
   "cell_type": "code",
   "execution_count": null,
   "id": "5fd061dc",
   "metadata": {},
   "outputs": [],
   "source": [
    "# import just one module\n",
    "from ecommerce import products"
   ]
  },
  {
   "cell_type": "markdown",
   "id": "6724bf3f",
   "metadata": {},
   "source": [
    "### Relative imports\n",
    "- import module, class, and function, relative to the current module\n",
    "- use `.` for the current package\n",
    "- use `..` for parent package\n",
    "\n",
    "```python\n",
    "from .database import Database\n",
    "from ..ecommerce.database import Database\n",
    "```"
   ]
  },
  {
   "cell_type": "markdown",
   "id": "4a05acb7",
   "metadata": {},
   "source": [
    "## Class Member Access Control\n",
    "\n",
    "- who can access my data and methods?\n",
    "- OOP languages such as C++, Java have the concept of **access control**\n",
    "- keywords such as private, protected, and public are used to qualify access controls on class members\n",
    "- Python doesn't believe in rules that may come on your way\n",
    "- Python makes use of saying: \"We're all adults here.\"\n",
    "    - no need to declare a variable, if we can all see the source code!\n",
    "- Python recommends using a single `_` leading underscore/prefix\n",
    "    - *notion that this is an internal member variable/method*\n",
    "    - *think three times before accessing it directly* from objects\n",
    "- use `__` double leading underscores/prefix:\n",
    "    - *to strongly demand that the method/variable remain private* and never access from outside the object\n",
    "- `_` and `__` prefixes are just guidance/recommendation/best practices but never enforced as syntax"
   ]
  },
  {
   "cell_type": "markdown",
   "id": "f33a7ad1",
   "metadata": {},
   "source": [
    "## Property\n",
    "\n",
    "- Object's properties/attributes should not be accessed directly\n",
    "- they should be treated as private; use leading `_` or `__`\n",
    "- peroperties should be exposed via getter and setter API's\n",
    "- `@propery` builtin-function decorator allows us to define methods that can be accessed like an attribute\n",
    "- `@property` makes a method getter\n",
    "- `@<method_name>.setter` makes it a setter method\n",
    "- `@<method_name>.deleter` deletes an attribute\n",
    "    - use `del object.attribute` to delete an attribute"
   ]
  },
  {
   "cell_type": "code",
   "execution_count": 12,
   "id": "032da8ae",
   "metadata": {},
   "outputs": [],
   "source": [
    "class Student:\n",
    "    def __init__(self, first_name: str, last_name: str) -> None:\n",
    "        self.first_name: str = first_name # public\n",
    "        self._last_name: str = last_name # treat as private\n",
    "        \n",
    "    # define the getter method using property decorator\n",
    "    @property\n",
    "    def last_name(self) -> str:\n",
    "        \"\"\"\n",
    "        Getter for _last_name property \n",
    "            - doc should be written to getter property!!\n",
    "        \"\"\"\n",
    "        return self._last_name\n",
    "    \n",
    "    # define the setter method using decorator\n",
    "    @last_name.setter\n",
    "    def last_name(self, value: str) -> None:\n",
    "        \"\"\"\n",
    "        Setter for _last_name property\n",
    "        \"\"\"\n",
    "        if value.isalpha:\n",
    "            self._last_name = value\n",
    "        else:\n",
    "            raise TypeError('Non-alphabetic in value:', value)\n",
    "            \n",
    "    @last_name.deleter\n",
    "    def last_name(self) -> None:\n",
    "        del self._last_name\n",
    "\n",
    "    def __str__(self):\n",
    "        \"\"\"\n",
    "        String representation of the object\n",
    "        \"\"\"\n",
    "        return f'{self._last_name}, {self.first_name}'\n",
    "    \n",
    "    # using getter and setter functions - not recommended!!\n",
    "    def _get_last_name(self) -> str:\n",
    "        return self._last_name\n",
    "    \n",
    "    def _set_last_name(self, last_name: str) -> None:\n",
    "        if last_name.isalpha:\n",
    "            self._last_name = last_name\n",
    "        else:\n",
    "            raise TypeError('Non-alphabetic in last_name', last_name)\n",
    "    \n",
    "    def _del_last_name(self) -> None:\n",
    "        del self._last_name\n",
    "        \n",
    "    # using property function to define getter and setter, deleter, doc\n",
    "    l_name = property(fget=_get_last_name, \n",
    "                      fset=_set_last_name,\n",
    "                      fdel=_del_last_name,\n",
    "                      doc=\"Last name property.\"\n",
    "                      )"
   ]
  },
  {
   "cell_type": "code",
   "execution_count": 13,
   "id": "5ee3013a",
   "metadata": {},
   "outputs": [],
   "source": [
    "student = Student(\"John\", \"Doe\")"
   ]
  },
  {
   "cell_type": "code",
   "execution_count": 14,
   "id": "eae82f27",
   "metadata": {},
   "outputs": [
    {
     "name": "stdout",
     "output_type": "stream",
     "text": [
      "John\n"
     ]
    }
   ],
   "source": [
    "# access the first name using data property\n",
    "print(student.first_name)"
   ]
  },
  {
   "cell_type": "code",
   "execution_count": null,
   "id": "d4efaa9c-0727-4d6b-aba4-0c74f7fbec00",
   "metadata": {},
   "outputs": [],
   "source": [
    "student.first_name = \"2323asfs_\""
   ]
  },
  {
   "cell_type": "code",
   "execution_count": 7,
   "id": "cd4d8a29",
   "metadata": {},
   "outputs": [
    {
     "name": "stdout",
     "output_type": "stream",
     "text": [
      "Doe\n"
     ]
    }
   ],
   "source": [
    "# access the last name using data property\n",
    "print(student._last_name)"
   ]
  },
  {
   "cell_type": "code",
   "execution_count": 8,
   "id": "b100b14e",
   "metadata": {},
   "outputs": [
    {
     "name": "stdout",
     "output_type": "stream",
     "text": [
      "Doe\n"
     ]
    }
   ],
   "source": [
    "# access the last name using getter property\n",
    "print(student.last_name)"
   ]
  },
  {
   "cell_type": "code",
   "execution_count": 9,
   "id": "39021f26",
   "metadata": {},
   "outputs": [
    {
     "ename": "TypeError",
     "evalue": "'str' object is not callable",
     "output_type": "error",
     "traceback": [
      "\u001b[0;31m---------------------------------------------------------------------------\u001b[0m",
      "\u001b[0;31mTypeError\u001b[0m                                 Traceback (most recent call last)",
      "Cell \u001b[0;32mIn[9], line 3\u001b[0m\n\u001b[1;32m      1\u001b[0m \u001b[38;5;66;03m# @property makes method more like an attribute property\u001b[39;00m\n\u001b[1;32m      2\u001b[0m \u001b[38;5;66;03m# the following will raise an Exception\u001b[39;00m\n\u001b[0;32m----> 3\u001b[0m \u001b[38;5;28mprint\u001b[39m(\u001b[43mstudent\u001b[49m\u001b[38;5;241;43m.\u001b[39;49m\u001b[43mlast_name\u001b[49m\u001b[43m(\u001b[49m\u001b[43m)\u001b[49m)\n",
      "\u001b[0;31mTypeError\u001b[0m: 'str' object is not callable"
     ]
    }
   ],
   "source": [
    "# @property makes method more like an attribute property\n",
    "# the following will raise an Exception\n",
    "print(student.last_name())"
   ]
  },
  {
   "cell_type": "code",
   "execution_count": 10,
   "id": "520589b4",
   "metadata": {},
   "outputs": [],
   "source": [
    "student.last_name = \"Smith\""
   ]
  },
  {
   "cell_type": "code",
   "execution_count": 16,
   "id": "afaff3ed",
   "metadata": {},
   "outputs": [
    {
     "name": "stdout",
     "output_type": "stream",
     "text": [
      "Doe, John\n"
     ]
    }
   ],
   "source": [
    "print(student)"
   ]
  },
  {
   "cell_type": "code",
   "execution_count": 17,
   "id": "8b651800",
   "metadata": {},
   "outputs": [
    {
     "data": {
      "text/plain": [
       "'Doe'"
      ]
     },
     "execution_count": 17,
     "metadata": {},
     "output_type": "execute_result"
    }
   ],
   "source": [
    "student.l_name"
   ]
  },
  {
   "cell_type": "code",
   "execution_count": 18,
   "id": "1398e0fa",
   "metadata": {},
   "outputs": [],
   "source": [
    "student.l_name = \"Johnson\""
   ]
  },
  {
   "cell_type": "code",
   "execution_count": 19,
   "id": "25873abc",
   "metadata": {},
   "outputs": [
    {
     "data": {
      "text/plain": [
       "'Johnson'"
      ]
     },
     "execution_count": 19,
     "metadata": {},
     "output_type": "execute_result"
    }
   ],
   "source": [
    "student.last_name"
   ]
  },
  {
   "cell_type": "code",
   "execution_count": 15,
   "id": "239c3ab0",
   "metadata": {},
   "outputs": [
    {
     "name": "stdout",
     "output_type": "stream",
     "text": [
      "Help on Student in module __main__ object:\n",
      "\n",
      "class Student(builtins.object)\n",
      " |  Student(first_name: str, last_name: str) -> None\n",
      " |\n",
      " |  Methods defined here:\n",
      " |\n",
      " |  __init__(self, first_name: str, last_name: str) -> None\n",
      " |      Initialize self.  See help(type(self)) for accurate signature.\n",
      " |\n",
      " |  __str__(self)\n",
      " |      String representation of the object\n",
      " |\n",
      " |  ----------------------------------------------------------------------\n",
      " |  Data descriptors defined here:\n",
      " |\n",
      " |  __dict__\n",
      " |      dictionary for instance variables\n",
      " |\n",
      " |  __weakref__\n",
      " |      list of weak references to the object\n",
      " |\n",
      " |  l_name\n",
      " |      Last name property.\n",
      " |\n",
      " |  last_name\n",
      " |      Getter for _last_name property\n",
      " |          - doc should be written to getter property!!\n",
      "\n"
     ]
    }
   ],
   "source": [
    "help(student)"
   ]
  },
  {
   "cell_type": "code",
   "execution_count": 20,
   "id": "82636a12",
   "metadata": {},
   "outputs": [],
   "source": [
    "# let's delete l_name attribute\n",
    "del student.l_name"
   ]
  },
  {
   "cell_type": "code",
   "execution_count": 21,
   "id": "426bf262",
   "metadata": {},
   "outputs": [
    {
     "ename": "AttributeError",
     "evalue": "'Student' object has no attribute '_last_name'",
     "output_type": "error",
     "traceback": [
      "\u001b[0;31m---------------------------------------------------------------------------\u001b[0m",
      "\u001b[0;31mAttributeError\u001b[0m                            Traceback (most recent call last)",
      "Cell \u001b[0;32mIn[21], line 2\u001b[0m\n\u001b[1;32m      1\u001b[0m \u001b[38;5;66;03m# this will now throw an AttributeError\u001b[39;00m\n\u001b[0;32m----> 2\u001b[0m \u001b[38;5;28;43mprint\u001b[39;49m\u001b[43m(\u001b[49m\u001b[43mstudent\u001b[49m\u001b[43m)\u001b[49m\n",
      "Cell \u001b[0;32mIn[12], line 34\u001b[0m, in \u001b[0;36mStudent.__str__\u001b[0;34m(self)\u001b[0m\n\u001b[1;32m     30\u001b[0m \u001b[38;5;28;01mdef\u001b[39;00m \u001b[38;5;21m__str__\u001b[39m(\u001b[38;5;28mself\u001b[39m):\n\u001b[1;32m     31\u001b[0m \u001b[38;5;250m    \u001b[39m\u001b[38;5;124;03m\"\"\"\u001b[39;00m\n\u001b[1;32m     32\u001b[0m \u001b[38;5;124;03m    String representation of the object\u001b[39;00m\n\u001b[1;32m     33\u001b[0m \u001b[38;5;124;03m    \"\"\"\u001b[39;00m\n\u001b[0;32m---> 34\u001b[0m     \u001b[38;5;28;01mreturn\u001b[39;00m \u001b[38;5;124mf\u001b[39m\u001b[38;5;124m'\u001b[39m\u001b[38;5;132;01m{\u001b[39;00m\u001b[38;5;28;43mself\u001b[39;49m\u001b[38;5;241;43m.\u001b[39;49m\u001b[43m_last_name\u001b[49m\u001b[38;5;132;01m}\u001b[39;00m\u001b[38;5;124m, \u001b[39m\u001b[38;5;132;01m{\u001b[39;00m\u001b[38;5;28mself\u001b[39m\u001b[38;5;241m.\u001b[39mfirst_name\u001b[38;5;132;01m}\u001b[39;00m\u001b[38;5;124m'\u001b[39m\n",
      "\u001b[0;31mAttributeError\u001b[0m: 'Student' object has no attribute '_last_name'"
     ]
    }
   ],
   "source": [
    "# this will now throw an AttributeError\n",
    "print(student)"
   ]
  },
  {
   "cell_type": "code",
   "execution_count": 22,
   "id": "f5a5f4e7",
   "metadata": {},
   "outputs": [
    {
     "ename": "AttributeError",
     "evalue": "'Student' object has no attribute '_last_name'",
     "output_type": "error",
     "traceback": [
      "\u001b[0;31m---------------------------------------------------------------------------\u001b[0m",
      "\u001b[0;31mAttributeError\u001b[0m                            Traceback (most recent call last)",
      "Cell \u001b[0;32mIn[22], line 1\u001b[0m\n\u001b[0;32m----> 1\u001b[0m \u001b[38;5;28;01mdel\u001b[39;00m \u001b[43mstudent\u001b[49m\u001b[38;5;241;43m.\u001b[39;49m\u001b[43mlast_name\u001b[49m\n",
      "Cell \u001b[0;32mIn[12], line 28\u001b[0m, in \u001b[0;36mStudent.last_name\u001b[0;34m(self)\u001b[0m\n\u001b[1;32m     26\u001b[0m \u001b[38;5;129m@last_name\u001b[39m\u001b[38;5;241m.\u001b[39mdeleter\n\u001b[1;32m     27\u001b[0m \u001b[38;5;28;01mdef\u001b[39;00m \u001b[38;5;21mlast_name\u001b[39m(\u001b[38;5;28mself\u001b[39m) \u001b[38;5;241m-\u001b[39m\u001b[38;5;241m>\u001b[39m \u001b[38;5;28;01mNone\u001b[39;00m:\n\u001b[0;32m---> 28\u001b[0m     \u001b[38;5;28;01mdel\u001b[39;00m \u001b[38;5;28;43mself\u001b[39;49m\u001b[38;5;241;43m.\u001b[39;49m\u001b[43m_last_name\u001b[49m\n",
      "\u001b[0;31mAttributeError\u001b[0m: 'Student' object has no attribute '_last_name'"
     ]
    }
   ],
   "source": [
    "del student.last_name"
   ]
  },
  {
   "cell_type": "markdown",
   "id": "0bc19c94",
   "metadata": {},
   "source": [
    "## Types of Class Methods\n",
    "\n",
    "- functions are normally called methods within a class\n",
    "- see this resource: https://realpython.com/instance-class-and-static-methods-demystified/\n",
    "\n",
    "### Instance Properties\n",
    "\n",
    "- attached to each instances with (self)\n",
    "- special methods:\n",
    "    - `getter`, `setter`, `deleter` methods\n",
    "    - use `@property` `@method.setter`, `@method.deleter` decorators\n",
    "- used as attribues/variables\n",
    "- see example above\n",
    "\n",
    "### Instance Methods\n",
    "    \n",
    "- regular *instance method*\n",
    "- methods take **self** first parameter which points to an instance itself\n",
    "- they freely access all the attributes and other methods on the same object\n",
    "- gives them lot of power when modifying an object's state\n",
    "- see example below\n",
    "    \n",
    "### Class Methods\n",
    "\n",
    "- methods belong to the class itself and are shared across all the instances\n",
    "- takes `cls` parameter that points to class and not the object instance\n",
    "- use `@classmethod` decorator to mark method as class method\n",
    "- can't modify/access object attributes and methods\n",
    "    - but can access/modify only class state/variables that are shared across all the instances\n",
    "\n",
    "### Static Methods\n",
    "\n",
    "- use `@staticmethod` decorator to mark static methods\n",
    "- acts as a regular function within a Class namespace\n",
    "- doesn't take `cls` or `self` parameters\n",
    "    - but can take any other arguments\n",
    "- neither modify class state nor object state"
   ]
  },
  {
   "cell_type": "code",
   "execution_count": 46,
   "id": "e4a91bd1",
   "metadata": {},
   "outputs": [],
   "source": [
    "class MyClass:\n",
    "    class_var = 10\n",
    "    \n",
    "    def method(self, a, b):\n",
    "        self.a = a\n",
    "        self.b = b\n",
    "        return 'instance method called', self, self.__add()\n",
    "\n",
    "    def __add(self):\n",
    "        return self.a + self.b\n",
    "\n",
    "    @classmethod\n",
    "    def classmethod(cls, a, b):\n",
    "        return 'class method called', cls, a+b+cls.class_var\n",
    "\n",
    "    @staticmethod\n",
    "    def staticmethod(a, b):\n",
    "        return 'static method called', a+b+MyClass.class_var"
   ]
  },
  {
   "cell_type": "code",
   "execution_count": 47,
   "id": "132ecac5",
   "metadata": {},
   "outputs": [
    {
     "data": {
      "text/plain": [
       "('instance method called', <__main__.MyClass at 0x7fce38233cb0>, 5)"
      ]
     },
     "execution_count": 47,
     "metadata": {},
     "output_type": "execute_result"
    }
   ],
   "source": [
    "instance = MyClass()\n",
    "instance.method(2, 3)"
   ]
  },
  {
   "cell_type": "code",
   "execution_count": 48,
   "id": "aeca739a",
   "metadata": {},
   "outputs": [
    {
     "data": {
      "text/plain": [
       "('class method called', __main__.MyClass, 18)"
      ]
     },
     "execution_count": 48,
     "metadata": {},
     "output_type": "execute_result"
    }
   ],
   "source": [
    "# call class method\n",
    "MyClass.classmethod(3, 5)"
   ]
  },
  {
   "cell_type": "code",
   "execution_count": 49,
   "id": "961ace48",
   "metadata": {},
   "outputs": [
    {
     "data": {
      "text/plain": [
       "('static method called', 18)"
      ]
     },
     "execution_count": 49,
     "metadata": {},
     "output_type": "execute_result"
    }
   ],
   "source": [
    "# call static method\n",
    "MyClass.staticmethod(3, 5)"
   ]
  },
  {
   "cell_type": "markdown",
   "id": "bb3b269c",
   "metadata": {},
   "source": [
    "## UML Diagrams\n",
    "\n",
    "- use plantuml - https://plantuml.com/\n",
    "- must create description file\n",
    "    - see guide for syntax - https://plantuml.com/guide\n",
    "    - shows how to create plantuml description files\n",
    "- can use plantuml from local Terminal to generate diagrams or VS Code extension\n",
    "\n",
    "### VS Code Extension\n",
    "\n",
    "- install VS Code extension by jebbs - https://marketplace.visualstudio.com/items?itemName=jebbs.plantuml\n",
    "- allows to preview UML diagrams using local or remote render\n",
    "- install recommended libraries following the extension documentation\n",
    "- configure the extension\n",
    "- on VS Code, create .plantuml file and enter `option+D` (Mac) or `alt+D` (Win)\n",
    "- to save image file:\n",
    "    - enter command+P and > PlantUML: Export Current Diagram and pick image type\n",
    "    \n",
    "### Local System and Makefile\n",
    "\n",
    "- to render UML images locally, must install **Java** runtime and **Graphviz** library\n",
    "- follow the instruction for your platform here - https://plantuml.com/starting\n",
    "- on a local Terminal type the following command\n",
    "- you must also download plantuml.jar file\n",
    "\n",
    "```bash\n",
    "java -jar <path_to_plantuml.jar> <folder/file.plantuml>\n",
    "```\n",
    "- it automatically creates file.png in the same folder where .plantuml file is\n",
    "\n",
    "- see Makefile for for demo: https://github.com/rambasnet/Kattis-Demos-Testing/tree/main/hello/python3/OOP"
   ]
  },
  {
   "cell_type": "markdown",
   "id": "fbaae722",
   "metadata": {},
   "source": [
    "## Exercies\n",
    "\n",
    "- Solve the following Kattis problems using OOD\n",
    "- must use at least two classes; property, methods, attributes, etc.\n",
    "- must use docstrings for each class and method\n",
    "- must use mypy to ensure you're using variables and functions type correctly\n",
    "- attributes must be privates\n",
    "- must use getter and setter methods for each attribute where appropriate\n",
    "- must generate HTML documentation of the docstrings into a documentations directory\n",
    "- must create UML diagrams of each class and their interactions\n",
    "\n",
    "1. Sum Kind of Problem - https://open.kattis.com/problems/sumkindofproblem\n",
    "2. Convex Polygon Area - https://open.kattis.com/problems/convexpolygonarea"
   ]
  },
  {
   "cell_type": "code",
   "execution_count": null,
   "id": "95d9e944",
   "metadata": {},
   "outputs": [],
   "source": []
  }
 ],
 "metadata": {
  "kernelspec": {
   "display_name": "Python 3 (ipykernel)",
   "language": "python",
   "name": "python3"
  },
  "language_info": {
   "codemirror_mode": {
    "name": "ipython",
    "version": 3
   },
   "file_extension": ".py",
   "mimetype": "text/x-python",
   "name": "python",
   "nbconvert_exporter": "python",
   "pygments_lexer": "ipython3",
   "version": "3.12.2"
  }
 },
 "nbformat": 4,
 "nbformat_minor": 5
}
