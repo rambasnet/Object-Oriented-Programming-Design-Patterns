{
 "cells": [
  {
   "cell_type": "markdown",
   "id": "53ed29cf",
   "metadata": {},
   "source": [
    "## SOLID principle\n",
    "\n",
    "- a popular software design principle using OOP\n",
    "- must know it by heart!\n",
    "- it's a great starting point of OOD\n",
    "\n",
    "### S: Single Responsibility Principle (SRP)\n",
    "\n",
    "- a class should have one responsibility\n",
    "- \"one and only reason\" to change when the requirements change\n",
    "- a class should have a single, well-defined purpose; should be responsible for one aspect of the system's functionality\n",
    "\n",
    "#### How to Achieve the Single Responsibility Principle:\n",
    "\n",
    "- **Identify Responsibilities**:\n",
    "    - carefully analyze the responsibilities of each class in your design\n",
    "\n",
    "- **Separate Concerns**: \n",
    "    - if a class has multiple responsibilities, break it down into smaller classes, each with a single responsibility\n",
    "    \n",
    "- **Use Cohesion**:\n",
    "    - aim for high cohesion within classes, meaning that all the elements within a class should be related to its single responsibility\n",
    "    \n",
    "- **Avoid God Objects**:\n",
    "    - \"God objects\" are classes that try to do everything\n",
    "    \n",
    "- **Refactor**: \n",
    "    - if you find that a class is violating the SRP, refactor it to separate its responsibilities\n",
    "    \n",
    "#### What does \"reason to change\" mean?\n",
    "\n",
    "- A \"reason to change\" refers to a specific actor or requirement that could cause the class to be modified; e.g.:\n",
    "\n",
    "    - A class that handles both data persistence and user interface logic has two reasons to change: changes in the database schema and changes in the UI design\n",
    "    - A class that both calculates employee salary and generates reports has two reasons to change: changes in salary calculation rules and changes in report formatting"
   ]
  },
  {
   "cell_type": "code",
   "execution_count": 1,
   "id": "feea3dcc",
   "metadata": {},
   "outputs": [],
   "source": [
    "# violates SRP\n",
    "\n",
    "class Employee:\n",
    "    def __init__(self, employee_id, name, salary):\n",
    "        self.employee_id = employee_id\n",
    "        self.name = name\n",
    "        self.salary = salary\n",
    "\n",
    "    def calculate_pay(self):\n",
    "        # Calculate employee pay\n",
    "        pass\n",
    "\n",
    "    def generate_report(self):\n",
    "        # Generate employee report\n",
    "        pass\n",
    "\n",
    "    def save_to_database(self):\n",
    "        # Save employee data to database\n",
    "        pass"
   ]
  },
  {
   "cell_type": "code",
   "execution_count": 2,
   "id": "70ea46d6",
   "metadata": {},
   "outputs": [],
   "source": [
    "# adheres to SRP by refactoring the God class into three separate classes\n",
    "\n",
    "class Employee:\n",
    "    def __init__(self, employee_id, name, salary):\n",
    "        self.employee_id = employee_id\n",
    "        self.name = name\n",
    "        self.salary = salary\n",
    "\n",
    "class PayCalculator:\n",
    "    def calculate_pay(self, employee):\n",
    "        # Calculate employee pay\n",
    "        pass\n",
    "\n",
    "class ReportGenerator:\n",
    "    def generate_report(self, employee):\n",
    "        # Generate employee report\n",
    "        pass\n",
    "\n",
    "class EmployeeRepository:\n",
    "    def save_to_database(self, employee):\n",
    "        # Save employee data to database\n",
    "        pass"
   ]
  },
  {
   "cell_type": "markdown",
   "id": "ae5a8ecd",
   "metadata": {},
   "source": [
    "### O: Open/Closed Principle (OCP)\n",
    "\n",
    "- \"Software entities (packages, modules, classes, functions, etc.) should be open for extension, but closed for modification.\"\n",
    "- Open for Extension: \n",
    "    - you should be able to add new functionality to your software without changing the existing code\n",
    "    \n",
    "- Closed for Modification\n",
    "    - once a piece of code is written and tested, you shouldn't need to modify its source code to accommodate new requirements\n",
    "    \n",
    "#### Why is this important?\n",
    "\n",
    "- reduced risk of introducing bugs\n",
    "    - modifying existing code can introduce unintended side effects and break working functionality\n",
    "    - by extending instead of modifying, you minimize this risk\n",
    "    \n",
    "- increased maintainability\n",
    "    - code that adheres to the OCP is easier to maintain and adapt to changing requirements\n",
    "\n",
    "- improved reusability\n",
    "    - well-designed, extensible code can be reused in different parts of your application or in other projects\n",
    "    \n",
    "- enhanced stability\n",
    "    - stable, unmodified code provides a reliable foundation for building new features\n",
    "    \n",
    "#### How to Achieve the Open/Closed Principle:\n",
    "\n",
    "- common techniques for achieving the OCP include:\n",
    "\n",
    "- **Abstraction**: \n",
    "    - using abstract classes or interfaces to define a contract that concrete classes must adhere to\n",
    "    \n",
    "- **Inheritance**: \n",
    "    - creating new classes that inherit from existing classes and override or extend their behavior\n",
    "\n",
    "- **Polymorphism**: \n",
    "    - writing code that can work with objects of different types through a common interface\n",
    "    \n",
    "- **Composition**: \n",
    "    - building complex objects by combining simpler objects, rather than inheriting from them\n",
    "    \n",
    "- **Design Patterns**: \n",
    "    - using design patterns like the Strategy, Template Method, and Observer patterns, which are specifically designed to promote extensibility"
   ]
  },
  {
   "cell_type": "code",
   "execution_count": 15,
   "id": "022da220",
   "metadata": {},
   "outputs": [
    {
     "name": "stdout",
     "output_type": "stream",
     "text": [
      "--- Violation of OSP Principle ---\n",
      "Rectangle area: 50\n",
      "Circle area: 28.27431\n"
     ]
    }
   ],
   "source": [
    "# Violation of Open/Closed Principle\n",
    "\n",
    "class Shape:\n",
    "    def __init__(self, sh_type, width, height=None):\n",
    "        self.type = sh_type\n",
    "        self.width = width\n",
    "        self.height = height\n",
    "\n",
    "    def calculate_area(self):\n",
    "        if self.type == \"rectangle\":\n",
    "            return self.width * self.height\n",
    "        elif self.type == \"circle\":\n",
    "            return 3.14159 * (self.width / 2) ** 2  # Assuming width is diameter\n",
    "        # If we add a new shape (e.g., triangle), we have to modify this function!\n",
    "\n",
    "# Usage examples\n",
    "print(\"--- Violation of OSP Principle ---\")\n",
    "rectangle = Shape(\"rectangle\", 5, 10)\n",
    "circle = Shape(\"circle\", 6)\n",
    "print(f\"Rectangle area: {rectangle.calculate_area()}\")\n",
    "print(f\"Circle area: {circle.calculate_area()}\")"
   ]
  },
  {
   "cell_type": "code",
   "execution_count": 20,
   "id": "f83625e2",
   "metadata": {},
   "outputs": [],
   "source": [
    "# Correct implementation using Open/Closed Principle\n",
    "\n",
    "# Shape Interface\n",
    "class ShapeCorrect:\n",
    "    def area(self):\n",
    "        raise NotImplementedError\n",
    "\n",
    "# Extend with Rectangle\n",
    "class RectangleCorrect(ShapeCorrect):\n",
    "    def __init__(self, width, height):\n",
    "        self.width = width\n",
    "        self.height = height\n",
    "\n",
    "    def area(self):\n",
    "        return self.width * self.height\n",
    "\n",
    "# Extend with Circle\n",
    "class CircleCorrect(ShapeCorrect):\n",
    "    def __init__(self, radius):\n",
    "        self.radius = radius\n",
    "\n",
    "    def area(self):\n",
    "        import math\n",
    "        return math.pi * self.radius ** 2\n",
    "\n",
    "# Extend with Triangle\n",
    "class TriangleCorrect(ShapeCorrect):\n",
    "    def __init__(self, base, height):\n",
    "        self.base = base\n",
    "        self.height = height\n",
    "\n",
    "    def area(self):\n",
    "        return 0.5 * self.base * self.height"
   ]
  },
  {
   "cell_type": "code",
   "execution_count": 21,
   "id": "2698f9d4",
   "metadata": {},
   "outputs": [
    {
     "name": "stdout",
     "output_type": "stream",
     "text": [
      "--- Correct Implementation adhering Open/Closed Principle ---\n",
      "Rectangle area: 50\n",
      "Circle area: 28.274333882308138\n",
      "Triangle area: 12.0\n"
     ]
    }
   ],
   "source": [
    "print(\"--- Correct Implementation adhering to Open/Closed Principle ---\")\n",
    "rectangle_correct = RectangleCorrect(5, 10)\n",
    "circle_correct = CircleCorrect(3)\n",
    "triangle_correct = TriangleCorrect(4, 6)\n",
    "\n",
    "print(f\"Rectangle area: {rectangle_correct.area()}\")\n",
    "print(f\"Circle area: {circle_correct.area()}\")\n",
    "print(f\"Triangle area: {triangle_correct.area()}\")"
   ]
  },
  {
   "cell_type": "markdown",
   "id": "153a648c",
   "metadata": {},
   "source": [
    "### L: Liskov Substitution Principle (LSP)\n",
    "\n",
    "- states that **inheritance** must follow LSP - Liskov Substitution principle\n",
    "- named after Barbara Liskov creator of CLU programming language\n",
    "- any subclass can be substituted for its superclass\n",
    "    - any code that uses superclass can be replaced with it's subclass without breaking any code!\n",
    "    - the inverse is not true!"
   ]
  },
  {
   "cell_type": "code",
   "execution_count": 57,
   "id": "1f0ab351",
   "metadata": {},
   "outputs": [
    {
     "name": "stdout",
     "output_type": "stream",
     "text": [
      "--- Violation of LSP ---\n",
      "Square area: 16\n",
      "Rectangle area: 20\n"
     ]
    }
   ],
   "source": [
    "# Violation of Liskov Substitution Principle\n",
    "\n",
    "class Rectangle:\n",
    "    # make sure no dynamic attibute are allowed!\n",
    "    __slots__ = ['_width', '_height']\n",
    "    \n",
    "    def __init__(self, width, height):\n",
    "        self._width = width\n",
    "        self._height = height\n",
    "\n",
    "    @property\n",
    "    def width(self):\n",
    "        return self._width\n",
    "\n",
    "    @width.setter\n",
    "    def width(self, width):\n",
    "        self._width = width\n",
    "\n",
    "    @property\n",
    "    def height(self):\n",
    "        return self._height\n",
    "\n",
    "    @height.setter\n",
    "    def height(self, height):\n",
    "        self._height = height\n",
    "\n",
    "    def area(self):\n",
    "        return self._width * self._height\n",
    "\n",
    "# Square is a special case of rectangle\n",
    "class Square(Rectangle):\n",
    "    def __init__(self, side):\n",
    "        super().__init__(side, side)\n",
    "\n",
    "    @property\n",
    "    def side(self):\n",
    "        # _width and _height are equal!\n",
    "        return self._width\n",
    "    \n",
    "    # ensure both sides are equal\n",
    "    @side.setter\n",
    "    def side(self, side):\n",
    "        self._width = side\n",
    "        self._height = side\n",
    "        \n",
    "    @Rectangle.width.setter\n",
    "    def width(self, width):\n",
    "        self.side = width\n",
    "        \n",
    "    @Rectangle.height.setter\n",
    "    def height(self, height):\n",
    "        self.side = height\n",
    "\n",
    "def calculate_area_rect(obj: Rectangle):\n",
    "    # this function assumes it can change properties of rectangle!\n",
    "    obj.width = 5\n",
    "    obj.height = 4\n",
    "    return obj.area()\n",
    "\n",
    "print(\"--- Violation of LSP ---\")\n",
    "square = Square(2)\n",
    "print(f\"Square area: {calculate_area_rect(square)}\") #incorrect ?\n",
    "# can't subsititute Square with Rectangle\n",
    "rect = Rectangle(2, 3)\n",
    "print(f\"Rectangle area: {calculate_area_rect(rect)}\") #correct"
   ]
  },
  {
   "cell_type": "code",
   "execution_count": 58,
   "id": "8c226c74",
   "metadata": {},
   "outputs": [],
   "source": [
    "def calculate_area_sq(obj: Square):\n",
    "    # assumes it can change property of Square\n",
    "    obj.side = 5\n",
    "    return obj.area()"
   ]
  },
  {
   "cell_type": "code",
   "execution_count": 61,
   "id": "d4a37d37",
   "metadata": {},
   "outputs": [
    {
     "name": "stdout",
     "output_type": "stream",
     "text": [
      "--- Violation of LSP ---\n",
      "Square area: 25\n"
     ]
    }
   ],
   "source": [
    "print(\"--- Violation of LSP ---\")\n",
    "square = Square(2)\n",
    "print(f\"Square area: {calculate_area_sq(square)}\") #correct"
   ]
  },
  {
   "cell_type": "code",
   "execution_count": 62,
   "id": "6c4d074e",
   "metadata": {},
   "outputs": [
    {
     "ename": "AttributeError",
     "evalue": "'Rectangle' object has no attribute 'side'",
     "output_type": "error",
     "traceback": [
      "\u001b[0;31m---------------------------------------------------------------------------\u001b[0m",
      "\u001b[0;31mAttributeError\u001b[0m                            Traceback (most recent call last)",
      "Cell \u001b[0;32mIn[62], line 3\u001b[0m\n\u001b[1;32m      1\u001b[0m \u001b[38;5;66;03m# can't subsititute Rectangle for Square\u001b[39;00m\n\u001b[1;32m      2\u001b[0m rect \u001b[38;5;241m=\u001b[39m Rectangle(\u001b[38;5;241m2\u001b[39m, \u001b[38;5;241m3\u001b[39m)\n\u001b[0;32m----> 3\u001b[0m \u001b[38;5;28mprint\u001b[39m(\u001b[38;5;124mf\u001b[39m\u001b[38;5;124m\"\u001b[39m\u001b[38;5;124mRectangle area: \u001b[39m\u001b[38;5;132;01m{\u001b[39;00mcalculate_area_sq(rect)\u001b[38;5;132;01m}\u001b[39;00m\u001b[38;5;124m\"\u001b[39m)\n",
      "Cell \u001b[0;32mIn[58], line 4\u001b[0m, in \u001b[0;36mcalculate_area_sq\u001b[0;34m(obj)\u001b[0m\n\u001b[1;32m      1\u001b[0m \u001b[38;5;28;01mdef\u001b[39;00m\u001b[38;5;250m \u001b[39m\u001b[38;5;21mcalculate_area_sq\u001b[39m(obj: Square):\n\u001b[1;32m      2\u001b[0m     \u001b[38;5;66;03m# assumes it can set width and height of any rectangle object independently\u001b[39;00m\n\u001b[1;32m      3\u001b[0m     \u001b[38;5;66;03m# when square object is passed; area is inconsistent/wrong \u001b[39;00m\n\u001b[0;32m----> 4\u001b[0m     obj\u001b[38;5;241m.\u001b[39mside \u001b[38;5;241m=\u001b[39m \u001b[38;5;241m5\u001b[39m\n\u001b[1;32m      5\u001b[0m     \u001b[38;5;28;01mreturn\u001b[39;00m obj\u001b[38;5;241m.\u001b[39marea()\n",
      "\u001b[0;31mAttributeError\u001b[0m: 'Rectangle' object has no attribute 'side'"
     ]
    }
   ],
   "source": [
    "# can't subsititute Rectangle for Square\n",
    "rect = Rectangle(2, 3)\n",
    "print(f\"Rectangle area: {calculate_area_sq(rect)}\") #AttributeError"
   ]
  },
  {
   "cell_type": "code",
   "execution_count": 65,
   "id": "23c1a10d",
   "metadata": {},
   "outputs": [],
   "source": [
    "# Correct implementation using Liskov Substitution Principle\n",
    "\n",
    "class Shape:\n",
    "    # no dynamic attributes are allowed!\n",
    "    __slots__ = []\n",
    "    \n",
    "    def area(self):\n",
    "        raise NotImplementedError\n",
    "\n",
    "class RectangleCorrect(Shape):\n",
    "    __slots__ = ['_width', '_height']\n",
    "    \n",
    "    def __init__(self, width, height):\n",
    "        self._width = width\n",
    "        self._height = height\n",
    "\n",
    "    @property\n",
    "    def width(self):\n",
    "        return self._width\n",
    "\n",
    "    @width.setter\n",
    "    def width(self, width):\n",
    "        self._width = width\n",
    "\n",
    "    @property\n",
    "    def height(self):\n",
    "        return self._height\n",
    "\n",
    "    @height.setter\n",
    "    def height(self, height):\n",
    "        self._height = height\n",
    "\n",
    "    def area(self):\n",
    "        return self._width * self._height\n",
    "\n",
    "class SquareCorrect(Shape):\n",
    "    def __init__(self, side):\n",
    "        self._side = side\n",
    "\n",
    "    @property\n",
    "    def side(self):\n",
    "        return self._side\n",
    "\n",
    "    @side.setter\n",
    "    def side(self, side):\n",
    "        self._side = side\n",
    "\n",
    "    def area(self):\n",
    "        return self._side ** 2\n"
   ]
  },
  {
   "cell_type": "code",
   "execution_count": 67,
   "id": "0930dd3b",
   "metadata": {},
   "outputs": [
    {
     "name": "stdout",
     "output_type": "stream",
     "text": [
      "\n",
      "--- Correct Implementation adheres to LSP ---\n",
      "Rectangle area: 6\n",
      "Square area: 4\n"
     ]
    }
   ],
   "source": [
    "def calculate_area_correct(shape: Shape):\n",
    "    # no assumption of attributes of shape!\n",
    "    # shape.side = 10 # AttributeError\n",
    "    return shape.area()\n",
    "\n",
    "print(\"\\n--- Correct Implementation adheres to LSP ---\")\n",
    "rectangle_correct = RectangleCorrect(2, 3)\n",
    "square_correct = SquareCorrect(2)\n",
    "print(f\"Rectangle area: {calculate_area_correct(rectangle_correct)}\")\n",
    "print(f\"Square area: {calculate_area_correct(square_correct)}\")"
   ]
  },
  {
   "cell_type": "markdown",
   "id": "f13f3f31",
   "metadata": {},
   "source": [
    "### I: Interface Segregation - ISP\n",
    "\n",
    "- a class should have the smallest interface possible\n",
    "- classes should be relatively small and isolated\n",
    "\n",
    "#### Core Idea\n",
    "\n",
    "- the ISP states that \"clients should not be forced to depend on interfaces they do not use.\"\n",
    "- it advocates for creating smaller, more specific interfaces rather than large, general-purpose ones\n",
    "- it reduces coupling\n",
    "    - when interfaces are smaller and more focused, classes that implement them only need to depend on the methods they actually use\n",
    "    - this reduces unnecessary dependencies between classes\n",
    "- in the following example Robot is forced to implement eat method; though robot doesn't eat!"
   ]
  },
  {
   "cell_type": "code",
   "execution_count": 73,
   "id": "14f13e89",
   "metadata": {},
   "outputs": [],
   "source": [
    "# Violation of Interface Segregation Principle\n",
    "\n",
    "class Worker:\n",
    "    def work(self):\n",
    "        raise NotImplementedError\n",
    "\n",
    "    def eat(self):\n",
    "        raise NotImplementedError\n",
    "\n",
    "class Human(Worker):\n",
    "    def work(self):\n",
    "        print(\"Human working\")\n",
    "\n",
    "    def eat(self):\n",
    "        print(\"Human eating\")\n",
    "\n",
    "class Robot(Worker):\n",
    "    def work(self):\n",
    "        print(\"Robot working\")\n",
    "\n",
    "    def eat(self):\n",
    "        # Robots don't eat, but we're forced to implement this method\n",
    "        raise NotImplementedError(\"Robots don't eat!\")\n"
   ]
  },
  {
   "cell_type": "code",
   "execution_count": 74,
   "id": "73d5fcb2",
   "metadata": {},
   "outputs": [
    {
     "name": "stdout",
     "output_type": "stream",
     "text": [
      "--- Violation of ISP ---\n",
      "Human working\n",
      "Human eating\n",
      "Robot working\n",
      "Error: Robots don't eat!\n"
     ]
    }
   ],
   "source": [
    "# Usage examples\n",
    "print(\"--- Violation of ISP ---\")\n",
    "human = Human()\n",
    "human.work()\n",
    "human.eat()\n",
    "\n",
    "robot = Robot()\n",
    "robot.work()\n",
    "#robot.eat() # raises NotImplementedError\n",
    "try:\n",
    "  robot.eat() #raises NotImplementedError\n",
    "except NotImplementedError as e:\n",
    "  print(f'Error: {e}')"
   ]
  },
  {
   "cell_type": "code",
   "execution_count": 7,
   "id": "2fce4ba7",
   "metadata": {},
   "outputs": [],
   "source": [
    "# Correct implementation using Interface Segregation Principle\n",
    "class Workable:\n",
    "    def work(self):\n",
    "        raise NotImplementedError\n",
    "\n",
    "# Eatable interface class\n",
    "class Eatable:\n",
    "    def eat(self):\n",
    "        raise NotImplementedError\n",
    "\n",
    "# uses Workable and Eatble class interfaces\n",
    "class HumanCorrect(Workable, Eatable):\n",
    "    def work(self):\n",
    "        print(\"Human working\")\n",
    "\n",
    "    def eat(self):\n",
    "        print(\"Human eating\")\n",
    "\n",
    "# only uses Workable interfaces\n",
    "class RobotCorrect(Workable):\n",
    "    def work(self):\n",
    "        print(\"Robot working\")"
   ]
  },
  {
   "cell_type": "code",
   "execution_count": 8,
   "id": "204bbb22",
   "metadata": {},
   "outputs": [
    {
     "name": "stdout",
     "output_type": "stream",
     "text": [
      "\n",
      "--- Correct Implementation adhering ISP ---\n",
      "Human working\n",
      "Human eating\n",
      "Robot working\n"
     ]
    }
   ],
   "source": [
    "print(\"\\n--- Correct Implementation adhering ISP ---\")\n",
    "human_correct = HumanCorrect()\n",
    "human_correct.work()\n",
    "human_correct.eat()\n",
    "\n",
    "robot_correct = RobotCorrect()\n",
    "robot_correct.work()\n",
    "# robot_correct.eat() would cause an error, because robot_correct does not implement Eatable."
   ]
  },
  {
   "cell_type": "markdown",
   "id": "c66c8814",
   "metadata": {},
   "source": [
    "### D: Dependency Inversion Principle (DIP)\n",
    "\n",
    "- convert bad dependency relationships into good ones\n",
    "- if two classes depend on each other, use a mixin class/interface to reuse the dependence\n",
    "\n",
    "#### Core Idea\n",
    "\n",
    "- high-level modules should not depend on low-level modules. Both should depend on abstractions\n",
    "\n",
    "- abstractions should not depend on details. Details (concrete implementations) should depend on abstractions\n",
    "\n",
    "- aids in decoupling of components by reducing the tight coupling between modules/components/classes, meaning changes in low-level modules are less likely to affect high-level modules\n",
    "- in the following example:\n",
    "    - the high-level Switch class directly depends on the concrete low-level LightBulb class\n",
    "    - if we wanted to control a different device (e.g., a fan), we would have to modify the Switch class, which violates the DIP"
   ]
  },
  {
   "cell_type": "code",
   "execution_count": 9,
   "id": "22491166",
   "metadata": {},
   "outputs": [
    {
     "name": "stdout",
     "output_type": "stream",
     "text": [
      "LightBulb: Bulb turned on...\n",
      "LightBulb: Bulb turned off...\n"
     ]
    }
   ],
   "source": [
    "# Violation of Dependency Inversion Principle\n",
    "# Low-level LighBulb class\n",
    "class LightBulb:\n",
    "    def turn_on(self):\n",
    "        print(\"LightBulb: Bulb turned on...\")\n",
    "\n",
    "    def turn_off(self):\n",
    "        print(\"LightBulb: Bulb turned off...\")\n",
    "\n",
    "# Switch depends on LightBulb \n",
    "# what if you want to use switch to a Fan\n",
    "class Switch:\n",
    "    def __init__(self, bulb: LightBulb):\n",
    "        self.bulb = bulb\n",
    "\n",
    "    def operate(self, command):\n",
    "        if command == \"ON\":\n",
    "            self.bulb.turn_on()\n",
    "        elif command == \"OFF\":\n",
    "            self.bulb.turn_off()\n",
    "\n",
    "# Usage\n",
    "bulb = LightBulb()\n",
    "switch = Switch(bulb)\n",
    "switch.operate(\"ON\")\n",
    "switch.operate(\"OFF\")"
   ]
  },
  {
   "cell_type": "code",
   "execution_count": 10,
   "id": "eb5d23b1",
   "metadata": {},
   "outputs": [
    {
     "name": "stdout",
     "output_type": "stream",
     "text": [
      "LightBulbCorrect: Bulb turned on...\n",
      "LightBulbCorrect: Bulb turned off...\n",
      "Fan: Fan turned on...\n",
      "Fan: Fan turned off...\n"
     ]
    }
   ],
   "source": [
    "# Correct implementation using Dependency Inversion Principle\n",
    "# Abstraction (Interface)\n",
    "class Switchable:\n",
    "    def turn_on(self):\n",
    "        raise NotImplementedError\n",
    "\n",
    "    def turn_off(self):\n",
    "        raise NotImplementedError\n",
    "\n",
    "# Low level class LightBulb\n",
    "class LightBulbCorrect(Switchable):\n",
    "    def turn_on(self):\n",
    "        print(\"LightBulbCorrect: Bulb turned on...\")\n",
    "\n",
    "    def turn_off(self):\n",
    "        print(\"LightBulbCorrect: Bulb turned off...\")\n",
    "\n",
    "# Low level, new device implementation\n",
    "class Fan(Switchable):\n",
    "    def turn_on(self):\n",
    "        print(\"Fan: Fan turned on...\")\n",
    "\n",
    "    def turn_off(self):\n",
    "        print(\"Fan: Fan turned off...\")\n",
    "\n",
    "# High level module\n",
    "class SwitchCorrect:\n",
    "    # depend on abstraction\n",
    "    def __init__(self, device: Switchable):\n",
    "        self.device = device\n",
    "\n",
    "    def operate(self, command):\n",
    "        if command == \"ON\":\n",
    "            self.device.turn_on()\n",
    "        elif command == \"OFF\":\n",
    "            self.device.turn_off()\n",
    "\n",
    "# Usage correct implementation\n",
    "bulb_correct = LightBulbCorrect()\n",
    "fan = Fan()\n",
    "\n",
    "switch_correct_bulb = SwitchCorrect(bulb_correct)\n",
    "switch_correct_fan = SwitchCorrect(fan)\n",
    "\n",
    "switch_correct_bulb.operate(\"ON\")\n",
    "switch_correct_bulb.operate(\"OFF\")\n",
    "\n",
    "switch_correct_fan.operate(\"ON\")\n",
    "switch_correct_fan.operate(\"OFF\")"
   ]
  },
  {
   "cell_type": "code",
   "execution_count": null,
   "id": "e8927050",
   "metadata": {},
   "outputs": [],
   "source": []
  }
 ],
 "metadata": {
  "kernelspec": {
   "display_name": "Python 3 (ipykernel)",
   "language": "python",
   "name": "python3"
  },
  "language_info": {
   "codemirror_mode": {
    "name": "ipython",
    "version": 3
   },
   "file_extension": ".py",
   "mimetype": "text/x-python",
   "name": "python",
   "nbconvert_exporter": "python",
   "pygments_lexer": "ipython3",
   "version": "3.10.8"
  }
 },
 "nbformat": 4,
 "nbformat_minor": 5
}
