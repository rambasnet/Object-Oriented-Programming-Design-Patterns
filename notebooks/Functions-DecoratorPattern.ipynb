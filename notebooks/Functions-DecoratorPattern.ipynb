{
 "cells": [
  {
   "cell_type": "markdown",
   "id": "94ad262a",
   "metadata": {},
   "source": [
    "## Functions and Decorator Pattern\n",
    "\n",
    "### Topics\n",
    "\n",
    "- handle variable length arguments\n",
    "- lambda expressions\n",
    "- higher-order functions\n",
    "- nested functions\n",
    "- functions as returned values\n",
    "- currying\n",
    "- function decorators\n",
    "- function and class decorator pattern\n",
    "\n",
    "## Variable length arguments\n",
    "\n",
    "- when not sure how many arguments will be passed to a function\n",
    "- `*args` (non-keyworded variable length arguments)\n",
    "- `**kwargs` (keyworded variable length arguments)\n",
    "- e.g., built-in `print` function uses variable length arguments and keyworded arguments\n",
    "\n",
    "### print(*object, sep=' ', end='\\n', file=sys.stdout, flush=False)\n"
   ]
  },
  {
   "cell_type": "code",
   "execution_count": 22,
   "id": "9d27128c",
   "metadata": {},
   "outputs": [],
   "source": [
    "# variable length arguments demo\n",
    "def someFunction(a, b, c, *varargs, **kwargs):\n",
    "    print('a = ', a)\n",
    "    print('b = ', b)\n",
    "    print('c = ', c)\n",
    "    print('*args = ', varargs)\n",
    "    print('type of args = ', type(varargs))\n",
    "    print('**kwargs = ', kwargs)\n",
    "    print('type of kwargs = ', type(kwargs))"
   ]
  },
  {
   "cell_type": "code",
   "execution_count": 23,
   "id": "240189fe",
   "metadata": {},
   "outputs": [
    {
     "name": "stdout",
     "output_type": "stream",
     "text": [
      "a =  1\n",
      "b =  Apple\n",
      "c =  4.5\n",
      "*args =  (5, [2.5, 'b'])\n",
      "type of args =  <class 'tuple'>\n",
      "**kwargs =  {'fname': 'Jake', 'num': 1}\n",
      "type of kwargs =  <class 'dict'>\n"
     ]
    }
   ],
   "source": [
    "# call someFunction with some arguments\n",
    "someFunction(1, 'Apple', 4.5, 5, [2.5, 'b'], fname='Jake', num=1)"
   ]
  },
  {
   "cell_type": "markdown",
   "id": "50a896f1",
   "metadata": {},
   "source": [
    "## Lambda Functions/Expressions\n",
    "\n",
    "- anonymous functions without names\n",
    "- typically used in conjunction with higher order functions such as: `map()`, `reduce()`, `filter()`\n",
    "- Reference: http://www.secnetix.de/olli/Python/lambda_functions.hawk\n",
    "\n",
    "### lambda function properties and usage\n",
    "\n",
    "- single line simple functions\n",
    "- no explicit return keyword is used\n",
    "- always contains an expression that is implictly returned\n",
    "- can use a lambda definition anywere a function is expected without assigning to a variable\n",
    "- syntax: \n",
    "```python\n",
    "    lambda argument(s): expression\n",
    "```\n",
    "\n",
    "### difference between lambda and regular function"
   ]
  },
  {
   "cell_type": "code",
   "execution_count": 36,
   "id": "b83b22b2",
   "metadata": {},
   "outputs": [
    {
     "name": "stdout",
     "output_type": "stream",
     "text": [
      "Enter 5 numbers separated by space:2 9 8 100 76\n"
     ]
    }
   ],
   "source": [
    "nums = input('Enter 5 numbers separated by space:')"
   ]
  },
  {
   "cell_type": "code",
   "execution_count": 37,
   "id": "a0585fcc",
   "metadata": {},
   "outputs": [
    {
     "data": {
      "text/plain": [
       "'2 9 8 100 76'"
      ]
     },
     "execution_count": 37,
     "metadata": {},
     "output_type": "execute_result"
    }
   ],
   "source": [
    "nums"
   ]
  },
  {
   "cell_type": "code",
   "execution_count": 38,
   "id": "839889e5",
   "metadata": {},
   "outputs": [],
   "source": [
    "nums = list(map(int, nums.split()))"
   ]
  },
  {
   "cell_type": "code",
   "execution_count": 39,
   "id": "868c5258",
   "metadata": {},
   "outputs": [
    {
     "data": {
      "text/plain": [
       "[2, 9, 8, 100, 76]"
      ]
     },
     "execution_count": 39,
     "metadata": {},
     "output_type": "execute_result"
    }
   ],
   "source": [
    "nums"
   ]
  },
  {
   "cell_type": "code",
   "execution_count": 24,
   "id": "a37a9d7d",
   "metadata": {},
   "outputs": [],
   "source": [
    "# regular function\n",
    "def func(x): return x**2"
   ]
  },
  {
   "cell_type": "code",
   "execution_count": 26,
   "id": "c776cf35",
   "metadata": {},
   "outputs": [
    {
     "name": "stdout",
     "output_type": "stream",
     "text": [
      "16\n"
     ]
    }
   ],
   "source": [
    "print(func(4))"
   ]
  },
  {
   "cell_type": "code",
   "execution_count": 25,
   "id": "55871c90",
   "metadata": {},
   "outputs": [
    {
     "data": {
      "text/plain": [
       "function"
      ]
     },
     "execution_count": 25,
     "metadata": {},
     "output_type": "execute_result"
    }
   ],
   "source": [
    "type(func)"
   ]
  },
  {
   "cell_type": "code",
   "execution_count": 27,
   "id": "32d25457",
   "metadata": {},
   "outputs": [
    {
     "name": "stdout",
     "output_type": "stream",
     "text": [
      "<function func at 0x7ff27d01a170>\n"
     ]
    }
   ],
   "source": [
    "print(func)"
   ]
  },
  {
   "cell_type": "code",
   "execution_count": 28,
   "id": "dfb70d49",
   "metadata": {},
   "outputs": [],
   "source": [
    "g = lambda x: x**2 # no name, no parenthesis, and no return keyword\n",
    "# a function that takes x and returns x**2"
   ]
  },
  {
   "cell_type": "code",
   "execution_count": 31,
   "id": "330cd78c",
   "metadata": {},
   "outputs": [
    {
     "data": {
      "text/plain": [
       "4"
      ]
     },
     "execution_count": 31,
     "metadata": {},
     "output_type": "execute_result"
    }
   ],
   "source": [
    "g(2)"
   ]
  },
  {
   "cell_type": "code",
   "execution_count": 29,
   "id": "a27b5de1",
   "metadata": {},
   "outputs": [
    {
     "data": {
      "text/plain": [
       "function"
      ]
     },
     "execution_count": 29,
     "metadata": {},
     "output_type": "execute_result"
    }
   ],
   "source": [
    "type(g)"
   ]
  },
  {
   "cell_type": "code",
   "execution_count": 30,
   "id": "a934c397",
   "metadata": {},
   "outputs": [
    {
     "name": "stdout",
     "output_type": "stream",
     "text": [
      "<function <lambda> at 0x7ff27d01a8c0>\n"
     ]
    }
   ],
   "source": [
    "print(g)"
   ]
  },
  {
   "cell_type": "markdown",
   "id": "32cd8815",
   "metadata": {},
   "source": [
    "## Higher-order functions\n",
    "\n",
    "https://composingprograms.com/pages/16-higher-order-functions.html\n",
    "- functions that manipulate other functions are called higher order functions\n",
    "- functions take function(s) as argument(s)\n",
    "    - typically, lambda expressions are passed as arguments\n",
    "- functions can define and return a local function"
   ]
  },
  {
   "cell_type": "code",
   "execution_count": 32,
   "id": "4854299e",
   "metadata": {},
   "outputs": [],
   "source": [
    "# compute summations of n natural numbers\n",
    "# func is a function applied to all the natural numbers between 1 and n inclusive\n",
    "def sum_naturals(func, n):\n",
    "    total, k = 0, 1\n",
    "    while k <= n:\n",
    "        total += func(k)\n",
    "        k += 1\n",
    "    return total"
   ]
  },
  {
   "cell_type": "code",
   "execution_count": 36,
   "id": "fd47dfed",
   "metadata": {},
   "outputs": [],
   "source": [
    "n = 100"
   ]
  },
  {
   "cell_type": "code",
   "execution_count": 37,
   "id": "7fbaf3d9",
   "metadata": {},
   "outputs": [
    {
     "name": "stdout",
     "output_type": "stream",
     "text": [
      "sum of first 100 natural numbers = 5050\n"
     ]
    }
   ],
   "source": [
    "# pass lambda function\n",
    "print(f'sum of first {n} natural numbers = {sum_naturals(lambda x: x, n)}')"
   ]
  },
  {
   "cell_type": "code",
   "execution_count": 38,
   "id": "ca8e7dda",
   "metadata": {},
   "outputs": [],
   "source": [
    "# of course you can pass regular function\n",
    "def even(n):\n",
    "    return n if n%2 == 0 else 0"
   ]
  },
  {
   "cell_type": "code",
   "execution_count": 39,
   "id": "71c069aa",
   "metadata": {},
   "outputs": [
    {
     "name": "stdout",
     "output_type": "stream",
     "text": [
      "sum of even numbers from 1 to 100 = 2550\n"
     ]
    }
   ],
   "source": [
    "print(f'sum of even numbers from 1 to {n} = {sum_naturals(even, n)}')"
   ]
  },
  {
   "cell_type": "code",
   "execution_count": 40,
   "id": "9da0ea26",
   "metadata": {},
   "outputs": [
    {
     "name": "stdout",
     "output_type": "stream",
     "text": [
      "sum of odd numbers from 1 to 100 = 2500\n"
     ]
    }
   ],
   "source": [
    "# one-liner lambda\n",
    "print(f'sum of odd numbers from 1 to {n} = {sum_naturals(lambda x: x if x%2==1 else 0, n)}')"
   ]
  },
  {
   "cell_type": "markdown",
   "id": "6f59137f",
   "metadata": {},
   "source": [
    "## Nested functions\n",
    "\n",
    "- functions can be defined inside a function with local scope\n",
    "- locally defined functions also have access to the names defined in their parent function\n",
    "    - this technique is called lexical scoping\n",
    "- helps keep the global frame clean and less cluter with functions that are only used inside some functions\n",
    "- let's redefine sum_natural function again with local functions"
   ]
  },
  {
   "cell_type": "code",
   "execution_count": 41,
   "id": "791a2624",
   "metadata": {},
   "outputs": [],
   "source": [
    "# compute summations of n natural numbers\n",
    "# by default find sum of all the natural numbers between 1 and n inclusive\n",
    "def sum_naturals1(n, number_type=\"all\"):\n",
    "    def even(x):\n",
    "        return x if x%2 == 0 else 0\n",
    "    \n",
    "    def odd(x):\n",
    "        return x if x%2 == 1 else 0\n",
    "    \n",
    "    def func(x):\n",
    "        # local function has access to global variables as well as parent frames\n",
    "        if number_type == 'even':\n",
    "            return x if x%2 == 0 else 0\n",
    "        else:\n",
    "            return x if x%2 == 1 else 0\n",
    "            \n",
    "    total, k = 0, 1\n",
    "    while k <= n:\n",
    "        if number_type != 'all':\n",
    "            total += func(k)\n",
    "        elif number_type == 'odd':\n",
    "            total += odd(k)\n",
    "        else:\n",
    "            total += k\n",
    "        k += 1\n",
    "    return total"
   ]
  },
  {
   "cell_type": "code",
   "execution_count": 42,
   "id": "6c31f892",
   "metadata": {},
   "outputs": [
    {
     "name": "stdout",
     "output_type": "stream",
     "text": [
      "sum of first 100 natural numbers = 5050\n"
     ]
    }
   ],
   "source": [
    "n = 100\n",
    "print(f'sum of first {n} natural numbers = {sum_naturals1(n)}')"
   ]
  },
  {
   "cell_type": "code",
   "execution_count": 43,
   "id": "d4d8a95e",
   "metadata": {},
   "outputs": [
    {
     "name": "stdout",
     "output_type": "stream",
     "text": [
      "sum of even numbers from 1 to 100 = 2550\n"
     ]
    }
   ],
   "source": [
    "print(f'sum of even numbers from 1 to {n} = {sum_naturals1(n, \"even\")}')"
   ]
  },
  {
   "cell_type": "code",
   "execution_count": 44,
   "id": "c7e24496",
   "metadata": {},
   "outputs": [
    {
     "name": "stdout",
     "output_type": "stream",
     "text": [
      "sum of odd numbers from 1 to 100 = 2500\n"
     ]
    }
   ],
   "source": [
    "# sum of odd numbers from 1 to 100\n",
    "print(f'sum of odd numbers from 1 to {n} = {sum_naturals1(n, \"odd\")}')"
   ]
  },
  {
   "cell_type": "markdown",
   "id": "aa506d58",
   "metadata": {},
   "source": [
    "## Functions as returned values\n",
    "\n",
    "- functions can return a function\n",
    "- locally defined functions maintain their parent environment when they are returned"
   ]
  },
  {
   "cell_type": "code",
   "execution_count": 45,
   "id": "807b2578",
   "metadata": {},
   "outputs": [],
   "source": [
    "def number_type(ntype='all'):\n",
    "    def even(x):\n",
    "        return x if x%2 == 0 else 0\n",
    "    \n",
    "    def odd(x):\n",
    "        return x if x%2 == 1 else 0\n",
    "    \n",
    "    def _(x): # function to return x as it is; any()\n",
    "        return x\n",
    "    \n",
    "    if ntype == 'all':\n",
    "        return _\n",
    "    elif ntype == 'even':\n",
    "        return even\n",
    "    else:\n",
    "        return odd"
   ]
  },
  {
   "cell_type": "code",
   "execution_count": 46,
   "id": "f87b0f92",
   "metadata": {},
   "outputs": [
    {
     "name": "stdout",
     "output_type": "stream",
     "text": [
      "sum of first 100 natural numbers = 5050\n"
     ]
    }
   ],
   "source": [
    "n = 100\n",
    "print(f'sum of first {n} natural numbers = {sum_naturals(number_type(\"all\"), n)}')"
   ]
  },
  {
   "cell_type": "code",
   "execution_count": 47,
   "id": "2b2f7b4b",
   "metadata": {},
   "outputs": [
    {
     "name": "stdout",
     "output_type": "stream",
     "text": [
      "sum of even numbers from 1 to 100 = 2550\n"
     ]
    }
   ],
   "source": [
    "print(f'sum of even numbers from 1 to {n} = {sum_naturals(number_type(\"even\"), n)}')"
   ]
  },
  {
   "cell_type": "code",
   "execution_count": 48,
   "id": "b296d44b",
   "metadata": {},
   "outputs": [
    {
     "name": "stdout",
     "output_type": "stream",
     "text": [
      "sum of odd numbers from 1 to 100 = 2500\n"
     ]
    }
   ],
   "source": [
    "# sum of odd numbers from 1 to 100\n",
    "print(f'sum of odd numbers from 1 to {n} = {sum_naturals(number_type(\"odd\"), n)}')"
   ]
  },
  {
   "cell_type": "markdown",
   "id": "24cca1cb",
   "metadata": {},
   "source": [
    "## Currying\n",
    "\n",
    "- breaking down the evaluation of a function that takes multiple arguments into evaluating a sequence of single-argument functions\n",
    "- also used in chaining multiple functions into one\n",
    "\n",
    "- e.g., given a function `f(x, y)`, we can define a function `g(x)(y)` equivalent to `f(x, y)`\n",
    "    - `g` is a higher-order function that takes in a single argument `x` and returns another function that takes in a single argument `y`\n",
    "- a single function can be broken into multiple functions by chaining the smaller functions\n",
    "    - `f(x) = h(g(x))`\n",
    "    - the output of inner function `g(x)` is an input for outer function `h()`\n",
    "    - this transformation is called **currying**"
   ]
  },
  {
   "cell_type": "code",
   "execution_count": 49,
   "id": "0b547e79",
   "metadata": {},
   "outputs": [],
   "source": [
    "# single function that converts days to seconds\n",
    "def daysToSeconds(days):\n",
    "    return days * 24 * 60 * 60"
   ]
  },
  {
   "cell_type": "code",
   "execution_count": 50,
   "id": "7f965554",
   "metadata": {},
   "outputs": [
    {
     "data": {
      "text/plain": [
       "86400"
      ]
     },
     "execution_count": 50,
     "metadata": {},
     "output_type": "execute_result"
    }
   ],
   "source": [
    "# use the function\n",
    "daysToSeconds(1)"
   ]
  },
  {
   "cell_type": "code",
   "execution_count": 51,
   "id": "6b190cbc",
   "metadata": {},
   "outputs": [],
   "source": [
    "# currying application\n",
    "# convert no. of days into seconds\n",
    "def convertDaysToSeconds(f1, f2, f3):\n",
    "    \"\"\"Higer order function that takes 3 functions.\"\"\"\n",
    "    def f(x): \n",
    "        return f1(f2(f3(x)))\n",
    "    return f \n",
    "\n",
    "def daysToHours(days): \n",
    "    \"\"\" Function converts days to hours.\"\"\"\n",
    "    return days * 24\n",
    "\n",
    "def hoursToMinutes(hours): \n",
    "    \"\"\" Function converts hours to minutes.\"\"\"\n",
    "    return hours * 60\n",
    "\n",
    "def minutesToSeconds(minutes): \n",
    "    \"\"\" Function converts minutes to seconds.\"\"\"\n",
    "    return  minutes * 60"
   ]
  },
  {
   "cell_type": "code",
   "execution_count": 55,
   "id": "c738d618",
   "metadata": {},
   "outputs": [],
   "source": [
    "# create a single function curry\n",
    "days_to_seconds = convertDaysToSeconds(minutesToSeconds, hoursToMinutes, daysToHours)"
   ]
  },
  {
   "cell_type": "code",
   "execution_count": 56,
   "id": "9e20559b",
   "metadata": {},
   "outputs": [
    {
     "data": {
      "text/plain": [
       "86400"
      ]
     },
     "execution_count": 56,
     "metadata": {},
     "output_type": "execute_result"
    }
   ],
   "source": [
    "days_to_seconds(1)"
   ]
  },
  {
   "cell_type": "code",
   "execution_count": 57,
   "id": "96a31593",
   "metadata": {},
   "outputs": [],
   "source": [
    "# currying application; function with two arguments\n",
    "# built-in pow function takes two arguments; \n",
    "# let's convert it into a function that takes a single argument\n",
    "def curried_pow(x):\n",
    "    def g(y):\n",
    "        return pow(x, y)\n",
    "    return g # function preserves the local variables, x and y"
   ]
  },
  {
   "cell_type": "code",
   "execution_count": 58,
   "id": "79fe0580",
   "metadata": {},
   "outputs": [
    {
     "data": {
      "text/plain": [
       "8"
      ]
     },
     "execution_count": 58,
     "metadata": {},
     "output_type": "execute_result"
    }
   ],
   "source": [
    "curried_pow(2)(3) # x=2, y=3; -> pow(2, 3)\n",
    "# same as 2**3"
   ]
  },
  {
   "cell_type": "code",
   "execution_count": 59,
   "id": "9c7bba4e",
   "metadata": {},
   "outputs": [],
   "source": [
    "# currying application 2\n",
    "# function maps each element in alist with func() transformation\n",
    "def my_map(alist, func):\n",
    "    for i in range(len(alist)):\n",
    "        alist[i] = func(alist[i])"
   ]
  },
  {
   "cell_type": "code",
   "execution_count": 60,
   "id": "be5625c5",
   "metadata": {},
   "outputs": [],
   "source": [
    "# let's create a list of integers and map each to a different value\n",
    "nums = list(range(1, 11))"
   ]
  },
  {
   "cell_type": "code",
   "execution_count": 61,
   "id": "a0bdf77e",
   "metadata": {},
   "outputs": [],
   "source": [
    "# function maps each element in alist with func() transformation\n",
    "def my_map(alist, func):\n",
    "    for i in range(len(alist)):\n",
    "        alist[i] = func(alist[i])"
   ]
  },
  {
   "cell_type": "code",
   "execution_count": 62,
   "id": "2c878064",
   "metadata": {},
   "outputs": [],
   "source": [
    "my_map(nums, curried_pow(2))"
   ]
  },
  {
   "cell_type": "code",
   "execution_count": 63,
   "id": "3fe02ab2",
   "metadata": {},
   "outputs": [
    {
     "data": {
      "text/plain": [
       "[2, 4, 8, 16, 32, 64, 128, 256, 512, 1024]"
      ]
     },
     "execution_count": 63,
     "metadata": {},
     "output_type": "execute_result"
    }
   ],
   "source": [
    "nums"
   ]
  },
  {
   "cell_type": "markdown",
   "id": "d9806817",
   "metadata": {},
   "source": [
    "## Built-in Function Decorators\n",
    "\n",
    "- `functools` provides `wraps` and many built-in decorators that can be very useful\n",
    "    - e.g., least recently used (LRU) caching\n",
    "- See [https://docs.python.org/3/library/functools.html](https://docs.python.org/3/library/functools.html) for all the higher-order functions\n",
    "- any callable object can be passed to a higher-order function to decorate it!\n",
    "- See this tutorial for Callbe objects in Python - [https://realpython.com/python-callable-instances/](https://realpython.com/python-callable-instances/)\n",
    "- built-in decorator example"
   ]
  },
  {
   "cell_type": "code",
   "execution_count": 1,
   "id": "21c1cb81",
   "metadata": {},
   "outputs": [],
   "source": [
    "from functools import cache"
   ]
  },
  {
   "cell_type": "code",
   "execution_count": 2,
   "id": "f407f546",
   "metadata": {},
   "outputs": [],
   "source": [
    "count = 0\n",
    "@cache\n",
    "def factorial(n):\n",
    "    global count\n",
    "    count += 1\n",
    "    return n*factorial(n-1) if n else 1"
   ]
  },
  {
   "cell_type": "code",
   "execution_count": 3,
   "id": "c27c3d1c",
   "metadata": {},
   "outputs": [
    {
     "data": {
      "text/plain": [
       "93326215443944152681699238856266700490715968264381621468592963895217599993229915608941463976156518286253697920827223758251185210916864000000000000000000000000"
      ]
     },
     "execution_count": 3,
     "metadata": {},
     "output_type": "execute_result"
    }
   ],
   "source": [
    "factorial(100)"
   ]
  },
  {
   "cell_type": "code",
   "execution_count": 4,
   "id": "61b5c961",
   "metadata": {},
   "outputs": [
    {
     "data": {
      "text/plain": [
       "101"
      ]
     },
     "execution_count": 4,
     "metadata": {},
     "output_type": "execute_result"
    }
   ],
   "source": [
    "count"
   ]
  },
  {
   "cell_type": "code",
   "execution_count": 5,
   "id": "018f7447",
   "metadata": {},
   "outputs": [
    {
     "data": {
      "text/plain": [
       "30414093201713378043612608166064768844377641568960512000000000000"
      ]
     },
     "execution_count": 5,
     "metadata": {},
     "output_type": "execute_result"
    }
   ],
   "source": [
    "factorial(50) # use cachaed result"
   ]
  },
  {
   "cell_type": "code",
   "execution_count": 6,
   "id": "f63b7060",
   "metadata": {},
   "outputs": [
    {
     "data": {
      "text/plain": [
       "101"
      ]
     },
     "execution_count": 6,
     "metadata": {},
     "output_type": "execute_result"
    }
   ],
   "source": [
    "count"
   ]
  },
  {
   "cell_type": "code",
   "execution_count": 7,
   "id": "9fc91e68",
   "metadata": {},
   "outputs": [
    {
     "data": {
      "text/plain": [
       "961446671503512660926865558697259548455355905059659464369444714048531715130254590603314961882364451384985595980362059157503710042865532928000000000000000000000000"
      ]
     },
     "execution_count": 7,
     "metadata": {},
     "output_type": "execute_result"
    }
   ],
   "source": [
    "factorial(102) # make 2 more recursive calls"
   ]
  },
  {
   "cell_type": "code",
   "execution_count": 8,
   "id": "17d8916a",
   "metadata": {},
   "outputs": [
    {
     "data": {
      "text/plain": [
       "103"
      ]
     },
     "execution_count": 8,
     "metadata": {},
     "output_type": "execute_result"
    }
   ],
   "source": [
    "count"
   ]
  },
  {
   "cell_type": "code",
   "execution_count": 9,
   "id": "86fdef03",
   "metadata": {},
   "outputs": [
    {
     "data": {
      "text/plain": [
       "CacheInfo(hits=2, misses=103, maxsize=None, currsize=103)"
      ]
     },
     "execution_count": 9,
     "metadata": {},
     "output_type": "execute_result"
    }
   ],
   "source": [
    "factorial.cache_info()"
   ]
  },
  {
   "cell_type": "code",
   "execution_count": 10,
   "id": "56d4d953",
   "metadata": {},
   "outputs": [
    {
     "name": "stdout",
     "output_type": "stream",
     "text": [
      "Help on class int in module builtins:\n",
      "\n",
      "class int(object)\n",
      " |  int([x]) -> integer\n",
      " |  int(x, base=10) -> integer\n",
      " |  \n",
      " |  Convert a number or string to an integer, or return 0 if no arguments\n",
      " |  are given.  If x is a number, return x.__int__().  For floating point\n",
      " |  numbers, this truncates towards zero.\n",
      " |  \n",
      " |  If x is not a number or if base is given, then x must be a string,\n",
      " |  bytes, or bytearray instance representing an integer literal in the\n",
      " |  given base.  The literal can be preceded by '+' or '-' and be surrounded\n",
      " |  by whitespace.  The base defaults to 10.  Valid bases are 0 and 2-36.\n",
      " |  Base 0 means to interpret the base from the string as an integer literal.\n",
      " |  >>> int('0b100', base=0)\n",
      " |  4\n",
      " |  \n",
      " |  Built-in subclasses:\n",
      " |      bool\n",
      " |  \n",
      " |  Methods defined here:\n",
      " |  \n",
      " |  __abs__(self, /)\n",
      " |      abs(self)\n",
      " |  \n",
      " |  __add__(self, value, /)\n",
      " |      Return self+value.\n",
      " |  \n",
      " |  __and__(self, value, /)\n",
      " |      Return self&value.\n",
      " |  \n",
      " |  __bool__(self, /)\n",
      " |      True if self else False\n",
      " |  \n",
      " |  __ceil__(...)\n",
      " |      Ceiling of an Integral returns itself.\n",
      " |  \n",
      " |  __divmod__(self, value, /)\n",
      " |      Return divmod(self, value).\n",
      " |  \n",
      " |  __eq__(self, value, /)\n",
      " |      Return self==value.\n",
      " |  \n",
      " |  __float__(self, /)\n",
      " |      float(self)\n",
      " |  \n",
      " |  __floor__(...)\n",
      " |      Flooring an Integral returns itself.\n",
      " |  \n",
      " |  __floordiv__(self, value, /)\n",
      " |      Return self//value.\n",
      " |  \n",
      " |  __format__(self, format_spec, /)\n",
      " |      Default object formatter.\n",
      " |  \n",
      " |  __ge__(self, value, /)\n",
      " |      Return self>=value.\n",
      " |  \n",
      " |  __getattribute__(self, name, /)\n",
      " |      Return getattr(self, name).\n",
      " |  \n",
      " |  __getnewargs__(self, /)\n",
      " |  \n",
      " |  __gt__(self, value, /)\n",
      " |      Return self>value.\n",
      " |  \n",
      " |  __hash__(self, /)\n",
      " |      Return hash(self).\n",
      " |  \n",
      " |  __index__(self, /)\n",
      " |      Return self converted to an integer, if self is suitable for use as an index into a list.\n",
      " |  \n",
      " |  __int__(self, /)\n",
      " |      int(self)\n",
      " |  \n",
      " |  __invert__(self, /)\n",
      " |      ~self\n",
      " |  \n",
      " |  __le__(self, value, /)\n",
      " |      Return self<=value.\n",
      " |  \n",
      " |  __lshift__(self, value, /)\n",
      " |      Return self<<value.\n",
      " |  \n",
      " |  __lt__(self, value, /)\n",
      " |      Return self<value.\n",
      " |  \n",
      " |  __mod__(self, value, /)\n",
      " |      Return self%value.\n",
      " |  \n",
      " |  __mul__(self, value, /)\n",
      " |      Return self*value.\n",
      " |  \n",
      " |  __ne__(self, value, /)\n",
      " |      Return self!=value.\n",
      " |  \n",
      " |  __neg__(self, /)\n",
      " |      -self\n",
      " |  \n",
      " |  __or__(self, value, /)\n",
      " |      Return self|value.\n",
      " |  \n",
      " |  __pos__(self, /)\n",
      " |      +self\n",
      " |  \n",
      " |  __pow__(self, value, mod=None, /)\n",
      " |      Return pow(self, value, mod).\n",
      " |  \n",
      " |  __radd__(self, value, /)\n",
      " |      Return value+self.\n",
      " |  \n",
      " |  __rand__(self, value, /)\n",
      " |      Return value&self.\n",
      " |  \n",
      " |  __rdivmod__(self, value, /)\n",
      " |      Return divmod(value, self).\n",
      " |  \n",
      " |  __repr__(self, /)\n",
      " |      Return repr(self).\n",
      " |  \n",
      " |  __rfloordiv__(self, value, /)\n",
      " |      Return value//self.\n",
      " |  \n",
      " |  __rlshift__(self, value, /)\n",
      " |      Return value<<self.\n",
      " |  \n",
      " |  __rmod__(self, value, /)\n",
      " |      Return value%self.\n",
      " |  \n",
      " |  __rmul__(self, value, /)\n",
      " |      Return value*self.\n",
      " |  \n",
      " |  __ror__(self, value, /)\n",
      " |      Return value|self.\n",
      " |  \n",
      " |  __round__(...)\n",
      " |      Rounding an Integral returns itself.\n",
      " |      \n",
      " |      Rounding with an ndigits argument also returns an integer.\n",
      " |  \n",
      " |  __rpow__(self, value, mod=None, /)\n",
      " |      Return pow(value, self, mod).\n",
      " |  \n",
      " |  __rrshift__(self, value, /)\n",
      " |      Return value>>self.\n",
      " |  \n",
      " |  __rshift__(self, value, /)\n",
      " |      Return self>>value.\n",
      " |  \n",
      " |  __rsub__(self, value, /)\n",
      " |      Return value-self.\n",
      " |  \n",
      " |  __rtruediv__(self, value, /)\n",
      " |      Return value/self.\n",
      " |  \n",
      " |  __rxor__(self, value, /)\n",
      " |      Return value^self.\n",
      " |  \n",
      " |  __sizeof__(self, /)\n",
      " |      Returns size in memory, in bytes.\n",
      " |  \n",
      " |  __sub__(self, value, /)\n",
      " |      Return self-value.\n",
      " |  \n",
      " |  __truediv__(self, value, /)\n",
      " |      Return self/value.\n",
      " |  \n",
      " |  __trunc__(...)\n",
      " |      Truncating an Integral returns itself.\n",
      " |  \n",
      " |  __xor__(self, value, /)\n",
      " |      Return self^value.\n",
      " |  \n",
      " |  as_integer_ratio(self, /)\n",
      " |      Return integer ratio.\n",
      " |      \n",
      " |      Return a pair of integers, whose ratio is exactly equal to the original int\n",
      " |      and with a positive denominator.\n",
      " |      \n",
      " |      >>> (10).as_integer_ratio()\n",
      " |      (10, 1)\n",
      " |      >>> (-10).as_integer_ratio()\n",
      " |      (-10, 1)\n",
      " |      >>> (0).as_integer_ratio()\n",
      " |      (0, 1)\n",
      " |  \n",
      " |  bit_count(self, /)\n",
      " |      Number of ones in the binary representation of the absolute value of self.\n",
      " |      \n",
      " |      Also known as the population count.\n",
      " |      \n",
      " |      >>> bin(13)\n",
      " |      '0b1101'\n",
      " |      >>> (13).bit_count()\n",
      " |      3\n",
      " |  \n",
      " |  bit_length(self, /)\n",
      " |      Number of bits necessary to represent self in binary.\n",
      " |      \n",
      " |      >>> bin(37)\n",
      " |      '0b100101'\n",
      " |      >>> (37).bit_length()\n",
      " |      6\n",
      " |  \n",
      " |  conjugate(...)\n",
      " |      Returns self, the complex conjugate of any int.\n",
      " |  \n",
      " |  to_bytes(self, /, length, byteorder, *, signed=False)\n",
      " |      Return an array of bytes representing an integer.\n",
      " |      \n",
      " |      length\n",
      " |        Length of bytes object to use.  An OverflowError is raised if the\n",
      " |        integer is not representable with the given number of bytes.\n",
      " |      byteorder\n",
      " |        The byte order used to represent the integer.  If byteorder is 'big',\n",
      " |        the most significant byte is at the beginning of the byte array.  If\n",
      " |        byteorder is 'little', the most significant byte is at the end of the\n",
      " |        byte array.  To request the native byte order of the host system, use\n",
      " |        `sys.byteorder' as the byte order value.\n",
      " |      signed\n",
      " |        Determines whether two's complement is used to represent the integer.\n",
      " |        If signed is False and a negative integer is given, an OverflowError\n",
      " |        is raised.\n",
      " |  \n",
      " |  ----------------------------------------------------------------------\n",
      " |  Class methods defined here:\n",
      " |  \n",
      " |  from_bytes(bytes, byteorder, *, signed=False) from builtins.type\n",
      " |      Return the integer represented by the given array of bytes.\n",
      " |      \n",
      " |      bytes\n",
      " |        Holds the array of bytes to convert.  The argument must either\n",
      " |        support the buffer protocol or be an iterable object producing bytes.\n",
      " |        Bytes and bytearray are examples of built-in objects that support the\n",
      " |        buffer protocol.\n",
      " |      byteorder\n",
      " |        The byte order used to represent the integer.  If byteorder is 'big',\n",
      " |        the most significant byte is at the beginning of the byte array.  If\n",
      " |        byteorder is 'little', the most significant byte is at the end of the\n",
      " |        byte array.  To request the native byte order of the host system, use\n",
      " |        `sys.byteorder' as the byte order value.\n",
      " |      signed\n",
      " |        Indicates whether two's complement is used to represent the integer.\n",
      " |  \n",
      " |  ----------------------------------------------------------------------\n",
      " |  Static methods defined here:\n",
      " |  \n",
      " |  __new__(*args, **kwargs) from builtins.type\n",
      " |      Create and return a new object.  See help(type) for accurate signature.\n",
      " |  \n",
      " |  ----------------------------------------------------------------------\n",
      " |  Data descriptors defined here:\n",
      " |  \n",
      " |  denominator\n",
      " |      the denominator of a rational number in lowest terms\n",
      " |  \n",
      " |  imag\n",
      " |      the imaginary part of a complex number\n",
      " |  \n",
      " |  numerator\n",
      " |      the numerator of a rational number in lowest terms\n",
      " |  \n",
      " |  real\n",
      " |      the real part of a complex number\n",
      "\n"
     ]
    }
   ],
   "source": [
    "# let's define our own int function using partial decorator\n",
    "help(int)"
   ]
  },
  {
   "cell_type": "code",
   "execution_count": 14,
   "id": "57336c4d",
   "metadata": {},
   "outputs": [
    {
     "data": {
      "text/plain": [
       "3"
      ]
     },
     "execution_count": 14,
     "metadata": {},
     "output_type": "execute_result"
    }
   ],
   "source": [
    "int(3.5)"
   ]
  },
  {
   "cell_type": "code",
   "execution_count": 15,
   "id": "a2122427",
   "metadata": {},
   "outputs": [
    {
     "data": {
      "text/plain": [
       "3"
      ]
     },
     "execution_count": 15,
     "metadata": {},
     "output_type": "execute_result"
    }
   ],
   "source": [
    "int('11', base=2)"
   ]
  },
  {
   "cell_type": "code",
   "execution_count": 21,
   "id": "102fb617",
   "metadata": {},
   "outputs": [],
   "source": [
    "from functools import partial\n",
    "\n",
    "basetwo = partial(int, base=2)\n",
    "basetwo.__doc__ = 'Convert base 2 string to an int'"
   ]
  },
  {
   "cell_type": "code",
   "execution_count": 22,
   "id": "fa9f4ac8",
   "metadata": {},
   "outputs": [
    {
     "name": "stdout",
     "output_type": "stream",
     "text": [
      "Help on partial in module functools:\n",
      "\n",
      "functools.partial(<class 'int'>, base=2)\n",
      "    Convert base 2 string to an int\n",
      "\n"
     ]
    }
   ],
   "source": [
    "help(basetwo)"
   ]
  },
  {
   "cell_type": "code",
   "execution_count": 23,
   "id": "a242038b",
   "metadata": {},
   "outputs": [
    {
     "data": {
      "text/plain": [
       "63"
      ]
     },
     "execution_count": 23,
     "metadata": {},
     "output_type": "execute_result"
    }
   ],
   "source": [
    "basetwo('111111')"
   ]
  },
  {
   "cell_type": "code",
   "execution_count": 24,
   "id": "098674bc",
   "metadata": {},
   "outputs": [
    {
     "data": {
      "text/plain": [
       "8"
      ]
     },
     "execution_count": 24,
     "metadata": {},
     "output_type": "execute_result"
    }
   ],
   "source": [
    "basetwo('1000')"
   ]
  },
  {
   "cell_type": "code",
   "execution_count": 25,
   "id": "01bc7cfc",
   "metadata": {},
   "outputs": [],
   "source": [
    "assert basetwo('11') == 3"
   ]
  },
  {
   "cell_type": "markdown",
   "id": "bba541be",
   "metadata": {},
   "source": [
    "## Defining Function Decorators\n",
    "\n",
    "- Python provides `wraps()` function to wrap any function that needs to be decorated\n",
    "- https://realpython.com/primer-on-python-decorators/\n",
    "- decorators are higher order functions\n",
    "- decorators take another function as an argument and decorate it\n",
    "- argument function is decorated by extending its behavior without explictly modifying the function itself\n",
    "\n",
    "#### How about passing arguments to decorated function and its return values?\n",
    "1. if the function being decorated takes arguments, provide arguments to the wrapper function\n",
    "    - wrapper function wraps the argument function\n",
    "2. if the function being decorated returns a value, call it with `return` statement\n",
    "    - obviously, must be the last statement\n",
    "\n",
    "### Real-world Applications\n",
    "\n",
    "- we've already used: `@classmethod`, `@property`, `@staticmethod`\n",
    "- many frameworks such as Flask, Django provide lots of decorators\n",
    "    - e.g. @login_required; @app.route(\"/route_name\"), etc.\n",
    "    - simply define the functions using the library provided decorators!\n",
    "- Python `functools` library provides many higher order decorators:\n",
    "https://docs.python.org/3/library/functools.html"
   ]
  },
  {
   "cell_type": "code",
   "execution_count": 80,
   "id": "2537465b",
   "metadata": {},
   "outputs": [],
   "source": [
    "# a simple fruitless function without parameter\n",
    "def hello(name=None):\n",
    "    \"\"\"Print Hello there!\"\"\"\n",
    "    print(\"Hello there...\")"
   ]
  },
  {
   "cell_type": "code",
   "execution_count": 76,
   "id": "0e20bf0b",
   "metadata": {},
   "outputs": [
    {
     "name": "stdout",
     "output_type": "stream",
     "text": [
      "Hello there!\n"
     ]
    }
   ],
   "source": [
    "hello()\n",
    "# too simple... let's decorate hello"
   ]
  },
  {
   "cell_type": "code",
   "execution_count": 129,
   "id": "27453224",
   "metadata": {},
   "outputs": [],
   "source": [
    "# a simple decorator function to decorate hello\n",
    "def hello_decorator(func):\n",
    "    \"\"\"Decorate func.\"\"\"\n",
    "    \n",
    "    def wrapper_hello_decorator(*args, **kwargs):\n",
    "        \"\"\"Wrapper for hello function.\"\"\"\n",
    "        # code ...\n",
    "        # call the actual function\n",
    "        ret = func(*args, **kwargs)\n",
    "        # use ret value...\n",
    "        if not args:\n",
    "            print(\"stranger...\")\n",
    "        else:\n",
    "            print(f\"Great seeing you {args[0]} !!\")\n",
    "        print(\"Have a great time!\")\n",
    "        # code ...\n",
    "    return wrapper_hello_decorator"
   ]
  },
  {
   "cell_type": "code",
   "execution_count": 103,
   "id": "d1f226a9",
   "metadata": {},
   "outputs": [],
   "source": [
    "# hello is decorated now, without modifying the original function\n",
    "# just the behavior is modified by added extra print() before and after hello\n",
    "hello_deco = hello_decorator(hello)"
   ]
  },
  {
   "cell_type": "code",
   "execution_count": 104,
   "id": "7ae4730a",
   "metadata": {},
   "outputs": [
    {
     "name": "stdout",
     "output_type": "stream",
     "text": [
      "Hello there!\n",
      "stranger...\n",
      "Have a great time!\n"
     ]
    }
   ],
   "source": [
    "hello_deco()"
   ]
  },
  {
   "cell_type": "code",
   "execution_count": 105,
   "id": "0df60ba1",
   "metadata": {},
   "outputs": [
    {
     "name": "stdout",
     "output_type": "stream",
     "text": [
      "Hello there!\n",
      "Great seeing you John !!\n",
      "Have a great time!\n"
     ]
    }
   ],
   "source": [
    "hello_deco('John')"
   ]
  },
  {
   "cell_type": "code",
   "execution_count": 106,
   "id": "2c201998",
   "metadata": {},
   "outputs": [],
   "source": [
    "# Python provides a better syntax, shortcut!\n",
    "# use @decorter_function name and define the function that needs to be decorated\n",
    "@hello_decorator\n",
    "def say_hi():\n",
    "    \"\"\"print Hi there! with some decorations.\"\"\"\n",
    "    \n",
    "    print(\"Hi there!\")"
   ]
  },
  {
   "cell_type": "code",
   "execution_count": 107,
   "id": "de9bad9a",
   "metadata": {},
   "outputs": [
    {
     "name": "stdout",
     "output_type": "stream",
     "text": [
      "Hi there!\n",
      "stranger...\n",
      "Have a great time!\n"
     ]
    }
   ],
   "source": [
    "say_hi()"
   ]
  },
  {
   "cell_type": "code",
   "execution_count": 108,
   "id": "e0e6d0e0",
   "metadata": {},
   "outputs": [
    {
     "data": {
      "text/plain": [
       "'wrapper_hello_decorator'"
      ]
     },
     "execution_count": 108,
     "metadata": {},
     "output_type": "execute_result"
    }
   ],
   "source": [
    "# let's check the name name and docstring for say_hi\n",
    "say_hi.__name__"
   ]
  },
  {
   "cell_type": "code",
   "execution_count": 109,
   "id": "fcf9f7d6",
   "metadata": {},
   "outputs": [
    {
     "data": {
      "text/plain": [
       "'Wrapper for hello function.'"
      ]
     },
     "execution_count": 109,
     "metadata": {},
     "output_type": "execute_result"
    }
   ],
   "source": [
    "say_hi.__doc__"
   ]
  },
  {
   "cell_type": "code",
   "execution_count": 125,
   "id": "9d8e11fb",
   "metadata": {},
   "outputs": [],
   "source": [
    "# decorated function lost its identify! \n",
    "# Let's preserve the identify of functions being decorated...\n",
    "from functools import wraps\n",
    "\n",
    "# a simple decorator function to decorate hello\n",
    "def hello_better(func):\n",
    "    \"\"\"Decorate func.\"\"\"\n",
    "    \n",
    "    @wraps(func)\n",
    "    def wrapper_hello_better(*args, **kwargs):\n",
    "        \"\"\"Wrapper for func.\"\"\"\n",
    "        # code ...\n",
    "        # call the actual function\n",
    "        ret = func(*args, **kwargs)\n",
    "        # use ret value...\n",
    "        if not args:\n",
    "            print(\"stranger...\")\n",
    "        else:\n",
    "            print(f\"Great seeing you {args[0]}!!\")\n",
    "        print(\"Have a great time!\")\n",
    "        # code ...\n",
    "    return wrapper_hello_better"
   ]
  },
  {
   "cell_type": "code",
   "execution_count": 126,
   "id": "2c89eb3b",
   "metadata": {},
   "outputs": [],
   "source": [
    "# let's define a new function with hello_better decorator\n",
    "@hello_better\n",
    "def greet(name=None):\n",
    "    \"\"\"Print Good morning!\"\"\"\n",
    "    \n",
    "    print('Good morning!')"
   ]
  },
  {
   "cell_type": "code",
   "execution_count": 127,
   "id": "16019014",
   "metadata": {},
   "outputs": [
    {
     "name": "stdout",
     "output_type": "stream",
     "text": [
      "Good morning!\n",
      "stranger...\n",
      "Have a great time!\n"
     ]
    }
   ],
   "source": [
    "greet()"
   ]
  },
  {
   "cell_type": "code",
   "execution_count": 128,
   "id": "9b2001f7",
   "metadata": {},
   "outputs": [
    {
     "name": "stdout",
     "output_type": "stream",
     "text": [
      "Good morning!\n",
      "Great seeing you Jane!!\n",
      "Have a great time!\n"
     ]
    }
   ],
   "source": [
    "greet(\"Jane\")"
   ]
  },
  {
   "cell_type": "code",
   "execution_count": 130,
   "id": "087532db",
   "metadata": {},
   "outputs": [
    {
     "data": {
      "text/plain": [
       "'greet'"
      ]
     },
     "execution_count": 130,
     "metadata": {},
     "output_type": "execute_result"
    }
   ],
   "source": [
    "greet.__name__"
   ]
  },
  {
   "cell_type": "code",
   "execution_count": 131,
   "id": "6ab5fea4",
   "metadata": {},
   "outputs": [
    {
     "data": {
      "text/plain": [
       "'Print Good morning!'"
      ]
     },
     "execution_count": 131,
     "metadata": {},
     "output_type": "execute_result"
    }
   ],
   "source": [
    "greet.__doc__"
   ]
  },
  {
   "cell_type": "markdown",
   "id": "63ef2e6c",
   "metadata": {},
   "source": [
    "## Decorator Pattern\n",
    "\n",
    "- the Decorator pattern allows us to *wrap* an object that provides core functionalities with other objects\n",
    "- two primary uses:\n",
    " - enhancing the response of a component as it sends data to a second component\n",
    " - supporting multiple optional behaviors\n",
    "     - suitable alternative to multiple inheritance\n",
    "- create a core object, and then create a decorator wrapping that core\n",
    "- we can chain the wrapping as the decorator object has the same interface as the core object\n",
    "- **Core** and all the decorators implement a specific **Interface**\n",
    "    - the dash lines show \"implements\" or \"realizes\"\n",
    "- when called, the decorator does some added processing before or after calling its wrapped interface\n",
    "- see how it looks using the UML diagram\n",
    "![Decorator Pattern UML](resources/decorator_pattern.png)"
   ]
  },
  {
   "cell_type": "markdown",
   "id": "209a781d",
   "metadata": {},
   "source": [
    "## Defining function decorator\n",
    "\n",
    "- we define higher order function that takes function as an argument to be decorated\n",
    "- we can use wraps function decorator to wrap any function and return it\n",
    "    - we don't have to but, it preserves the signature of the function being decorated\n"
   ]
  },
  {
   "cell_type": "code",
   "execution_count": 133,
   "id": "ac437e03",
   "metadata": {},
   "outputs": [],
   "source": [
    "from functools import wraps\n",
    "from typing import Callable, Any\n",
    "\n",
    "def log_args(function: Callable[..., Any]) -> Callable[..., Any]:\n",
    "    \n",
    "    @wraps(function)\n",
    "    def wrapped_function(*args: Any, **kwargs: Any) -> Any:\n",
    "        print(f\"Calling {function.__name__}(*{args}, **{kwargs})\")\n",
    "        #if len(arg) == 3:\n",
    "        kwargs['1'] = 1\n",
    "        result = function(*args, **kwargs)\n",
    "        return result\n",
    "    \n",
    "    return wrapped_function"
   ]
  },
  {
   "cell_type": "code",
   "execution_count": 134,
   "id": "0ea9689c",
   "metadata": {},
   "outputs": [],
   "source": [
    "def test1(a: int, b: int, c:int, *args, **kwargs) -> float:\n",
    "    return sum(range(a, b + 1)) / c"
   ]
  },
  {
   "cell_type": "code",
   "execution_count": 135,
   "id": "be457a32",
   "metadata": {},
   "outputs": [],
   "source": [
    "test1 = log_args(test1)"
   ]
  },
  {
   "cell_type": "code",
   "execution_count": 136,
   "id": "490bd4a9",
   "metadata": {},
   "outputs": [
    {
     "name": "stdout",
     "output_type": "stream",
     "text": [
      "Calling test1(*(1, 9, 2), **{})\n"
     ]
    },
    {
     "data": {
      "text/plain": [
       "22.5"
      ]
     },
     "execution_count": 136,
     "metadata": {},
     "output_type": "execute_result"
    }
   ],
   "source": [
    "test1(1, 9, 2)"
   ]
  },
  {
   "cell_type": "code",
   "execution_count": 137,
   "id": "04f1e1db",
   "metadata": {},
   "outputs": [],
   "source": [
    "# better option/syntax\n",
    "@log_args\n",
    "def test2(a: int, b: int, c:int, *args, **kwargs) -> float:\n",
    "    return sum(range(a, b + 1)) / c"
   ]
  },
  {
   "cell_type": "code",
   "execution_count": 138,
   "id": "8bd4b836",
   "metadata": {},
   "outputs": [
    {
     "name": "stdout",
     "output_type": "stream",
     "text": [
      "Calling test2(*(1, 9, 2), **{})\n"
     ]
    },
    {
     "data": {
      "text/plain": [
       "22.5"
      ]
     },
     "execution_count": 138,
     "metadata": {},
     "output_type": "execute_result"
    }
   ],
   "source": [
    "test2(1, 9, 2)"
   ]
  },
  {
   "cell_type": "markdown",
   "id": "21db9ece",
   "metadata": {},
   "source": [
    "### Defining class decorator\n",
    "\n",
    "- in the following example; we have an original class Coffee\n",
    "- MilkDecorator decorates Coffee by adding cost of milk\n",
    "- similarly, Coffee can be wrapped with more decorators (e.g., SugarDecorator, WhippedCreamDecorator, etc.)\n",
    "- this decorator pattern utilizes the **Open-Closed Principle (OCP) of SOLID** principles\n",
    "    - making it easy to extend functionality without modifying the original class"
   ]
  },
  {
   "cell_type": "code",
   "execution_count": 1,
   "id": "8f9d7fed",
   "metadata": {},
   "outputs": [],
   "source": [
    "class Coffee:\n",
    "    def cost(self):\n",
    "        return 5\n",
    "    \n",
    "\n",
    "#Decorator class\n",
    "class MilkDecorator:\n",
    "    def __init__(self, coffee):\n",
    "        self._coffee = coffee\n",
    "    \n",
    "    def cost(self):\n",
    "        return self._coffee.cost() + 2 # Add cost of mile"
   ]
  },
  {
   "cell_type": "code",
   "execution_count": 4,
   "id": "04756de0",
   "metadata": {},
   "outputs": [
    {
     "name": "stdout",
     "output_type": "stream",
     "text": [
      "Black Coffee Cost: 5\n"
     ]
    }
   ],
   "source": [
    "# without using the decorator\n",
    "black_coffee  = Coffee()\n",
    "print(\"Black Coffee Cost:\", black_coffee.cost())"
   ]
  },
  {
   "cell_type": "code",
   "execution_count": 7,
   "id": "f39a53d3",
   "metadata": {},
   "outputs": [
    {
     "name": "stdout",
     "output_type": "stream",
     "text": [
      "Milk Coffee Cost: 7\n"
     ]
    }
   ],
   "source": [
    "# using the decorator\n",
    "milk_coffee = MilkDecorator(black_coffee)\n",
    "print(\"Milk Coffee Cost:\", milk_coffee.cost())"
   ]
  },
  {
   "cell_type": "code",
   "execution_count": 8,
   "id": "b960c48d",
   "metadata": {},
   "outputs": [],
   "source": [
    "class SugarDecorator:\n",
    "    def __init__(self, coffee):\n",
    "        self._coffee = coffee\n",
    "\n",
    "    def cost(self):\n",
    "        return self._coffee.cost() + 1  # Add cost of sugar"
   ]
  },
  {
   "cell_type": "code",
   "execution_count": 9,
   "id": "07ec20c5",
   "metadata": {},
   "outputs": [
    {
     "name": "stdout",
     "output_type": "stream",
     "text": [
      "Coffee with Milk and Sugar Cost: 8\n"
     ]
    }
   ],
   "source": [
    "# Applying multiple decorators\n",
    "coffee_with_milk_and_sugar = SugarDecorator(MilkDecorator(Coffee()))\n",
    "print(\"Coffee with Milk and Sugar Cost:\", coffee_with_milk_and_sugar.cost())"
   ]
  },
  {
   "cell_type": "code",
   "execution_count": 29,
   "id": "063ef55e",
   "metadata": {},
   "outputs": [],
   "source": [
    "# Useful class decorators example\n",
    "# Generates demo.log when applied to a function\n",
    "# __call__ overrides when the class is called like a function\n",
    "\n",
    "from functools import wraps\n",
    "from typing import Callable, Any\n",
    "import logging\n",
    "import time\n",
    "\n",
    "class NamedLogger:\n",
    "    # configure logger\n",
    "    logging.basicConfig(filename=\"demo.log\",\n",
    "                format='{message}', style='{',\n",
    "                filemode='w')\n",
    "        \n",
    "    def __init__(self, logger_name: str) -> None:\n",
    "        self.logger = logging.getLogger(logger_name)\n",
    "        self.logger.setLevel(logging.DEBUG)\n",
    "        \n",
    "    def __call__(\n",
    "           self,\n",
    "           function: Callable[..., Any]\n",
    "    ) -> Callable[..., Any]:\n",
    "        @wraps(function)\n",
    "        def wrapped_function(*args: Any, **kwargs: Any) -> Any:\n",
    "            start = time.perf_counter()\n",
    "            try:\n",
    "                result = function(*args, **kwargs)\n",
    "                μs = (time.perf_counter() - start) * 1_000_000\n",
    "                self.logger.info(\n",
    "                    f\"{function.__name__}(*{args}), {μs:.1f}μs\")\n",
    "                return result\n",
    "            except Exception as ex:\n",
    "                μs = (time.perf_counter() - start) * 1_000_000\n",
    "                self.logger.error(\n",
    "                    f\"{ex}, {function.__name__}(*{args}), { μs:.1f}μs\")\n",
    "                raise\n",
    "        return wrapped_function"
   ]
  },
  {
   "cell_type": "code",
   "execution_count": 30,
   "id": "455e0842",
   "metadata": {},
   "outputs": [],
   "source": [
    "@NamedLogger(\"app_log\")\n",
    "def test4(median: float, sample: float) -> float:\n",
    "    return sample - median"
   ]
  },
  {
   "cell_type": "code",
   "execution_count": 31,
   "id": "b91d791e",
   "metadata": {},
   "outputs": [
    {
     "data": {
      "text/plain": [
       "6"
      ]
     },
     "execution_count": 31,
     "metadata": {},
     "output_type": "execute_result"
    }
   ],
   "source": [
    "test4(4, 10)"
   ]
  },
  {
   "cell_type": "code",
   "execution_count": 32,
   "id": "87e91b77",
   "metadata": {},
   "outputs": [
    {
     "name": "stdout",
     "output_type": "stream",
     "text": [
      "test4(*(4, 10)), 1.0μs\r\n"
     ]
    }
   ],
   "source": [
    "! cat demo.log"
   ]
  },
  {
   "cell_type": "code",
   "execution_count": null,
   "id": "3494923c",
   "metadata": {},
   "outputs": [],
   "source": []
  }
 ],
 "metadata": {
  "kernelspec": {
   "display_name": "Python 3 (ipykernel)",
   "language": "python",
   "name": "python3"
  },
  "language_info": {
   "codemirror_mode": {
    "name": "ipython",
    "version": 3
   },
   "file_extension": ".py",
   "mimetype": "text/x-python",
   "name": "python",
   "nbconvert_exporter": "python",
   "pygments_lexer": "ipython3",
   "version": "3.10.8"
  }
 },
 "nbformat": 4,
 "nbformat_minor": 5
}
