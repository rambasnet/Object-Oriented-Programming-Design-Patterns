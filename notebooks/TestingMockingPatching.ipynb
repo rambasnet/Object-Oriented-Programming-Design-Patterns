{
 "cells": [
  {
   "cell_type": "markdown",
   "id": "274bb72f",
   "metadata": {},
   "source": [
    "# Mocking and Patching Objects for Testing\n",
    "\n",
    "### Topics\n",
    "\n",
    "- the motivation behind mocking/facking/patching objects\n",
    "- What is a Magic Mock?\n",
    "- use Mock to imitate objects in your tests\n",
    "- check usage data to understand how you use your objects\n",
    "- customize your mock objects' return values and side effects\n",
    "- patch() objects throughout your codebase\n",
    "- common mock problems and avoiding them\n",
    "\n",
    "## Motivation\n",
    "\n",
    "- isolated problems are easier to diagnose and solve\n",
    "- if a test fails, diagnosing/debugging many interrelated components can be very difficult\n",
    "    - e.g., why the engine of a gasoline car not firing\n",
    "- we often want to isolate items and testing environments by providing simplified imitations (facking real objects)\n",
    "- two reasons to replace actual code/API with imitation or **mock/fake** objects\n",
    "    1. isolate a unit under test - create collaborating classes and functions so we can test one unknown component\n",
    "    2. test code that requires an object that is either expensive or risky to use;\n",
    "       - things like shared databases, filesystems, and cloud infrastructures can be very expensive to setup and tear down for testing\n",
    "\n",
    "### Problems\n",
    "\n",
    "- two immediate problems we've been facing in solving Kattis problems are:\n",
    "1. how can we programmatically assert what result the function printed to standard output?\n",
    "2. how to automate data from standard input with out manually entering the input?"
   ]
  },
  {
   "cell_type": "code",
   "execution_count": null,
   "id": "c0bc4c53",
   "metadata": {},
   "outputs": [],
   "source": [
    "# Quick demo of patching stdout object to write to a file\n",
    "# instead of the console.\n",
    "from sys import stdout"
   ]
  },
  {
   "cell_type": "code",
   "execution_count": null,
   "id": "773a25d1",
   "metadata": {},
   "outputs": [],
   "source": [
    "# by default, stdout is a file object that writes to the console\n",
    "stdout.write('Hello World!\\n')"
   ]
  },
  {
   "cell_type": "code",
   "execution_count": null,
   "id": "19b3fafc",
   "metadata": {},
   "outputs": [],
   "source": [
    "save_stdout = stdout # save the original stdout object\n",
    "stdout = open('log.txt', 'w')\n",
    "stdout.write('This is a log file\\n')\n",
    "stdout.close()"
   ]
  },
  {
   "cell_type": "code",
   "execution_count": null,
   "id": "bb11055d",
   "metadata": {},
   "outputs": [],
   "source": [
    "! cat log.txt"
   ]
  },
  {
   "cell_type": "code",
   "execution_count": null,
   "id": "9762f356",
   "metadata": {},
   "outputs": [],
   "source": [
    "stdout = save_stdout # restore the original stdout object\n",
    "stdout.write('Back to the console\\n')"
   ]
  },
  {
   "cell_type": "markdown",
   "id": "4e856508",
   "metadata": {},
   "source": [
    "## Imitating objects using Mocks\n",
    "\n",
    "- based on: [https://realpython.com/python-mock-library/](https://realpython.com/python-mock-library/) and [https://docs.python.org/3/library/unittest.mock.html](https://docs.python.org/3/library/unittest.mock.html)\n",
    "- `unittest.mock` module provides Mock base class for mocking objects\n",
    "- you can pass mock objects as arguments to functions\n",
    "- assign/patch other objects\n",
    "- when substituting an object in your code, the Mock must look like the real object it is replacing\n",
    "    - mock objects must have the same members (attributes and methods) that are being tested\n",
    "    - e.g., if you're mocking `json` library and your program calls `dumps()`, then the mock object must also contain `dumps()` \n",
    "- Mock must simulate any object that it replaces\n",
    "    - Mock creates attributes/members when you access them dynamically!\n",
    "- Mock methods can take whatever arguments you provide but always return Mock object"
   ]
  },
  {
   "cell_type": "code",
   "execution_count": null,
   "id": "14634102",
   "metadata": {},
   "outputs": [],
   "source": [
    "from unittest.mock import Mock"
   ]
  },
  {
   "cell_type": "code",
   "execution_count": null,
   "id": "7ceaab70",
   "metadata": {},
   "outputs": [],
   "source": [
    "help(Mock)"
   ]
  },
  {
   "cell_type": "code",
   "execution_count": null,
   "id": "9b3af993",
   "metadata": {},
   "outputs": [],
   "source": [
    "mock = Mock()"
   ]
  },
  {
   "cell_type": "code",
   "execution_count": null,
   "id": "3365104e",
   "metadata": {},
   "outputs": [],
   "source": [
    "mock"
   ]
  },
  {
   "cell_type": "code",
   "execution_count": null,
   "id": "a6baf367",
   "metadata": {},
   "outputs": [],
   "source": [
    "mock.some_attribute"
   ]
  },
  {
   "cell_type": "code",
   "execution_count": null,
   "id": "1810aea5",
   "metadata": {},
   "outputs": [],
   "source": [
    "mock.do_something()\n",
    "# mock methods return Mock object"
   ]
  },
  {
   "cell_type": "code",
   "execution_count": null,
   "id": "ace8fdbe",
   "metadata": {},
   "outputs": [],
   "source": [
    "# let's use this Hello class to use some mocking/patching concepts\n",
    "class Hello(object):\n",
    "    def __init__(self, msg=\"Hello there\") -> None:\n",
    "        self.__msg = msg\n",
    "        \n",
    "    def greet(self) -> str:\n",
    "        return self.__msg"
   ]
  },
  {
   "cell_type": "code",
   "execution_count": null,
   "id": "53cd83b7",
   "metadata": {},
   "outputs": [],
   "source": [
    "hi = Hello()"
   ]
  },
  {
   "cell_type": "code",
   "execution_count": null,
   "id": "1e568717",
   "metadata": {},
   "outputs": [],
   "source": [
    "print(hi.greet())"
   ]
  },
  {
   "cell_type": "code",
   "execution_count": null,
   "id": "b3f3f2c9",
   "metadata": {},
   "outputs": [],
   "source": [
    "mock_hi = Mock()"
   ]
  },
  {
   "cell_type": "code",
   "execution_count": null,
   "id": "077cddf2-44f4-475e-9e61-a110fa04d716",
   "metadata": {},
   "outputs": [],
   "source": [
    "# returns a Mock object by default\n",
    "mock_hi.greet()"
   ]
  },
  {
   "cell_type": "code",
   "execution_count": null,
   "id": "020c4b49",
   "metadata": {},
   "outputs": [],
   "source": [
    "mock_hi.greet.return_value = 'Hello there'"
   ]
  },
  {
   "cell_type": "code",
   "execution_count": null,
   "id": "9d144ec0",
   "metadata": {},
   "outputs": [],
   "source": [
    "print(mock_hi.greet())"
   ]
  },
  {
   "cell_type": "code",
   "execution_count": null,
   "id": "148b7c74",
   "metadata": {},
   "outputs": [],
   "source": [
    "type(mock_hi)"
   ]
  },
  {
   "cell_type": "code",
   "execution_count": null,
   "id": "a4ac702a",
   "metadata": {},
   "outputs": [],
   "source": [
    "type(mock_hi.greet)"
   ]
  },
  {
   "cell_type": "code",
   "execution_count": null,
   "id": "1d78158d",
   "metadata": {},
   "outputs": [],
   "source": [
    "assert mock_hi.greet() == 'Hello there'"
   ]
  },
  {
   "cell_type": "code",
   "execution_count": null,
   "id": "fd4e6e01",
   "metadata": {},
   "outputs": [],
   "source": [
    "mock_hi.greet.assert_called()"
   ]
  },
  {
   "cell_type": "code",
   "execution_count": null,
   "id": "516832ed",
   "metadata": {},
   "outputs": [],
   "source": [
    "mock_hi.greet.call_count"
   ]
  },
  {
   "cell_type": "code",
   "execution_count": null,
   "id": "3ce3bf5e",
   "metadata": {},
   "outputs": [],
   "source": [
    "mock_hi.__msg = 'Hi there'"
   ]
  },
  {
   "cell_type": "code",
   "execution_count": null,
   "id": "c1e6cdda",
   "metadata": {},
   "outputs": [],
   "source": [
    "# greet() doesn't return __msg attribute\n",
    "mock_hi.greet()"
   ]
  },
  {
   "cell_type": "code",
   "execution_count": null,
   "id": "619afef9",
   "metadata": {},
   "outputs": [],
   "source": [
    "mock_hi.__msg"
   ]
  },
  {
   "cell_type": "code",
   "execution_count": null,
   "id": "e4d20f7d",
   "metadata": {},
   "outputs": [],
   "source": [
    "# let's see the Python std JSON library\n",
    "import json"
   ]
  },
  {
   "cell_type": "code",
   "execution_count": null,
   "id": "abfdd599",
   "metadata": {},
   "outputs": [],
   "source": [
    "help(json)"
   ]
  },
  {
   "cell_type": "code",
   "execution_count": null,
   "id": "67cead5e",
   "metadata": {},
   "outputs": [],
   "source": [
    "# dump requires two positional arguments - see '*' in dump definition\n",
    "data = json.dump()"
   ]
  },
  {
   "cell_type": "code",
   "execution_count": null,
   "id": "49053c23",
   "metadata": {},
   "outputs": [],
   "source": [
    "# Patching JSON object\n",
    "json = Mock()"
   ]
  },
  {
   "cell_type": "code",
   "execution_count": null,
   "id": "fb76c285",
   "metadata": {},
   "outputs": [],
   "source": [
    "json.dump()\n",
    "# takes any or no arguments; returns Mock object"
   ]
  },
  {
   "cell_type": "markdown",
   "id": "8cff93fd",
   "metadata": {},
   "source": [
    "### Assertions and Inspection\n",
    "\n",
    "- Mock instances store data on how you used them\n",
    "    - e.g., if you called a method, the instance stores information on how you called the method, how many times, and so on...\n",
    "- examples of how to use this information"
   ]
  },
  {
   "cell_type": "code",
   "execution_count": null,
   "id": "0042480a",
   "metadata": {},
   "outputs": [],
   "source": [
    "from unittest.mock import Mock"
   ]
  },
  {
   "cell_type": "code",
   "execution_count": null,
   "id": "c1c7e507",
   "metadata": {},
   "outputs": [],
   "source": [
    "# create a mock object\n",
    "json = Mock()"
   ]
  },
  {
   "cell_type": "code",
   "execution_count": null,
   "id": "44edb239",
   "metadata": {},
   "outputs": [],
   "source": [
    "json.loads('{\"key\": \"value\"}')"
   ]
  },
  {
   "cell_type": "code",
   "execution_count": null,
   "id": "3a216d06",
   "metadata": {},
   "outputs": [],
   "source": [
    "# we know that we called loads() \n",
    "# so we can make assertions to test that expectation\n",
    "json.loads.assert_called()"
   ]
  },
  {
   "cell_type": "code",
   "execution_count": null,
   "id": "93598992",
   "metadata": {},
   "outputs": [],
   "source": [
    "json.loads.assert_called_once()"
   ]
  },
  {
   "cell_type": "code",
   "execution_count": null,
   "id": "e942c231",
   "metadata": {},
   "outputs": [],
   "source": [
    "json.loads.assert_called_with('{\"key\": \"value\"}')"
   ]
  },
  {
   "cell_type": "code",
   "execution_count": null,
   "id": "0101ad5c",
   "metadata": {},
   "outputs": [],
   "source": [
    "# this will raise an AssertionError\n",
    "json.loads.assert_called_with('{\"key1\": \"value1\"}')"
   ]
  },
  {
   "cell_type": "code",
   "execution_count": null,
   "id": "5daf126b",
   "metadata": {},
   "outputs": [],
   "source": [
    "json.loads.assert_called_once_with('{\"key\": \"value\"}')"
   ]
  },
  {
   "cell_type": "code",
   "execution_count": null,
   "id": "a9ba1931",
   "metadata": {},
   "outputs": [],
   "source": [
    "json.loads('{\"key\": \"value\"}')"
   ]
  },
  {
   "cell_type": "code",
   "execution_count": null,
   "id": "15f94224",
   "metadata": {},
   "outputs": [],
   "source": [
    "json.loads.assert_called_once()"
   ]
  },
  {
   "cell_type": "code",
   "execution_count": null,
   "id": "584a2288",
   "metadata": {},
   "outputs": [],
   "source": [
    "json.loads.assert_not_called()"
   ]
  },
  {
   "cell_type": "markdown",
   "id": "9fe654ec",
   "metadata": {},
   "source": [
    "### Mock special attributes\n",
    "\n",
    "- Mock objects have several special attributes, e.g.:\n",
    "- `call_count`\n",
    "- `call_args`\n",
    "- `method_calls`\n",
    "- helps you understand how your application used an object"
   ]
  },
  {
   "cell_type": "code",
   "execution_count": null,
   "id": "96b5cca9",
   "metadata": {},
   "outputs": [],
   "source": [
    "from unittest.mock import Mock"
   ]
  },
  {
   "cell_type": "code",
   "execution_count": null,
   "id": "d9758100",
   "metadata": {},
   "outputs": [],
   "source": [
    "json = Mock()"
   ]
  },
  {
   "cell_type": "code",
   "execution_count": null,
   "id": "00f1c1f2",
   "metadata": {},
   "outputs": [],
   "source": [
    "json.loads('{\"key\": \"value\"}')"
   ]
  },
  {
   "cell_type": "code",
   "execution_count": null,
   "id": "261cfd30",
   "metadata": {},
   "outputs": [],
   "source": [
    "json.loads('{\"key1\": \"value1\"}')"
   ]
  },
  {
   "cell_type": "code",
   "execution_count": null,
   "id": "9bc7ad44",
   "metadata": {},
   "outputs": [],
   "source": [
    "# number of times you called loads\n",
    "json.loads.call_count"
   ]
  },
  {
   "cell_type": "code",
   "execution_count": null,
   "id": "3683cb73",
   "metadata": {},
   "outputs": [],
   "source": [
    "# the last loads call\n",
    "json.loads.call_args"
   ]
  },
  {
   "cell_type": "code",
   "execution_count": null,
   "id": "2faa2ecc",
   "metadata": {},
   "outputs": [],
   "source": [
    "# list of calls to json's methods (recursively)\n",
    "json.method_calls"
   ]
  },
  {
   "cell_type": "markdown",
   "id": "525ef3e6",
   "metadata": {},
   "source": [
    "### Managing a Mock's return value\n",
    "\n",
    "- mocks let you control your code's behavior during tests\n",
    "- one important aspect of the testing is to control object's behavior (methods) and their return values\n",
    "- e.g., write a function that determines whether today is a weekday\n",
    "    - depending on what day the test is run, you may get different results from your `calendar` utility\n",
    "- you can mock `datetime` and set the `.return_value` for `.today()` to a day that you choose"
   ]
  },
  {
   "cell_type": "code",
   "execution_count": null,
   "id": "82f01654",
   "metadata": {},
   "outputs": [],
   "source": [
    "from datetime import datetime"
   ]
  },
  {
   "cell_type": "code",
   "execution_count": null,
   "id": "d2e240cc",
   "metadata": {},
   "outputs": [],
   "source": [
    "datetime.today()"
   ]
  },
  {
   "cell_type": "code",
   "execution_count": null,
   "id": "9d0f30f1",
   "metadata": {},
   "outputs": [],
   "source": [
    "def is_weekday():\n",
    "    today = datetime.today()\n",
    "    # Python's datetime library treats Monday as 0 and Sunday as 6\n",
    "    return 0 <= today.weekday() < 5\n"
   ]
  },
  {
   "cell_type": "code",
   "execution_count": null,
   "id": "edff8ab3",
   "metadata": {},
   "outputs": [],
   "source": [
    "# Test if today is a weekday\n",
    "assert is_weekday()\n",
    "# if you run the test on weekend, you'll get an AssertionError"
   ]
  },
  {
   "cell_type": "code",
   "execution_count": null,
   "id": "304e4854",
   "metadata": {},
   "outputs": [],
   "source": [
    "# pick couple of days from the past!\n",
    "tuesday = datetime(year=2023, month=1, day=3)\n",
    "saturday = datetime(year=2023, month=1, day=7)"
   ]
  },
  {
   "cell_type": "code",
   "execution_count": null,
   "id": "3ffca579",
   "metadata": {},
   "outputs": [],
   "source": [
    "# Mock datetime to control today's date\n",
    "datetime = Mock()"
   ]
  },
  {
   "cell_type": "code",
   "execution_count": null,
   "id": "2c062a5d",
   "metadata": {},
   "outputs": [],
   "source": [
    "def is_weekday():\n",
    "    today = datetime.today()\n",
    "    # Python's datetime library treats Monday as 0 and Sunday as 6\n",
    "    return 0 <= today.weekday() < 5"
   ]
  },
  {
   "cell_type": "code",
   "execution_count": null,
   "id": "51c0f39a",
   "metadata": {},
   "outputs": [],
   "source": [
    "is_weekday()"
   ]
  },
  {
   "cell_type": "code",
   "execution_count": null,
   "id": "031d86b3",
   "metadata": {},
   "outputs": [],
   "source": [
    "# Mock .today() to return Tuesday\n",
    "datetime.today.return_value = tuesday"
   ]
  },
  {
   "cell_type": "code",
   "execution_count": null,
   "id": "7438fe07",
   "metadata": {},
   "outputs": [],
   "source": [
    "datetime.today.return_value"
   ]
  },
  {
   "cell_type": "code",
   "execution_count": null,
   "id": "b698eac3",
   "metadata": {},
   "outputs": [],
   "source": [
    "datetime.today().day"
   ]
  },
  {
   "cell_type": "code",
   "execution_count": null,
   "id": "2fa72ab8",
   "metadata": {},
   "outputs": [],
   "source": [
    "datetime.today().month"
   ]
  },
  {
   "cell_type": "code",
   "execution_count": null,
   "id": "f719ce4c",
   "metadata": {},
   "outputs": [],
   "source": [
    "datetime.today().weekday() # Tuesday is 1"
   ]
  },
  {
   "cell_type": "code",
   "execution_count": null,
   "id": "e2d33122",
   "metadata": {},
   "outputs": [],
   "source": [
    "# Test tuesday is a weekday\n",
    "assert is_weekday()"
   ]
  },
  {
   "cell_type": "code",
   "execution_count": null,
   "id": "fb294e14",
   "metadata": {},
   "outputs": [],
   "source": [
    "# Mock .today() to return Saturday\n",
    "datetime.today.return_value = saturday"
   ]
  },
  {
   "cell_type": "code",
   "execution_count": null,
   "id": "4a77b27d",
   "metadata": {},
   "outputs": [],
   "source": [
    "# Test Saturday is not a weekday\n",
    "assert is_weekday()"
   ]
  },
  {
   "cell_type": "code",
   "execution_count": null,
   "id": "55643ca2",
   "metadata": {},
   "outputs": [],
   "source": [
    "# but saturday is not weekday!\n",
    "assert not is_weekday()"
   ]
  },
  {
   "cell_type": "markdown",
   "id": "7db857b5",
   "metadata": {},
   "source": [
    "### Managing Mock's side effects\n",
    "\n",
    "- you can control code's behavior by specifying a mocked function's side effects (https://docs.python.org/3/library/unittest.mock.html#unittest.mock.Mock.side_effect)\n",
    "- side effect defines what happens when you call the mocked function\n",
    "- you can use side effects to mock the return values, e.g.\n",
    "- see `src/mocking/mock_demo.py` file for a full demo"
   ]
  },
  {
   "cell_type": "code",
   "execution_count": null,
   "id": "44136344",
   "metadata": {},
   "outputs": [],
   "source": [
    "mock = Mock()"
   ]
  },
  {
   "cell_type": "code",
   "execution_count": null,
   "id": "39de789f",
   "metadata": {},
   "outputs": [],
   "source": [
    "# using side_effect to raise an exception\n",
    "mock.side_effect = Exception('Boom')"
   ]
  },
  {
   "cell_type": "code",
   "execution_count": null,
   "id": "8a37378f",
   "metadata": {},
   "outputs": [],
   "source": [
    "mock()"
   ]
  },
  {
   "cell_type": "code",
   "execution_count": null,
   "id": "eaab75a1",
   "metadata": {},
   "outputs": [],
   "source": [
    "# using side_effect to return a sequence of values\n",
    "mock = Mock()\n",
    "mock.side_effect = [3, 2, 1]"
   ]
  },
  {
   "cell_type": "code",
   "execution_count": null,
   "id": "6ddf1304",
   "metadata": {},
   "outputs": [],
   "source": [
    "# call mock three times to return each side effect\n",
    "mock(), mock(), mock()"
   ]
  },
  {
   "cell_type": "markdown",
   "id": "61a2dd3f",
   "metadata": {},
   "source": [
    "### Configuring Your Mock\n",
    "\n",
    "- can configure Mock to set some of the object's behaviors and attributes\n",
    "- two ways to configure Mock:\n",
    "    - when you create it (during init)\n",
    "    - when you use `.configure_mock()` method on Mock object"
   ]
  },
  {
   "cell_type": "code",
   "execution_count": null,
   "id": "6a43fd77",
   "metadata": {},
   "outputs": [],
   "source": [
    "mock = Mock(side_effect=Exception)"
   ]
  },
  {
   "cell_type": "code",
   "execution_count": null,
   "id": "e36bdfec",
   "metadata": {},
   "outputs": [],
   "source": [
    "# the return value is an exception\n",
    "mock()"
   ]
  },
  {
   "cell_type": "code",
   "execution_count": null,
   "id": "580735f5",
   "metadata": {},
   "outputs": [],
   "source": [
    "mock = Mock(name='Mocking with Python')"
   ]
  },
  {
   "cell_type": "code",
   "execution_count": null,
   "id": "23c77026",
   "metadata": {},
   "outputs": [],
   "source": [
    "mock.name"
   ]
  },
  {
   "cell_type": "code",
   "execution_count": null,
   "id": "88338b1d",
   "metadata": {},
   "outputs": [],
   "source": [
    "mock = Mock(return_value=True)"
   ]
  },
  {
   "cell_type": "code",
   "execution_count": null,
   "id": "14181e82",
   "metadata": {},
   "outputs": [],
   "source": [
    "mock()"
   ]
  },
  {
   "cell_type": "code",
   "execution_count": null,
   "id": "a1018a5c",
   "metadata": {},
   "outputs": [],
   "source": [
    "# using .configure_mock()\n",
    "mock = Mock()"
   ]
  },
  {
   "cell_type": "code",
   "execution_count": null,
   "id": "70c3dac9",
   "metadata": {},
   "outputs": [],
   "source": [
    "mock.configure_mock(return_value=True)"
   ]
  },
  {
   "cell_type": "code",
   "execution_count": null,
   "id": "bce90478",
   "metadata": {},
   "outputs": [],
   "source": [
    "mock()"
   ]
  },
  {
   "cell_type": "code",
   "execution_count": null,
   "id": "fdd0daa5",
   "metadata": {},
   "outputs": [],
   "source": [
    "# same as\n",
    "mock = Mock(return_value='fish')"
   ]
  },
  {
   "cell_type": "code",
   "execution_count": null,
   "id": "ac719b06",
   "metadata": {},
   "outputs": [],
   "source": [
    "mock()"
   ]
  },
  {
   "cell_type": "markdown",
   "id": "0a35317a",
   "metadata": {},
   "source": [
    "## Patching\n",
    "\n",
    "- patching makes it easier to Mock objects that are imported from a different module\n",
    "- `unittest.mock` provides a powerful mechanism for mocking objects called `patch()`\n",
    "- `patch()` looks up an object in a given module and replaces that object with a Mock\n",
    "- usually, you use patch() as a decorator or a context manager to provide a scope in which you'll mock the target object\n",
    "- patching a class replaces the class with `MagicMock` instance\n",
    "- see these demos: `src/mocking/patch_demo.py` and `src/mocking/patch_demo1.py`\n",
    "\n",
    "### patch( ) as a Decorator\n",
    "- use patch() as a decorator to mock an object for the duration of your entire test function\n",
    "- you can stack multiple patch decorators - see examples here: https://docs.python.org/3/library/unittest.mock.html"
   ]
  },
  {
   "cell_type": "code",
   "execution_count": null,
   "id": "ed0d459d",
   "metadata": {},
   "outputs": [],
   "source": [
    "from unittest.mock import patch"
   ]
  },
  {
   "cell_type": "code",
   "execution_count": null,
   "id": "25cd94bb",
   "metadata": {},
   "outputs": [],
   "source": [
    "help(patch)"
   ]
  },
  {
   "cell_type": "code",
   "execution_count": null,
   "id": "61be499d",
   "metadata": {},
   "outputs": [],
   "source": [
    "# Hello class before patched\n",
    "Hello().greet()"
   ]
  },
  {
   "cell_type": "code",
   "execution_count": null,
   "id": "c88ff919",
   "metadata": {},
   "outputs": [],
   "source": [
    "@patch('__main__.Hello', spec=True)\n",
    "def test_Hello(Hello_Mock):\n",
    "    assert Hello_Mock is Hello\n",
    "    # If the class is instantiated in the code under test \n",
    "    # then it will be the return_value of the mock that will be used\n",
    "    h = Hello_Mock.return_value\n",
    "    h.greet.return_value = \"Howdy!\"\n",
    "    #h.say_hi.return_value = 'hi'\n",
    "    assert h.greet() == 'Howdy!'\n",
    "    assert Hello().greet() == 'Howdy!'\n",
    "    assert Hello_Mock.called\n",
    "    assert Hello.called"
   ]
  },
  {
   "cell_type": "code",
   "execution_count": null,
   "id": "f6d663ff",
   "metadata": {},
   "outputs": [],
   "source": [
    "# Hello class patched within the test_Hello function\n",
    "test_Hello()"
   ]
  },
  {
   "cell_type": "code",
   "execution_count": null,
   "id": "44661a1b",
   "metadata": {},
   "outputs": [],
   "source": [
    "# Hello class after the patch shouldn't change!\n",
    "Hello().greet()"
   ]
  },
  {
   "cell_type": "markdown",
   "id": "86f66f5d",
   "metadata": {},
   "source": [
    "### patch( ) as a Context Manager\n",
    "\n",
    "- you only want to mock an object for a part of the test scope\n",
    "- you're already using too many decorators or parameters which hurts your test readability"
   ]
  },
  {
   "cell_type": "code",
   "execution_count": null,
   "id": "c9b80a06",
   "metadata": {},
   "outputs": [],
   "source": [
    "def test_Hello_context():\n",
    "    with patch('__main__.Hello', spec=True) as Hello_Mock:\n",
    "        assert Hello_Mock is Hello\n",
    "        h = Hello_Mock.return_value\n",
    "        h.greet.return_value = \"Good Bye!\"\n",
    "        assert h.greet() == 'Good Bye!'\n",
    "        assert Hello().greet() == 'Good Bye!'\n",
    "        assert Hello_Mock.called\n",
    "        assert Hello.called"
   ]
  },
  {
   "cell_type": "code",
   "execution_count": null,
   "id": "a6b5b09e",
   "metadata": {},
   "outputs": [],
   "source": [
    "test_Hello_context()"
   ]
  },
  {
   "cell_type": "markdown",
   "id": "a51c9527",
   "metadata": {},
   "source": [
    "### patching only object's attributes/methods/API\n",
    "\n",
    "- you can also mock only one method of an object instead of the entire object\n",
    "- use `patch.object(class, 'class_method')`"
   ]
  },
  {
   "cell_type": "code",
   "execution_count": null,
   "id": "3c5b815d",
   "metadata": {},
   "outputs": [],
   "source": [
    "from unittest.mock import patch"
   ]
  },
  {
   "cell_type": "code",
   "execution_count": null,
   "id": "de1170af",
   "metadata": {},
   "outputs": [],
   "source": [
    "# just mock the greet method\n",
    "@patch.object(Hello, 'greet', spec=True)\n",
    "def test_greet(mock_greet) -> None:\n",
    "    Hello.greet.return_value = 'Howdy!'\n",
    "    # mock_greet is same as Hello.greet\n",
    "    assert mock_greet() == 'Howdy!'\n"
   ]
  },
  {
   "cell_type": "code",
   "execution_count": null,
   "id": "89cd36df",
   "metadata": {},
   "outputs": [],
   "source": [
    "test_greet()"
   ]
  },
  {
   "cell_type": "code",
   "execution_count": null,
   "id": "e5fd0f99",
   "metadata": {},
   "outputs": [],
   "source": [
    "# let's install requests library\n",
    "! pip install requests"
   ]
  },
  {
   "cell_type": "code",
   "execution_count": null,
   "id": "150c9c2c",
   "metadata": {},
   "outputs": [],
   "source": [
    "import requests\n",
    "from requests.exceptions import Timeout"
   ]
  },
  {
   "cell_type": "code",
   "execution_count": null,
   "id": "fbcb9e40",
   "metadata": {},
   "outputs": [],
   "source": [
    "help(requests)"
   ]
  },
  {
   "cell_type": "code",
   "execution_count": null,
   "id": "5cb2a727",
   "metadata": {},
   "outputs": [],
   "source": [
    "response = requests.get('https://example.com')"
   ]
  },
  {
   "cell_type": "code",
   "execution_count": null,
   "id": "861adf98",
   "metadata": {},
   "outputs": [],
   "source": [
    "print(response)"
   ]
  },
  {
   "cell_type": "code",
   "execution_count": null,
   "id": "f0a7f9c1",
   "metadata": {},
   "outputs": [],
   "source": [
    "response.status_code"
   ]
  },
  {
   "cell_type": "code",
   "execution_count": null,
   "id": "50ed8afd",
   "metadata": {},
   "outputs": [],
   "source": [
    "help(response)"
   ]
  },
  {
   "cell_type": "code",
   "execution_count": null,
   "id": "61ba5a35",
   "metadata": {},
   "outputs": [],
   "source": [
    "response.text"
   ]
  },
  {
   "cell_type": "code",
   "execution_count": null,
   "id": "3c4697b3",
   "metadata": {},
   "outputs": [],
   "source": [
    "# test 404\n",
    "@patch.object(requests, 'get') # (module, 'function')\n",
    "def test_requests_get_404(mock_method):\n",
    "    url = 'http://localhost/calendar/api/holidays'\n",
    "    requests.get.return_value = Mock(status_code=404)\n",
    "    response = requests.get(url)\n",
    "    mock_method.assert_called_with(url)\n",
    "    assert(response.status_code == 404)"
   ]
  },
  {
   "cell_type": "code",
   "execution_count": null,
   "id": "bda812f6",
   "metadata": {},
   "outputs": [],
   "source": [
    "test_requests_get_404()"
   ]
  },
  {
   "cell_type": "code",
   "execution_count": null,
   "id": "702b2fbe",
   "metadata": {},
   "outputs": [],
   "source": [
    "# test holidays\n",
    "@patch.object(requests, 'get') # (module, 'function')\n",
    "def test_requests_get_christmas(mock_method):\n",
    "    url = 'http://localhost/calendar/api/holidays'\n",
    "    holiday_json = '{\"Christmas: \"December 25, 2023\"}'\n",
    "    requests.get.return_value = Mock(status_code=202, return_value=holiday_json)\n",
    "    response = requests.get(url)\n",
    "    mock_method.assert_called_with(url)\n",
    "    assert(response.status_code == 202)\n",
    "    assert(response.return_value == holiday_json)"
   ]
  },
  {
   "cell_type": "code",
   "execution_count": null,
   "id": "61a6dc10",
   "metadata": {},
   "outputs": [],
   "source": [
    "test_requests_get_christmas()"
   ]
  },
  {
   "cell_type": "markdown",
   "id": "28a620a2",
   "metadata": {},
   "source": [
    "### Patching Standard IO\n",
    "\n",
    "- if the Class API/function uses print/stdout, input/stdin, it'll be difficult to unittest without patching stdio\n",
    "- you can patch stdio with StringIO"
   ]
  },
  {
   "cell_type": "code",
   "execution_count": 133,
   "id": "e63be3a3",
   "metadata": {},
   "outputs": [],
   "source": [
    "# StringIO has API similar to stdio\n",
    "from io import StringIO"
   ]
  },
  {
   "cell_type": "code",
   "execution_count": 134,
   "id": "f8ae61c6",
   "metadata": {},
   "outputs": [
    {
     "name": "stdout",
     "output_type": "stream",
     "text": [
      "Help on class StringIO in module io:\n",
      "\n",
      "class StringIO(_TextIOBase)\n",
      " |  StringIO(initial_value='', newline='\\n')\n",
      " |  \n",
      " |  Text I/O implementation using an in-memory buffer.\n",
      " |  \n",
      " |  The initial_value argument sets the value of object.  The newline\n",
      " |  argument is like the one of TextIOWrapper's constructor.\n",
      " |  \n",
      " |  Method resolution order:\n",
      " |      StringIO\n",
      " |      _TextIOBase\n",
      " |      _IOBase\n",
      " |      builtins.object\n",
      " |  \n",
      " |  Methods defined here:\n",
      " |  \n",
      " |  __getstate__(...)\n",
      " |  \n",
      " |  __init__(self, /, *args, **kwargs)\n",
      " |      Initialize self.  See help(type(self)) for accurate signature.\n",
      " |  \n",
      " |  __next__(self, /)\n",
      " |      Implement next(self).\n",
      " |  \n",
      " |  __setstate__(...)\n",
      " |  \n",
      " |  close(self, /)\n",
      " |      Close the IO object.\n",
      " |      \n",
      " |      Attempting any further operation after the object is closed\n",
      " |      will raise a ValueError.\n",
      " |      \n",
      " |      This method has no effect if the file is already closed.\n",
      " |  \n",
      " |  getvalue(self, /)\n",
      " |      Retrieve the entire contents of the object.\n",
      " |  \n",
      " |  read(self, size=-1, /)\n",
      " |      Read at most size characters, returned as a string.\n",
      " |      \n",
      " |      If the argument is negative or omitted, read until EOF\n",
      " |      is reached. Return an empty string at EOF.\n",
      " |  \n",
      " |  readable(self, /)\n",
      " |      Returns True if the IO object can be read.\n",
      " |  \n",
      " |  readline(self, size=-1, /)\n",
      " |      Read until newline or EOF.\n",
      " |      \n",
      " |      Returns an empty string if EOF is hit immediately.\n",
      " |  \n",
      " |  seek(self, pos, whence=0, /)\n",
      " |      Change stream position.\n",
      " |      \n",
      " |      Seek to character offset pos relative to position indicated by whence:\n",
      " |          0  Start of stream (the default).  pos should be >= 0;\n",
      " |          1  Current position - pos must be 0;\n",
      " |          2  End of stream - pos must be 0.\n",
      " |      Returns the new absolute position.\n",
      " |  \n",
      " |  seekable(self, /)\n",
      " |      Returns True if the IO object can be seeked.\n",
      " |  \n",
      " |  tell(self, /)\n",
      " |      Tell the current file position.\n",
      " |  \n",
      " |  truncate(self, pos=None, /)\n",
      " |      Truncate size to pos.\n",
      " |      \n",
      " |      The pos argument defaults to the current file position, as\n",
      " |      returned by tell().  The current file position is unchanged.\n",
      " |      Returns the new absolute position.\n",
      " |  \n",
      " |  writable(self, /)\n",
      " |      Returns True if the IO object can be written.\n",
      " |  \n",
      " |  write(self, s, /)\n",
      " |      Write string to file.\n",
      " |      \n",
      " |      Returns the number of characters written, which is always equal to\n",
      " |      the length of the string.\n",
      " |  \n",
      " |  ----------------------------------------------------------------------\n",
      " |  Static methods defined here:\n",
      " |  \n",
      " |  __new__(*args, **kwargs) from builtins.type\n",
      " |      Create and return a new object.  See help(type) for accurate signature.\n",
      " |  \n",
      " |  ----------------------------------------------------------------------\n",
      " |  Data descriptors defined here:\n",
      " |  \n",
      " |  closed\n",
      " |  \n",
      " |  line_buffering\n",
      " |  \n",
      " |  newlines\n",
      " |      Line endings translated so far.\n",
      " |      \n",
      " |      Only line endings translated during reading are considered.\n",
      " |      \n",
      " |      Subclasses should override.\n",
      " |  \n",
      " |  ----------------------------------------------------------------------\n",
      " |  Methods inherited from _TextIOBase:\n",
      " |  \n",
      " |  detach(...)\n",
      " |      Separate the underlying buffer from the TextIOBase and return it.\n",
      " |      \n",
      " |      After the underlying buffer has been detached, the TextIO is in an\n",
      " |      unusable state.\n",
      " |  \n",
      " |  ----------------------------------------------------------------------\n",
      " |  Data descriptors inherited from _TextIOBase:\n",
      " |  \n",
      " |  encoding\n",
      " |      Encoding of the text stream.\n",
      " |      \n",
      " |      Subclasses should override.\n",
      " |  \n",
      " |  errors\n",
      " |      The error setting of the decoder or encoder.\n",
      " |      \n",
      " |      Subclasses should override.\n",
      " |  \n",
      " |  ----------------------------------------------------------------------\n",
      " |  Methods inherited from _IOBase:\n",
      " |  \n",
      " |  __del__(...)\n",
      " |  \n",
      " |  __enter__(...)\n",
      " |  \n",
      " |  __exit__(...)\n",
      " |  \n",
      " |  __iter__(self, /)\n",
      " |      Implement iter(self).\n",
      " |  \n",
      " |  fileno(self, /)\n",
      " |      Returns underlying file descriptor if one exists.\n",
      " |      \n",
      " |      OSError is raised if the IO object does not use a file descriptor.\n",
      " |  \n",
      " |  flush(self, /)\n",
      " |      Flush write buffers, if applicable.\n",
      " |      \n",
      " |      This is not implemented for read-only and non-blocking streams.\n",
      " |  \n",
      " |  isatty(self, /)\n",
      " |      Return whether this is an 'interactive' stream.\n",
      " |      \n",
      " |      Return False if it can't be determined.\n",
      " |  \n",
      " |  readlines(self, hint=-1, /)\n",
      " |      Return a list of lines from the stream.\n",
      " |      \n",
      " |      hint can be specified to control the number of lines read: no more\n",
      " |      lines will be read if the total size (in bytes/characters) of all\n",
      " |      lines so far exceeds hint.\n",
      " |  \n",
      " |  writelines(self, lines, /)\n",
      " |      Write a list of lines to stream.\n",
      " |      \n",
      " |      Line separators are not added, so it is usual for each of the\n",
      " |      lines provided to have a line separator at the end.\n",
      " |  \n",
      " |  ----------------------------------------------------------------------\n",
      " |  Data descriptors inherited from _IOBase:\n",
      " |  \n",
      " |  __dict__\n",
      "\n"
     ]
    }
   ],
   "source": [
    "help(StringIO)"
   ]
  },
  {
   "cell_type": "code",
   "execution_count": 141,
   "id": "b3a44d9f",
   "metadata": {},
   "outputs": [],
   "source": [
    "def answer():\n",
    "    # get result\n",
    "    print('Some Result', end='\\n')\n",
    "# since, answer doesn't return a value, it's impossible to do regular unittest"
   ]
  },
  {
   "cell_type": "code",
   "execution_count": 142,
   "id": "05c9267f",
   "metadata": {},
   "outputs": [
    {
     "name": "stdout",
     "output_type": "stream",
     "text": [
      "Some Result\n"
     ]
    }
   ],
   "source": [
    "answer()"
   ]
  },
  {
   "cell_type": "code",
   "execution_count": 145,
   "id": "5b770365",
   "metadata": {},
   "outputs": [],
   "source": [
    "# using patch as a decorator\n",
    "@patch('sys.stdout', new_callable=StringIO)\n",
    "def test_answer(mock_stdout) -> None:\n",
    "    answer()\n",
    "    assert mock_stdout.getvalue().strip() == 'Some Result'\n",
    "    \n",
    "    # print('all test passed') doesn't print to standard out"
   ]
  },
  {
   "cell_type": "code",
   "execution_count": 146,
   "id": "5910efae",
   "metadata": {},
   "outputs": [],
   "source": [
    "test_answer()"
   ]
  },
  {
   "cell_type": "code",
   "execution_count": 147,
   "id": "1219c2b6",
   "metadata": {},
   "outputs": [],
   "source": [
    "# using context syntax\n",
    "with patch('sys.stdout', new_callable=StringIO) as mock_stdout:\n",
    "    answer()\n",
    "    assert mock_stdout.getvalue() == 'Some Result\\n'"
   ]
  },
  {
   "cell_type": "code",
   "execution_count": 148,
   "id": "30491c68",
   "metadata": {},
   "outputs": [],
   "source": [
    "# standard input\n",
    "import sys\n",
    "\n",
    "def getData():\n",
    "    x = sys.stdin.read()\n",
    "    return x\n",
    "\n",
    "def getLines():\n",
    "    x = sys.stdin.readlines()\n",
    "    return x\n",
    "\n",
    "def getInput():\n",
    "    x = input()\n",
    "    return x"
   ]
  },
  {
   "cell_type": "code",
   "execution_count": 149,
   "id": "9609d2f2",
   "metadata": {},
   "outputs": [
    {
     "name": "stdout",
     "output_type": "stream",
     "text": [
      "sdfsadf\n"
     ]
    }
   ],
   "source": [
    "data = getInput()"
   ]
  },
  {
   "cell_type": "code",
   "execution_count": 150,
   "id": "58cb3ca2",
   "metadata": {},
   "outputs": [
    {
     "data": {
      "text/plain": [
       "'sdfsadf'"
      ]
     },
     "execution_count": 150,
     "metadata": {},
     "output_type": "execute_result"
    }
   ],
   "source": [
    "data"
   ]
  },
  {
   "cell_type": "code",
   "execution_count": 151,
   "id": "04db5881",
   "metadata": {},
   "outputs": [],
   "source": [
    "@patch('sys.stdin')\n",
    "def test_getData(mock_stdin) -> None:\n",
    "    mock_stdin.read.return_value = '2 3\\n'\n",
    "    data = getData()\n",
    "    # use the data\n",
    "    # get the result\n",
    "    assert data == '2 3\\n'\n",
    "    # assert result"
   ]
  },
  {
   "cell_type": "code",
   "execution_count": 152,
   "id": "d421c4dc",
   "metadata": {},
   "outputs": [],
   "source": [
    "test_getData()"
   ]
  },
  {
   "cell_type": "code",
   "execution_count": 153,
   "id": "ce5edcb8",
   "metadata": {},
   "outputs": [
    {
     "name": "stdout",
     "output_type": "stream",
     "text": [
      "['1 2\\n', '3 4\\n']\n"
     ]
    }
   ],
   "source": [
    "with patch('sys.stdin') as mock_stdin:\n",
    "    mock_stdin.readlines.return_value = ['1 2\\n', '3 4\\n']\n",
    "    data = getLines()\n",
    "    print(data)\n",
    "    assert data == ['1 2\\n', '3 4\\n']\n",
    "    "
   ]
  },
  {
   "cell_type": "code",
   "execution_count": 154,
   "id": "c6216d7e",
   "metadata": {},
   "outputs": [],
   "source": [
    "# patching the input() function\n",
    "with patch('__main__.input') as mock_input:\n",
    "    mock_input.return_value = '1 2 3 4'\n",
    "    assert getInput() == '1 2 3 4'"
   ]
  },
  {
   "cell_type": "markdown",
   "id": "1c79be82",
   "metadata": {},
   "source": [
    "### where to patch\n",
    "\n",
    "- for patching to work, you must ensure that you patch the name used by the system under test\n",
    "- must tell `patch()` correctly where to look for the object/name you want mocked\n",
    "- if you choose the wrong target location, the result of `patch()` could be something you didn't expect\n",
    "- good rule of thumb is to patch() the object where it is *looked up*"
   ]
  },
  {
   "cell_type": "code",
   "execution_count": 155,
   "id": "5171ab17",
   "metadata": {},
   "outputs": [],
   "source": [
    "# datetime module is imported\n",
    "import datetime\n",
    "from unittest.mock import patch"
   ]
  },
  {
   "cell_type": "code",
   "execution_count": 156,
   "id": "36799399",
   "metadata": {},
   "outputs": [
    {
     "name": "stdout",
     "output_type": "stream",
     "text": [
      "<module 'datetime' from '/opt/anaconda3/envs/py/lib/python3.10/datetime.py'>\n",
      "<MagicMock name='datetime' id='140186478085024'>\n"
     ]
    }
   ],
   "source": [
    "# patch datetime class\n",
    "with patch('datetime.datetime'):\n",
    "    # datetime module is NOT patched\n",
    "    print(datetime)\n",
    "    # datetime class is patched MagicMock now\n",
    "    print(datetime.datetime)"
   ]
  },
  {
   "cell_type": "code",
   "execution_count": 157,
   "id": "8e776e6b",
   "metadata": {},
   "outputs": [],
   "source": [
    "# just the datetime class is imported\n",
    "from datetime import datetime"
   ]
  },
  {
   "cell_type": "code",
   "execution_count": 158,
   "id": "d7aaa9dd",
   "metadata": {},
   "outputs": [
    {
     "name": "stdout",
     "output_type": "stream",
     "text": [
      "<class 'datetime.datetime'>\n",
      "2025-03-13 12:12:20.519362\n"
     ]
    }
   ],
   "source": [
    "# the patch has no effect because there's \n",
    "# unmocked datetime class imported into the current scope\n",
    "with patch('datetime.datetime'):\n",
    "    print(datetime)\n",
    "    print(datetime.today())"
   ]
  },
  {
   "cell_type": "code",
   "execution_count": 159,
   "id": "34f39d64",
   "metadata": {},
   "outputs": [
    {
     "name": "stdout",
     "output_type": "stream",
     "text": [
      "<MagicMock name='datetime' id='140186415000512'>\n"
     ]
    }
   ],
   "source": [
    "# if you need to patch datetime class imported into the global namespace\n",
    "# you do the following\n",
    "with patch('__main__.datetime'):\n",
    "    print(datetime)"
   ]
  },
  {
   "cell_type": "markdown",
   "id": "64b5e896",
   "metadata": {},
   "source": [
    "## common mocking problems\n",
    "\n",
    "### changes to object interfaces and misspellings\n",
    "\n",
    "- when interface of an object changes, any tests relying on a Mock of that object may become irrelevant\n",
    "- misspelling can break a test; recall that Mock creates its interface when you access its members\n",
    "    - you'll essentially create a new interface when you misspell a name\n",
    "\n",
    "### changes to external dependencies\n",
    "\n",
    "- when external dependency changes its interface, your Python objects will become invalid\n",
    "- your tests will pass but the actual production code will fail\n",
    "\n",
    "### avoiding common problems using specifications\n",
    "\n",
    "- use `spec` parameter providing the list of valid interface/method names of module/class you're mocking"
   ]
  },
  {
   "cell_type": "code",
   "execution_count": null,
   "id": "2da6db15",
   "metadata": {},
   "outputs": [],
   "source": [
    "from unittest.mock import Mock\n",
    "from unittest.mock import patch"
   ]
  },
  {
   "cell_type": "code",
   "execution_count": null,
   "id": "a75999d3",
   "metadata": {},
   "outputs": [],
   "source": [
    "# provide a list of valid api names of the class you want to mock \n",
    "calendar = Mock(spec=['is_weekday', 'get_holidays'])"
   ]
  },
  {
   "cell_type": "code",
   "execution_count": null,
   "id": "18f06e29",
   "metadata": {},
   "outputs": [],
   "source": [
    "calendar.is_weekday()"
   ]
  },
  {
   "cell_type": "code",
   "execution_count": null,
   "id": "5c076c96",
   "metadata": {},
   "outputs": [],
   "source": [
    "# Mock raises AttributeError as create_event() is not in sepc\n",
    "calendar.create_event()"
   ]
  },
  {
   "cell_type": "code",
   "execution_count": null,
   "id": "9af088dc",
   "metadata": {},
   "outputs": [],
   "source": [
    "# automatically create specifications\n",
    "from unittest.mock import create_autospec\n",
    "\n",
    "from src.mocking import my_calendar"
   ]
  },
  {
   "cell_type": "code",
   "execution_count": null,
   "id": "fb357214",
   "metadata": {},
   "outputs": [],
   "source": [
    "help(my_calendar)"
   ]
  },
  {
   "cell_type": "code",
   "execution_count": null,
   "id": "4ccc8604",
   "metadata": {},
   "outputs": [],
   "source": [
    "calendar = create_autospec(my_calendar)"
   ]
  },
  {
   "cell_type": "code",
   "execution_count": null,
   "id": "650959c6",
   "metadata": {},
   "outputs": [],
   "source": [
    "calendar.is_weekday()"
   ]
  },
  {
   "cell_type": "code",
   "execution_count": null,
   "id": "5f65123f",
   "metadata": {},
   "outputs": [],
   "source": [
    "calendar.create_event()"
   ]
  },
  {
   "cell_type": "code",
   "execution_count": null,
   "id": "fc0326e3",
   "metadata": {},
   "outputs": [],
   "source": [
    "# if you're using patch do the following\n",
    "with patch('__main__.my_calendar', autospec=True) as calendar:\n",
    "    calendar.is_weekday()\n",
    "    calendar.get_holidays()\n",
    "    calendar.create_event()"
   ]
  },
  {
   "cell_type": "markdown",
   "id": "69c32b32",
   "metadata": {},
   "source": [
    "## How much testing is enough?\n",
    "\n",
    "- how much of your code is actutally being tested?\n",
    "    - are the corner test cases generated by **hypothesis** enough to test every line, branch, result of your code?\n",
    "- According to E. W. Dijkstra - \"Program testing can be used to show the presence of bugs, but never to show their absence!\"\n",
    "\n",
    "### Code coverage\n",
    "\n",
    "- with the useage of mocking/patching and hypothesis libraries, you should be able to get 100% code coverage with your unit tests without using #pragma: no cover"
   ]
  },
  {
   "cell_type": "markdown",
   "id": "5fecadbc",
   "metadata": {},
   "source": [
    "## Exercises\n",
    "\n",
    "- solve the following Kattis problems using OOD\n",
    "- must write adequate unittesting for the class API\n",
    "- must write integration testing using Mock to simulate input and output for complete program testing\n",
    "- use coverage to create html coverage report of your testing\n",
    "\n",
    "1. FizzBuzz - https://open.kattis.com/problems/fizzbuzz\n",
    "2. Mixed Fractions - https://open.kattis.com/problems/mixedfractions\n"
   ]
  },
  {
   "cell_type": "code",
   "execution_count": null,
   "id": "7e293cde",
   "metadata": {},
   "outputs": [],
   "source": []
  }
 ],
 "metadata": {
  "kernelspec": {
   "display_name": "Python 3 (ipykernel)",
   "language": "python",
   "name": "python3"
  },
  "language_info": {
   "codemirror_mode": {
    "name": "ipython",
    "version": 3
   },
   "file_extension": ".py",
   "mimetype": "text/x-python",
   "name": "python",
   "nbconvert_exporter": "python",
   "pygments_lexer": "ipython3",
   "version": "3.10.8"
  }
 },
 "nbformat": 4,
 "nbformat_minor": 5
}
