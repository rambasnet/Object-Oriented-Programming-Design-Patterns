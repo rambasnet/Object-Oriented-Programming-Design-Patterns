{
 "cells": [
  {
   "cell_type": "markdown",
   "id": "71197c70",
   "metadata": {},
   "source": [
    "# Advanced Design Patterns\n",
    "\n",
    "- learn more design patterns with cannonical examples and Python way of implementing those patterns\n",
    "\n",
    "- the Adapter pattern\n",
    "- the Facade pattern\n",
    "- Lazy initialization and the Flyweight pattern\n",
    "- the Abstract Factory pattern\n",
    "- the Compositie pattern\n",
    "- the template pattern\n",
    "\n",
    "## The Adapter pattern\n",
    "\n",
    "- designed to interact with existing code\n",
    "- adapters are used to allow two preexisting objects to work together\n",
    "    - even their interfaces are not compatible\n",
    "- just like the hardware adapter that helps two differnt devices talk to each other\n",
    "    - adapter object sits between two interfaces/objects tranlating between them on the fly\n",
    "- adapter may perform various tasks:\n",
    "    - converting parameters to different formats\n",
    "    - rearranging the order of arguments\n",
    "    - calling a different named method\n",
    "    - suppying default arguments\n",
    "- conceptually, similar to the Decorator pattern\n",
    "    - decorators provide the same interface that they replace\n",
    "- example from: https://refactoring.guru/design-patterns/adapter/python/example"
   ]
  },
  {
   "cell_type": "code",
   "execution_count": 1,
   "id": "8cbd09ff",
   "metadata": {},
   "outputs": [],
   "source": [
    "class Target:\n",
    "    \"\"\"\n",
    "    The Target defines the domain-specific interface used by the client code.\n",
    "    \"\"\"\n",
    "\n",
    "    def request(self) -> str:\n",
    "        return \"Target: The default target's behavior.\"\n",
    "\n",
    "\n",
    "class Adaptee:\n",
    "    \"\"\"\n",
    "    The Adaptee contains some useful behavior, but its interface is incompatible\n",
    "    with the existing client code. The Adaptee needs some adaptation before the\n",
    "    client code can use it.\n",
    "    \"\"\"\n",
    "\n",
    "    def specific_request(self) -> str:\n",
    "        return \".eetpadA eht fo roivaheb laicepS\"\n",
    "\n",
    "\n",
    "class Adapter(Target, Adaptee):\n",
    "    \"\"\"\n",
    "    The Adapter makes the Adaptee's interface compatible with the Target's\n",
    "    interface via multiple inheritance.\n",
    "    \"\"\"\n",
    "\n",
    "    def request(self) -> str:\n",
    "        return f\"Adapter: (TRANSLATED) {self.specific_request()[::-1]}\"\n",
    "\n",
    "\n",
    "def client_code(target: \"Target\") -> None:\n",
    "    \"\"\"\n",
    "    The client code supports all classes that follow the Target interface.\n",
    "    \"\"\"\n",
    "\n",
    "    print(target.request(), end=\"\")\n",
    "    "
   ]
  },
  {
   "cell_type": "code",
   "execution_count": 2,
   "id": "411477a7",
   "metadata": {},
   "outputs": [
    {
     "name": "stdout",
     "output_type": "stream",
     "text": [
      "Client: I can work just fine with the Target objects:\n",
      "Target: The default target's behavior.\n",
      "\n"
     ]
    }
   ],
   "source": [
    "print(\"Client: I can work just fine with the Target objects:\")\n",
    "target = Target()\n",
    "client_code(target)\n",
    "print(\"\\n\")"
   ]
  },
  {
   "cell_type": "code",
   "execution_count": 3,
   "id": "5c57d8d7",
   "metadata": {},
   "outputs": [
    {
     "name": "stdout",
     "output_type": "stream",
     "text": [
      "Client: The Adaptee class has a weird interface. See, I don't understand it:\n",
      "Adaptee: .eetpadA eht fo roivaheb laicepS\n",
      "\n"
     ]
    }
   ],
   "source": [
    "adaptee = Adaptee()\n",
    "print(\"Client: The Adaptee class has a weird interface. \"\n",
    "      \"See, I don't understand it:\")\n",
    "print(f\"Adaptee: {adaptee.specific_request()}\", end=\"\\n\\n\")\n"
   ]
  },
  {
   "cell_type": "code",
   "execution_count": 4,
   "id": "0312e97f",
   "metadata": {},
   "outputs": [
    {
     "name": "stdout",
     "output_type": "stream",
     "text": [
      "Client: But I can work with it via the Adapter:\n",
      "Adapter: (TRANSLATED) Special behavior of the Adaptee."
     ]
    }
   ],
   "source": [
    "print(\"Client: But I can work with it via the Adapter:\")\n",
    "adapter = Adapter()\n",
    "client_code(adapter)"
   ]
  },
  {
   "cell_type": "markdown",
   "id": "25ed8584",
   "metadata": {},
   "source": [
    "## The Façade pattern\n",
    "\n",
    "- https://refactoring.guru/design-patterns/facade\n",
    "- Facade is a structural design pattern that provides a simplified interface to a library, a framework, or any other complex set of classes\n",
    "\n",
    "- example see `plantuml/main.py`\n",
    "    - must install graphviz, java runtime - see details here https://plantuml.com/starting\n",
    "    - download `plantuml.jar` file\n",
    "    - .uml files are in `plantuml/data` folder"
   ]
  },
  {
   "cell_type": "code",
   "execution_count": null,
   "id": "8013c609",
   "metadata": {},
   "outputs": [],
   "source": []
  }
 ],
 "metadata": {
  "kernelspec": {
   "display_name": "Python 3 (ipykernel)",
   "language": "python",
   "name": "python3"
  },
  "language_info": {
   "codemirror_mode": {
    "name": "ipython",
    "version": 3
   },
   "file_extension": ".py",
   "mimetype": "text/x-python",
   "name": "python",
   "nbconvert_exporter": "python",
   "pygments_lexer": "ipython3",
   "version": "3.10.9"
  }
 },
 "nbformat": 4,
 "nbformat_minor": 5
}
