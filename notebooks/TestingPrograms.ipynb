{
 "cells": [
  {
   "cell_type": "markdown",
   "id": "633b0240",
   "metadata": {},
   "source": [
    "# Testing Programs\n",
    "\n",
    "## Topics\n",
    "\n",
    "- the importance of unit testing\n",
    "- Test-driven development\n",
    "- the `unittest` package and `mock` module\n",
    "- the `pytest` tool\n",
    "- code coverage\n",
    "\n",
    "## Why test?\n",
    "\n",
    "- programmers must know the importance of testing\n",
    "- strongly and statically typed languages (C++, Java) are usually safer \n",
    "    - type checking is done during compile time\n",
    "- testing is more important in Python\n",
    "    - Python checks for data/values, not types; i.e., during runtime\n",
    "- *Software features that can't be demonstrated by automated tests simply don't exist* - Kent Beck\n",
    "- four main reasons to write tests:\n",
    "    1. to ensure that code is working the way the developer thinks it should\n",
    "    2. to ensure that the code continues working when we make changes\n",
    "    3. to ensure that the developer understood the requirements\n",
    "    4. to ensure that the code we are writing has a maintainable interface\n",
    "\n",
    "## Tips\n",
    "#### Test Early, Test Often, Test Automatically\n",
    "#### Coding Ain't Done 'Till All the Tests Run\n",
    "#### Find Bugs Once\n",
    "#### Test State Coverage, Not Just Code Coverage\n",
    "#### Don't Use Manual Procedures; Automate Everything!\n",
    "#### Delight Users, Don't Just Deliver Code\n",
    "#### Sign Your Work"
   ]
  },
  {
   "cell_type": "markdown",
   "id": "51fe7493-4553-4883-92a9-4d736a1a7bbf",
   "metadata": {},
   "source": [
    "## Anatomy of Test\n",
    "\n",
    "- [https://docs.pytest.org/en/8.0.x/explanation/anatomy.html#test-anatomy]\n",
    "- You can think of a test as being broken down into four steps:\n",
    "\n",
    "### Arrange\n",
    "\n",
    "- we prepare everything for our test\n",
    "- lineup all the dominos; generate controlled input data\n",
    "\n",
    "### Act\n",
    "\n",
    "- the singular, state-changing action that kicks off the behavior we want to test\n",
    "\n",
    "### Assert\n",
    "\n",
    "- look at the resulting state and check if it looks how we’d expect after the dust has settled\n",
    "\n",
    "### Cleanup\n",
    "\n",
    "- cleanup so other tests aren’t being accidentally influenced by the current test"
   ]
  },
  {
   "cell_type": "markdown",
   "id": "e6c336c2",
   "metadata": {},
   "source": [
    "## Test-driven development\n",
    "- mantra: write tests first\n",
    "- tests you'll write later, will **NEVER** be written!\n",
    "- can be fun; allows us to build little puzzles to solve\n",
    "- then, we implement the code to solve those puzzles\n",
    "- two goals:\n",
    "    1. ensures that tests **really** get written\n",
    "    2. forces us to consider how the code will be used\n",
    "- helps us to break up the initial problem into smaller, testable problems\n",
    "- combine the tested solutions into larger, also tested, solutions"
   ]
  },
  {
   "cell_type": "markdown",
   "id": "e559088c",
   "metadata": {},
   "source": [
    "## Testing objectives\n",
    "\n",
    "- goals/objectives of running tests that lead to different kinds of testing\n",
    "- for other testing types see: https://www.softwaretestinghelp.com/\n",
    "- if you do thorough testing, you may end up lot more testing code than production code!\n",
    "\n",
    "### Unit testing\n",
    "\n",
    "- the foundation of all the other forms of testing\n",
    "    - Integration testing, validation, and verification, performance/stress testing, testing the tests\n",
    "- confirm that software components work in isolation\n",
    "- Fowler's Test Pyramid seems to suggest unit testing creates the most value - https://martinfowler.com/articles/practical-test-pyramid.html\n",
    "- unit can be a function, method, class, or a whole module\n",
    "- if the basic/unit components are tested well, there'll be few surprises when they're integrated\n",
    "- common to use **coverage** tool to be sure all the lines of code are exercised as part of the unit test suite\n",
    "\n",
    "### Integration testing\n",
    "\n",
    "- confirm software components work when integrated\n",
    "    - make sure the major subsystems of the project work and play well with each other\n",
    "- also called system tests, functional tests, and acceptance tests among others\n",
    "- when integration test fails, it often means an interface wasn't defined properly\n",
    "- perhaps unit tests didn't include some edge cases\n",
    "\n",
    "### Validation and Verification\n",
    "\n",
    "- a bug-free system that answers the wrong question isn't very useful!\n",
    "- as soon as the project has an executable user interface or prototype, verify with the user if it is what they need.\n",
    "- does it meet the functional requirements?\n",
    "\n",
    "### Performance testing\n",
    "\n",
    "- does the software product meet the real-world performance requirements?\n",
    "    - number of users, connections, or transactions per second\n",
    "    - is it scalable?\n"
   ]
  },
  {
   "cell_type": "markdown",
   "id": "845280bd",
   "metadata": {},
   "source": [
    "## Testing patterns\n",
    "\n",
    "- there are many software design patterns\n",
    "- testing is simple and essentially uses the same pattern for all software design patterns\n",
    "\n",
    "```\n",
    "GIVEN some precondition(s) for a scenario\n",
    "WHEN we exercise some method of a class \n",
    "THEN some state change(s) or side effect will occur that we can confirm\n",
    "````\n",
    "\n",
    "- use the three-part pattern to disentangle the **setup, execution, and expected results**\n",
    "- e.g, testing if the water is hot enough for a cup of tea\n",
    "    1. GIVEN a kettle of water on the stove\n",
    "    2. AND the burner is off\n",
    "    3. WHEN we flip the lid on the kettle\n",
    "    4. THEN we see steam escaping"
   ]
  },
  {
   "cell_type": "code",
   "execution_count": 2,
   "id": "aa37aafc",
   "metadata": {},
   "outputs": [],
   "source": [
    "from typing import Optional, List"
   ]
  },
  {
   "cell_type": "code",
   "execution_count": 3,
   "id": "1e758601",
   "metadata": {},
   "outputs": [],
   "source": [
    "def average(data: List[Optional[int]]) -> float:\n",
    "    \"\"\"\n",
    "    GIVEN a list, data = [1, 2, None, 3, 4]\n",
    "    WHEN we compute m = average(data)\n",
    "    THEN the result, m is 2.5\n",
    "    \"\"\"\n",
    "    pass\n"
   ]
  },
  {
   "cell_type": "markdown",
   "id": "e9e0ec4f",
   "metadata": {},
   "source": [
    "### Test cases\n",
    "\n",
    "- how many test cases to write and what data should be picked for testing can be challenging\n",
    "- some techniques that can be used to design test cases are **equivalence partitioning** and **boundary value analysis**\n",
    "- see this article for details: https://www.softwaretestinghelp.com/what-is-boundary-value-analysis-and-equivalence-partitioning/\n",
    "- let's say the input text boxes should only accept the value between 1-1000 inclusively\n",
    "- testing all possible values from 1-1000 is not plausible and in many cases not feasible\n",
    "    - also don't gain anything valuable with exhaustive testing\n",
    "\n",
    "#### Equivalence partitioning\n",
    "\n",
    "1. test one value from a valid range: 1-1000\n",
    "2. test one value from an invalid range smaller than the minimum value (1)\n",
    "3. test one value from an invalid range larger than the maximum value (1000)\n",
    "\n",
    "#### Boundary value analysis\n",
    "\n",
    "1. test the boundary values: 1 and 1000\n",
    "2. test data just below the extreme values: 0 and 999\n",
    "3. test data just above the extreme values: 2 and 1001"
   ]
  },
  {
   "cell_type": "code",
   "execution_count": 11,
   "id": "ef522cff",
   "metadata": {},
   "outputs": [],
   "source": [
    "# test cases for the average function\n",
    "def test_average1():\n",
    "    ans = average([1, 2, 3, 4])\n",
    "    expected = 2.5\n",
    "    assert ans == expected"
   ]
  },
  {
   "cell_type": "code",
   "execution_count": 12,
   "id": "b62bc7f7",
   "metadata": {},
   "outputs": [
    {
     "ename": "AssertionError",
     "evalue": "",
     "output_type": "error",
     "traceback": [
      "\u001b[0;31m---------------------------------------------------------------------------\u001b[0m",
      "\u001b[0;31mAssertionError\u001b[0m                            Traceback (most recent call last)",
      "Cell \u001b[0;32mIn[12], line 1\u001b[0m\n\u001b[0;32m----> 1\u001b[0m \u001b[43mtest_average1\u001b[49m\u001b[43m(\u001b[49m\u001b[43m)\u001b[49m\n",
      "Cell \u001b[0;32mIn[11], line 5\u001b[0m, in \u001b[0;36mtest_average1\u001b[0;34m()\u001b[0m\n\u001b[1;32m      3\u001b[0m ans \u001b[38;5;241m=\u001b[39m average([\u001b[38;5;241m1\u001b[39m, \u001b[38;5;241m2\u001b[39m, \u001b[38;5;241m3\u001b[39m, \u001b[38;5;241m4\u001b[39m])\n\u001b[1;32m      4\u001b[0m expected \u001b[38;5;241m=\u001b[39m \u001b[38;5;241m2.5\u001b[39m\n\u001b[0;32m----> 5\u001b[0m \u001b[38;5;28;01massert\u001b[39;00m ans \u001b[38;5;241m==\u001b[39m expected\n",
      "\u001b[0;31mAssertionError\u001b[0m: "
     ]
    }
   ],
   "source": [
    "test_average1()"
   ]
  },
  {
   "cell_type": "code",
   "execution_count": 8,
   "id": "efe65414",
   "metadata": {},
   "outputs": [],
   "source": [
    "def test_average2():\n",
    "    assert(average([1, 1, 1, 1, None]) == 1.0)"
   ]
  },
  {
   "cell_type": "code",
   "execution_count": 9,
   "id": "59c6d5ac",
   "metadata": {},
   "outputs": [
    {
     "ename": "AssertionError",
     "evalue": "",
     "output_type": "error",
     "traceback": [
      "\u001b[0;31m---------------------------------------------------------------------------\u001b[0m",
      "\u001b[0;31mAssertionError\u001b[0m                            Traceback (most recent call last)",
      "Cell \u001b[0;32mIn[9], line 1\u001b[0m\n\u001b[0;32m----> 1\u001b[0m \u001b[43mtest_average2\u001b[49m\u001b[43m(\u001b[49m\u001b[43m)\u001b[49m\n",
      "Cell \u001b[0;32mIn[8], line 2\u001b[0m, in \u001b[0;36mtest_average2\u001b[0;34m()\u001b[0m\n\u001b[1;32m      1\u001b[0m \u001b[38;5;28;01mdef\u001b[39;00m \u001b[38;5;21mtest_average2\u001b[39m():\n\u001b[0;32m----> 2\u001b[0m     \u001b[38;5;28;01massert\u001b[39;00m(average([\u001b[38;5;241m1\u001b[39m, \u001b[38;5;241m1\u001b[39m, \u001b[38;5;241m1\u001b[39m, \u001b[38;5;241m1\u001b[39m, \u001b[38;5;28;01mNone\u001b[39;00m]) \u001b[38;5;241m==\u001b[39m \u001b[38;5;241m1.0\u001b[39m)\n",
      "\u001b[0;31mAssertionError\u001b[0m: "
     ]
    }
   ],
   "source": [
    "test_average2()"
   ]
  },
  {
   "cell_type": "markdown",
   "id": "26a6e00c",
   "metadata": {},
   "source": [
    "## Implement average( )\n",
    "\n",
    "- implement average function and run the tests functions again!\n",
    "- use built-in `filter` function or write your own filter to exclude None values\n",
    "    - `filter(None, lst_object)`"
   ]
  },
  {
   "cell_type": "markdown",
   "id": "13488472",
   "metadata": {},
   "source": [
    "## Unit testing with unittest library\n",
    "\n",
    "- Python provides built-in unittest library\n",
    "- provides a common object-oriented interface for writing unit tests\n",
    "- `import unittest`\n",
    "- create a subclass inheriting from TestCase\n",
    "- every test case method must start with the prefix **test_**"
   ]
  },
  {
   "cell_type": "code",
   "execution_count": 13,
   "id": "1774d98a-83ac-4ebb-94a6-07e2d2aa9f60",
   "metadata": {},
   "outputs": [],
   "source": [
    "import unittest\n",
    "\n",
    "class TestAverage(unittest.TestCase):\n",
    "    def test_average1(self):\n",
    "        ans = average([1, 2, 3, 4])\n",
    "        expected = 2.5\n",
    "        assert ans == expected\n",
    "\n",
    "    # implement test_average2"
   ]
  },
  {
   "cell_type": "markdown",
   "id": "1cfbed77-3a6d-407f-9632-6cd9f37054c2",
   "metadata": {},
   "source": [
    "## More unittest examples\n",
    "\n",
    "- see `src/unittesting/test_demo.py`\n",
    "```\n",
    "python test_demo.py\n",
    "pytest\n",
    "python -m pytest\n",
    "```\n",
    "\n",
    "- special methods `setUp()` and `tearDown()` are called before and after each test case is executed\n",
    "    - see `src/unittesting/tests/test_setup_teardown.py` for example\n",
    "- for more detailed example, see `src/unittesting/stats.py` and `src/unittesting/tests/` folder"
   ]
  },
  {
   "cell_type": "markdown",
   "id": "97d86bd0-61cb-4060-acdf-a885d912ee03",
   "metadata": {},
   "source": [
    "## Pytest\n",
    "\n",
    "- pytest framework executes the tests written using unittest library\n",
    "- pytest can discover all the test modules that are named `test_*.py`\n",
    "- pytest can discover all the test classes that are named `Test*` and test methods that are named `test_*()`\n",
    "- pytest can be executed for a single file, or all the files and subfolders within a folder\n",
    "- provides advanced contexts called fixtures - [https://docs.pytest.org/en/8.0.x/explanation/fixtures.html](https://docs.pytest.org/en/8.0.x/explanation/fixtures.html)\n",
    "- fixtures are similar to unittest setUp() and tearDown() methods that lets your create data for testing"
   ]
  },
  {
   "cell_type": "markdown",
   "id": "cd336407",
   "metadata": {},
   "source": [
    "## Exercises\n",
    "\n",
    "- Solve the following Kattis problem using OOD\n",
    "- must use unittest with adequate number of testcases to test important class methods/interfaces\n",
    "\n",
    "1. Dog & Gopher - https://open.kattis.com/problems/doggopher\n",
    "2. Morse Code Palindromes - https://open.kattis.com/problems/morsecodepalindromes\n",
    "\n"
   ]
  },
  {
   "cell_type": "code",
   "execution_count": null,
   "id": "a7336e83",
   "metadata": {},
   "outputs": [],
   "source": []
  }
 ],
 "metadata": {
  "kernelspec": {
   "display_name": "Python 3 (ipykernel)",
   "language": "python",
   "name": "python3"
  },
  "language_info": {
   "codemirror_mode": {
    "name": "ipython",
    "version": 3
   },
   "file_extension": ".py",
   "mimetype": "text/x-python",
   "name": "python",
   "nbconvert_exporter": "python",
   "pygments_lexer": "ipython3",
   "version": "3.12.2"
  },
  "vscode": {
   "interpreter": {
    "hash": "1a1af0ee75eeea9e2e1ee996c87e7a2b11a0bebd85af04bb136d915cefc0abce"
   }
  }
 },
 "nbformat": 4,
 "nbformat_minor": 5
}
