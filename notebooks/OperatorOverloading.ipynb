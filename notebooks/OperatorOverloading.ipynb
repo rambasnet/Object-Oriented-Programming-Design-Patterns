{
 "cells": [
  {
   "cell_type": "markdown",
   "id": "75c870cd",
   "metadata": {},
   "source": [
    "# Operator Overloading\n",
    "\n",
    "- Python operators +, /, -, \\*, etc. can be overloaded with special methods on classes\n",
    "- operator overloading where applicable makes classes work more like fundamental types such as int, float and str\n",
    "- we can add two objects, multiply them, etc."
   ]
  },
  {
   "cell_type": "code",
   "execution_count": 1,
   "id": "b6f773eb",
   "metadata": {},
   "outputs": [],
   "source": [
    "class MyTime:\n",
    "    def __init__(self, hrs=0, mins=0, secs=0):\n",
    "        \"\"\" Create a new MyTime object initialized to hrs, mins, secs.\n",
    "           The values of mins and secs may be outside the range 0-59,\n",
    "           but the resulting MyTime object will be normalized.\n",
    "        \"\"\"\n",
    "        self.hours = hrs\n",
    "        self.minutes = mins\n",
    "        self.seconds = secs\n",
    "        # Calculate total seconds to represent\n",
    "        self.__normalize()\n",
    "        \n",
    "    def __str__(self):\n",
    "        return f\"{self.hours:02}:{self.minutes:02}:{self.seconds:02}\"\n",
    "    \n",
    "    def to_seconds(self):\n",
    "        \"\"\" Return the number of seconds represented\n",
    "            by this instance\n",
    "        \"\"\"\n",
    "        return self.hours * 3600 + self.minutes * 60 + self.seconds\n",
    "    \n",
    "    def increment(self, secs):\n",
    "        self.seconds += secs\n",
    "        self.__normalize()\n",
    "        \n",
    "    def __normalize(self):\n",
    "        totalsecs = self.to_seconds()\n",
    "        self.hours = totalsecs // 3600        # Split in h, m, s\n",
    "        leftoversecs = totalsecs % 3600\n",
    "        self.minutes = leftoversecs // 60\n",
    "        self.seconds = leftoversecs % 60\n",
    "        \n",
    "    def add_time(self, other):\n",
    "        return MyTime(0, 0, self.to_seconds() + other.to_seconds())"
   ]
  },
  {
   "cell_type": "code",
   "execution_count": 2,
   "id": "33a52de0",
   "metadata": {},
   "outputs": [
    {
     "name": "stdout",
     "output_type": "stream",
     "text": [
      "12:26:05\n"
     ]
    }
   ],
   "source": [
    "# now let's use MyTime class and its methods again\n",
    "current_time = MyTime(9, 50, 45)\n",
    "bake_time = MyTime(2, 35, 20)\n",
    "done_time = current_time.add_time(bake_time)\n",
    "print(done_time)"
   ]
  },
  {
   "cell_type": "code",
   "execution_count": 3,
   "id": "727ee39a",
   "metadata": {},
   "outputs": [],
   "source": [
    "# add_time is replaced with __add__ built-in special function\n",
    "\n",
    "class MyTime:\n",
    "    def __init__(self, hrs=0, mins=0, secs=0):\n",
    "        \"\"\" Create a new MyTime object initialized to hrs, mins, secs.\n",
    "           The values of mins and secs may be outside the range 0-59,\n",
    "           but the resulting MyTime object will be normalized.\n",
    "        \"\"\"\n",
    "        self.hours = hrs\n",
    "        self.minutes = mins\n",
    "        self.seconds = secs\n",
    "        # Calculate total seconds to represent\n",
    "        self.__normalize()\n",
    "        \n",
    "    def __str__(self):\n",
    "        return \"{:02}:{:02}:{:02}\".format(self.hours, self.minutes, self.seconds)\n",
    "    \n",
    "    def to_seconds(self):\n",
    "        \"\"\" Return the number of seconds represented\n",
    "            by this instance\n",
    "        \"\"\"\n",
    "        return self.hours * 3600 + self.minutes * 60 + self.seconds\n",
    "    \n",
    "    def increment(self, secs):\n",
    "        self.seconds += secs\n",
    "        self.normalize()\n",
    "        \n",
    "    def __normalize(self):\n",
    "        totalsecs = self.to_seconds()\n",
    "        self.hours = totalsecs // 3600        # Split in h, m, s\n",
    "        leftoversecs = totalsecs % 3600\n",
    "        self.minutes = leftoversecs // 60\n",
    "        self.seconds = leftoversecs % 60\n",
    "        \n",
    "    def __add__(self, other):\n",
    "        return MyTime(0, 0, self.to_seconds() + other.to_seconds())"
   ]
  },
  {
   "cell_type": "code",
   "execution_count": 4,
   "id": "a9c637b1",
   "metadata": {},
   "outputs": [
    {
     "name": "stdout",
     "output_type": "stream",
     "text": [
      "12:26:05\n"
     ]
    }
   ],
   "source": [
    "current_time = MyTime(9, 50, 45)\n",
    "bread_time = MyTime(2, 35, 20)\n",
    "done_time = current_time + bread_time \n",
    "# equivalent to: done_time = current_time.__add__(bread_time)\n",
    "print(done_time)"
   ]
  },
  {
   "cell_type": "markdown",
   "id": "0741d355",
   "metadata": {},
   "source": [
    "### some special methods\n",
    "- list of all the special methods can be found here: https://docs.python.org/3/reference/datamodel.html\n",
    "\n",
    "#### \\__len__(self)\n",
    "   - called by len(x)\n",
    "\n",
    "#### \\__iter__(self)\n",
    "   - called by iter(); for statement\n",
    "   \n",
    "#### \\__contains__(self)\n",
    "   - called by built-in **in** operator\n",
    "    \n",
    "#### \\__del__(self)\n",
    "   - destructor - called when an instance is about to be destroyed\n",
    "\n",
    "#### \\__str__(self)\n",
    "   - called by str(object)\n",
    "   - called by format() and print() functions to format and print string representation\n",
    "   - must return string representation of object\n",
    "\n",
    "#### \\__lt__(self, other)\n",
    "   - x < y calls x.__lt__(y)\n",
    "\n",
    "#### \\__gt__(self, other)\n",
    "   - x > y calls x.__gt__(y)\n",
    "\n",
    "#### \\__eq__(self, other)\n",
    "   - x == y calls x.__eq__(y)\n",
    "\n",
    "#### \\__ne__(self, other)\n",
    "#### \\__ge__(self, other) \n",
    "#### \\__le__(self, other)\n",
    "\n",
    "### Emulating numeric types\n",
    "\n",
    "#### \\__add__(self, other)\n",
    "#### \\__sub__(self, other)\n",
    "#### \\__mul__(self, other)\n",
    "#### \\__mod__(self, other)\n",
    "#### \\__truediv__(self, other)\n",
    "#### \\__pow__(self, other)\n",
    "#### \\__xor__(self, other)\n",
    "#### \\__or__(self, other)\n",
    "#### \\__and__(self, other)\n",
    "\n",
    "\n",
    "### adding two points in 2-d coordinates\n"
   ]
  },
  {
   "cell_type": "code",
   "execution_count": 5,
   "id": "4efd7cf8",
   "metadata": {},
   "outputs": [],
   "source": [
    "class Point:\n",
    "    \"\"\"\n",
    "    Point class represents and manipulates x,y coords\n",
    "    \"\"\"\n",
    "    count = 0\n",
    "    \n",
    "    def __init__(self, xx=0, yy=0):\n",
    "        \"\"\"Create a new point with given x and y coordinates\"\"\"\n",
    "        self.x = xx\n",
    "        self.y = yy\n",
    "        Point.count += 1\n",
    "        \n",
    "    def dist_from_origin(self):\n",
    "        import math\n",
    "        dist = math.sqrt(self.x**2+self.y**2)\n",
    "        return dist\n",
    "    \n",
    "    def __str__(self):\n",
    "        return \"({}, {})\".format(self.x, self.y)\n",
    "    \n",
    "    def move(self, xx, yy):\n",
    "        self.x = xx\n",
    "        self.y = yy\n",
    "        \n",
    "    def __add__(self, other):\n",
    "        x = self.x + other.x\n",
    "        y = self.y + other.y\n",
    "        return Point(x, y)\n",
    "    \n",
    "    def __mul__(self, other):\n",
    "        \"\"\"\n",
    "        computes the dot product of two points\n",
    "        \"\"\"\n",
    "        return self.x * other.x + self.y * other.y\n",
    "    \n",
    "    def __rmul__(self, other):\n",
    "        \"\"\"\n",
    "        if the left operand is a primitive type (int or float) \n",
    "        and the right operand is a Point, Python invokes __rmul__\n",
    "        which performs scalar multiplication\n",
    "        \"\"\"\n",
    "        return Point(other * self.x, other * self.y)"
   ]
  },
  {
   "cell_type": "code",
   "execution_count": 6,
   "id": "bc2258c4",
   "metadata": {},
   "outputs": [
    {
     "name": "stdout",
     "output_type": "stream",
     "text": [
      "(12, 12)\n",
      "48\n",
      "(8, 8)\n"
     ]
    }
   ],
   "source": [
    "p1 = Point(2, 2)\n",
    "p2 = Point(10, 10)\n",
    "p3 = p1 + p2\n",
    "print(p3)\n",
    "print(p1 * p3)\n",
    "print(4 * p1)"
   ]
  },
  {
   "cell_type": "code",
   "execution_count": 7,
   "id": "0c9a8ac4",
   "metadata": {},
   "outputs": [
    {
     "ename": "AttributeError",
     "evalue": "'int' object has no attribute 'x'",
     "output_type": "error",
     "traceback": [
      "\u001b[0;31m---------------------------------------------------------------------------\u001b[0m",
      "\u001b[0;31mAttributeError\u001b[0m                            Traceback (most recent call last)",
      "Cell \u001b[0;32mIn[7], line 2\u001b[0m\n\u001b[1;32m      1\u001b[0m \u001b[38;5;66;03m# not allowed as it calls __mul__\u001b[39;00m\n\u001b[0;32m----> 2\u001b[0m \u001b[38;5;28mprint\u001b[39m(\u001b[43mp1\u001b[49m\u001b[43m \u001b[49m\u001b[38;5;241;43m*\u001b[39;49m\u001b[43m \u001b[49m\u001b[38;5;241;43m5\u001b[39;49m)\n",
      "Cell \u001b[0;32mIn[5], line 34\u001b[0m, in \u001b[0;36mPoint.__mul__\u001b[0;34m(self, other)\u001b[0m\n\u001b[1;32m     30\u001b[0m \u001b[38;5;28;01mdef\u001b[39;00m\u001b[38;5;250m \u001b[39m\u001b[38;5;21m__mul__\u001b[39m(\u001b[38;5;28mself\u001b[39m, other):\n\u001b[1;32m     31\u001b[0m \u001b[38;5;250m    \u001b[39m\u001b[38;5;124;03m\"\"\"\u001b[39;00m\n\u001b[1;32m     32\u001b[0m \u001b[38;5;124;03m    computes the dot product of two points\u001b[39;00m\n\u001b[1;32m     33\u001b[0m \u001b[38;5;124;03m    \"\"\"\u001b[39;00m\n\u001b[0;32m---> 34\u001b[0m     \u001b[38;5;28;01mreturn\u001b[39;00m \u001b[38;5;28mself\u001b[39m\u001b[38;5;241m.\u001b[39mx \u001b[38;5;241m*\u001b[39m \u001b[43mother\u001b[49m\u001b[38;5;241;43m.\u001b[39;49m\u001b[43mx\u001b[49m \u001b[38;5;241m+\u001b[39m \u001b[38;5;28mself\u001b[39m\u001b[38;5;241m.\u001b[39my \u001b[38;5;241m*\u001b[39m other\u001b[38;5;241m.\u001b[39my\n",
      "\u001b[0;31mAttributeError\u001b[0m: 'int' object has no attribute 'x'"
     ]
    }
   ],
   "source": [
    "# not allowed as it calls __mul__\n",
    "print(p1 * 5)"
   ]
  },
  {
   "cell_type": "code",
   "execution_count": null,
   "id": "6782b749",
   "metadata": {},
   "outputs": [],
   "source": []
  }
 ],
 "metadata": {
  "kernelspec": {
   "display_name": "Python 3 (ipykernel)",
   "language": "python",
   "name": "python3"
  },
  "language_info": {
   "codemirror_mode": {
    "name": "ipython",
    "version": 3
   },
   "file_extension": ".py",
   "mimetype": "text/x-python",
   "name": "python",
   "nbconvert_exporter": "python",
   "pygments_lexer": "ipython3",
   "version": "3.10.8"
  }
 },
 "nbformat": 4,
 "nbformat_minor": 5
}
