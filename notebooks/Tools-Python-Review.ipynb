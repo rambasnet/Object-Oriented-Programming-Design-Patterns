{
 "cells": [
  {
   "cell_type": "markdown",
   "id": "daaf4c50",
   "metadata": {},
   "source": [
    "# Tools\n",
    "\n",
    "- install and learn to use the following tools:\n",
    "    - GitHub and git client\n",
    "    - Terminal\n",
    "    - VS Code\n",
    "    - Kattis\n",
    "    - Jupyter Notebook"
   ]
  },
  {
   "cell_type": "markdown",
   "id": "af444b2c",
   "metadata": {},
   "source": [
    "# Python fundamentals\n",
    "\n",
    "- Learn fundamentals and basic syntax\n",
    "- learn from my Jupyter Notebooks: https://github.com/rambasnet/Python-Fundamentals\n",
    "- find and learn from tutorials, e.g. https://realpython.com/\n",
    "- use interactive mode on a Terminal\n",
    "- use Jupyter Notebook with ipykernel (default) with conda installation\n",
    "- learn how script works\n",
    "- Basic Building Blocks/Concepts\n",
    "    1. Data and Variables\n",
    "    2. Input/Output\n",
    "    3. Basic Math and operators\n",
    "    4. Functions\n",
    "    5. Conditional Statements\n",
    "    6. Loops\n",
    "    "
   ]
  },
  {
   "cell_type": "code",
   "execution_count": 1,
   "id": "6a1e36b5",
   "metadata": {},
   "outputs": [
    {
     "name": "stdout",
     "output_type": "stream",
     "text": [
      "Hello World!\n"
     ]
    }
   ],
   "source": [
    "print('Hello World!')"
   ]
  },
  {
   "cell_type": "markdown",
   "id": "2019f775",
   "metadata": {},
   "source": [
    "## Data and Variables\n",
    "- Fundamental data types\n",
    "- variable declaration and rules\n",
    "- escape sequences - \\n, \\t\n",
    "\n",
    "- work through some examples"
   ]
  },
  {
   "cell_type": "code",
   "execution_count": 1,
   "id": "d540861d",
   "metadata": {},
   "outputs": [],
   "source": [
    "name = \"John Smith\""
   ]
  },
  {
   "cell_type": "code",
   "execution_count": 2,
   "id": "4c073ae3",
   "metadata": {},
   "outputs": [],
   "source": [
    "full_name = \"Michael Jordan\""
   ]
  },
  {
   "cell_type": "code",
   "execution_count": 3,
   "id": "505718cd",
   "metadata": {},
   "outputs": [],
   "source": [
    "lastName = \"Obama\""
   ]
  },
  {
   "cell_type": "code",
   "execution_count": 4,
   "id": "aad4e97d",
   "metadata": {},
   "outputs": [],
   "source": [
    "num = 10"
   ]
  },
  {
   "cell_type": "code",
   "execution_count": 5,
   "id": "bdf465ea",
   "metadata": {},
   "outputs": [],
   "source": [
    "x = 5"
   ]
  },
  {
   "cell_type": "code",
   "execution_count": 6,
   "id": "8d2fa58d",
   "metadata": {},
   "outputs": [],
   "source": [
    "x = 10.5"
   ]
  },
  {
   "cell_type": "code",
   "execution_count": 7,
   "id": "d9044d17",
   "metadata": {},
   "outputs": [],
   "source": [
    "x = \"abc\""
   ]
  },
  {
   "cell_type": "markdown",
   "id": "6be66777",
   "metadata": {},
   "source": [
    "## Standard Input/Output\n",
    "\n",
    "- sys module\n",
    "    - sys.stdin; sys.stdout\n",
    "- input()\n",
    "- print()"
   ]
  },
  {
   "cell_type": "code",
   "execution_count": 10,
   "id": "16e540f5",
   "metadata": {},
   "outputs": [
    {
     "name": "stdout",
     "output_type": "stream",
     "text": [
      "Hello World!\n"
     ]
    }
   ],
   "source": [
    "print('Hello World!')"
   ]
  },
  {
   "cell_type": "code",
   "execution_count": 11,
   "id": "dbcff30a",
   "metadata": {},
   "outputs": [
    {
     "name": "stdout",
     "output_type": "stream",
     "text": [
      "b'Hello World!'\n"
     ]
    }
   ],
   "source": [
    "print(b'Hello World!')"
   ]
  },
  {
   "cell_type": "code",
   "execution_count": 12,
   "id": "94e289ef",
   "metadata": {},
   "outputs": [
    {
     "name": "stdout",
     "output_type": "stream",
     "text": [
      "Enter your full name: John Smith\n"
     ]
    }
   ],
   "source": [
    "name = input(\"Enter your full name: \")"
   ]
  },
  {
   "cell_type": "code",
   "execution_count": 14,
   "id": "55b55e5e",
   "metadata": {},
   "outputs": [
    {
     "name": "stdout",
     "output_type": "stream",
     "text": [
      "Hell there John Smith!\n"
     ]
    }
   ],
   "source": [
    "print(f'Hell there {name}!')"
   ]
  },
  {
   "cell_type": "markdown",
   "id": "cf9f22fe",
   "metadata": {},
   "source": [
    "## Basic Math and operators\n",
    "\n",
    "- math module\n",
    "- some functions inside math\n",
    "- built-in help function\n",
    "- operators: +, -, \\*, \\**, /, //"
   ]
  },
  {
   "cell_type": "code",
   "execution_count": 1,
   "id": "e53ff84c",
   "metadata": {},
   "outputs": [
    {
     "data": {
      "text/plain": [
       "4"
      ]
     },
     "execution_count": 1,
     "metadata": {},
     "output_type": "execute_result"
    }
   ],
   "source": [
    "2+2"
   ]
  },
  {
   "cell_type": "code",
   "execution_count": 2,
   "id": "311c2ee6",
   "metadata": {},
   "outputs": [
    {
     "data": {
      "text/plain": [
       "0"
      ]
     },
     "execution_count": 2,
     "metadata": {},
     "output_type": "execute_result"
    }
   ],
   "source": [
    "2-2"
   ]
  },
  {
   "cell_type": "code",
   "execution_count": 3,
   "id": "1e52020a",
   "metadata": {},
   "outputs": [
    {
     "data": {
      "text/plain": [
       "4"
      ]
     },
     "execution_count": 3,
     "metadata": {},
     "output_type": "execute_result"
    }
   ],
   "source": [
    "2*2"
   ]
  },
  {
   "cell_type": "code",
   "execution_count": 4,
   "id": "ea4c5138",
   "metadata": {},
   "outputs": [
    {
     "data": {
      "text/plain": [
       "8"
      ]
     },
     "execution_count": 4,
     "metadata": {},
     "output_type": "execute_result"
    }
   ],
   "source": [
    "2**3"
   ]
  },
  {
   "cell_type": "code",
   "execution_count": 5,
   "id": "e6030d06",
   "metadata": {},
   "outputs": [
    {
     "data": {
      "text/plain": [
       "1.3333333333333333"
      ]
     },
     "execution_count": 5,
     "metadata": {},
     "output_type": "execute_result"
    }
   ],
   "source": [
    "4/3"
   ]
  },
  {
   "cell_type": "code",
   "execution_count": 6,
   "id": "50ac677c",
   "metadata": {},
   "outputs": [
    {
     "data": {
      "text/plain": [
       "1"
      ]
     },
     "execution_count": 6,
     "metadata": {},
     "output_type": "execute_result"
    }
   ],
   "source": [
    "4//3"
   ]
  },
  {
   "cell_type": "markdown",
   "id": "6cfdbd5a",
   "metadata": {},
   "source": [
    "## Functions and return value\n",
    "\n",
    "- function definition syntax\n",
    "- type of functions (fruitful and fruitless/None)\n",
    "\n",
    "- work through some examples"
   ]
  },
  {
   "cell_type": "code",
   "execution_count": 1,
   "id": "faf3a8ca",
   "metadata": {},
   "outputs": [],
   "source": [
    "def add(x, y):\n",
    "    return x+y"
   ]
  },
  {
   "cell_type": "code",
   "execution_count": 2,
   "id": "7c6f99c8",
   "metadata": {},
   "outputs": [
    {
     "name": "stdout",
     "output_type": "stream",
     "text": [
      "3.5\n"
     ]
    }
   ],
   "source": [
    "print(add(2, 1.5))"
   ]
  },
  {
   "cell_type": "code",
   "execution_count": 5,
   "id": "63c6a653",
   "metadata": {},
   "outputs": [
    {
     "name": "stdout",
     "output_type": "stream",
     "text": [
      "Hello World!\n"
     ]
    }
   ],
   "source": [
    "print(add(\"Hello \", \"World!\"))"
   ]
  },
  {
   "cell_type": "markdown",
   "id": "12078490",
   "metadata": {},
   "source": [
    "## Conditional Statements\n",
    "\n",
    "- one way\n",
    "- two way\n",
    "- multiway selectors"
   ]
  },
  {
   "cell_type": "code",
   "execution_count": 8,
   "id": "83b849ef",
   "metadata": {},
   "outputs": [],
   "source": [
    "a = 10"
   ]
  },
  {
   "cell_type": "code",
   "execution_count": 9,
   "id": "bc2d9874",
   "metadata": {},
   "outputs": [
    {
     "name": "stdout",
     "output_type": "stream",
     "text": [
      "even\n"
     ]
    }
   ],
   "source": [
    "if a %2 ==0:\n",
    "    print('even')"
   ]
  },
  {
   "cell_type": "code",
   "execution_count": 10,
   "id": "14f03cd8",
   "metadata": {},
   "outputs": [
    {
     "name": "stdout",
     "output_type": "stream",
     "text": [
      "even\n"
     ]
    }
   ],
   "source": [
    "if a%2 == 0:\n",
    "    print('even')\n",
    "else:\n",
    "    print('odd')"
   ]
  },
  {
   "cell_type": "code",
   "execution_count": 11,
   "id": "e6c6662a",
   "metadata": {},
   "outputs": [
    {
     "name": "stdout",
     "output_type": "stream",
     "text": [
      "even\n"
     ]
    }
   ],
   "source": [
    "if a == 0:\n",
    "    print(f'{a=}')\n",
    "elif a%2 ==0:\n",
    "    print('even')\n",
    "else:\n",
    "    print('odd')"
   ]
  },
  {
   "cell_type": "code",
   "execution_count": 7,
   "id": "26f815f5",
   "metadata": {},
   "outputs": [
    {
     "name": "stdout",
     "output_type": "stream",
     "text": [
      "Enter an integer:10\n",
      "10 is Even.\n"
     ]
    }
   ],
   "source": [
    "num = int(input('Enter an integer:' ))\n",
    "if num == 0:\n",
    "    print(f'{num} is Zero.')\n",
    "elif num%2 == 0:\n",
    "    print(f'{num} is Even.')\n",
    "else:\n",
    "    print(f'{num} is odd.')"
   ]
  },
  {
   "cell_type": "markdown",
   "id": "3e0b561e",
   "metadata": {},
   "source": [
    "## Loops\n",
    "\n",
    "- for loop\n",
    "- while loop"
   ]
  },
  {
   "cell_type": "code",
   "execution_count": 15,
   "id": "ea65ea8a",
   "metadata": {},
   "outputs": [
    {
     "name": "stdout",
     "output_type": "stream",
     "text": [
      "1 Mississippi!\n",
      "2 Mississippi!\n",
      "3 Mississippi!\n",
      "4 Mississippi!\n",
      "5 Mississippi!\n",
      "6 Mississippi!\n",
      "7 Mississippi!\n",
      "8 Mississippi!\n",
      "9 Mississippi!\n",
      "10 Mississippi!\n"
     ]
    }
   ],
   "source": [
    "for i in range(10):\n",
    "    print(f'{i+1} Mississippi!')"
   ]
  },
  {
   "cell_type": "code",
   "execution_count": 16,
   "id": "7fe1f1fb",
   "metadata": {},
   "outputs": [
    {
     "name": "stdout",
     "output_type": "stream",
     "text": [
      "Enter a number: 1\n",
      "You entered 1\n",
      "Enter a number: 10\n",
      "You entered 10\n",
      "Enter a number: 0\n"
     ]
    }
   ],
   "source": [
    "while True:\n",
    "    num = input('Enter a number: ')\n",
    "    if num == '0':\n",
    "        break\n",
    "    else:\n",
    "        print(f'You entered {num}')"
   ]
  },
  {
   "cell_type": "markdown",
   "id": "95ea23b6",
   "metadata": {},
   "source": [
    "## Built-in Data Structures\n",
    "\n",
    "### Tuple"
   ]
  },
  {
   "cell_type": "code",
   "execution_count": 17,
   "id": "69d566a0",
   "metadata": {},
   "outputs": [],
   "source": [
    "a = (1, 2, 'hello')"
   ]
  },
  {
   "cell_type": "code",
   "execution_count": 18,
   "id": "dc53c47b",
   "metadata": {},
   "outputs": [
    {
     "data": {
      "text/plain": [
       "'hello'"
      ]
     },
     "execution_count": 18,
     "metadata": {},
     "output_type": "execute_result"
    }
   ],
   "source": [
    "a[-1]"
   ]
  },
  {
   "cell_type": "markdown",
   "id": "8a8d430c",
   "metadata": {},
   "source": [
    "### List\n",
    "- similar to array/vector in C++"
   ]
  },
  {
   "cell_type": "code",
   "execution_count": 19,
   "id": "cc72a778",
   "metadata": {},
   "outputs": [],
   "source": [
    "values = [1, 2, 'hi', [1, 2, 3], a]"
   ]
  },
  {
   "cell_type": "code",
   "execution_count": 20,
   "id": "9fb37395",
   "metadata": {},
   "outputs": [
    {
     "data": {
      "text/plain": [
       "[1, 2, 'hi', [1, 2, 3], (1, 2, 'hello')]"
      ]
     },
     "execution_count": 20,
     "metadata": {},
     "output_type": "execute_result"
    }
   ],
   "source": [
    "values"
   ]
  },
  {
   "cell_type": "markdown",
   "id": "606686e8",
   "metadata": {},
   "source": [
    "### Dictionary\n",
    "- key->vlue mapping DS"
   ]
  },
  {
   "cell_type": "code",
   "execution_count": 30,
   "id": "01edcdbb",
   "metadata": {},
   "outputs": [],
   "source": [
    "engToSpan = {'one': 'uno'}"
   ]
  },
  {
   "cell_type": "code",
   "execution_count": 31,
   "id": "06761be2",
   "metadata": {},
   "outputs": [],
   "source": [
    "engToSpan['two'] = 'dos'"
   ]
  },
  {
   "cell_type": "code",
   "execution_count": 32,
   "id": "e607a3f0",
   "metadata": {},
   "outputs": [
    {
     "data": {
      "text/plain": [
       "{'one': 'uno', 'two': 'dos'}"
      ]
     },
     "execution_count": 32,
     "metadata": {},
     "output_type": "execute_result"
    }
   ],
   "source": [
    "engToSpan"
   ]
  },
  {
   "cell_type": "code",
   "execution_count": 33,
   "id": "4310acac",
   "metadata": {},
   "outputs": [
    {
     "data": {
      "text/plain": [
       "'uno'"
      ]
     },
     "execution_count": 33,
     "metadata": {},
     "output_type": "execute_result"
    }
   ],
   "source": [
    "engToSpan['one']"
   ]
  },
  {
   "cell_type": "markdown",
   "id": "7a62ba14",
   "metadata": {},
   "source": [
    "## Modules\n",
    "- see `src/modules/` file\n",
    "\n",
    "## System command\n",
    "- execute system/shell commands from with Python\n",
    "- powerful feature but can be a security vulnerability!\n",
    "\n",
    "### os.system( )"
   ]
  },
  {
   "cell_type": "code",
   "execution_count": 2,
   "id": "104003b9",
   "metadata": {},
   "outputs": [],
   "source": [
    "import os"
   ]
  },
  {
   "cell_type": "code",
   "execution_count": 4,
   "id": "cb064d81",
   "metadata": {},
   "outputs": [
    {
     "name": "stdout",
     "output_type": "stream",
     "text": [
      "git version 2.37.1 (Apple Git-137.1)\n",
      "returned: 0\n"
     ]
    }
   ],
   "source": [
    "cmd = \"git --version\"\n",
    "ret_val = os.system(cmd)\n",
    "print(f'returned: {ret_val}')"
   ]
  },
  {
   "cell_type": "markdown",
   "id": "032458b5",
   "metadata": {},
   "source": [
    "### subprocess.call()\n",
    "- subprocess.check_output() allows to store the output in a variable"
   ]
  },
  {
   "cell_type": "code",
   "execution_count": 6,
   "id": "29d0e255",
   "metadata": {},
   "outputs": [],
   "source": [
    "import subprocess"
   ]
  },
  {
   "cell_type": "code",
   "execution_count": 8,
   "id": "5158c701",
   "metadata": {},
   "outputs": [
    {
     "name": "stdout",
     "output_type": "stream",
     "text": [
      "Help on module subprocess:\n",
      "\n",
      "NAME\n",
      "    subprocess - Subprocesses with accessible I/O streams\n",
      "\n",
      "MODULE REFERENCE\n",
      "    https://docs.python.org/3.10/library/subprocess.html\n",
      "    \n",
      "    The following documentation is automatically generated from the Python\n",
      "    source files.  It may be incomplete, incorrect or include features that\n",
      "    are considered implementation detail and may vary between Python\n",
      "    implementations.  When in doubt, consult the module reference at the\n",
      "    location listed above.\n",
      "\n",
      "DESCRIPTION\n",
      "    This module allows you to spawn processes, connect to their\n",
      "    input/output/error pipes, and obtain their return codes.\n",
      "    \n",
      "    For a complete description of this module see the Python documentation.\n",
      "    \n",
      "    Main API\n",
      "    ========\n",
      "    run(...): Runs a command, waits for it to complete, then returns a\n",
      "              CompletedProcess instance.\n",
      "    Popen(...): A class for flexibly executing a command in a new process\n",
      "    \n",
      "    Constants\n",
      "    ---------\n",
      "    DEVNULL: Special value that indicates that os.devnull should be used\n",
      "    PIPE:    Special value that indicates a pipe should be created\n",
      "    STDOUT:  Special value that indicates that stderr should go to stdout\n",
      "    \n",
      "    \n",
      "    Older API\n",
      "    =========\n",
      "    call(...): Runs a command, waits for it to complete, then returns\n",
      "        the return code.\n",
      "    check_call(...): Same as call() but raises CalledProcessError()\n",
      "        if return code is not 0\n",
      "    check_output(...): Same as check_call() but returns the contents of\n",
      "        stdout instead of a return code\n",
      "    getoutput(...): Runs a command in the shell, waits for it to complete,\n",
      "        then returns the output\n",
      "    getstatusoutput(...): Runs a command in the shell, waits for it to complete,\n",
      "        then returns a (exitcode, output) tuple\n",
      "\n",
      "CLASSES\n",
      "    builtins.Exception(builtins.BaseException)\n",
      "        SubprocessError\n",
      "            CalledProcessError\n",
      "            TimeoutExpired\n",
      "    builtins.object\n",
      "        CompletedProcess\n",
      "        Popen\n",
      "    \n",
      "    class CalledProcessError(SubprocessError)\n",
      "     |  CalledProcessError(returncode, cmd, output=None, stderr=None)\n",
      "     |  \n",
      "     |  Raised when run() is called with check=True and the process\n",
      "     |  returns a non-zero exit status.\n",
      "     |  \n",
      "     |  Attributes:\n",
      "     |    cmd, returncode, stdout, stderr, output\n",
      "     |  \n",
      "     |  Method resolution order:\n",
      "     |      CalledProcessError\n",
      "     |      SubprocessError\n",
      "     |      builtins.Exception\n",
      "     |      builtins.BaseException\n",
      "     |      builtins.object\n",
      "     |  \n",
      "     |  Methods defined here:\n",
      "     |  \n",
      "     |  __init__(self, returncode, cmd, output=None, stderr=None)\n",
      "     |      Initialize self.  See help(type(self)) for accurate signature.\n",
      "     |  \n",
      "     |  __str__(self)\n",
      "     |      Return str(self).\n",
      "     |  \n",
      "     |  ----------------------------------------------------------------------\n",
      "     |  Data descriptors defined here:\n",
      "     |  \n",
      "     |  stdout\n",
      "     |      Alias for output attribute, to match stderr\n",
      "     |  \n",
      "     |  ----------------------------------------------------------------------\n",
      "     |  Data descriptors inherited from SubprocessError:\n",
      "     |  \n",
      "     |  __weakref__\n",
      "     |      list of weak references to the object (if defined)\n",
      "     |  \n",
      "     |  ----------------------------------------------------------------------\n",
      "     |  Static methods inherited from builtins.Exception:\n",
      "     |  \n",
      "     |  __new__(*args, **kwargs) from builtins.type\n",
      "     |      Create and return a new object.  See help(type) for accurate signature.\n",
      "     |  \n",
      "     |  ----------------------------------------------------------------------\n",
      "     |  Methods inherited from builtins.BaseException:\n",
      "     |  \n",
      "     |  __delattr__(self, name, /)\n",
      "     |      Implement delattr(self, name).\n",
      "     |  \n",
      "     |  __getattribute__(self, name, /)\n",
      "     |      Return getattr(self, name).\n",
      "     |  \n",
      "     |  __reduce__(...)\n",
      "     |      Helper for pickle.\n",
      "     |  \n",
      "     |  __repr__(self, /)\n",
      "     |      Return repr(self).\n",
      "     |  \n",
      "     |  __setattr__(self, name, value, /)\n",
      "     |      Implement setattr(self, name, value).\n",
      "     |  \n",
      "     |  __setstate__(...)\n",
      "     |  \n",
      "     |  with_traceback(...)\n",
      "     |      Exception.with_traceback(tb) --\n",
      "     |      set self.__traceback__ to tb and return self.\n",
      "     |  \n",
      "     |  ----------------------------------------------------------------------\n",
      "     |  Data descriptors inherited from builtins.BaseException:\n",
      "     |  \n",
      "     |  __cause__\n",
      "     |      exception cause\n",
      "     |  \n",
      "     |  __context__\n",
      "     |      exception context\n",
      "     |  \n",
      "     |  __dict__\n",
      "     |  \n",
      "     |  __suppress_context__\n",
      "     |  \n",
      "     |  __traceback__\n",
      "     |  \n",
      "     |  args\n",
      "    \n",
      "    class CompletedProcess(builtins.object)\n",
      "     |  CompletedProcess(args, returncode, stdout=None, stderr=None)\n",
      "     |  \n",
      "     |  A process that has finished running.\n",
      "     |  \n",
      "     |  This is returned by run().\n",
      "     |  \n",
      "     |  Attributes:\n",
      "     |    args: The list or str args passed to run().\n",
      "     |    returncode: The exit code of the process, negative for signals.\n",
      "     |    stdout: The standard output (None if not captured).\n",
      "     |    stderr: The standard error (None if not captured).\n",
      "     |  \n",
      "     |  Methods defined here:\n",
      "     |  \n",
      "     |  __init__(self, args, returncode, stdout=None, stderr=None)\n",
      "     |      Initialize self.  See help(type(self)) for accurate signature.\n",
      "     |  \n",
      "     |  __repr__(self)\n",
      "     |      Return repr(self).\n",
      "     |  \n",
      "     |  check_returncode(self)\n",
      "     |      Raise CalledProcessError if the exit code is non-zero.\n",
      "     |  \n",
      "     |  ----------------------------------------------------------------------\n",
      "     |  Class methods defined here:\n",
      "     |  \n",
      "     |  __class_getitem__ = GenericAlias(...) from builtins.type\n",
      "     |      Represent a PEP 585 generic type\n",
      "     |      \n",
      "     |      E.g. for t = list[int], t.__origin__ is list and t.__args__ is (int,).\n",
      "     |  \n",
      "     |  ----------------------------------------------------------------------\n",
      "     |  Data descriptors defined here:\n",
      "     |  \n",
      "     |  __dict__\n",
      "     |      dictionary for instance variables (if defined)\n",
      "     |  \n",
      "     |  __weakref__\n",
      "     |      list of weak references to the object (if defined)\n",
      "    \n",
      "    class Popen(builtins.object)\n",
      "     |  Popen(args, bufsize=-1, executable=None, stdin=None, stdout=None, stderr=None, preexec_fn=None, close_fds=True, shell=False, cwd=None, env=None, universal_newlines=None, startupinfo=None, creationflags=0, restore_signals=True, start_new_session=False, pass_fds=(), *, user=None, group=None, extra_groups=None, encoding=None, errors=None, text=None, umask=-1, pipesize=-1)\n",
      "     |  \n",
      "     |  Execute a child program in a new process.\n",
      "     |  \n",
      "     |  For a complete description of the arguments see the Python documentation.\n",
      "     |  \n",
      "     |  Arguments:\n",
      "     |    args: A string, or a sequence of program arguments.\n",
      "     |  \n",
      "     |    bufsize: supplied as the buffering argument to the open() function when\n",
      "     |        creating the stdin/stdout/stderr pipe file objects\n",
      "     |  \n",
      "     |    executable: A replacement program to execute.\n",
      "     |  \n",
      "     |    stdin, stdout and stderr: These specify the executed programs' standard\n",
      "     |        input, standard output and standard error file handles, respectively.\n",
      "     |  \n",
      "     |    preexec_fn: (POSIX only) An object to be called in the child process\n",
      "     |        just before the child is executed.\n",
      "     |  \n",
      "     |    close_fds: Controls closing or inheriting of file descriptors.\n",
      "     |  \n",
      "     |    shell: If true, the command will be executed through the shell.\n",
      "     |  \n",
      "     |    cwd: Sets the current directory before the child is executed.\n",
      "     |  \n",
      "     |    env: Defines the environment variables for the new process.\n",
      "     |  \n",
      "     |    text: If true, decode stdin, stdout and stderr using the given encoding\n",
      "     |        (if set) or the system default otherwise.\n",
      "     |  \n",
      "     |    universal_newlines: Alias of text, provided for backwards compatibility.\n",
      "     |  \n",
      "     |    startupinfo and creationflags (Windows only)\n",
      "     |  \n",
      "     |    restore_signals (POSIX only)\n",
      "     |  \n",
      "     |    start_new_session (POSIX only)\n",
      "     |  \n",
      "     |    group (POSIX only)\n",
      "     |  \n",
      "     |    extra_groups (POSIX only)\n",
      "     |  \n",
      "     |    user (POSIX only)\n",
      "     |  \n",
      "     |    umask (POSIX only)\n",
      "     |  \n",
      "     |    pass_fds (POSIX only)\n",
      "     |  \n",
      "     |    encoding and errors: Text mode encoding and error handling to use for\n",
      "     |        file objects stdin, stdout and stderr.\n",
      "     |  \n",
      "     |  Attributes:\n",
      "     |      stdin, stdout, stderr, pid, returncode\n",
      "     |  \n",
      "     |  Methods defined here:\n",
      "     |  \n",
      "     |  __del__(self, _maxsize=9223372036854775807, _warn=<built-in function warn>)\n",
      "     |  \n",
      "     |  __enter__(self)\n",
      "     |  \n",
      "     |  __exit__(self, exc_type, value, traceback)\n",
      "     |  \n",
      "     |  __init__(self, args, bufsize=-1, executable=None, stdin=None, stdout=None, stderr=None, preexec_fn=None, close_fds=True, shell=False, cwd=None, env=None, universal_newlines=None, startupinfo=None, creationflags=0, restore_signals=True, start_new_session=False, pass_fds=(), *, user=None, group=None, extra_groups=None, encoding=None, errors=None, text=None, umask=-1, pipesize=-1)\n",
      "     |      Create new Popen instance.\n",
      "     |  \n",
      "     |  __repr__(self)\n",
      "     |      Return repr(self).\n",
      "     |  \n",
      "     |  communicate(self, input=None, timeout=None)\n",
      "     |      Interact with process: Send data to stdin and close it.\n",
      "     |      Read data from stdout and stderr, until end-of-file is\n",
      "     |      reached.  Wait for process to terminate.\n",
      "     |      \n",
      "     |      The optional \"input\" argument should be data to be sent to the\n",
      "     |      child process, or None, if no data should be sent to the child.\n",
      "     |      communicate() returns a tuple (stdout, stderr).\n",
      "     |      \n",
      "     |      By default, all communication is in bytes, and therefore any\n",
      "     |      \"input\" should be bytes, and the (stdout, stderr) will be bytes.\n",
      "     |      If in text mode (indicated by self.text_mode), any \"input\" should\n",
      "     |      be a string, and (stdout, stderr) will be strings decoded\n",
      "     |      according to locale encoding, or by \"encoding\" if set. Text mode\n",
      "     |      is triggered by setting any of text, encoding, errors or\n",
      "     |      universal_newlines.\n",
      "     |  \n",
      "     |  kill(self)\n",
      "     |      Kill the process with SIGKILL\n",
      "     |  \n",
      "     |  poll(self)\n",
      "     |      Check if child process has terminated. Set and return returncode\n",
      "     |      attribute.\n",
      "     |  \n",
      "     |  send_signal(self, sig)\n",
      "     |      Send a signal to the process.\n",
      "     |  \n",
      "     |  terminate(self)\n",
      "     |      Terminate the process with SIGTERM\n",
      "     |  \n",
      "     |  wait(self, timeout=None)\n",
      "     |      Wait for child process to terminate; returns self.returncode.\n",
      "     |  \n",
      "     |  ----------------------------------------------------------------------\n",
      "     |  Class methods defined here:\n",
      "     |  \n",
      "     |  __class_getitem__ = GenericAlias(...) from builtins.type\n",
      "     |      Represent a PEP 585 generic type\n",
      "     |      \n",
      "     |      E.g. for t = list[int], t.__origin__ is list and t.__args__ is (int,).\n",
      "     |  \n",
      "     |  ----------------------------------------------------------------------\n",
      "     |  Data descriptors defined here:\n",
      "     |  \n",
      "     |  __dict__\n",
      "     |      dictionary for instance variables (if defined)\n",
      "     |  \n",
      "     |  __weakref__\n",
      "     |      list of weak references to the object (if defined)\n",
      "     |  \n",
      "     |  universal_newlines\n",
      "    \n",
      "    class SubprocessError(builtins.Exception)\n",
      "     |  # Exception classes used by this module.\n",
      "     |  \n",
      "     |  Method resolution order:\n",
      "     |      SubprocessError\n",
      "     |      builtins.Exception\n",
      "     |      builtins.BaseException\n",
      "     |      builtins.object\n",
      "     |  \n",
      "     |  Data descriptors defined here:\n",
      "     |  \n",
      "     |  __weakref__\n",
      "     |      list of weak references to the object (if defined)\n",
      "     |  \n",
      "     |  ----------------------------------------------------------------------\n",
      "     |  Methods inherited from builtins.Exception:\n",
      "     |  \n",
      "     |  __init__(self, /, *args, **kwargs)\n",
      "     |      Initialize self.  See help(type(self)) for accurate signature.\n",
      "     |  \n",
      "     |  ----------------------------------------------------------------------\n",
      "     |  Static methods inherited from builtins.Exception:\n",
      "     |  \n",
      "     |  __new__(*args, **kwargs) from builtins.type\n",
      "     |      Create and return a new object.  See help(type) for accurate signature.\n",
      "     |  \n",
      "     |  ----------------------------------------------------------------------\n",
      "     |  Methods inherited from builtins.BaseException:\n",
      "     |  \n",
      "     |  __delattr__(self, name, /)\n",
      "     |      Implement delattr(self, name).\n",
      "     |  \n",
      "     |  __getattribute__(self, name, /)\n",
      "     |      Return getattr(self, name).\n",
      "     |  \n",
      "     |  __reduce__(...)\n",
      "     |      Helper for pickle.\n",
      "     |  \n",
      "     |  __repr__(self, /)\n",
      "     |      Return repr(self).\n",
      "     |  \n",
      "     |  __setattr__(self, name, value, /)\n",
      "     |      Implement setattr(self, name, value).\n",
      "     |  \n",
      "     |  __setstate__(...)\n",
      "     |  \n",
      "     |  __str__(self, /)\n",
      "     |      Return str(self).\n",
      "     |  \n",
      "     |  with_traceback(...)\n",
      "     |      Exception.with_traceback(tb) --\n",
      "     |      set self.__traceback__ to tb and return self.\n",
      "     |  \n",
      "     |  ----------------------------------------------------------------------\n",
      "     |  Data descriptors inherited from builtins.BaseException:\n",
      "     |  \n",
      "     |  __cause__\n",
      "     |      exception cause\n",
      "     |  \n",
      "     |  __context__\n",
      "     |      exception context\n",
      "     |  \n",
      "     |  __dict__\n",
      "     |  \n",
      "     |  __suppress_context__\n",
      "     |  \n",
      "     |  __traceback__\n",
      "     |  \n",
      "     |  args\n",
      "    \n",
      "    class TimeoutExpired(SubprocessError)\n",
      "     |  TimeoutExpired(cmd, timeout, output=None, stderr=None)\n",
      "     |  \n",
      "     |  This exception is raised when the timeout expires while waiting for a\n",
      "     |  child process.\n",
      "     |  \n",
      "     |  Attributes:\n",
      "     |      cmd, output, stdout, stderr, timeout\n",
      "     |  \n",
      "     |  Method resolution order:\n",
      "     |      TimeoutExpired\n",
      "     |      SubprocessError\n",
      "     |      builtins.Exception\n",
      "     |      builtins.BaseException\n",
      "     |      builtins.object\n",
      "     |  \n",
      "     |  Methods defined here:\n",
      "     |  \n",
      "     |  __init__(self, cmd, timeout, output=None, stderr=None)\n",
      "     |      Initialize self.  See help(type(self)) for accurate signature.\n",
      "     |  \n",
      "     |  __str__(self)\n",
      "     |      Return str(self).\n",
      "     |  \n",
      "     |  ----------------------------------------------------------------------\n",
      "     |  Data descriptors defined here:\n",
      "     |  \n",
      "     |  stdout\n",
      "     |  \n",
      "     |  ----------------------------------------------------------------------\n",
      "     |  Data descriptors inherited from SubprocessError:\n",
      "     |  \n",
      "     |  __weakref__\n",
      "     |      list of weak references to the object (if defined)\n",
      "     |  \n",
      "     |  ----------------------------------------------------------------------\n",
      "     |  Static methods inherited from builtins.Exception:\n",
      "     |  \n",
      "     |  __new__(*args, **kwargs) from builtins.type\n",
      "     |      Create and return a new object.  See help(type) for accurate signature.\n",
      "     |  \n",
      "     |  ----------------------------------------------------------------------\n",
      "     |  Methods inherited from builtins.BaseException:\n",
      "     |  \n",
      "     |  __delattr__(self, name, /)\n",
      "     |      Implement delattr(self, name).\n",
      "     |  \n",
      "     |  __getattribute__(self, name, /)\n",
      "     |      Return getattr(self, name).\n",
      "     |  \n",
      "     |  __reduce__(...)\n",
      "     |      Helper for pickle.\n",
      "     |  \n",
      "     |  __repr__(self, /)\n",
      "     |      Return repr(self).\n",
      "     |  \n",
      "     |  __setattr__(self, name, value, /)\n",
      "     |      Implement setattr(self, name, value).\n",
      "     |  \n",
      "     |  __setstate__(...)\n",
      "     |  \n",
      "     |  with_traceback(...)\n",
      "     |      Exception.with_traceback(tb) --\n",
      "     |      set self.__traceback__ to tb and return self.\n",
      "     |  \n",
      "     |  ----------------------------------------------------------------------\n",
      "     |  Data descriptors inherited from builtins.BaseException:\n",
      "     |  \n",
      "     |  __cause__\n",
      "     |      exception cause\n",
      "     |  \n",
      "     |  __context__\n",
      "     |      exception context\n",
      "     |  \n",
      "     |  __dict__\n",
      "     |  \n",
      "     |  __suppress_context__\n",
      "     |  \n",
      "     |  __traceback__\n",
      "     |  \n",
      "     |  args\n",
      "\n",
      "FUNCTIONS\n",
      "    call(*popenargs, timeout=None, **kwargs)\n",
      "        Run command with arguments.  Wait for command to complete or\n",
      "        timeout, then return the returncode attribute.\n",
      "        \n",
      "        The arguments are the same as for the Popen constructor.  Example:\n",
      "        \n",
      "        retcode = call([\"ls\", \"-l\"])\n",
      "    \n",
      "    check_call(*popenargs, **kwargs)\n",
      "        Run command with arguments.  Wait for command to complete.  If\n",
      "        the exit code was zero then return, otherwise raise\n",
      "        CalledProcessError.  The CalledProcessError object will have the\n",
      "        return code in the returncode attribute.\n",
      "        \n",
      "        The arguments are the same as for the call function.  Example:\n",
      "        \n",
      "        check_call([\"ls\", \"-l\"])\n",
      "    \n",
      "    check_output(*popenargs, timeout=None, **kwargs)\n",
      "        Run command with arguments and return its output.\n",
      "        \n",
      "        If the exit code was non-zero it raises a CalledProcessError.  The\n",
      "        CalledProcessError object will have the return code in the returncode\n",
      "        attribute and output in the output attribute.\n",
      "        \n",
      "        The arguments are the same as for the Popen constructor.  Example:\n",
      "        \n",
      "        >>> check_output([\"ls\", \"-l\", \"/dev/null\"])\n",
      "        b'crw-rw-rw- 1 root root 1, 3 Oct 18  2007 /dev/null\\n'\n",
      "        \n",
      "        The stdout argument is not allowed as it is used internally.\n",
      "        To capture standard error in the result, use stderr=STDOUT.\n",
      "        \n",
      "        >>> check_output([\"/bin/sh\", \"-c\",\n",
      "        ...               \"ls -l non_existent_file ; exit 0\"],\n",
      "        ...              stderr=STDOUT)\n",
      "        b'ls: non_existent_file: No such file or directory\\n'\n",
      "        \n",
      "        There is an additional optional argument, \"input\", allowing you to\n",
      "        pass a string to the subprocess's stdin.  If you use this argument\n",
      "        you may not also use the Popen constructor's \"stdin\" argument, as\n",
      "        it too will be used internally.  Example:\n",
      "        \n",
      "        >>> check_output([\"sed\", \"-e\", \"s/foo/bar/\"],\n",
      "        ...              input=b\"when in the course of fooman events\\n\")\n",
      "        b'when in the course of barman events\\n'\n",
      "        \n",
      "        By default, all communication is in bytes, and therefore any \"input\"\n",
      "        should be bytes, and the return value will be bytes.  If in text mode,\n",
      "        any \"input\" should be a string, and the return value will be a string\n",
      "        decoded according to locale encoding, or by \"encoding\" if set. Text mode\n",
      "        is triggered by setting any of text, encoding, errors or universal_newlines.\n",
      "    \n",
      "    getoutput(cmd)\n",
      "        Return output (stdout or stderr) of executing cmd in a shell.\n",
      "        \n",
      "        Like getstatusoutput(), except the exit status is ignored and the return\n",
      "        value is a string containing the command's output.  Example:\n",
      "        \n",
      "        >>> import subprocess\n",
      "        >>> subprocess.getoutput('ls /bin/ls')\n",
      "        '/bin/ls'\n",
      "    \n",
      "    getstatusoutput(cmd)\n",
      "        Return (exitcode, output) of executing cmd in a shell.\n",
      "        \n",
      "        Execute the string 'cmd' in a shell with 'check_output' and\n",
      "        return a 2-tuple (status, output). The locale encoding is used\n",
      "        to decode the output and process newlines.\n",
      "        \n",
      "        A trailing newline is stripped from the output.\n",
      "        The exit status for the command can be interpreted\n",
      "        according to the rules for the function 'wait'. Example:\n",
      "        \n",
      "        >>> import subprocess\n",
      "        >>> subprocess.getstatusoutput('ls /bin/ls')\n",
      "        (0, '/bin/ls')\n",
      "        >>> subprocess.getstatusoutput('cat /bin/junk')\n",
      "        (1, 'cat: /bin/junk: No such file or directory')\n",
      "        >>> subprocess.getstatusoutput('/bin/junk')\n",
      "        (127, 'sh: /bin/junk: not found')\n",
      "        >>> subprocess.getstatusoutput('/bin/kill $$')\n",
      "        (-15, '')\n",
      "    \n",
      "    run(*popenargs, input=None, capture_output=False, timeout=None, check=False, **kwargs)\n",
      "        Run command with arguments and return a CompletedProcess instance.\n",
      "        \n",
      "        The returned instance will have attributes args, returncode, stdout and\n",
      "        stderr. By default, stdout and stderr are not captured, and those attributes\n",
      "        will be None. Pass stdout=PIPE and/or stderr=PIPE in order to capture them,\n",
      "        or pass capture_output=True to capture both.\n",
      "        \n",
      "        If check is True and the exit code was non-zero, it raises a\n",
      "        CalledProcessError. The CalledProcessError object will have the return code\n",
      "        in the returncode attribute, and output & stderr attributes if those streams\n",
      "        were captured.\n",
      "        \n",
      "        If timeout is given, and the process takes too long, a TimeoutExpired\n",
      "        exception will be raised.\n",
      "        \n",
      "        There is an optional argument \"input\", allowing you to\n",
      "        pass bytes or a string to the subprocess's stdin.  If you use this argument\n",
      "        you may not also use the Popen constructor's \"stdin\" argument, as\n",
      "        it will be used internally.\n",
      "        \n",
      "        By default, all communication is in bytes, and therefore any \"input\" should\n",
      "        be bytes, and the stdout and stderr will be bytes. If in text mode, any\n",
      "        \"input\" should be a string, and stdout and stderr will be strings decoded\n",
      "        according to locale encoding, or by \"encoding\" if set. Text mode is\n",
      "        triggered by setting any of text, encoding, errors or universal_newlines.\n",
      "        \n",
      "        The other arguments are the same as for the Popen constructor.\n",
      "\n",
      "DATA\n",
      "    DEVNULL = -3\n",
      "    PIPE = -1\n",
      "    STDOUT = -2\n",
      "    __all__ = ['Popen', 'PIPE', 'STDOUT', 'call', 'check_call', 'getstatus...\n",
      "\n",
      "FILE\n",
      "    /opt/anaconda3/envs/oop/lib/python3.10/subprocess.py\n",
      "\n",
      "\n"
     ]
    }
   ],
   "source": [
    "help(subprocess)"
   ]
  },
  {
   "cell_type": "code",
   "execution_count": 9,
   "id": "713134f7",
   "metadata": {},
   "outputs": [
    {
     "name": "stdout",
     "output_type": "stream",
     "text": [
      "git version 2.37.1 (Apple Git-137.1)\n"
     ]
    }
   ],
   "source": [
    "ret_val = subprocess.call(cmd, shell=True)"
   ]
  },
  {
   "cell_type": "code",
   "execution_count": 14,
   "id": "b1ba27f1",
   "metadata": {},
   "outputs": [],
   "source": [
    "# providing list as command is recommended\n",
    "output = subprocess.check_output(['git --version'], shell=True)"
   ]
  },
  {
   "cell_type": "code",
   "execution_count": 15,
   "id": "51fefab2",
   "metadata": {},
   "outputs": [
    {
     "data": {
      "text/plain": [
       "b'git version 2.37.1 (Apple Git-137.1)\\n'"
      ]
     },
     "execution_count": 15,
     "metadata": {},
     "output_type": "execute_result"
    }
   ],
   "source": [
    "output"
   ]
  },
  {
   "cell_type": "code",
   "execution_count": 28,
   "id": "95047402",
   "metadata": {},
   "outputs": [
    {
     "name": "stdout",
     "output_type": "stream",
     "text": [
      "b'git version 2.37.1 (Apple Git-137.1)\\n'\n"
     ]
    }
   ],
   "source": [
    "# print the output binary in ASCII\n",
    "print(output)"
   ]
  },
  {
   "cell_type": "code",
   "execution_count": 29,
   "id": "51515268",
   "metadata": {},
   "outputs": [
    {
     "name": "stdout",
     "output_type": "stream",
     "text": [
      "103 105 116 32 118 101 114 115 105 111 110 32 50 46 51 55 46 49 32 40 65 112 112 108 101 32 71 105 116 45 49 51 55 46 49 41 10\n"
     ]
    }
   ],
   "source": [
    "print(*output)"
   ]
  },
  {
   "cell_type": "code",
   "execution_count": 27,
   "id": "277cc25c",
   "metadata": {},
   "outputs": [
    {
     "name": "stdout",
     "output_type": "stream",
     "text": [
      "git version 2.37.1 (Apple Git-137.1)\n",
      "\n"
     ]
    }
   ],
   "source": [
    "# print the returned binary as a utf-8 encoded string\n",
    "print(output.decode('utf-8'))"
   ]
  },
  {
   "cell_type": "code",
   "execution_count": 22,
   "id": "6611886b",
   "metadata": {},
   "outputs": [
    {
     "data": {
      "text/plain": [
       "b'total 2400\\n-rw-r--r--   1 rbasnet  AD\\\\Domain Users    2081 Jan 31 09:55 00-TableOfContents.ipynb\\n-rw-r--r--   1 rbasnet  AD\\\\Domain Users  111467 Jan 22 22:00 ABCOperatorOverloading.ipynb\\n-rw-r--r--   1 rbasnet  AD\\\\Domain Users    5373 Jan 24 11:17 AdvancedDesignPatterns.ipynb\\n-rw-r--r--   1 rbasnet  AD\\\\Domain Users   44863 Jan 23 20:24 CommonDesignPatterns.ipynb\\n-rw-r--r--   1 rbasnet  AD\\\\Domain Users   36389 Jan 15 11:04 ExpectingTheUnexpected.ipynb\\n-rw-r--r--   1 rbasnet  AD\\\\Domain Users  447158 Jan 18 11:28 IntersectionOfOOPAndFunctionalProgramming.ipynb\\n-rw-r--r--   1 rbasnet  AD\\\\Domain Users   17195 Jan 19 21:25 IteratorPattern.ipynb\\n-rw-r--r--   1 rbasnet  AD\\\\Domain Users    1067 Jan  2 13:54 LICENSE\\n-rw-r--r--   1 rbasnet  AD\\\\Domain Users   12029 Jan 31 09:51 ObjectOrientedDesign.ipynb\\n-rw-r--r--   1 rbasnet  AD\\\\Domain Users  115715 Jan 31 09:53 PythonDataStructures.ipynb\\n-rw-r--r--   1 rbasnet  AD\\\\Domain Users   35299 Jan 31 09:57 PythonObjects.ipynb\\n-rw-r--r--   1 rbasnet  AD\\\\Domain Users    3357 Jan 26 14:08 README.md\\n-rw-r--r--   1 rbasnet  AD\\\\Domain Users   70339 Jan 19 10:39 SerializationAndJSON.ipynb\\n-rw-r--r--   1 rbasnet  AD\\\\Domain Users   20597 Jan 18 08:29 TestDataGeneration.ipynb\\n-rw-r--r--   1 rbasnet  AD\\\\Domain Users  108418 Jan 17 13:12 TestingMockingPatching.ipynb\\n-rw-r--r--   1 rbasnet  AD\\\\Domain Users   13787 Jan 18 12:06 TestingOOP.ipynb\\n-rw-r--r--   1 rbasnet  AD\\\\Domain Users   48082 Jan 31 10:38 Tools-Python-Review.ipynb\\n-rw-r--r--   1 rbasnet  AD\\\\Domain Users   49481 Jan 18 19:10 WhenObjectsAreAlike.ipynb\\n-rw-r--r--   1 rbasnet  AD\\\\Domain Users   27112 Jan 31 10:19 WhenToUseOOP.ipynb\\ndrwxr-xr-x   6 rbasnet  AD\\\\Domain Users     192 Jan 19 20:55 \\x1b[1m\\x1b[36mdata\\x1b[m\\x1b[m\\n-rw-r--r--   1 rbasnet  AD\\\\Domain Users     152 Jan 21 15:52 demo.log\\n-rw-r--r--   1 rbasnet  AD\\\\Domain Users      19 Jan 18 10:51 filename.txt\\n-rw-r--r--   1 rbasnet  AD\\\\Domain Users     100 Jan 18 12:49 pickled_list\\n-rw-r--r--   1 rbasnet  AD\\\\Domain Users     100 Jan 18 12:50 pickled_list.pkl\\ndrwxr-xr-x   8 rbasnet  AD\\\\Domain Users     256 Jan 24 11:08 \\x1b[1m\\x1b[36mplantuml\\x1b[m\\x1b[m\\ndrwxr-xr-x  24 rbasnet  AD\\\\Domain Users     768 Jan 31 09:49 \\x1b[1m\\x1b[36mresources\\x1b[m\\x1b[m\\ndrwxr-xr-x  11 rbasnet  AD\\\\Domain Users     352 Jan 31 09:37 \\x1b[1m\\x1b[36msrc\\x1b[m\\x1b[m\\ndrwxr-xr-x   5 rbasnet  AD\\\\Domain Users     160 Jan  4 12:36 \\x1b[1m\\x1b[36mtools\\x1b[m\\x1b[m\\n'"
      ]
     },
     "execution_count": 22,
     "metadata": {},
     "output_type": "execute_result"
    }
   ],
   "source": [
    "import sys\n",
    "# providing list as command is recommended\n",
    "subprocess.check_output([\"/bin/sh\", \"-c\", \"ls -l; exit 0\"], \n",
    "             stderr=sys.stdout)"
   ]
  },
  {
   "cell_type": "markdown",
   "id": "6e3697d2",
   "metadata": {},
   "source": [
    "## Exercise\n",
    "\n",
    "- Complete the following quizzes from: https://realpython.com/quizzes/\n",
    "- Take the screenshot of the first attempt. Take the screenshot of the final attempt when you receive 100%\n",
    "\n",
    "1. Basic Data Types in Python ( https://realpython.com/quizzes/python-data-types/) \n",
    "2. How to Run Your Python Scrpts (https://realpython.com/quizzes/run-python-scripts/)\n",
    "3. Python Basics: Code Your First Python Program - https://realpython.com/quizzes/python-basics-first-program/\n",
    "4. Python Basics: Conditional Logic and Control Flow (https://realpython.com/quizzes/python-basics-conditional-logic-and-control-flow/)\n",
    "5. Python Basics: Dictionaries - https://realpython.com/quizzes/python-basics-dictionaries/\n",
    "6. Python Basics: Functions and Loops - https://realpython.com/quizzes/python-basics-functions-and-loops/\n",
    "7. Python Basics: Numbers and Math - https://realpython.com/quizzes/python-basics-numbers-and-math/\n",
    "8. Python Basics: Scopes - https://realpython.com/quizzes/python-basics-scopes/\n",
    "9. Python Basics: Strings and String Methods - https://realpython.com/quizzes/python-basics-strings-and-string-methods/\n",
    "10. Python Basics: Python Lists and Tuples - https://realpython.com/quizzes/python-lists-tuples/\n",
    "11. Python Operators and Expressions - https://realpython.com/quizzes/python-operators-expressions/\n",
    "12. Python f-String: https://realpython.com/quizzes/f-strings/\n",
    "13. HTTP Requests with \"requests\" Library - https://realpython.com/quizzes/python-requests/\n"
   ]
  },
  {
   "cell_type": "code",
   "execution_count": null,
   "id": "e94845e1",
   "metadata": {},
   "outputs": [],
   "source": []
  }
 ],
 "metadata": {
  "kernelspec": {
   "display_name": "Python 3 (ipykernel)",
   "language": "python",
   "name": "python3"
  },
  "language_info": {
   "codemirror_mode": {
    "name": "ipython",
    "version": 3
   },
   "file_extension": ".py",
   "mimetype": "text/x-python",
   "name": "python",
   "nbconvert_exporter": "python",
   "pygments_lexer": "ipython3",
   "version": "3.10.9"
  }
 },
 "nbformat": 4,
 "nbformat_minor": 5
}
