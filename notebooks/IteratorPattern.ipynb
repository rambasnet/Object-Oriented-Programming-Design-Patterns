{
 "cells": [
  {
   "cell_type": "markdown",
   "id": "d4b9dc4e",
   "metadata": {},
   "source": [
    "# Iterator Pattern\n",
    "\n",
    "- Topics\n",
    "    - what design patterns are\n",
    "    - the iterator protocol\n",
    "    - list, set, and dictionary comprehensions\n",
    "    - generator functions, and how they build on other patterns"
   ]
  },
  {
   "cell_type": "markdown",
   "id": "93cc0463",
   "metadata": {},
   "source": [
    "## Design patterns\n",
    "\n",
    "- analogy is engineers and architects designing to build bridges, towers, buildints and physical structures\n",
    "    - they follow certain principles to ensure structural integrity\n",
    "- design patterns are an attempt to bring this formal definition to software engineering\n",
    "- design patterns are applied to solve a common problem faced by developers in some specific situations\n",
    "    - a suggestion as to to the ideal solution for a problem, in terms of OOD\n",
    "- central to a pattern is that it is reused often in unique contexts\n",
    "    - one clever solution is a good idea\n",
    "    - two similar solutions might be a coincidence\n",
    "    - three or more reuses of an idea starts to look like a repeating pattern\n",
    "- knowing design patterns and choosing to use them in our software doesn't guarantee a *correct* solution\n",
    "    - in 1907, the Quebec Bridge collapsed before construction was completed\n",
    "   \n",
    "## Iterators\n",
    "\n",
    "- one of the most powerful design patterns\n",
    "- for loop (the foundational concept of programming) is a light weight wrapper around a set of object-oriented principles\n",
    "- **iterator** is an object with a `next()` and a `done()` methods\n",
    "- general idea of iterators without using iterators is as follows:\n",
    "\n",
    "```python\n",
    "while not iterator.done():\n",
    "    item = iterator.next()\n",
    "    # do something with the item\n",
    "```\n",
    "\n",
    "- iterators are objects with `__next__()` method that is called using `next(iterator)` built-in\n",
    "- raises `StopIteration` exception to notify the client that the iterator has completed\n",
    "\n",
    "## Iterator protocol\n",
    "\n",
    "- `Iterator` abstract base class, in the `collections.abc` module, defines the *iterator* protocol\n",
    "- the following diagram depicts the hierarchy of iterator protocol:\n",
    "![Iterator Protocol](resources/iterator_abstraction.png)"
   ]
  },
  {
   "cell_type": "code",
   "execution_count": 2,
   "id": "2eb1e362",
   "metadata": {},
   "outputs": [
    {
     "name": "stdout",
     "output_type": "stream",
     "text": [
      "range(0, 20)\n"
     ]
    }
   ],
   "source": [
    "print(range(20))"
   ]
  },
  {
   "cell_type": "code",
   "execution_count": 3,
   "id": "7a316bcc",
   "metadata": {},
   "outputs": [
    {
     "name": "stdout",
     "output_type": "stream",
     "text": [
      "1\n",
      "3\n",
      "5\n",
      "7\n",
      "9\n",
      "11\n",
      "13\n",
      "15\n",
      "17\n",
      "19\n"
     ]
    }
   ],
   "source": [
    "for i in range(1, 20, 2):\n",
    "    print(i)"
   ]
  },
  {
   "cell_type": "code",
   "execution_count": 4,
   "id": "eed29d0b",
   "metadata": {},
   "outputs": [],
   "source": [
    "# example of how an iterable is implemented in a detailed and verbose way...\n",
    "from typing import Iterable, Iterator\n",
    "\n",
    "# create an Iterable class that we can iterate over\n",
    "class CapitalIterable(Iterable[str]):\n",
    "    def __init__(self, string: str) -> None:\n",
    "        self.string = string\n",
    "        \n",
    "    def __iter__(self) -> Iterator[str]:\n",
    "        return CapitalIterator(self.string)"
   ]
  },
  {
   "cell_type": "code",
   "execution_count": 5,
   "id": "17ffcee3",
   "metadata": {},
   "outputs": [],
   "source": [
    "class CapitalIterator(Iterator[str]):\n",
    "    def __init__(self, string: str) -> None:\n",
    "        # for char of each word is capitalized\n",
    "        self.words = [w.capitalize() for w in string.split()]\n",
    "        self.index = 0\n",
    "        \n",
    "    def __next__(self) -> str:\n",
    "        if self.index == len(self.words):\n",
    "            raise StopIteration()\n",
    "        \n",
    "        word = self.words[self.index]\n",
    "        self.index += 1\n",
    "        return word"
   ]
  },
  {
   "cell_type": "code",
   "execution_count": 9,
   "id": "38de566a",
   "metadata": {},
   "outputs": [],
   "source": [
    "iterable = CapitalIterable('the quick brown fox jumps over the lazy dog')"
   ]
  },
  {
   "cell_type": "code",
   "execution_count": 10,
   "id": "19766c39",
   "metadata": {},
   "outputs": [],
   "source": [
    "iterator = iter(iterable)"
   ]
  },
  {
   "cell_type": "code",
   "execution_count": 11,
   "id": "4a1f1764",
   "metadata": {},
   "outputs": [
    {
     "name": "stdout",
     "output_type": "stream",
     "text": [
      "The\n",
      "Quick\n",
      "Brown\n",
      "Fox\n",
      "Jumps\n",
      "Over\n",
      "The\n",
      "Lazy\n",
      "Dog\n"
     ]
    }
   ],
   "source": [
    "while True:\n",
    "    try:\n",
    "        print(next(iterator))\n",
    "    except StopIteration:\n",
    "        break"
   ]
  },
  {
   "cell_type": "code",
   "execution_count": 12,
   "id": "064d6568",
   "metadata": {},
   "outputs": [
    {
     "name": "stdout",
     "output_type": "stream",
     "text": [
      "The\n",
      "Quick\n",
      "Brown\n",
      "Fox\n",
      "Jumps\n",
      "Over\n",
      "The\n",
      "Lazy\n",
      "Dog\n"
     ]
    }
   ],
   "source": [
    "# behind the scene, for loop uses iterator OOD pattern\n",
    "for word in iterable:\n",
    "    print(word)"
   ]
  },
  {
   "cell_type": "markdown",
   "id": "90513d7a",
   "metadata": {},
   "source": [
    "## Comprehensions\n",
    "- comphrehensions are simple, but powerful, syntaxes that allow us to transform or filter an iterable object\n",
    "- the result can be list, set, or dictionary or a *generator expression*\n",
    "\n",
    "### List comprehension\n",
    "- one of the most powerful and fundamental tools in Python\n",
    "- can be very useful in solving a lot of real-world software applications as well as Kattis problems"
   ]
  },
  {
   "cell_type": "code",
   "execution_count": 13,
   "id": "9b5dd022",
   "metadata": {},
   "outputs": [
    {
     "name": "stdout",
     "output_type": "stream",
     "text": [
      "Enter some numbers separated by space: 1 2 10 15 11\n"
     ]
    }
   ],
   "source": [
    "numbers = input('Enter some integers separated by space: ')"
   ]
  },
  {
   "cell_type": "code",
   "execution_count": 14,
   "id": "de33d58e",
   "metadata": {},
   "outputs": [
    {
     "data": {
      "text/plain": [
       "'1 2 10 15 11'"
      ]
     },
     "execution_count": 14,
     "metadata": {},
     "output_type": "execute_result"
    }
   ],
   "source": [
    "numbers"
   ]
  },
  {
   "cell_type": "code",
   "execution_count": 15,
   "id": "ea6e62fa",
   "metadata": {},
   "outputs": [],
   "source": [
    "lst_numbers = numbers.split()"
   ]
  },
  {
   "cell_type": "code",
   "execution_count": 17,
   "id": "146c35d5",
   "metadata": {},
   "outputs": [
    {
     "data": {
      "text/plain": [
       "['1', '2', '10', '15', '11']"
      ]
     },
     "execution_count": 17,
     "metadata": {},
     "output_type": "execute_result"
    }
   ],
   "source": [
    "lst_numbers"
   ]
  },
  {
   "cell_type": "code",
   "execution_count": 19,
   "id": "cab143e6",
   "metadata": {},
   "outputs": [],
   "source": [
    "lst_integers = [int(num) for num in lst_numbers]"
   ]
  },
  {
   "cell_type": "code",
   "execution_count": 20,
   "id": "af8b903d",
   "metadata": {},
   "outputs": [
    {
     "data": {
      "text/plain": [
       "[1, 2, 10, 15, 11]"
      ]
     },
     "execution_count": 20,
     "metadata": {},
     "output_type": "execute_result"
    }
   ],
   "source": [
    "lst_integers"
   ]
  },
  {
   "cell_type": "code",
   "execution_count": 22,
   "id": "6da4937a",
   "metadata": {},
   "outputs": [],
   "source": [
    "# another technique using map iterators\n",
    "integers = list(map(int, lst_numbers))"
   ]
  },
  {
   "cell_type": "code",
   "execution_count": 23,
   "id": "05e5bc92",
   "metadata": {},
   "outputs": [
    {
     "data": {
      "text/plain": [
       "[1, 2, 10, 15, 11]"
      ]
     },
     "execution_count": 23,
     "metadata": {},
     "output_type": "execute_result"
    }
   ],
   "source": [
    "integers"
   ]
  },
  {
   "cell_type": "markdown",
   "id": "119df0e3",
   "metadata": {},
   "source": [
    "## Generator expressions\n",
    "\n",
    "- sometimes we want to process a large sequence without creating a new list, set or dictionary data structures in memory\n",
    "    - having all the contents in some data structure in memory may not be needed\n",
    "    - it can be CPU and memory intensive\n",
    "- e.g., processing a large log file and looking for specific information\n",
    "    - finding max, min, range, average, etc. of a large list of numbers\n",
    "- generator expression uses the same syntax as comphrehensions; but they don't create a final container object\n",
    "    - called **lazy** evaluation; reluctantly produce values on demand\n",
    "- to create a generator expression, warp the comprehension in `( )` INSTEAD of `[ ]` or `{ }`\n",
    "- wrapping a generator in `{ }` creates a set\n",
    "- warpping a generator in `{ : }` creaes a dict\n",
    "- warpping a generator in `[ ]` creates a list\n",
    "- wrapping a generator in `( )` creates a generator expression NOT a tuple"
   ]
  },
  {
   "cell_type": "code",
   "execution_count": 24,
   "id": "3023fced",
   "metadata": {},
   "outputs": [],
   "source": [
    "numbers = ['1', '10', '5', '5', '11', '1']"
   ]
  },
  {
   "cell_type": "code",
   "execution_count": 25,
   "id": "4c4119bd",
   "metadata": {},
   "outputs": [],
   "source": [
    "set_ints = {int(n) for n in numbers}"
   ]
  },
  {
   "cell_type": "code",
   "execution_count": 26,
   "id": "886b8e36",
   "metadata": {},
   "outputs": [
    {
     "data": {
      "text/plain": [
       "{1, 5, 10, 11}"
      ]
     },
     "execution_count": 26,
     "metadata": {},
     "output_type": "execute_result"
    }
   ],
   "source": [
    "set_ints"
   ]
  },
  {
   "cell_type": "code",
   "execution_count": 28,
   "id": "fa97938f",
   "metadata": {},
   "outputs": [],
   "source": [
    "# converting a list into dictionary\n",
    "# create a dictionary using index as key and value as value\n",
    "some_dict = {i: v for i, v in enumerate(numbers)}"
   ]
  },
  {
   "cell_type": "code",
   "execution_count": 29,
   "id": "f07c8528",
   "metadata": {},
   "outputs": [
    {
     "data": {
      "text/plain": [
       "{0: '1', 1: '10', 2: '5', 3: '5', 4: '11', 5: '1'}"
      ]
     },
     "execution_count": 29,
     "metadata": {},
     "output_type": "execute_result"
    }
   ],
   "source": [
    "some_dict"
   ]
  },
  {
   "cell_type": "code",
   "execution_count": 40,
   "id": "d7b0f087",
   "metadata": {},
   "outputs": [],
   "source": [
    "# creating a generator expression\n",
    "int_gen = (int(n) for n in numbers)"
   ]
  },
  {
   "cell_type": "code",
   "execution_count": 41,
   "id": "1e8e2e04",
   "metadata": {},
   "outputs": [
    {
     "data": {
      "text/plain": [
       "<generator object <genexpr> at 0x7fbc565c6f80>"
      ]
     },
     "execution_count": 41,
     "metadata": {},
     "output_type": "execute_result"
    }
   ],
   "source": [
    "int_gen"
   ]
  },
  {
   "cell_type": "code",
   "execution_count": 42,
   "id": "06040ad6",
   "metadata": {},
   "outputs": [
    {
     "data": {
      "text/plain": [
       "1"
      ]
     },
     "execution_count": 42,
     "metadata": {},
     "output_type": "execute_result"
    }
   ],
   "source": [
    "# let's get the next integer\n",
    "next(int_gen)"
   ]
  },
  {
   "cell_type": "code",
   "execution_count": 43,
   "id": "6c700393",
   "metadata": {},
   "outputs": [
    {
     "name": "stdout",
     "output_type": "stream",
     "text": [
      "10 100\n",
      "5 25\n",
      "5 25\n",
      "11 121\n",
      "1 1\n"
     ]
    }
   ],
   "source": [
    "for n in int_gen:\n",
    "    print(n, n**2)"
   ]
  },
  {
   "cell_type": "code",
   "execution_count": 4,
   "id": "0cbd73fa",
   "metadata": {},
   "outputs": [],
   "source": [
    "# let's look at a more useful example\n",
    "from pathlib import Path"
   ]
  },
  {
   "cell_type": "code",
   "execution_count": 5,
   "id": "800548c6",
   "metadata": {},
   "outputs": [
    {
     "name": "stdout",
     "output_type": "stream",
     "text": [
      "Apr 05, 2021 20:03:29 DEBUG This is a debugging message.\r\n",
      "Apr 05, 2021 20:03:41 INFO This is an information method.\r\n",
      "Apr 05, 2021 20:03:53 WARNING This is a warning. It could be serious.\r\n",
      "Apr 05, 2021 20:03:59 WARNING Another warning sent.\r\n",
      "Apr 05, 2021 20:04:05 INFO Here's some information.\r\n",
      "Apr 05, 2021 20:04:17 DEBUG Debug messages are only useful if you want\r\n",
      "to figure something out.\r\n",
      "Apr 05, 2021 20:04:29 INFO Information is usually harmless, but\r\n",
      "helpful.\r\n",
      "Apr 05, 2021 20:04:35 WARNING Warnings should be heeded.\r\n",
      "Apr 05, 2021 20:04:41 WARNING Watch for warnings.\r\n"
     ]
    }
   ],
   "source": [
    "! cat data/system.log"
   ]
  },
  {
   "cell_type": "code",
   "execution_count": 6,
   "id": "099cf03e",
   "metadata": {},
   "outputs": [],
   "source": [
    "full_log_path = Path.cwd() / \"data\" / \"system.log\""
   ]
  },
  {
   "cell_type": "code",
   "execution_count": 7,
   "id": "6d435682",
   "metadata": {},
   "outputs": [],
   "source": [
    "# create a log file containing power keyword\n",
    "warn_log_path = Path.cwd() / \"data\" / \"warn.log\""
   ]
  },
  {
   "cell_type": "code",
   "execution_count": 8,
   "id": "109f5b3b",
   "metadata": {},
   "outputs": [
    {
     "data": {
      "text/plain": [
       "PosixPath('/Users/rbasnet/Sp23/OOP/Python-Object-Oriented-Programming/data/system.log')"
      ]
     },
     "execution_count": 8,
     "metadata": {},
     "output_type": "execute_result"
    }
   ],
   "source": [
    "full_log_path"
   ]
  },
  {
   "cell_type": "code",
   "execution_count": 9,
   "id": "05760ea0",
   "metadata": {},
   "outputs": [],
   "source": [
    "with full_log_path.open() as source:\n",
    "    power_lines = (line for line in source if 'WARN' in line)\n",
    "    with warn_log_path.open('w') as target:\n",
    "        for line in power_lines:\n",
    "            target.write(line)"
   ]
  },
  {
   "cell_type": "code",
   "execution_count": 10,
   "id": "c9f24cac",
   "metadata": {},
   "outputs": [
    {
     "name": "stdout",
     "output_type": "stream",
     "text": [
      "Apr 05, 2021 20:03:53 WARNING This is a warning. It could be serious.\r\n",
      "Apr 05, 2021 20:03:59 WARNING Another warning sent.\r\n",
      "Apr 05, 2021 20:04:35 WARNING Warnings should be heeded.\r\n",
      "Apr 05, 2021 20:04:41 WARNING Watch for warnings.\r\n"
     ]
    }
   ],
   "source": [
    "! cat data/warn.log"
   ]
  },
  {
   "cell_type": "markdown",
   "id": "981fc3d7",
   "metadata": {},
   "source": [
    "## Generator functions\n",
    "\n",
    "- generator functions embody the essential features of a generator expression, which is the generalization of a comprehension\n",
    "- use regular expression to parse line into different columns of values\n",
    "- special functions that return an iterator which returns a stream of values\n",
    "- resumable functions that can retain local variable information to resume the function where it left off\n",
    "- uses `yield` keyword to yield the next value as opposed to `return`\n",
    "    - when `yield` is reached, the generator's state of execution is suspended and local variables are preserved\n",
    "- `next(genObject)` calls the built_in `__next__()` method to resume executing, when the function is called again\n",
    "- similar in concept to `range()`, however it returns list iterator object "
   ]
  },
  {
   "cell_type": "code",
   "execution_count": 11,
   "id": "b78b032f",
   "metadata": {},
   "outputs": [],
   "source": [
    "def generate_ints(N):\n",
    "    for i in range(N):\n",
    "        yield i # this makes the function a generator!"
   ]
  },
  {
   "cell_type": "code",
   "execution_count": 12,
   "id": "feae721f",
   "metadata": {},
   "outputs": [],
   "source": [
    "gen = generate_ints(10)"
   ]
  },
  {
   "cell_type": "code",
   "execution_count": 13,
   "id": "3aeaf6d1",
   "metadata": {},
   "outputs": [
    {
     "name": "stdout",
     "output_type": "stream",
     "text": [
      "<generator object generate_ints at 0x7f917bf75e70>\n"
     ]
    }
   ],
   "source": [
    "print(gen)"
   ]
  },
  {
   "cell_type": "code",
   "execution_count": 14,
   "id": "fb3a6f37",
   "metadata": {},
   "outputs": [
    {
     "data": {
      "text/plain": [
       "0"
      ]
     },
     "execution_count": 14,
     "metadata": {},
     "output_type": "execute_result"
    }
   ],
   "source": [
    "next(gen)"
   ]
  },
  {
   "cell_type": "code",
   "execution_count": 15,
   "id": "061c5a1a",
   "metadata": {},
   "outputs": [
    {
     "data": {
      "text/plain": [
       "1"
      ]
     },
     "execution_count": 15,
     "metadata": {},
     "output_type": "execute_result"
    }
   ],
   "source": [
    "next(gen)"
   ]
  },
  {
   "cell_type": "code",
   "execution_count": 16,
   "id": "9ac938f8",
   "metadata": {},
   "outputs": [
    {
     "name": "stdout",
     "output_type": "stream",
     "text": [
      "2\n",
      "3\n",
      "4\n",
      "5\n",
      "6\n",
      "7\n",
      "8\n",
      "9\n"
     ]
    }
   ],
   "source": [
    "# iterate over the next of the values\n",
    "for n in gen:\n",
    "    print(n)"
   ]
  },
  {
   "cell_type": "code",
   "execution_count": 62,
   "id": "e0839d38",
   "metadata": {},
   "outputs": [],
   "source": [
    "# function reads full_log_path and writes all the WARNING logs to warning_log_path\n",
    "import csv\n",
    "import re\n",
    "from pathlib import Path\n",
    "\n",
    "from typing import Match, cast\n",
    "\n",
    "# regular function without iterator\n",
    "def extract_and_parse(\n",
    "        full_log_path: Path, warning_log_path: Path\n",
    "        ) -> None:\n",
    "    with warning_log_path.open(\"w\") as target:\n",
    "        writer = csv.writer(target, delimiter=\"\\t\")\n",
    "        pattern = re.compile(\n",
    "            # Apr 05, 2021 20:04:41\n",
    "            r\"(\\w\\w\\w \\d\\d, \\d\\d\\d\\d \\d\\d:\\d\\d:\\d\\d) (\\w+) (.*)\")\n",
    "        with full_log_path.open() as source:\n",
    "            for line in source:\n",
    "                if \"WARN\" in line:\n",
    "                    line_groups = cast(Match[str], pattern.match(line)).groups()\n",
    "                    writer.writerow(line_groups)\n",
    "                        "
   ]
  },
  {
   "cell_type": "code",
   "execution_count": 63,
   "id": "5e9a4f70",
   "metadata": {},
   "outputs": [],
   "source": [
    "# create a log file containing WARNING keyword\n",
    "warn1_log_path = Path.cwd() / \"data\" / \"warn1.log\""
   ]
  },
  {
   "cell_type": "code",
   "execution_count": 64,
   "id": "f59c672d",
   "metadata": {},
   "outputs": [],
   "source": [
    "extract_and_parse(full_log_path, warn1_log_path)"
   ]
  },
  {
   "cell_type": "code",
   "execution_count": 65,
   "id": "e6f43c5f",
   "metadata": {},
   "outputs": [
    {
     "name": "stdout",
     "output_type": "stream",
     "text": [
      "Apr 05, 2021 20:03:53\tWARNING\tThis is a warning. It could be serious.\r",
      "\r\n",
      "Apr 05, 2021 20:03:59\tWARNING\tAnother warning sent.\r",
      "\r\n",
      "Apr 05, 2021 20:04:35\tWARNING\tWarnings should be heeded.\r",
      "\r\n",
      "Apr 05, 2021 20:04:41\tWARNING\tWatch for warnings.\r",
      "\r\n"
     ]
    }
   ],
   "source": [
    "! cat data/warn1.log"
   ]
  },
  {
   "cell_type": "code",
   "execution_count": 74,
   "id": "e7f955d9",
   "metadata": {},
   "outputs": [],
   "source": [
    "from typing import Iterable, Sequence, Iterator\n",
    "\n",
    "# generator function\n",
    "def warnings_filter(source: Iterable[str]) -> Iterator[Sequence[str]]:\n",
    "    pattern = re.compile(\n",
    "        r\"(\\w\\w\\w \\d\\d, \\d\\d\\d\\d \\d\\d:\\d\\d:\\d\\d) (\\w+) (.*)\")\n",
    "    for line in source:\n",
    "        if match := pattern.match(line):\n",
    "            if \"WARN\" in match.group(2):\n",
    "                yield match.groups()"
   ]
  },
  {
   "cell_type": "code",
   "execution_count": 75,
   "id": "593f12f2",
   "metadata": {},
   "outputs": [
    {
     "name": "stdout",
     "output_type": "stream",
     "text": [
      "('Apr 05, 2021 20:03:53', 'WARNING', 'This is a warning. It could be serious.')\n",
      "('Apr 05, 2021 20:03:59', 'WARNING', 'Another warning sent.')\n",
      "('Apr 05, 2021 20:04:35', 'WARNING', 'Warnings should be heeded.')\n",
      "('Apr 05, 2021 20:04:41', 'WARNING', 'Watch for warnings.')\n"
     ]
    }
   ],
   "source": [
    "for t in warnings_filter(full_log_path.open()):\n",
    "    print(t)"
   ]
  },
  {
   "cell_type": "code",
   "execution_count": 76,
   "id": "d3d9a481",
   "metadata": {},
   "outputs": [],
   "source": [
    "# the same can be achieved by comprehension short-cut\n",
    "# generator expression\n",
    "source = full_log_path.open()\n",
    "pattern = re.compile(\n",
    "        r\"(\\w\\w\\w \\d\\d, \\d\\d\\d\\d \\d\\d:\\d\\d:\\d\\d) (\\w+) (.*)\")\n",
    "warnings_filter_gen = (\n",
    "    tuple(cast(Match[str], pattern.match(line)).groups())\n",
    "    for line in source\n",
    "    if \"WARN\" in line\n",
    ")"
   ]
  },
  {
   "cell_type": "code",
   "execution_count": 77,
   "id": "f5507f52",
   "metadata": {},
   "outputs": [
    {
     "data": {
      "text/plain": [
       "('Apr 05, 2021 20:03:53', 'WARNING', 'This is a warning. It could be serious.')"
      ]
     },
     "execution_count": 77,
     "metadata": {},
     "output_type": "execute_result"
    }
   ],
   "source": [
    "next(warnings_filter_gen)"
   ]
  },
  {
   "cell_type": "code",
   "execution_count": 78,
   "id": "cfc039df",
   "metadata": {},
   "outputs": [
    {
     "data": {
      "text/plain": [
       "('Apr 05, 2021 20:03:59', 'WARNING', 'Another warning sent.')"
      ]
     },
     "execution_count": 78,
     "metadata": {},
     "output_type": "execute_result"
    }
   ],
   "source": [
    "next(warnings_filter_gen)"
   ]
  },
  {
   "cell_type": "code",
   "execution_count": 79,
   "id": "2ee1f986",
   "metadata": {},
   "outputs": [
    {
     "name": "stdout",
     "output_type": "stream",
     "text": [
      "('Apr 05, 2021 20:04:35', 'WARNING', 'Warnings should be heeded.')\n",
      "('Apr 05, 2021 20:04:41', 'WARNING', 'Watch for warnings.')\n"
     ]
    }
   ],
   "source": [
    "for t in warnings_filter_gen:\n",
    "    print(t)"
   ]
  },
  {
   "cell_type": "code",
   "execution_count": null,
   "id": "19fa29db",
   "metadata": {},
   "outputs": [],
   "source": []
  }
 ],
 "metadata": {
  "kernelspec": {
   "display_name": "Python 3 (ipykernel)",
   "language": "python",
   "name": "python3"
  },
  "language_info": {
   "codemirror_mode": {
    "name": "ipython",
    "version": 3
   },
   "file_extension": ".py",
   "mimetype": "text/x-python",
   "name": "python",
   "nbconvert_exporter": "python",
   "pygments_lexer": "ipython3",
   "version": "3.10.9"
  }
 },
 "nbformat": 4,
 "nbformat_minor": 5
}
