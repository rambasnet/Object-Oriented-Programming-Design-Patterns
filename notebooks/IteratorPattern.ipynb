{
 "cells": [
  {
   "cell_type": "markdown",
   "id": "d4b9dc4e",
   "metadata": {},
   "source": [
    "# Iterator Pattern\n",
    "\n",
    "- Topics\n",
    "    - what design patterns are\n",
    "    - the iterator protocol\n",
    "    - list, set, and dictionary comprehensions\n",
    "    - generator functions, and how they build on other patterns"
   ]
  },
  {
   "cell_type": "markdown",
   "id": "93cc0463",
   "metadata": {},
   "source": [
    "## Design patterns\n",
    "\n",
    "- the analogy: engineers and architects designing to build bridges, towers, buildings, and physical structures\n",
    "    - they follow certain principles to ensure structural integrity\n",
    "- design patterns are an attempt to bring this formal definition to software engineering\n",
    "- design patterns are applied to solve a common problem faced by developers in some specific situations\n",
    "    - a suggestion as to the ideal solution for a problem, in terms of OOD\n",
    "- central to a pattern is that it is reused often in unique contexts\n",
    "    - one clever solution is a good idea\n",
    "    - two similar solutions might be a coincidence\n",
    "    - three or more reuses of an idea start to look like a repeating pattern\n",
    "- knowing design patterns and choosing to use them in our software doesn't guarantee a *correct* solution\n",
    "    - in 1907, the Quebec Bridge collapsed before construction was completed\n",
    "   \n",
    "## Iterators\n",
    "\n",
    "- one of the most powerful design patterns\n",
    "- for loop (the foundational concept) is a lightweight wrapper around a set of object-oriented principles\n",
    "- **iterator** is an object with a `next()` and a `done()` methods\n",
    "- the general idea of iterators without using iterators is as follows:\n",
    "\n",
    "```python\n",
    "while not iterator.done():\n",
    "    item = iterator.next()\n",
    "    # do something with the item\n",
    "```\n",
    "\n",
    "- iterators are objects with `__next__()` method that is called using `next(iterator)` built-in\n",
    "- raises `StopIteration` exception to notify the client that the iterator has completed\n",
    "\n",
    "## Iterator protocol\n",
    "\n",
    "- `Iterator` abstract base class, in the `collections.abc` module, defines the *iterator* protocol\n",
    "- the following diagram depicts the hierarchy of iterator protocol:\n",
    "![Iterator Protocol](resources/iterator_abstraction.png)"
   ]
  },
  {
   "cell_type": "code",
   "execution_count": 2,
   "id": "2eb1e362",
   "metadata": {},
   "outputs": [
    {
     "name": "stdout",
     "output_type": "stream",
     "text": [
      "range(0, 20)\n"
     ]
    }
   ],
   "source": [
    "print(range(20))"
   ]
  },
  {
   "cell_type": "code",
   "execution_count": 3,
   "id": "7a316bcc",
   "metadata": {},
   "outputs": [
    {
     "name": "stdout",
     "output_type": "stream",
     "text": [
      "1\n",
      "3\n",
      "5\n",
      "7\n",
      "9\n",
      "11\n",
      "13\n",
      "15\n",
      "17\n",
      "19\n"
     ]
    }
   ],
   "source": [
    "for i in range(1, 20, 2):\n",
    "    print(i)"
   ]
  },
  {
   "cell_type": "code",
   "execution_count": 4,
   "id": "eed29d0b",
   "metadata": {},
   "outputs": [],
   "source": [
    "# example of how an iterable is implemented in a detailed and verbose way...\n",
    "from typing import Iterable, Iterator\n",
    "\n",
    "# create an Iterable class that we can iterate over\n",
    "class CapitalIterable(Iterable[str]):\n",
    "    def __init__(self, string: str) -> None:\n",
    "        self.string = string\n",
    "        \n",
    "    def __iter__(self) -> Iterator[str]:\n",
    "        return CapitalIterator(self.string)"
   ]
  },
  {
   "cell_type": "code",
   "execution_count": 5,
   "id": "17ffcee3",
   "metadata": {},
   "outputs": [],
   "source": [
    "class CapitalIterator(Iterator[str]):\n",
    "    def __init__(self, string: str) -> None:\n",
    "        # for char of each word is capitalized\n",
    "        self.words = [w.capitalize() for w in string.split()]\n",
    "        self.index = 0\n",
    "        \n",
    "    def __next__(self) -> str:\n",
    "        if self.index == len(self.words):\n",
    "            raise StopIteration()\n",
    "        \n",
    "        word = self.words[self.index]\n",
    "        self.index += 1\n",
    "        return word"
   ]
  },
  {
   "cell_type": "code",
   "execution_count": 6,
   "id": "38de566a",
   "metadata": {},
   "outputs": [],
   "source": [
    "iterable = CapitalIterable('the quick brown fox jumps over the lazy dog')"
   ]
  },
  {
   "cell_type": "code",
   "execution_count": 7,
   "id": "19766c39",
   "metadata": {},
   "outputs": [],
   "source": [
    "iterator = iter(iterable)"
   ]
  },
  {
   "cell_type": "code",
   "execution_count": 8,
   "id": "4a1f1764",
   "metadata": {},
   "outputs": [
    {
     "name": "stdout",
     "output_type": "stream",
     "text": [
      "The\n",
      "Quick\n",
      "Brown\n",
      "Fox\n",
      "Jumps\n",
      "Over\n",
      "The\n",
      "Lazy\n",
      "Dog\n"
     ]
    }
   ],
   "source": [
    "while True:\n",
    "    try:\n",
    "        print(next(iterator))\n",
    "    except StopIteration:\n",
    "        break"
   ]
  },
  {
   "cell_type": "code",
   "execution_count": 9,
   "id": "064d6568",
   "metadata": {},
   "outputs": [
    {
     "name": "stdout",
     "output_type": "stream",
     "text": [
      "The\n",
      "Quick\n",
      "Brown\n",
      "Fox\n",
      "Jumps\n",
      "Over\n",
      "The\n",
      "Lazy\n",
      "Dog\n"
     ]
    }
   ],
   "source": [
    "# Behind the scene, for loop uses iterator OOD pattern\n",
    "for word in iterable:\n",
    "    print(word)"
   ]
  },
  {
   "cell_type": "markdown",
   "id": "90513d7a",
   "metadata": {},
   "source": [
    "## Comprehensions\n",
    "\n",
    "- recall comprehension syntaxes from the Python Data Structures chapter\n",
    "- comprehensions are simple but powerful, syntaxes that allow us to transform or filter an iterable object\n",
    "- the result can be a list, set, dictionary, or a *generator expression*\n",
    "\n",
    "### List comprehension\n",
    "\n",
    "- one of the most powerful and fundamental tools in Python\n",
    "- can be very useful in solving a lot of real-world software applications as well as Kattis problems"
   ]
  },
  {
   "cell_type": "code",
   "execution_count": 11,
   "id": "9b5dd022",
   "metadata": {},
   "outputs": [
    {
     "name": "stdin",
     "output_type": "stream",
     "text": [
      "Enter some integers separated by space:  1 2 3 5 10\n"
     ]
    }
   ],
   "source": [
    "numbers = input('Enter some integers separated by space: ')"
   ]
  },
  {
   "cell_type": "code",
   "execution_count": 12,
   "id": "de33d58e",
   "metadata": {},
   "outputs": [
    {
     "data": {
      "text/plain": [
       "'1 2 3 5 10'"
      ]
     },
     "execution_count": 12,
     "metadata": {},
     "output_type": "execute_result"
    }
   ],
   "source": [
    "numbers"
   ]
  },
  {
   "cell_type": "code",
   "execution_count": 13,
   "id": "ea6e62fa",
   "metadata": {},
   "outputs": [],
   "source": [
    "lst_numbers = numbers.split()"
   ]
  },
  {
   "cell_type": "code",
   "execution_count": 14,
   "id": "146c35d5",
   "metadata": {},
   "outputs": [
    {
     "data": {
      "text/plain": [
       "['1', '2', '3', '5', '10']"
      ]
     },
     "execution_count": 14,
     "metadata": {},
     "output_type": "execute_result"
    }
   ],
   "source": [
    "lst_numbers"
   ]
  },
  {
   "cell_type": "code",
   "execution_count": 15,
   "id": "cab143e6",
   "metadata": {},
   "outputs": [],
   "source": [
    "lst_integers = [int(num) for num in lst_numbers]"
   ]
  },
  {
   "cell_type": "code",
   "execution_count": 16,
   "id": "af8b903d",
   "metadata": {},
   "outputs": [
    {
     "data": {
      "text/plain": [
       "[1, 2, 3, 5, 10]"
      ]
     },
     "execution_count": 16,
     "metadata": {},
     "output_type": "execute_result"
    }
   ],
   "source": [
    "lst_integers"
   ]
  },
  {
   "cell_type": "code",
   "execution_count": 17,
   "id": "6da4937a",
   "metadata": {},
   "outputs": [],
   "source": [
    "# another technique using map iterators\n",
    "integers = list(map(int, lst_numbers))"
   ]
  },
  {
   "cell_type": "code",
   "execution_count": 18,
   "id": "05e5bc92",
   "metadata": {},
   "outputs": [
    {
     "data": {
      "text/plain": [
       "[1, 2, 3, 5, 10]"
      ]
     },
     "execution_count": 18,
     "metadata": {},
     "output_type": "execute_result"
    }
   ],
   "source": [
    "integers"
   ]
  },
  {
   "cell_type": "markdown",
   "id": "119df0e3",
   "metadata": {},
   "source": [
    "## Generator expressions\n",
    "\n",
    "- sometimes we want to process a large sequence without creating a new list, set, or dictionary data structures in memory\n",
    "    - having all the contents in some data structure in memory may not be needed\n",
    "    - it can be CPU and memory-intensive\n",
    "- e.g., processing a large log file and looking for specific information\n",
    "    - finding max, min, range, average, etc. of a large list of numbers\n",
    "- generator expressions use the same syntax as comprehension, but they don't create a final container object\n",
    "    - called **lazy** evaluation; reluctantly produce values on demand\n",
    "- to create a generator expression, warp the comprehension in `( )` INSTEAD of `[ ]` or `{ }`\n",
    "- wrapping a generator in `{ }` creates a set\n",
    "- warpping a generator in `{ : }` creaes a dict\n",
    "- warpping a generator in `[ ]` creates a list\n",
    "- wrapping a generator in `( )` creates a generator expression NOT a tuple"
   ]
  },
  {
   "cell_type": "code",
   "execution_count": 19,
   "id": "3023fced",
   "metadata": {},
   "outputs": [],
   "source": [
    "numbers = ['1', '10', '5', '5', '11', '1']"
   ]
  },
  {
   "cell_type": "code",
   "execution_count": 20,
   "id": "99c0d225-7601-474d-a981-54a20fa989fe",
   "metadata": {},
   "outputs": [
    {
     "ename": "TypeError",
     "evalue": "'list' object is not an iterator",
     "output_type": "error",
     "traceback": [
      "\u001b[0;31m---------------------------------------------------------------------------\u001b[0m",
      "\u001b[0;31mTypeError\u001b[0m                                 Traceback (most recent call last)",
      "Cell \u001b[0;32mIn[20], line 2\u001b[0m\n\u001b[1;32m      1\u001b[0m \u001b[38;5;66;03m# try using the list as a generator/iterator\u001b[39;00m\n\u001b[0;32m----> 2\u001b[0m \u001b[38;5;28;43mnext\u001b[39;49m\u001b[43m(\u001b[49m\u001b[43mnumbers\u001b[49m\u001b[43m)\u001b[49m\n",
      "\u001b[0;31mTypeError\u001b[0m: 'list' object is not an iterator"
     ]
    }
   ],
   "source": [
    "# try using the list as a generator/iterator\n",
    "next(numbers)"
   ]
  },
  {
   "cell_type": "code",
   "execution_count": 22,
   "id": "4c4119bd",
   "metadata": {},
   "outputs": [],
   "source": [
    "# Create a set of ints from the list of string ints\n",
    "set_ints = {int(n) for n in numbers}"
   ]
  },
  {
   "cell_type": "code",
   "execution_count": 23,
   "id": "886b8e36",
   "metadata": {},
   "outputs": [
    {
     "data": {
      "text/plain": [
       "{1, 5, 10, 11}"
      ]
     },
     "execution_count": 23,
     "metadata": {},
     "output_type": "execute_result"
    }
   ],
   "source": [
    "set_ints"
   ]
  },
  {
   "cell_type": "code",
   "execution_count": 24,
   "id": "bd344a27-dabd-43d0-a694-e52fec7e0e7c",
   "metadata": {},
   "outputs": [],
   "source": [
    "set_ints1 = set(numbers)"
   ]
  },
  {
   "cell_type": "code",
   "execution_count": 25,
   "id": "4b53aada-fc9b-4084-b872-c4b4146b0536",
   "metadata": {},
   "outputs": [
    {
     "data": {
      "text/plain": [
       "{'1', '10', '11', '5'}"
      ]
     },
     "execution_count": 25,
     "metadata": {},
     "output_type": "execute_result"
    }
   ],
   "source": [
    "set_ints1"
   ]
  },
  {
   "cell_type": "code",
   "execution_count": 26,
   "id": "fa97938f",
   "metadata": {},
   "outputs": [],
   "source": [
    "# Converting a list into a dictionary\n",
    "# create a dictionary using the index as the key and value as the value\n",
    "some_dict = {i: v for i, v in enumerate(numbers)}"
   ]
  },
  {
   "cell_type": "code",
   "execution_count": 27,
   "id": "f07c8528",
   "metadata": {},
   "outputs": [
    {
     "data": {
      "text/plain": [
       "{0: '1', 1: '10', 2: '5', 3: '5', 4: '11', 5: '1'}"
      ]
     },
     "execution_count": 27,
     "metadata": {},
     "output_type": "execute_result"
    }
   ],
   "source": [
    "some_dict"
   ]
  },
  {
   "cell_type": "code",
   "execution_count": 28,
   "id": "d7b0f087",
   "metadata": {},
   "outputs": [],
   "source": [
    "# Creating a generator expression from a list of numbers\n",
    "int_gen = (int(n) for n in numbers)"
   ]
  },
  {
   "cell_type": "code",
   "execution_count": 29,
   "id": "1e8e2e04",
   "metadata": {},
   "outputs": [
    {
     "data": {
      "text/plain": [
       "<generator object <genexpr> at 0x7f66ef78d970>"
      ]
     },
     "execution_count": 29,
     "metadata": {},
     "output_type": "execute_result"
    }
   ],
   "source": [
    "int_gen"
   ]
  },
  {
   "cell_type": "code",
   "execution_count": 30,
   "id": "06040ad6",
   "metadata": {},
   "outputs": [
    {
     "data": {
      "text/plain": [
       "1"
      ]
     },
     "execution_count": 30,
     "metadata": {},
     "output_type": "execute_result"
    }
   ],
   "source": [
    "# let's get the next integer\n",
    "next(int_gen)"
   ]
  },
  {
   "cell_type": "code",
   "execution_count": 31,
   "id": "6c700393",
   "metadata": {},
   "outputs": [
    {
     "name": "stdout",
     "output_type": "stream",
     "text": [
      "10 100\n",
      "5 25\n",
      "5 25\n",
      "11 121\n",
      "1 1\n"
     ]
    }
   ],
   "source": [
    "for n in int_gen:\n",
    "    print(n, n**2)"
   ]
  },
  {
   "cell_type": "code",
   "execution_count": 32,
   "id": "0cbd73fa",
   "metadata": {},
   "outputs": [],
   "source": [
    "# let's look at a more useful example\n",
    "from pathlib import Path"
   ]
  },
  {
   "cell_type": "code",
   "execution_count": 33,
   "id": "800548c6",
   "metadata": {},
   "outputs": [
    {
     "name": "stdout",
     "output_type": "stream",
     "text": [
      "Apr 05, 2021 20:03:29 DEBUG This is a debugging message.\n",
      "Apr 05, 2021 20:03:41 INFO This is an information method.\n",
      "Apr 05, 2021 20:03:53 WARNING This is a warning. It could be serious.\n",
      "Apr 05, 2021 20:03:59 WARNING Another warning sent.\n",
      "Apr 05, 2021 20:04:05 INFO Here's some information.\n",
      "Apr 05, 2021 20:04:17 DEBUG Debug messages are only useful if you want\n",
      "to figure something out.\n",
      "Apr 05, 2021 20:04:29 INFO Information is usually harmless, but\n",
      "helpful.\n",
      "Apr 05, 2021 20:04:35 WARNING Warnings should be heeded.\n",
      "Apr 05, 2021 20:04:41 WARNING Watch for warnings.\n"
     ]
    }
   ],
   "source": [
    "! cat data/system.log"
   ]
  },
  {
   "cell_type": "code",
   "execution_count": 34,
   "id": "099cf03e",
   "metadata": {},
   "outputs": [],
   "source": [
    "full_log_path = Path.cwd() / \"data\" / \"system.log\""
   ]
  },
  {
   "cell_type": "code",
   "execution_count": 35,
   "id": "6d435682",
   "metadata": {},
   "outputs": [],
   "source": [
    "# create a log file containing power keyword\n",
    "warn_log_path = Path.cwd() / \"data\" / \"warn.log\""
   ]
  },
  {
   "cell_type": "code",
   "execution_count": 36,
   "id": "109f5b3b",
   "metadata": {},
   "outputs": [
    {
     "data": {
      "text/plain": [
       "PosixPath('/home/user/Object-Oriented-Programming-Design-Patterns/notebooks/data/system.log')"
      ]
     },
     "execution_count": 36,
     "metadata": {},
     "output_type": "execute_result"
    }
   ],
   "source": [
    "full_log_path"
   ]
  },
  {
   "cell_type": "code",
   "execution_count": 37,
   "id": "05760ea0",
   "metadata": {},
   "outputs": [],
   "source": [
    "with full_log_path.open() as source:\n",
    "    power_lines = (line for line in source if 'WARN' in line)\n",
    "    with warn_log_path.open('w') as target:\n",
    "        for line in power_lines:\n",
    "            target.write(line)"
   ]
  },
  {
   "cell_type": "code",
   "execution_count": 38,
   "id": "c9f24cac",
   "metadata": {},
   "outputs": [
    {
     "name": "stdout",
     "output_type": "stream",
     "text": [
      "Apr 05, 2021 20:03:53 WARNING This is a warning. It could be serious.\n",
      "Apr 05, 2021 20:03:59 WARNING Another warning sent.\n",
      "Apr 05, 2021 20:04:35 WARNING Warnings should be heeded.\n",
      "Apr 05, 2021 20:04:41 WARNING Watch for warnings.\n"
     ]
    }
   ],
   "source": [
    "! cat data/warn.log"
   ]
  },
  {
   "cell_type": "markdown",
   "id": "981fc3d7",
   "metadata": {},
   "source": [
    "## Generator functions\n",
    "\n",
    "- generator functions embody the essential features of a generator expression\n",
    "    -  which is the generalization of comprehension\n",
    "- use regular expression to parse lines into different columns of values\n",
    "- special functions that return an iterator which returns a stream of values\n",
    "- resumable functions that can retain local variable information to resume the function where it left off\n",
    "- uses `yield` keyword to yield the next value as opposed to `return`\n",
    "    - when `yield` is executed, the generator's state of execution is suspended and local variables are preserved\n",
    "- `next(genObject)` calls the built_in `__next__()` method to resume executing, when the function is called again\n",
    "- similar in concept to `range()`, however, `range class` is not an iterator\n",
    "    - `range` doesn't implement `__next__()`"
   ]
  },
  {
   "cell_type": "code",
   "execution_count": 39,
   "id": "1e2a15cc-4c47-40cb-81ff-7d734338657a",
   "metadata": {},
   "outputs": [
    {
     "name": "stdout",
     "output_type": "stream",
     "text": [
      "Help on class range in module builtins:\n",
      "\n",
      "class range(object)\n",
      " |  range(stop) -> range object\n",
      " |  range(start, stop[, step]) -> range object\n",
      " |\n",
      " |  Return an object that produces a sequence of integers from start (inclusive)\n",
      " |  to stop (exclusive) by step.  range(i, j) produces i, i+1, i+2, ..., j-1.\n",
      " |  start defaults to 0, and stop is omitted!  range(4) produces 0, 1, 2, 3.\n",
      " |  These are exactly the valid indices for a list of 4 elements.\n",
      " |  When step is given, it specifies the increment (or decrement).\n",
      " |\n",
      " |  Methods defined here:\n",
      " |\n",
      " |  __bool__(self, /)\n",
      " |      True if self else False\n",
      " |\n",
      " |  __contains__(self, key, /)\n",
      " |      Return bool(key in self).\n",
      " |\n",
      " |  __eq__(self, value, /)\n",
      " |      Return self==value.\n",
      " |\n",
      " |  __ge__(self, value, /)\n",
      " |      Return self>=value.\n",
      " |\n",
      " |  __getattribute__(self, name, /)\n",
      " |      Return getattr(self, name).\n",
      " |\n",
      " |  __getitem__(self, key, /)\n",
      " |      Return self[key].\n",
      " |\n",
      " |  __gt__(self, value, /)\n",
      " |      Return self>value.\n",
      " |\n",
      " |  __hash__(self, /)\n",
      " |      Return hash(self).\n",
      " |\n",
      " |  __iter__(self, /)\n",
      " |      Implement iter(self).\n",
      " |\n",
      " |  __le__(self, value, /)\n",
      " |      Return self<=value.\n",
      " |\n",
      " |  __len__(self, /)\n",
      " |      Return len(self).\n",
      " |\n",
      " |  __lt__(self, value, /)\n",
      " |      Return self<value.\n",
      " |\n",
      " |  __ne__(self, value, /)\n",
      " |      Return self!=value.\n",
      " |\n",
      " |  __reduce__(...)\n",
      " |      Helper for pickle.\n",
      " |\n",
      " |  __repr__(self, /)\n",
      " |      Return repr(self).\n",
      " |\n",
      " |  __reversed__(...)\n",
      " |      Return a reverse iterator.\n",
      " |\n",
      " |  count(...)\n",
      " |      rangeobject.count(value) -> integer -- return number of occurrences of value\n",
      " |\n",
      " |  index(...)\n",
      " |      rangeobject.index(value) -> integer -- return index of value.\n",
      " |      Raise ValueError if the value is not present.\n",
      " |\n",
      " |  ----------------------------------------------------------------------\n",
      " |  Static methods defined here:\n",
      " |\n",
      " |  __new__(*args, **kwargs)\n",
      " |      Create and return a new object.  See help(type) for accurate signature.\n",
      " |\n",
      " |  ----------------------------------------------------------------------\n",
      " |  Data descriptors defined here:\n",
      " |\n",
      " |  start\n",
      " |\n",
      " |  step\n",
      " |\n",
      " |  stop\n",
      "\n"
     ]
    }
   ],
   "source": [
    "help(range)"
   ]
  },
  {
   "cell_type": "code",
   "execution_count": 40,
   "id": "d69f2b41-9351-483f-8103-7863d2924aa3",
   "metadata": {},
   "outputs": [],
   "source": [
    "r = range(10, 100)"
   ]
  },
  {
   "cell_type": "code",
   "execution_count": 41,
   "id": "91a5e3b4-4774-4d40-91c7-25887695947e",
   "metadata": {},
   "outputs": [
    {
     "ename": "TypeError",
     "evalue": "'range' object is not an iterator",
     "output_type": "error",
     "traceback": [
      "\u001b[0;31m---------------------------------------------------------------------------\u001b[0m",
      "\u001b[0;31mTypeError\u001b[0m                                 Traceback (most recent call last)",
      "Cell \u001b[0;32mIn[41], line 2\u001b[0m\n\u001b[1;32m      1\u001b[0m \u001b[38;5;66;03m# Not an iterator!\u001b[39;00m\n\u001b[0;32m----> 2\u001b[0m \u001b[38;5;28;43mnext\u001b[39;49m\u001b[43m(\u001b[49m\u001b[43mr\u001b[49m\u001b[43m)\u001b[49m\n",
      "\u001b[0;31mTypeError\u001b[0m: 'range' object is not an iterator"
     ]
    }
   ],
   "source": [
    "# Not an iterator!\n",
    "next(r)"
   ]
  },
  {
   "cell_type": "code",
   "execution_count": 42,
   "id": "90a02c51-58fe-48b4-8bdf-13b29693f568",
   "metadata": {},
   "outputs": [
    {
     "data": {
      "text/plain": [
       "90"
      ]
     },
     "execution_count": 42,
     "metadata": {},
     "output_type": "execute_result"
    }
   ],
   "source": [
    "len(r)"
   ]
  },
  {
   "cell_type": "code",
   "execution_count": 43,
   "id": "6aef96e2-b7c1-49da-ab77-ac8d5adb9164",
   "metadata": {},
   "outputs": [
    {
     "data": {
      "text/plain": [
       "True"
      ]
     },
     "execution_count": 43,
     "metadata": {},
     "output_type": "execute_result"
    }
   ],
   "source": [
    "50 in r"
   ]
  },
  {
   "cell_type": "code",
   "execution_count": 44,
   "id": "b78b032f",
   "metadata": {},
   "outputs": [],
   "source": [
    "# let's create my_range by making range a generator\n",
    "def my_range(N):\n",
    "    for i in range(N):\n",
    "        yield i # This makes the function a generator/iterator!"
   ]
  },
  {
   "cell_type": "code",
   "execution_count": 46,
   "id": "feae721f",
   "metadata": {},
   "outputs": [],
   "source": [
    "gen = my_range(10)"
   ]
  },
  {
   "cell_type": "code",
   "execution_count": 47,
   "id": "3aeaf6d1",
   "metadata": {},
   "outputs": [
    {
     "name": "stdout",
     "output_type": "stream",
     "text": [
      "<generator object my_range at 0x7f66ef61cad0>\n"
     ]
    }
   ],
   "source": [
    "print(gen)"
   ]
  },
  {
   "cell_type": "code",
   "execution_count": 48,
   "id": "fb3a6f37",
   "metadata": {},
   "outputs": [
    {
     "data": {
      "text/plain": [
       "0"
      ]
     },
     "execution_count": 48,
     "metadata": {},
     "output_type": "execute_result"
    }
   ],
   "source": [
    "next(gen)"
   ]
  },
  {
   "cell_type": "code",
   "execution_count": 49,
   "id": "061c5a1a",
   "metadata": {},
   "outputs": [
    {
     "data": {
      "text/plain": [
       "1"
      ]
     },
     "execution_count": 49,
     "metadata": {},
     "output_type": "execute_result"
    }
   ],
   "source": [
    "next(gen)"
   ]
  },
  {
   "cell_type": "code",
   "execution_count": 50,
   "id": "9ac938f8",
   "metadata": {},
   "outputs": [
    {
     "name": "stdout",
     "output_type": "stream",
     "text": [
      "2\n",
      "3\n",
      "4\n",
      "5\n",
      "6\n",
      "7\n",
      "8\n",
      "9\n"
     ]
    }
   ],
   "source": [
    "# iterate over the next of the values\n",
    "for n in gen:\n",
    "    print(n)"
   ]
  },
  {
   "cell_type": "code",
   "execution_count": 51,
   "id": "8d5aa906-6876-4a86-8ad3-8668e4ff204b",
   "metadata": {},
   "outputs": [],
   "source": [
    "# you can convert range to an iterator using built-in iter function\n",
    "my_r = iter(range(20))"
   ]
  },
  {
   "cell_type": "code",
   "execution_count": 52,
   "id": "9b537845-f9a0-483f-ac24-8290b8c330d5",
   "metadata": {},
   "outputs": [
    {
     "data": {
      "text/plain": [
       "0"
      ]
     },
     "execution_count": 52,
     "metadata": {},
     "output_type": "execute_result"
    }
   ],
   "source": [
    "next(my_r)"
   ]
  },
  {
   "cell_type": "code",
   "execution_count": 53,
   "id": "e0839d38",
   "metadata": {},
   "outputs": [],
   "source": [
    "# function reads full_log_path and writes all the WARNING logs to warning_log_path\n",
    "# function does NOT user iterator/generator pattern\n",
    "import csv\n",
    "import re\n",
    "from pathlib import Path\n",
    "\n",
    "from typing import Match, cast\n",
    "\n",
    "# regular function without an iterator\n",
    "def extract_and_parse(\n",
    "        full_log_path: Path, warning_log_path: Path\n",
    "        ) -> None:\n",
    "    with warning_log_path.open(\"w\") as target:\n",
    "        writer = csv.writer(target, delimiter=\"\\t\")\n",
    "        pattern = re.compile(\n",
    "            # Apr 05, 2021 20:04:41\n",
    "            r\"(\\w\\w\\w \\d\\d, \\d\\d\\d\\d \\d\\d:\\d\\d:\\d\\d) (\\w+) (.*)\")\n",
    "        with full_log_path.open() as source:\n",
    "            for line in source:\n",
    "                if \"WARN\" in line:\n",
    "                    line_groups = cast(Match[str], pattern.match(line)).groups()\n",
    "                    writer.writerow(line_groups)\n",
    "                        "
   ]
  },
  {
   "cell_type": "code",
   "execution_count": 54,
   "id": "5e9a4f70",
   "metadata": {},
   "outputs": [],
   "source": [
    "# create a log file containing WARNING keyword\n",
    "warn1_log_path = Path.cwd() / \"data\" / \"warn1.log\""
   ]
  },
  {
   "cell_type": "code",
   "execution_count": 55,
   "id": "f59c672d",
   "metadata": {},
   "outputs": [],
   "source": [
    "extract_and_parse(full_log_path, warn1_log_path)"
   ]
  },
  {
   "cell_type": "code",
   "execution_count": 56,
   "id": "e6f43c5f",
   "metadata": {},
   "outputs": [
    {
     "name": "stdout",
     "output_type": "stream",
     "text": [
      "Apr 05, 2021 20:03:53\tWARNING\tThis is a warning. It could be serious.\n",
      "Apr 05, 2021 20:03:59\tWARNING\tAnother warning sent.\n",
      "Apr 05, 2021 20:04:35\tWARNING\tWarnings should be heeded.\n",
      "Apr 05, 2021 20:04:41\tWARNING\tWatch for warnings.\n"
     ]
    }
   ],
   "source": [
    "! cat data/warn1.log"
   ]
  },
  {
   "cell_type": "code",
   "execution_count": 57,
   "id": "e7f955d9",
   "metadata": {},
   "outputs": [],
   "source": [
    "from typing import Iterable, Sequence, Iterator\n",
    "\n",
    "# generator function\n",
    "def warnings_filter(source: Iterable[str]) -> Iterator[Sequence[str]]:\n",
    "    pattern = re.compile(\n",
    "        r\"(\\w\\w\\w \\d\\d, \\d\\d\\d\\d \\d\\d:\\d\\d:\\d\\d) (\\w+) (.*)\")\n",
    "    for line in source:\n",
    "        if match := pattern.match(line):\n",
    "            if \"WARN\" in match.group(2):\n",
    "                yield match.groups()"
   ]
  },
  {
   "cell_type": "code",
   "execution_count": 58,
   "id": "593f12f2",
   "metadata": {},
   "outputs": [
    {
     "name": "stdout",
     "output_type": "stream",
     "text": [
      "('Apr 05, 2021 20:03:53', 'WARNING', 'This is a warning. It could be serious.')\n",
      "('Apr 05, 2021 20:03:59', 'WARNING', 'Another warning sent.')\n",
      "('Apr 05, 2021 20:04:35', 'WARNING', 'Warnings should be heeded.')\n",
      "('Apr 05, 2021 20:04:41', 'WARNING', 'Watch for warnings.')\n"
     ]
    }
   ],
   "source": [
    "for t in warnings_filter(full_log_path.open()):\n",
    "    print(t)"
   ]
  },
  {
   "cell_type": "code",
   "execution_count": 59,
   "id": "d3d9a481",
   "metadata": {},
   "outputs": [],
   "source": [
    "# The same can be achieved by comprehension short-cut\n",
    "# generator expression\n",
    "source = full_log_path.open()\n",
    "pattern = re.compile(\n",
    "        r\"(\\w\\w\\w \\d\\d, \\d\\d\\d\\d \\d\\d:\\d\\d:\\d\\d) (\\w+) (.*)\")\n",
    "warnings_filter_gen = (\n",
    "    tuple(cast(Match[str], pattern.match(line)).groups())\n",
    "    for line in source\n",
    "    if \"WARN\" in line\n",
    ")"
   ]
  },
  {
   "cell_type": "code",
   "execution_count": 60,
   "id": "f5507f52",
   "metadata": {},
   "outputs": [
    {
     "data": {
      "text/plain": [
       "('Apr 05, 2021 20:03:53', 'WARNING', 'This is a warning. It could be serious.')"
      ]
     },
     "execution_count": 60,
     "metadata": {},
     "output_type": "execute_result"
    }
   ],
   "source": [
    "next(warnings_filter_gen)"
   ]
  },
  {
   "cell_type": "code",
   "execution_count": 61,
   "id": "cfc039df",
   "metadata": {},
   "outputs": [
    {
     "data": {
      "text/plain": [
       "('Apr 05, 2021 20:03:59', 'WARNING', 'Another warning sent.')"
      ]
     },
     "execution_count": 61,
     "metadata": {},
     "output_type": "execute_result"
    }
   ],
   "source": [
    "next(warnings_filter_gen)"
   ]
  },
  {
   "cell_type": "code",
   "execution_count": 62,
   "id": "2ee1f986",
   "metadata": {},
   "outputs": [
    {
     "name": "stdout",
     "output_type": "stream",
     "text": [
      "('Apr 05, 2021 20:04:35', 'WARNING', 'Warnings should be heeded.')\n",
      "('Apr 05, 2021 20:04:41', 'WARNING', 'Watch for warnings.')\n"
     ]
    }
   ],
   "source": [
    "for t in warnings_filter_gen:\n",
    "    print(t)"
   ]
  },
  {
   "cell_type": "code",
   "execution_count": 102,
   "id": "f211bb40-68e1-4751-b760-f1d02a8e0cec",
   "metadata": {},
   "outputs": [],
   "source": [
    "# Creating our own iterator/generator  my_range\n",
    "class my_range:\n",
    "    def __init__(self, end):\n",
    "        self.start = 0\n",
    "        self.end = end\n",
    "\n",
    "    def __next__(self):\n",
    "        if self.start >= self.end:\n",
    "            raise StopIteration()\n",
    "        val = self.start\n",
    "        self.start += 1\n",
    "        return val"
   ]
  },
  {
   "cell_type": "code",
   "execution_count": 103,
   "id": "2f7ff30a-f255-409f-acf3-be17940787ec",
   "metadata": {},
   "outputs": [],
   "source": [
    "r = my_range(10)"
   ]
  },
  {
   "cell_type": "code",
   "execution_count": 104,
   "id": "4b73e87c-b5f8-4e60-9a5d-0dd03811ae6a",
   "metadata": {},
   "outputs": [
    {
     "data": {
      "text/plain": [
       "0"
      ]
     },
     "execution_count": 104,
     "metadata": {},
     "output_type": "execute_result"
    }
   ],
   "source": [
    "next(r)"
   ]
  },
  {
   "cell_type": "code",
   "execution_count": 105,
   "id": "654b2da0-6c51-4a82-a092-97e0adc705ec",
   "metadata": {},
   "outputs": [
    {
     "ename": "TypeError",
     "evalue": "'my_range' object is not iterable",
     "output_type": "error",
     "traceback": [
      "\u001b[0;31m---------------------------------------------------------------------------\u001b[0m",
      "\u001b[0;31mTypeError\u001b[0m                                 Traceback (most recent call last)",
      "Cell \u001b[0;32mIn[105], line 1\u001b[0m\n\u001b[0;32m----> 1\u001b[0m \u001b[38;5;28;43;01mfor\u001b[39;49;00m\u001b[43m \u001b[49m\u001b[43mval\u001b[49m\u001b[43m \u001b[49m\u001b[38;5;129;43;01min\u001b[39;49;00m\u001b[43m \u001b[49m\u001b[43mr\u001b[49m\u001b[43m:\u001b[49m\n\u001b[1;32m      2\u001b[0m \u001b[43m    \u001b[49m\u001b[38;5;28;43mprint\u001b[39;49m\u001b[43m(\u001b[49m\u001b[43mval\u001b[49m\u001b[43m)\u001b[49m\n",
      "\u001b[0;31mTypeError\u001b[0m: 'my_range' object is not iterable"
     ]
    }
   ],
   "source": [
    "# however my_range is not iterable to be used in the for loop!\n",
    "for val in r:\n",
    "    print(val)"
   ]
  },
  {
   "cell_type": "code",
   "execution_count": 106,
   "id": "440ee9f4-0082-4aa6-926f-65e77c10abb0",
   "metadata": {},
   "outputs": [],
   "source": [
    "# Creating our own iterator/generator  my_range\n",
    "class my_range_iter:\n",
    "    def __init__(self, end):\n",
    "        self.start = 0\n",
    "        self.end = end\n",
    "\n",
    "    def __next__(self):\n",
    "        if self.start >= self.end:\n",
    "            raise StopIteration()\n",
    "        val = self.start\n",
    "        self.start += 1\n",
    "        return val\n",
    "\n",
    "    def __iter__(self):\n",
    "        return self"
   ]
  },
  {
   "cell_type": "code",
   "execution_count": 107,
   "id": "bd468140-a6d1-47b6-a751-121e45224f3d",
   "metadata": {},
   "outputs": [
    {
     "name": "stdout",
     "output_type": "stream",
     "text": [
      "0\n",
      "1\n",
      "2\n",
      "3\n",
      "4\n",
      "5\n",
      "6\n",
      "7\n",
      "8\n",
      "9\n"
     ]
    }
   ],
   "source": [
    "for val in my_range_iter(10):\n",
    "    print(val)"
   ]
  },
  {
   "cell_type": "code",
   "execution_count": null,
   "id": "9f9ca2fa-4abc-4c37-809b-58f961316d1f",
   "metadata": {},
   "outputs": [],
   "source": []
  }
 ],
 "metadata": {
  "kernelspec": {
   "display_name": "Python 3 (ipykernel)",
   "language": "python",
   "name": "python3"
  },
  "language_info": {
   "codemirror_mode": {
    "name": "ipython",
    "version": 3
   },
   "file_extension": ".py",
   "mimetype": "text/x-python",
   "name": "python",
   "nbconvert_exporter": "python",
   "pygments_lexer": "ipython3",
   "version": "3.12.3"
  }
 },
 "nbformat": 4,
 "nbformat_minor": 5
}
