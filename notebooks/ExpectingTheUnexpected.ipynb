{
 "cells": [
  {
   "cell_type": "markdown",
   "id": "f12de37d",
   "metadata": {},
   "source": [
    "# Expecting the Unexpected\n",
    "\n",
    "- programmers have to deal with three types of errors:\n",
    "    1. Syntax Error\n",
    "    2. Logical Error\n",
    "    3. Run-time Error\n",
    "    \n",
    "- systems built with software can be fragile due to mostly run-time error\n",
    "- while the software is highly predictable, the runtime context can provide unexpected inputs and situations\n",
    "- **exceptions** - run-time error raised when a normal response is impossible\n",
    "\n",
    "- learn:\n",
    "    1. how to cause an exception to occur\n",
    "    2. how to recover when an exception has occured\n",
    "    3. how to handle different exceptions types in different ways\n",
    "    4. cleaning up when an exception has occured\n",
    "    5. creating new types of exception\n",
    "    6. using the exception syntax for flow control"
   ]
  },
  {
   "cell_type": "markdown",
   "id": "4da6ea50",
   "metadata": {},
   "source": [
    "## Raising exceptions\n",
    "\n",
    "- an exception is an object raised, that interrupts the sequential execution of statements\n",
    "- all exceptions derive from *BaseException*\n",
    "- let's see some exceptions by doing some silly stuff"
   ]
  },
  {
   "cell_type": "code",
   "execution_count": 1,
   "id": "d4a06bab",
   "metadata": {},
   "outputs": [
    {
     "ename": "SyntaxError",
     "evalue": "Missing parentheses in call to 'print'. Did you mean print(...)? (3923495743.py, line 1)",
     "output_type": "error",
     "traceback": [
      "\u001b[0;36m  Cell \u001b[0;32mIn[1], line 1\u001b[0;36m\u001b[0m\n\u001b[0;31m    print \"hello world\"\u001b[0m\n\u001b[0m    ^\u001b[0m\n\u001b[0;31mSyntaxError\u001b[0m\u001b[0;31m:\u001b[0m Missing parentheses in call to 'print'. Did you mean print(...)?\n"
     ]
    }
   ],
   "source": [
    "print \"hello world\""
   ]
  },
  {
   "cell_type": "code",
   "execution_count": 2,
   "id": "ecc3eff9",
   "metadata": {},
   "outputs": [
    {
     "ename": "ZeroDivisionError",
     "evalue": "division by zero",
     "output_type": "error",
     "traceback": [
      "\u001b[0;31m---------------------------------------------------------------------------\u001b[0m",
      "\u001b[0;31mZeroDivisionError\u001b[0m                         Traceback (most recent call last)",
      "Cell \u001b[0;32mIn[2], line 1\u001b[0m\n\u001b[0;32m----> 1\u001b[0m x \u001b[38;5;241m=\u001b[39m \u001b[38;5;241;43m5\u001b[39;49m\u001b[38;5;241;43m/\u001b[39;49m\u001b[38;5;241;43m0\u001b[39;49m\n",
      "\u001b[0;31mZeroDivisionError\u001b[0m: division by zero"
     ]
    }
   ],
   "source": [
    "x = 5/0"
   ]
  },
  {
   "cell_type": "code",
   "execution_count": 3,
   "id": "926a7325",
   "metadata": {},
   "outputs": [
    {
     "ename": "IndexError",
     "evalue": "list index out of range",
     "output_type": "error",
     "traceback": [
      "\u001b[0;31m---------------------------------------------------------------------------\u001b[0m",
      "\u001b[0;31mIndexError\u001b[0m                                Traceback (most recent call last)",
      "Cell \u001b[0;32mIn[3], line 2\u001b[0m\n\u001b[1;32m      1\u001b[0m lst \u001b[38;5;241m=\u001b[39m [\u001b[38;5;241m1\u001b[39m, \u001b[38;5;241m2\u001b[39m, \u001b[38;5;241m3\u001b[39m]\n\u001b[0;32m----> 2\u001b[0m \u001b[38;5;28mprint\u001b[39m(\u001b[43mlst\u001b[49m\u001b[43m[\u001b[49m\u001b[38;5;241;43m3\u001b[39;49m\u001b[43m]\u001b[49m)\n",
      "\u001b[0;31mIndexError\u001b[0m: list index out of range"
     ]
    }
   ],
   "source": [
    "lst = [1, 2, 3]\n",
    "print(lst[3])"
   ]
  },
  {
   "cell_type": "code",
   "execution_count": 4,
   "id": "38e20b92",
   "metadata": {},
   "outputs": [
    {
     "ename": "AttributeError",
     "evalue": "'list' object has no attribute 'add'",
     "output_type": "error",
     "traceback": [
      "\u001b[0;31m---------------------------------------------------------------------------\u001b[0m",
      "\u001b[0;31mAttributeError\u001b[0m                            Traceback (most recent call last)",
      "Cell \u001b[0;32mIn[4], line 1\u001b[0m\n\u001b[0;32m----> 1\u001b[0m \u001b[43mlst\u001b[49m\u001b[38;5;241;43m.\u001b[39;49m\u001b[43madd\u001b[49m\n",
      "\u001b[0;31mAttributeError\u001b[0m: 'list' object has no attribute 'add'"
     ]
    }
   ],
   "source": [
    "lst.add"
   ]
  },
  {
   "cell_type": "code",
   "execution_count": 6,
   "id": "6ed4bedf",
   "metadata": {},
   "outputs": [
    {
     "ename": "TypeError",
     "evalue": "can only concatenate list (not \"int\") to list",
     "output_type": "error",
     "traceback": [
      "\u001b[0;31m---------------------------------------------------------------------------\u001b[0m",
      "\u001b[0;31mTypeError\u001b[0m                                 Traceback (most recent call last)",
      "Cell \u001b[0;32mIn[6], line 1\u001b[0m\n\u001b[0;32m----> 1\u001b[0m \u001b[43mlst\u001b[49m\u001b[38;5;241;43m+\u001b[39;49m\u001b[38;5;241;43m10\u001b[39;49m\n",
      "\u001b[0;31mTypeError\u001b[0m: can only concatenate list (not \"int\") to list"
     ]
    }
   ],
   "source": [
    "lst+10"
   ]
  },
  {
   "cell_type": "code",
   "execution_count": 8,
   "id": "faf93ebb",
   "metadata": {},
   "outputs": [],
   "source": [
    "d = {'a': 1}"
   ]
  },
  {
   "cell_type": "code",
   "execution_count": 9,
   "id": "f5463af5",
   "metadata": {},
   "outputs": [
    {
     "ename": "KeyError",
     "evalue": "'b'",
     "output_type": "error",
     "traceback": [
      "\u001b[0;31m---------------------------------------------------------------------------\u001b[0m",
      "\u001b[0;31mKeyError\u001b[0m                                  Traceback (most recent call last)",
      "Cell \u001b[0;32mIn[9], line 1\u001b[0m\n\u001b[0;32m----> 1\u001b[0m \u001b[43md\u001b[49m\u001b[43m \u001b[49m\u001b[43m[\u001b[49m\u001b[38;5;124;43m'\u001b[39;49m\u001b[38;5;124;43mb\u001b[39;49m\u001b[38;5;124;43m'\u001b[39;49m\u001b[43m]\u001b[49m\n",
      "\u001b[0;31mKeyError\u001b[0m: 'b'"
     ]
    }
   ],
   "source": [
    "d ['b']"
   ]
  },
  {
   "cell_type": "code",
   "execution_count": 10,
   "id": "fa6fa156",
   "metadata": {},
   "outputs": [
    {
     "ename": "NameError",
     "evalue": "name 'some_var' is not defined",
     "output_type": "error",
     "traceback": [
      "\u001b[0;31m---------------------------------------------------------------------------\u001b[0m",
      "\u001b[0;31mNameError\u001b[0m                                 Traceback (most recent call last)",
      "Cell \u001b[0;32mIn[10], line 1\u001b[0m\n\u001b[0;32m----> 1\u001b[0m \u001b[38;5;28mprint\u001b[39m(\u001b[43msome_var\u001b[49m)\n",
      "\u001b[0;31mNameError\u001b[0m: name 'some_var' is not defined"
     ]
    }
   ],
   "source": [
    "print(some_var)"
   ]
  },
  {
   "cell_type": "markdown",
   "id": "9dd96b69",
   "metadata": {},
   "source": [
    "## Explictly raising an exception\n",
    "\n",
    "- at times, you may have to explictly raise exceptions in your code for some unexpected situation\n",
    "- we can use the exact same mechanism, that Python uses\n",
    "- the following is a simple class adds item to a list if it's an even numbered integer"
   ]
  },
  {
   "cell_type": "code",
   "execution_count": 11,
   "id": "d0a83a0a",
   "metadata": {},
   "outputs": [],
   "source": [
    "from typing import List\n",
    "\n",
    "class EvenOnly(List[int]):\n",
    "    def append(self, value: int) -> None:\n",
    "        if not isinstance(value, int):\n",
    "            raise TypeError(f'Not an integer: {value}')\n",
    "        if value % 2 != 0:\n",
    "            raise ValueError(f'Not an even integer: {value}')\n",
    "        super().append(value)\n"
   ]
  },
  {
   "cell_type": "code",
   "execution_count": 12,
   "id": "a8abf98c",
   "metadata": {},
   "outputs": [],
   "source": [
    "e = EvenOnly()"
   ]
  },
  {
   "cell_type": "code",
   "execution_count": 13,
   "id": "4182da34",
   "metadata": {},
   "outputs": [],
   "source": [
    "e.append(4)"
   ]
  },
  {
   "cell_type": "code",
   "execution_count": 14,
   "id": "a89fa396",
   "metadata": {},
   "outputs": [
    {
     "ename": "ValueError",
     "evalue": "Not an even integer: 5",
     "output_type": "error",
     "traceback": [
      "\u001b[0;31m---------------------------------------------------------------------------\u001b[0m",
      "\u001b[0;31mValueError\u001b[0m                                Traceback (most recent call last)",
      "Cell \u001b[0;32mIn[14], line 1\u001b[0m\n\u001b[0;32m----> 1\u001b[0m \u001b[43me\u001b[49m\u001b[38;5;241;43m.\u001b[39;49m\u001b[43mappend\u001b[49m\u001b[43m(\u001b[49m\u001b[38;5;241;43m5\u001b[39;49m\u001b[43m)\u001b[49m\n",
      "Cell \u001b[0;32mIn[11], line 8\u001b[0m, in \u001b[0;36mEvenOnly.append\u001b[0;34m(self, value)\u001b[0m\n\u001b[1;32m      6\u001b[0m     \u001b[38;5;28;01mraise\u001b[39;00m \u001b[38;5;167;01mTypeError\u001b[39;00m(\u001b[38;5;124mf\u001b[39m\u001b[38;5;124m'\u001b[39m\u001b[38;5;124mNot an integer: \u001b[39m\u001b[38;5;132;01m{\u001b[39;00mvalue\u001b[38;5;132;01m}\u001b[39;00m\u001b[38;5;124m'\u001b[39m)\n\u001b[1;32m      7\u001b[0m \u001b[38;5;28;01mif\u001b[39;00m value \u001b[38;5;241m%\u001b[39m \u001b[38;5;241m2\u001b[39m \u001b[38;5;241m!=\u001b[39m \u001b[38;5;241m0\u001b[39m:\n\u001b[0;32m----> 8\u001b[0m     \u001b[38;5;28;01mraise\u001b[39;00m \u001b[38;5;167;01mValueError\u001b[39;00m(\u001b[38;5;124mf\u001b[39m\u001b[38;5;124m'\u001b[39m\u001b[38;5;124mNot an even integer: \u001b[39m\u001b[38;5;132;01m{\u001b[39;00mvalue\u001b[38;5;132;01m}\u001b[39;00m\u001b[38;5;124m'\u001b[39m)\n\u001b[1;32m      9\u001b[0m \u001b[38;5;28msuper\u001b[39m()\u001b[38;5;241m.\u001b[39mappend(value)\n",
      "\u001b[0;31mValueError\u001b[0m: Not an even integer: 5"
     ]
    }
   ],
   "source": [
    "e.append(5)"
   ]
  },
  {
   "cell_type": "code",
   "execution_count": 15,
   "id": "72961efe",
   "metadata": {},
   "outputs": [
    {
     "ename": "TypeError",
     "evalue": "Not an integer: a string",
     "output_type": "error",
     "traceback": [
      "\u001b[0;31m---------------------------------------------------------------------------\u001b[0m",
      "\u001b[0;31mTypeError\u001b[0m                                 Traceback (most recent call last)",
      "Cell \u001b[0;32mIn[15], line 1\u001b[0m\n\u001b[0;32m----> 1\u001b[0m \u001b[43me\u001b[49m\u001b[38;5;241;43m.\u001b[39;49m\u001b[43mappend\u001b[49m\u001b[43m(\u001b[49m\u001b[38;5;124;43m'\u001b[39;49m\u001b[38;5;124;43ma string\u001b[39;49m\u001b[38;5;124;43m'\u001b[39;49m\u001b[43m)\u001b[49m\n",
      "Cell \u001b[0;32mIn[11], line 6\u001b[0m, in \u001b[0;36mEvenOnly.append\u001b[0;34m(self, value)\u001b[0m\n\u001b[1;32m      4\u001b[0m \u001b[38;5;28;01mdef\u001b[39;00m \u001b[38;5;21mappend\u001b[39m(\u001b[38;5;28mself\u001b[39m, value: \u001b[38;5;28mint\u001b[39m) \u001b[38;5;241m-\u001b[39m\u001b[38;5;241m>\u001b[39m \u001b[38;5;28;01mNone\u001b[39;00m:\n\u001b[1;32m      5\u001b[0m     \u001b[38;5;28;01mif\u001b[39;00m \u001b[38;5;129;01mnot\u001b[39;00m \u001b[38;5;28misinstance\u001b[39m(value, \u001b[38;5;28mint\u001b[39m):\n\u001b[0;32m----> 6\u001b[0m         \u001b[38;5;28;01mraise\u001b[39;00m \u001b[38;5;167;01mTypeError\u001b[39;00m(\u001b[38;5;124mf\u001b[39m\u001b[38;5;124m'\u001b[39m\u001b[38;5;124mNot an integer: \u001b[39m\u001b[38;5;132;01m{\u001b[39;00mvalue\u001b[38;5;132;01m}\u001b[39;00m\u001b[38;5;124m'\u001b[39m)\n\u001b[1;32m      7\u001b[0m     \u001b[38;5;28;01mif\u001b[39;00m value \u001b[38;5;241m%\u001b[39m \u001b[38;5;241m2\u001b[39m \u001b[38;5;241m!=\u001b[39m \u001b[38;5;241m0\u001b[39m:\n\u001b[1;32m      8\u001b[0m         \u001b[38;5;28;01mraise\u001b[39;00m \u001b[38;5;167;01mValueError\u001b[39;00m(\u001b[38;5;124mf\u001b[39m\u001b[38;5;124m'\u001b[39m\u001b[38;5;124mNot an even integer: \u001b[39m\u001b[38;5;132;01m{\u001b[39;00mvalue\u001b[38;5;132;01m}\u001b[39;00m\u001b[38;5;124m'\u001b[39m)\n",
      "\u001b[0;31mTypeError\u001b[0m: Not an integer: a string"
     ]
    }
   ],
   "source": [
    "e.append('a string')"
   ]
  },
  {
   "cell_type": "code",
   "execution_count": 18,
   "id": "90c566c5",
   "metadata": {},
   "outputs": [],
   "source": [
    "# EvenOnly inherits all the methods from List\n",
    "e.insert(0, 5)"
   ]
  },
  {
   "cell_type": "code",
   "execution_count": 19,
   "id": "c21bc42f",
   "metadata": {},
   "outputs": [
    {
     "data": {
      "text/plain": [
       "[5, 4]"
      ]
     },
     "execution_count": 19,
     "metadata": {},
     "output_type": "execute_result"
    }
   ],
   "source": [
    "e"
   ]
  },
  {
   "cell_type": "markdown",
   "id": "8ff292de",
   "metadata": {},
   "source": [
    "- additional methods/behaviors need to be overriden to make EvenOnly more robust/complete in what it does\n",
    "    - e.g., insert(), extend(), __setitem__(), __init__(), etc."
   ]
  },
  {
   "cell_type": "markdown",
   "id": "4909bde7",
   "metadata": {},
   "source": [
    "## The effects of an exception\n",
    "\n",
    "- when an exception is raised, program halts at the line number\n",
    "- the code after the problem statement will not be executed, unless the exception is handled by an exception clause"
   ]
  },
  {
   "cell_type": "code",
   "execution_count": 20,
   "id": "b3c34cc0",
   "metadata": {},
   "outputs": [],
   "source": [
    "from typing import NoReturn\n",
    "\n",
    "def never_returns() -> NoReturn:\n",
    "    print('Before exception is raised')\n",
    "    raise Exception('This is always raised')\n",
    "    print('This line will never be executed')\n",
    "    return \"This will never be returned\""
   ]
  },
  {
   "cell_type": "code",
   "execution_count": 21,
   "id": "3b93f6a0",
   "metadata": {},
   "outputs": [
    {
     "name": "stdout",
     "output_type": "stream",
     "text": [
      "Before exception is raised\n"
     ]
    },
    {
     "ename": "Exception",
     "evalue": "This is always raised",
     "output_type": "error",
     "traceback": [
      "\u001b[0;31m---------------------------------------------------------------------------\u001b[0m",
      "\u001b[0;31mException\u001b[0m                                 Traceback (most recent call last)",
      "Cell \u001b[0;32mIn[21], line 1\u001b[0m\n\u001b[0;32m----> 1\u001b[0m \u001b[43mnever_returns\u001b[49m\u001b[43m(\u001b[49m\u001b[43m)\u001b[49m\n",
      "Cell \u001b[0;32mIn[20], line 5\u001b[0m, in \u001b[0;36mnever_returns\u001b[0;34m()\u001b[0m\n\u001b[1;32m      3\u001b[0m \u001b[38;5;28;01mdef\u001b[39;00m \u001b[38;5;21mnever_returns\u001b[39m() \u001b[38;5;241m-\u001b[39m\u001b[38;5;241m>\u001b[39m NoReturn:\n\u001b[1;32m      4\u001b[0m     \u001b[38;5;28mprint\u001b[39m(\u001b[38;5;124m'\u001b[39m\u001b[38;5;124mBefore exception is raised\u001b[39m\u001b[38;5;124m'\u001b[39m)\n\u001b[0;32m----> 5\u001b[0m     \u001b[38;5;28;01mraise\u001b[39;00m \u001b[38;5;167;01mException\u001b[39;00m(\u001b[38;5;124m'\u001b[39m\u001b[38;5;124mThis is always raised\u001b[39m\u001b[38;5;124m'\u001b[39m)\n\u001b[1;32m      6\u001b[0m     \u001b[38;5;28mprint\u001b[39m(\u001b[38;5;124m'\u001b[39m\u001b[38;5;124mThis line will never be executed\u001b[39m\u001b[38;5;124m'\u001b[39m)\n\u001b[1;32m      7\u001b[0m     \u001b[38;5;28;01mreturn\u001b[39;00m \u001b[38;5;124m\"\u001b[39m\u001b[38;5;124mThis will never be returned\u001b[39m\u001b[38;5;124m\"\u001b[39m\n",
      "\u001b[0;31mException\u001b[0m: This is always raised"
     ]
    }
   ],
   "source": [
    "never_returns()"
   ]
  },
  {
   "cell_type": "code",
   "execution_count": 22,
   "id": "4a199635",
   "metadata": {},
   "outputs": [],
   "source": [
    "# called within the function\n",
    "def call_exceptor() -> None:\n",
    "    print('call_exceptor starts here...')\n",
    "    never_returns()\n",
    "    print('an exceptin was raised')\n",
    "    print(\"...so these lines don't run\")"
   ]
  },
  {
   "cell_type": "code",
   "execution_count": 23,
   "id": "66562ef0",
   "metadata": {},
   "outputs": [
    {
     "name": "stdout",
     "output_type": "stream",
     "text": [
      "call_exceptor starts here...\n",
      "Before exception is raised\n"
     ]
    },
    {
     "ename": "Exception",
     "evalue": "This is always raised",
     "output_type": "error",
     "traceback": [
      "\u001b[0;31m---------------------------------------------------------------------------\u001b[0m",
      "\u001b[0;31mException\u001b[0m                                 Traceback (most recent call last)",
      "Cell \u001b[0;32mIn[23], line 1\u001b[0m\n\u001b[0;32m----> 1\u001b[0m \u001b[43mcall_exceptor\u001b[49m\u001b[43m(\u001b[49m\u001b[43m)\u001b[49m\n",
      "Cell \u001b[0;32mIn[22], line 4\u001b[0m, in \u001b[0;36mcall_exceptor\u001b[0;34m()\u001b[0m\n\u001b[1;32m      2\u001b[0m \u001b[38;5;28;01mdef\u001b[39;00m \u001b[38;5;21mcall_exceptor\u001b[39m() \u001b[38;5;241m-\u001b[39m\u001b[38;5;241m>\u001b[39m \u001b[38;5;28;01mNone\u001b[39;00m:\n\u001b[1;32m      3\u001b[0m     \u001b[38;5;28mprint\u001b[39m(\u001b[38;5;124m'\u001b[39m\u001b[38;5;124mcall_exceptor starts here...\u001b[39m\u001b[38;5;124m'\u001b[39m)\n\u001b[0;32m----> 4\u001b[0m     \u001b[43mnever_returns\u001b[49m\u001b[43m(\u001b[49m\u001b[43m)\u001b[49m\n\u001b[1;32m      5\u001b[0m     \u001b[38;5;28mprint\u001b[39m(\u001b[38;5;124m'\u001b[39m\u001b[38;5;124man exceptin was raised\u001b[39m\u001b[38;5;124m'\u001b[39m)\n\u001b[1;32m      6\u001b[0m     \u001b[38;5;28mprint\u001b[39m(\u001b[38;5;124m\"\u001b[39m\u001b[38;5;124m...so these lines don\u001b[39m\u001b[38;5;124m'\u001b[39m\u001b[38;5;124mt run\u001b[39m\u001b[38;5;124m\"\u001b[39m)\n",
      "Cell \u001b[0;32mIn[20], line 5\u001b[0m, in \u001b[0;36mnever_returns\u001b[0;34m()\u001b[0m\n\u001b[1;32m      3\u001b[0m \u001b[38;5;28;01mdef\u001b[39;00m \u001b[38;5;21mnever_returns\u001b[39m() \u001b[38;5;241m-\u001b[39m\u001b[38;5;241m>\u001b[39m NoReturn:\n\u001b[1;32m      4\u001b[0m     \u001b[38;5;28mprint\u001b[39m(\u001b[38;5;124m'\u001b[39m\u001b[38;5;124mBefore exception is raised\u001b[39m\u001b[38;5;124m'\u001b[39m)\n\u001b[0;32m----> 5\u001b[0m     \u001b[38;5;28;01mraise\u001b[39;00m \u001b[38;5;167;01mException\u001b[39;00m(\u001b[38;5;124m'\u001b[39m\u001b[38;5;124mThis is always raised\u001b[39m\u001b[38;5;124m'\u001b[39m)\n\u001b[1;32m      6\u001b[0m     \u001b[38;5;28mprint\u001b[39m(\u001b[38;5;124m'\u001b[39m\u001b[38;5;124mThis line will never be executed\u001b[39m\u001b[38;5;124m'\u001b[39m)\n\u001b[1;32m      7\u001b[0m     \u001b[38;5;28;01mreturn\u001b[39;00m \u001b[38;5;124m\"\u001b[39m\u001b[38;5;124mThis will never be returned\u001b[39m\u001b[38;5;124m\"\u001b[39m\n",
      "\u001b[0;31mException\u001b[0m: This is always raised"
     ]
    }
   ],
   "source": [
    "call_exceptor()"
   ]
  },
  {
   "cell_type": "markdown",
   "id": "7e6cf3d8",
   "metadata": {},
   "source": [
    "## Handling exceptions\n",
    "\n",
    "- use try and except blocks\n",
    "- try statement has several separate clauses/parts\n",
    "- can also handle multiple excetions within the same except block\n",
    "\n",
    "```python\n",
    "\n",
    "    try:\n",
    "        # statement(s) thay may potentially raise an exception\n",
    "    except ExceptionName1:\n",
    "        # catch/handle specific exception ExceptionName1\n",
    "        # statement(s) to handle the exception\n",
    "    [except ExceptionName2 as err:\n",
    "        # statements\n",
    "    ]\n",
    "    [except:\n",
    "        # catch any error not caught by previous except blocks\n",
    "    ]\n",
    "    [else:\n",
    "        # follows all except clause\n",
    "        # executes if try clause does NOT raise an exception\n",
    "    ]\n",
    "    [finally:\n",
    "        # clean-up actions that must be executed under all circumstances; \n",
    "        # exectued on the way out when try block is left via a break, continue, or return statement\n",
    "    ]\n",
    "\n",
    "```\n",
    "- [ ... ] optional\n",
    "- finally clause can be used for:\n",
    "    - cleaning up an open database connection\n",
    "    - closing an open file\n",
    "    - sending a closing handshake over the network"
   ]
  },
  {
   "cell_type": "code",
   "execution_count": 26,
   "id": "c3fc4e15",
   "metadata": {},
   "outputs": [],
   "source": [
    "from typing import Union\n",
    "\n",
    "def funnier_divison(divisor: int) -> Union[str, float]:\n",
    "    try:\n",
    "        if divisor == 13:\n",
    "            raise ValueError(\"13 is an unlucky number\")\n",
    "        return 100 / divisor\n",
    "    except (ZeroDivisionError, TypeError):\n",
    "        return \"Enter a number other than zero.\""
   ]
  },
  {
   "cell_type": "code",
   "execution_count": 27,
   "id": "c3fc5a1f",
   "metadata": {},
   "outputs": [
    {
     "name": "stdout",
     "output_type": "stream",
     "text": [
      "Testing 0 Enter a number other than zero.\n",
      "Testing 'hello' Enter a number other than zero.\n",
      "Testing 50.0 2.0\n",
      "Testing 3 33.333333333333336\n",
      "Testing 13 "
     ]
    },
    {
     "ename": "ValueError",
     "evalue": "13 is an unlucky number",
     "output_type": "error",
     "traceback": [
      "\u001b[0;31m---------------------------------------------------------------------------\u001b[0m",
      "\u001b[0;31mValueError\u001b[0m                                Traceback (most recent call last)",
      "Cell \u001b[0;32mIn[27], line 3\u001b[0m\n\u001b[1;32m      1\u001b[0m \u001b[38;5;28;01mfor\u001b[39;00m val \u001b[38;5;129;01min\u001b[39;00m (\u001b[38;5;241m0\u001b[39m, \u001b[38;5;124m'\u001b[39m\u001b[38;5;124mhello\u001b[39m\u001b[38;5;124m'\u001b[39m, \u001b[38;5;241m50.0\u001b[39m, \u001b[38;5;241m3\u001b[39m, \u001b[38;5;241m13\u001b[39m):\n\u001b[1;32m      2\u001b[0m     \u001b[38;5;28mprint\u001b[39m(\u001b[38;5;124mf\u001b[39m\u001b[38;5;124m'\u001b[39m\u001b[38;5;124mTesting \u001b[39m\u001b[38;5;132;01m{\u001b[39;00mval\u001b[38;5;132;01m!r:\u001b[39;00m\u001b[38;5;132;01m}\u001b[39;00m\u001b[38;5;124m'\u001b[39m, end\u001b[38;5;241m=\u001b[39m\u001b[38;5;124m'\u001b[39m\u001b[38;5;124m \u001b[39m\u001b[38;5;124m'\u001b[39m)\n\u001b[0;32m----> 3\u001b[0m     \u001b[38;5;28mprint\u001b[39m(\u001b[43mfunnier_divison\u001b[49m\u001b[43m(\u001b[49m\u001b[43mval\u001b[49m\u001b[43m)\u001b[49m)\n",
      "Cell \u001b[0;32mIn[26], line 6\u001b[0m, in \u001b[0;36mfunnier_divison\u001b[0;34m(divisor)\u001b[0m\n\u001b[1;32m      4\u001b[0m \u001b[38;5;28;01mtry\u001b[39;00m:\n\u001b[1;32m      5\u001b[0m     \u001b[38;5;28;01mif\u001b[39;00m divisor \u001b[38;5;241m==\u001b[39m \u001b[38;5;241m13\u001b[39m:\n\u001b[0;32m----> 6\u001b[0m         \u001b[38;5;28;01mraise\u001b[39;00m \u001b[38;5;167;01mValueError\u001b[39;00m(\u001b[38;5;124m\"\u001b[39m\u001b[38;5;124m13 is an unlucky number\u001b[39m\u001b[38;5;124m\"\u001b[39m)\n\u001b[1;32m      7\u001b[0m     \u001b[38;5;28;01mreturn\u001b[39;00m \u001b[38;5;241m100\u001b[39m \u001b[38;5;241m/\u001b[39m divisor\n\u001b[1;32m      8\u001b[0m \u001b[38;5;28;01mexcept\u001b[39;00m (\u001b[38;5;167;01mZeroDivisionError\u001b[39;00m, \u001b[38;5;167;01mTypeError\u001b[39;00m):\n",
      "\u001b[0;31mValueError\u001b[0m: 13 is an unlucky number"
     ]
    }
   ],
   "source": [
    "for val in (0, 'hello', 50.0, 3, 13):\n",
    "    print(f'Testing {val!r:}', end=' ')\n",
    "    print(funnier_divison(val))"
   ]
  },
  {
   "cell_type": "code",
   "execution_count": 30,
   "id": "125243c2",
   "metadata": {},
   "outputs": [],
   "source": [
    "def funniest_division(divisor: int) -> Union[str, float]:\n",
    "    try:\n",
    "        if divisor == 13:\n",
    "            raise ValueError('13 is an unlucky number')\n",
    "        return 100 / divisor\n",
    "    except ZeroDivisionError as ex:\n",
    "        return f'{ex}: Enter a number other than zero'\n",
    "    except TypeError as ex:\n",
    "        return f'{ex}: Enter a numerical value'\n",
    "    except ValueError: \n",
    "        print('No, No, not 13!')\n",
    "        raise # re-raise the ValueError\n",
    "        "
   ]
  },
  {
   "cell_type": "code",
   "execution_count": 39,
   "id": "e11ae00d",
   "metadata": {},
   "outputs": [
    {
     "name": "stdout",
     "output_type": "stream",
     "text": [
      "funniest_division(10)= 10.0\n",
      "funniest_division(5)= 20.0\n",
      "funniest_division(0)= division by zero: Enter a number other than zero\n",
      "funniest_division('hi')= unsupported operand type(s) for /: 'int' and 'str': Enter a numerical value\n",
      "No, No, not 13!\n"
     ]
    },
    {
     "ename": "ValueError",
     "evalue": "13 is an unlucky number",
     "output_type": "error",
     "traceback": [
      "\u001b[0;31m---------------------------------------------------------------------------\u001b[0m",
      "\u001b[0;31mValueError\u001b[0m                                Traceback (most recent call last)",
      "Cell \u001b[0;32mIn[39], line 4\u001b[0m\n\u001b[1;32m      2\u001b[0m divisors \u001b[38;5;241m=\u001b[39m (\u001b[38;5;241m10\u001b[39m, \u001b[38;5;241m5\u001b[39m, \u001b[38;5;241m0\u001b[39m, \u001b[38;5;124m'\u001b[39m\u001b[38;5;124mhi\u001b[39m\u001b[38;5;124m'\u001b[39m, \u001b[38;5;241m13\u001b[39m)\n\u001b[1;32m      3\u001b[0m \u001b[38;5;28;01mfor\u001b[39;00m divisor \u001b[38;5;129;01min\u001b[39;00m divisors:\n\u001b[0;32m----> 4\u001b[0m     \u001b[38;5;28mprint\u001b[39m(\u001b[38;5;124mf\u001b[39m\u001b[38;5;124m'\u001b[39m\u001b[38;5;124mfunniest_division(\u001b[39m\u001b[38;5;132;01m{\u001b[39;00mdivisor\u001b[38;5;132;01m!r}\u001b[39;00m\u001b[38;5;124m)=\u001b[39m\u001b[38;5;124m'\u001b[39m, \u001b[43mfunniest_division\u001b[49m\u001b[43m(\u001b[49m\u001b[43mdivisor\u001b[49m\u001b[43m)\u001b[49m)\n",
      "Cell \u001b[0;32mIn[30], line 4\u001b[0m, in \u001b[0;36mfunniest_division\u001b[0;34m(divisor)\u001b[0m\n\u001b[1;32m      2\u001b[0m \u001b[38;5;28;01mtry\u001b[39;00m:\n\u001b[1;32m      3\u001b[0m     \u001b[38;5;28;01mif\u001b[39;00m divisor \u001b[38;5;241m==\u001b[39m \u001b[38;5;241m13\u001b[39m:\n\u001b[0;32m----> 4\u001b[0m         \u001b[38;5;28;01mraise\u001b[39;00m \u001b[38;5;167;01mValueError\u001b[39;00m(\u001b[38;5;124m'\u001b[39m\u001b[38;5;124m13 is an unlucky number\u001b[39m\u001b[38;5;124m'\u001b[39m)\n\u001b[1;32m      5\u001b[0m     \u001b[38;5;28;01mreturn\u001b[39;00m \u001b[38;5;241m100\u001b[39m \u001b[38;5;241m/\u001b[39m divisor\n\u001b[1;32m      6\u001b[0m \u001b[38;5;28;01mexcept\u001b[39;00m \u001b[38;5;167;01mZeroDivisionError\u001b[39;00m \u001b[38;5;28;01mas\u001b[39;00m ex:\n",
      "\u001b[0;31mValueError\u001b[0m: 13 is an unlucky number"
     ]
    }
   ],
   "source": [
    "# let's test funniest_division with some values\n",
    "divisors = (10, 5, 0, 'hi', 13)\n",
    "for divisor in divisors:\n",
    "    print(f'funniest_division({divisor!r})=', funniest_division(divisor))"
   ]
  },
  {
   "cell_type": "code",
   "execution_count": 32,
   "id": "0fb2f2b2",
   "metadata": {},
   "outputs": [
    {
     "name": "stdout",
     "output_type": "stream",
     "text": [
      "\n",
      "Raising <class 'ValueError'>\n",
      "Caught a ValueError\n",
      "this clean up code is always called\n",
      "\n",
      "Raising <class 'TypeError'>\n",
      "Caught a TypeError\n",
      "this clean up code is always called\n",
      "\n",
      "Raising <class 'IndexError'>\n",
      "Caught some other error: IndexError\n",
      "this clean up code is always called\n",
      "\n",
      "Raising None\n",
      "no exception raised\n",
      "this code called if there is no exception\n",
      "this clean up code is always called\n"
     ]
    }
   ],
   "source": [
    "# example of finally and else clauses\n",
    "\n",
    "some_exceptions = [ValueError, TypeError, IndexError, None]\n",
    "\n",
    "for ex in some_exceptions:\n",
    "    try:\n",
    "        print(f'\\nRaising {ex}')\n",
    "        if ex:\n",
    "            raise ex(\"An error\")\n",
    "        else:\n",
    "            print('no exception raised')\n",
    "    except ValueError:\n",
    "        print('Caught a ValueError')\n",
    "    except TypeError:\n",
    "        print('Caught a TypeError')\n",
    "    except Exception as e:\n",
    "        print(f'Caught some other error: {e.__class__.__name__}')\n",
    "    else:\n",
    "        print('this code called if there is no exception')\n",
    "    finally:\n",
    "        print('this clean up code is always called')"
   ]
  },
  {
   "cell_type": "markdown",
   "id": "d35674c2",
   "metadata": {},
   "source": [
    "## Exception hierarchy\n",
    "\n",
    "- when we use `except: ` clause without specifying any type of exception, it'll catch all subclasses of BaseException\n",
    "- always catch specific Exception type explictly\n",
    "    - except: without type is an error and will flag it in code review\n",
    "![Exception Hieararchy](resources/ExceptionHierarchy.png)"
   ]
  },
  {
   "cell_type": "markdown",
   "id": "d1e1a1c8",
   "metadata": {},
   "source": [
    "## Defining your own Exception\n",
    "\n",
    "- if the Python provided built-in exception classes are not adquate, you can create your own\n",
    "- create a sub class that inherits from Exception class"
   ]
  },
  {
   "cell_type": "code",
   "execution_count": 40,
   "id": "290d9440",
   "metadata": {},
   "outputs": [],
   "source": [
    "class InvalidWithdrawl(ValueError):\n",
    "    pass"
   ]
  },
  {
   "cell_type": "code",
   "execution_count": 41,
   "id": "09e9fb50",
   "metadata": {},
   "outputs": [
    {
     "ename": "InvalidWithdrawl",
     "evalue": "You don't have $50 in your account",
     "output_type": "error",
     "traceback": [
      "\u001b[0;31m---------------------------------------------------------------------------\u001b[0m",
      "\u001b[0;31mInvalidWithdrawl\u001b[0m                          Traceback (most recent call last)",
      "Cell \u001b[0;32mIn[41], line 1\u001b[0m\n\u001b[0;32m----> 1\u001b[0m \u001b[38;5;28;01mraise\u001b[39;00m InvalidWithdrawl(\u001b[38;5;124m\"\u001b[39m\u001b[38;5;124mYou don\u001b[39m\u001b[38;5;124m'\u001b[39m\u001b[38;5;124mt have $50 in your account\u001b[39m\u001b[38;5;124m\"\u001b[39m)\n",
      "\u001b[0;31mInvalidWithdrawl\u001b[0m: You don't have $50 in your account"
     ]
    }
   ],
   "source": [
    "raise InvalidWithdrawl(\"You don't have $50 in your account\")"
   ]
  },
  {
   "cell_type": "code",
   "execution_count": 42,
   "id": "b5515f66",
   "metadata": {},
   "outputs": [],
   "source": [
    "# more complete example\n",
    "from decimal import Decimal\n",
    "\n",
    "class InvalidWithdrawl(ValueError):\n",
    "    def __init__(self, balance:Decimal, amount:Decimal) ->None:\n",
    "        super().__init__(f\"account doesn't have {amount} amount\")\n",
    "        self.amount = amount\n",
    "        self.balance = balance\n",
    "        \n",
    "    # how overdrawn the withdraw request is  \n",
    "    def overage(self) -> Decimal:\n",
    "        return self.amount - self.balance\n",
    "    \n",
    "    "
   ]
  },
  {
   "cell_type": "code",
   "execution_count": 43,
   "id": "6a866247",
   "metadata": {},
   "outputs": [
    {
     "ename": "InvalidWithdrawl",
     "evalue": "account doesn't have 50.00 amount",
     "output_type": "error",
     "traceback": [
      "\u001b[0;31m---------------------------------------------------------------------------\u001b[0m",
      "\u001b[0;31mInvalidWithdrawl\u001b[0m                          Traceback (most recent call last)",
      "Cell \u001b[0;32mIn[43], line 1\u001b[0m\n\u001b[0;32m----> 1\u001b[0m \u001b[38;5;28;01mraise\u001b[39;00m InvalidWithdrawl(Decimal(\u001b[38;5;124m'\u001b[39m\u001b[38;5;124m25.00\u001b[39m\u001b[38;5;124m'\u001b[39m), Decimal(\u001b[38;5;124m'\u001b[39m\u001b[38;5;124m50.00\u001b[39m\u001b[38;5;124m'\u001b[39m))\n",
      "\u001b[0;31mInvalidWithdrawl\u001b[0m: account doesn't have 50.00 amount"
     ]
    }
   ],
   "source": [
    "raise InvalidWithdrawl(Decimal('25.00'), Decimal('50.00'))"
   ]
  },
  {
   "cell_type": "code",
   "execution_count": 49,
   "id": "3fa46c27",
   "metadata": {},
   "outputs": [
    {
     "name": "stdout",
     "output_type": "stream",
     "text": [
      "I'm sorry, but your withdrawl  is more than your balance by 25.00\n"
     ]
    }
   ],
   "source": [
    "try:\n",
    "    balance = Decimal('25.00')\n",
    "    withdraw = Decimal('50.00')\n",
    "    raise InvalidWithdrawl(balance, withdraw)\n",
    "except InvalidWithdrawl as ex:\n",
    "    print(\"I'm sorry, but your withdrawl \"\n",
    "          \" is more than your balance by \"\n",
    "         f'{ex.overage()}')"
   ]
  },
  {
   "cell_type": "markdown",
   "id": "945f99bd",
   "metadata": {},
   "source": [
    "## When to raise Exceptions\n",
    "\n",
    "- should you use `if` statements for checking unknowns or just execute code using try... except and see what happens?\n",
    "- Python developers tend to follow model: **EAFP**\n",
    "    - **It's easier to ask for forgiveness than permission**\n",
    "    - execute code then deal with anything that goes wrong\n",
    "- less popular model: **LBYL**\n",
    "    - **Look Before You Leap**\n",
    "    - you're burning some CPU cyles looking for unusual situation that is not going to arise in the normal path through the code\n",
    "- it is wise to use exceptions for exceptional circumstances, even those circumstances are only a little bit exceptional\n",
    "- e.g, the following two functions are identical!"
   ]
  },
  {
   "cell_type": "code",
   "execution_count": 51,
   "id": "08d26328",
   "metadata": {},
   "outputs": [],
   "source": [
    "def divide_with_exception(dividend: int, divisor: int) -> None:\n",
    "    try:\n",
    "        print(f'{dividend/divisor=}')\n",
    "    except ZeroDivisionError:\n",
    "        print(\"You can't divide by zero\")\n",
    "\n",
    "def divide_with_if(dividend: int, divisor: int) -> None:\n",
    "    if divisor == 0:\n",
    "        print(\"You can't divide by zero\")\n",
    "    else:\n",
    "        print(f\"{dividend/divisor=}\")"
   ]
  },
  {
   "cell_type": "code",
   "execution_count": 52,
   "id": "3c8f23a7",
   "metadata": {},
   "outputs": [
    {
     "name": "stdout",
     "output_type": "stream",
     "text": [
      "You can't divide by zero\n"
     ]
    }
   ],
   "source": [
    "divide_with_exception(10, 0)"
   ]
  },
  {
   "cell_type": "code",
   "execution_count": 53,
   "id": "f5c736dc",
   "metadata": {},
   "outputs": [
    {
     "name": "stdout",
     "output_type": "stream",
     "text": [
      "You can't divide by zero\n"
     ]
    }
   ],
   "source": [
    "divide_with_if(10, 0)"
   ]
  },
  {
   "cell_type": "markdown",
   "id": "e0467516",
   "metadata": {},
   "source": [
    "## Exercises\n",
    "\n",
    "- Solve the following Kattis Problems using OOD\n",
    "- Must write atleast one Exception class and use it to solve the problem using OOP\n",
    "\n",
    "1. A New Alphabet - https://open.kattis.com/problems/anewalphabet\n",
    "2. Babelfish - https://open.kattis.com/problems/babelfish"
   ]
  },
  {
   "cell_type": "code",
   "execution_count": null,
   "id": "123f2ccd",
   "metadata": {},
   "outputs": [],
   "source": []
  }
 ],
 "metadata": {
  "kernelspec": {
   "display_name": "Python 3 (ipykernel)",
   "language": "python",
   "name": "python3"
  },
  "language_info": {
   "codemirror_mode": {
    "name": "ipython",
    "version": 3
   },
   "file_extension": ".py",
   "mimetype": "text/x-python",
   "name": "python",
   "nbconvert_exporter": "python",
   "pygments_lexer": "ipython3",
   "version": "3.10.9"
  },
  "vscode": {
   "interpreter": {
    "hash": "1a1af0ee75eeea9e2e1ee996c87e7a2b11a0bebd85af04bb136d915cefc0abce"
   }
  }
 },
 "nbformat": 4,
 "nbformat_minor": 5
}
