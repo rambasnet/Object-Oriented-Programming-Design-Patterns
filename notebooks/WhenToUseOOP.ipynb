{
 "cells": [
  {
   "cell_type": "markdown",
   "id": "610c3fc1",
   "metadata": {},
   "source": [
    "# When to Use Object-Oriented Programming\n",
    "\n",
    "## Topics\n",
    "\n",
    "- how to recognize objects\n",
    "- data and behaviors, once again\n",
    "- wrapping data behaviors using properties\n",
    "- DRY principle and avoiding repetition"
   ]
  },
  {
   "cell_type": "markdown",
   "id": "1b63bef7",
   "metadata": {},
   "source": [
    "## Treat objects as objects\n",
    "\n",
    "- identify objects in the problem, and then model their data and behaviors\n",
    "- if data is the focus of a problem, use Python data structures such as list, dictionary, set, etc.\n",
    "- if the behavior is the focus, a simple function is more suitable\n",
    "- objects have both data and behavior and are of equal focus\n",
    "- e.g., design a program to model polygons in two-dimensional space\n",
    "    - we could start with each polygon represented as a list of points - a list of tuples\n",
    "    - then convert it into OOD\n",
    "- OOD can be verbose; lot more lines of code compared to the functional counterpart\n",
    "- Code length, however, is not a good indicator of code complexity\n",
    "- *one-liner* can be a fun exercise but the result is often unreadable, even to the original author the next day\n",
    "- the more important a set of data is, the more likely it is to have multiple functions specfic to that data\n",
    "    - more useful to use a class with attributes and methods instead\n",
    "- certain interactions among objects, and inheritance can't be modeled elegantly without classes\n",
    "- composition can be modeled with data structures only, but the code is less readable\n",
    "    - e.g., we can have a list of dictionaries holding tuple values\n",
    "    - less obvious what those tuples or dictionaries hold/represent!\n",
    "    \n",
    "#### NOTE: No one wins at Code Golf. Minimizing the volume of code is rarely desirable.\n",
    "\n",
    "### Case study of Point and Polygon\n",
    "- the difference between functional and OOD"
   ]
  },
  {
   "cell_type": "code",
   "execution_count": null,
   "id": "0bfbaa5e",
   "metadata": {},
   "outputs": [],
   "source": [
    "# use the built-in data structure to represent a square polygon\n",
    "square = [(1, 1), (1, 2), (2, 2), (2, 1)]"
   ]
  },
  {
   "cell_type": "code",
   "execution_count": null,
   "id": "2ab42bf7",
   "metadata": {},
   "outputs": [],
   "source": [
    "from math import hypot\n",
    "from typing import List\n",
    "\n",
    "# now find the perimeter of the square\n",
    "def distance(p1: List[int, int], p2):\n",
    "    return hypot(p1[0]-p2[0], p1[1]-p2[1])"
   ]
  },
  {
   "cell_type": "code",
   "execution_count": null,
   "id": "31f301fe",
   "metadata": {},
   "outputs": [],
   "source": [
    "def perimeter(polygon):\n",
    "    # zip creates: (v[0], v[1]), (v[1], v[2]), and (v[2], v[0])\n",
    "    pairs = zip(polygon, polygon[1:]+polygon[:1])\n",
    "    return sum(distance(p1, p2) for p1, p2 in pairs)"
   ]
  },
  {
   "cell_type": "code",
   "execution_count": null,
   "id": "08489b55",
   "metadata": {},
   "outputs": [],
   "source": [
    "perimeter(square)"
   ]
  },
  {
   "cell_type": "code",
   "execution_count": null,
   "id": "f6b8bbee",
   "metadata": {},
   "outputs": [],
   "source": [
    "from math import hypot\n",
    "from typing import Tuple, List\n",
    "\n",
    "# Type alias\n",
    "Point = Tuple[float, float] # this can be converted into a class\n",
    "\n",
    "def distance(p_1: Point, p_2: Point) -> float:\n",
    "    return hypot(p_1[0] - p_2[0], p_1[1] - p_2[1])\n",
    "\n",
    "Polygon = List[Point] # this can be converted into a class\n",
    "\n",
    "def perimeter(polygon: Polygon) -> float:\n",
    "    pairs = zip(polygon, polygon[1:] + polygon[:1])\n",
    "    return sum(distance(p1, p2) for p1, p2 in pairs)"
   ]
  },
  {
   "cell_type": "code",
   "execution_count": null,
   "id": "ed2d6f0b",
   "metadata": {},
   "outputs": [],
   "source": [
    "from math import hypot\n",
    "from typing import Tuple, List, Optional, Iterable\n",
    "\n",
    "class Point:\n",
    "    def __init__(self, x: float, y: float) -> None:\n",
    "        self.x = x\n",
    "        self.y = y\n",
    "        \n",
    "    def distance(self, other: \"Point\") -> float:\n",
    "        return hypot(self.x - other.x, self.y - other.y)\n",
    "    \n",
    "class Polygon:\n",
    "    def __init__(self) -> None:\n",
    "        self._vertices: List[Point] = []\n",
    "            \n",
    "    def add_point(self, point: \"Point\") -> None:\n",
    "        self._vertices.append((point))\n",
    "        \n",
    "    def perimeter(self) -> float:\n",
    "        pairs = zip(self._vertices, self._vertices[1:] + self._vertices[:1])\n",
    "        return sum(p1.distance(p2) for p1, p2 in pairs)"
   ]
  },
  {
   "cell_type": "code",
   "execution_count": null,
   "id": "2173533d",
   "metadata": {},
   "outputs": [],
   "source": [
    "square = Polygon()"
   ]
  },
  {
   "cell_type": "code",
   "execution_count": null,
   "id": "8d1c64bd",
   "metadata": {},
   "outputs": [],
   "source": [
    "square.add_point(Point(1, 1))"
   ]
  },
  {
   "cell_type": "code",
   "execution_count": null,
   "id": "b25fce04",
   "metadata": {},
   "outputs": [],
   "source": [
    "square.add_point(Point(1, 2))"
   ]
  },
  {
   "cell_type": "code",
   "execution_count": null,
   "id": "20045f36",
   "metadata": {},
   "outputs": [],
   "source": [
    "square.add_point(Point(2, 2))"
   ]
  },
  {
   "cell_type": "code",
   "execution_count": null,
   "id": "57c2a638",
   "metadata": {},
   "outputs": [],
   "source": [
    "square.add_point(Point(2, 1))"
   ]
  },
  {
   "cell_type": "code",
   "execution_count": null,
   "id": "efa7672c",
   "metadata": {},
   "outputs": [],
   "source": [
    "square.perimeter()"
   ]
  },
  {
   "cell_type": "code",
   "execution_count": null,
   "id": "989f23fb",
   "metadata": {},
   "outputs": [],
   "source": [
    "# more verbose/steps compared to functional design\n",
    "square = [(1, 1), (1, 2), (2, 2), (2, 1)]"
   ]
  },
  {
   "cell_type": "code",
   "execution_count": null,
   "id": "b7c6a48c",
   "metadata": {},
   "outputs": [],
   "source": [
    "perimeter(square)"
   ]
  },
  {
   "cell_type": "code",
   "execution_count": null,
   "id": "c4de584c",
   "metadata": {},
   "outputs": [],
   "source": [
    "# we could shorten Polygon class\n",
    "# just initialized Polygon with point objects\n",
    "class Polygon_2:\n",
    "    def __init__(self, vertices: Optional[Iterable[Point]] = None) -> None:\n",
    "        self._vertices = list(vertices) if vertices else []\n",
    "        \n",
    "    def perimeter(self) -> float:\n",
    "        pairs = zip(self._vertices, self._vertices[1:]+self._vertices[:1])\n",
    "        return sum(p1.distance(p2) for p1, p2 in pairs)"
   ]
  },
  {
   "cell_type": "code",
   "execution_count": null,
   "id": "6d1e1bb3",
   "metadata": {},
   "outputs": [],
   "source": [
    "square = Polygon_2([Point(1, 1), Point(1, 2), Point(2, 2), Point(2, 1)])"
   ]
  },
  {
   "cell_type": "code",
   "execution_count": null,
   "id": "5d9829e8",
   "metadata": {},
   "outputs": [],
   "source": [
    "square.perimeter()"
   ]
  },
  {
   "cell_type": "code",
   "execution_count": null,
   "id": "ff2adb97",
   "metadata": {},
   "outputs": [],
   "source": [
    "# let's take one more step; allow Polygon to accept Tuples too\n",
    "from typing import Union\n",
    "\n",
    "Pair = Tuple[float, float]\n",
    "Point_or_Tuple = Union[Point, Pair]\n",
    "\n",
    "class Polygon_3:\n",
    "    def __init__(self, vertices: Optional[Iterable[Point_or_Tuple]] = None) -> None:\n",
    "        self._vertices: List[Point] = []\n",
    "        if vertices:\n",
    "            for point_or_tuple in vertices:\n",
    "                self._vertices.append(Polygon_3.make_point(point_or_tuple))\n",
    "                \n",
    "    def perimeter(self) -> float:\n",
    "        pairs = zip(self._vertices, self._vertices[1:]+self._vertices[:1])\n",
    "        return sum(p1.distance(p2) for p1, p2 in pairs)\n",
    "    \n",
    "    @staticmethod\n",
    "    def make_point(item: Point_or_Tuple) -> Point:\n",
    "        return item if isinstance(item, Point) else Point(*item)\n",
    "    "
   ]
  },
  {
   "cell_type": "code",
   "execution_count": null,
   "id": "b43b8fac",
   "metadata": {},
   "outputs": [],
   "source": [
    "square = Polygon_3([(1, 1), (1, 2), (2, 2), (2, 1)])"
   ]
  },
  {
   "cell_type": "code",
   "execution_count": null,
   "id": "591912e3",
   "metadata": {},
   "outputs": [],
   "source": [
    "square.perimeter()"
   ]
  },
  {
   "cell_type": "markdown",
   "id": "2d17c92e",
   "metadata": {},
   "source": [
    "## Adding behaviors to class data with properties\n",
    "\n",
    "- even though classes hold both data and behavior, we've explictly separated them with variables and methods\n",
    "- the distinction between data and behavior sometimes can be uncannily blurry\n",
    "- OOD teaches us to never access attributes directly\n",
    "    - OO developers insist we write setters and getters (methods) to access attributes\n",
    "- setter and getter methods are not as readable and are not favored in my OOP languages\n",
    "    - they provide a simpler syntax to access attributes \"as if\" you're directly accessing them without the methods\n",
    "- why setters and getters?\n",
    "    - compile code cleanly as functions\n",
    "    - write extra code for data validation, caching (avoid complex recomputation), etc. when accessing and setting\n",
    "- Python gives us a `property` function that makes methods *look* like attributes\n",
    "- or use **decorators** `@property`, `@method.setter`, `@method.deleter` to define properties"
   ]
  },
  {
   "cell_type": "code",
   "execution_count": null,
   "id": "89ccf812",
   "metadata": {},
   "outputs": [],
   "source": [
    "# favored syntax - but not good design\n",
    "# access attribtues; not use getter and setter methods\n",
    "class Color:\n",
    "    def __init__(self, rgb_value: int, name: str) -> None:\n",
    "        self.rgb_value = rgb_value\n",
    "        self.name = name"
   ]
  },
  {
   "cell_type": "code",
   "execution_count": null,
   "id": "3772fa82",
   "metadata": {},
   "outputs": [],
   "source": [
    "c = Color(0xff0000, \"bright red\")"
   ]
  },
  {
   "cell_type": "code",
   "execution_count": null,
   "id": "c53f6a4d",
   "metadata": {},
   "outputs": [],
   "source": [
    "c.name"
   ]
  },
  {
   "cell_type": "code",
   "execution_count": null,
   "id": "d20691a2",
   "metadata": {},
   "outputs": [],
   "source": [
    "c.name = 'Red'"
   ]
  },
  {
   "cell_type": "code",
   "execution_count": null,
   "id": "d530eee4",
   "metadata": {},
   "outputs": [],
   "source": [
    "c.name"
   ]
  },
  {
   "cell_type": "code",
   "execution_count": null,
   "id": "1d94354b",
   "metadata": {},
   "outputs": [],
   "source": [
    "# using decorators to define getter and setter methods\n",
    "class NorwegianBlue:\n",
    "    def __init__(self, name: str) -> None:\n",
    "        self._name = name\n",
    "        self._state: str = \"N/A\"\n",
    "            \n",
    "    @property\n",
    "    def state(self) -> str:\n",
    "        \"\"\" This is a state property. \"\"\"\n",
    "        print(f\"Getting {self._name}'s State\")\n",
    "        return self._state\n",
    "    \n",
    "    @state.setter\n",
    "    def state(self, state: str) -> None:\n",
    "        print(f\"Setting {self._name}'s State to {state!r}\")\n",
    "        self._state = state\n",
    "        \n",
    "    @state.deleter\n",
    "    def silly(self) -> None:\n",
    "        print(f\"{self._name} is pushing up daisies!\")\n",
    "        del self._state"
   ]
  },
  {
   "cell_type": "code",
   "execution_count": null,
   "id": "ba3ff112",
   "metadata": {},
   "outputs": [],
   "source": [
    "ship = NorwegianBlue(\"The Norwegian Blue\")"
   ]
  },
  {
   "cell_type": "code",
   "execution_count": null,
   "id": "a7230383",
   "metadata": {},
   "outputs": [],
   "source": [
    "print(ship.state)"
   ]
  },
  {
   "cell_type": "code",
   "execution_count": null,
   "id": "b0653011",
   "metadata": {},
   "outputs": [],
   "source": [
    "ship.state = \"pining for the fjords\""
   ]
  },
  {
   "cell_type": "code",
   "execution_count": null,
   "id": "9a3bcbf8",
   "metadata": {},
   "outputs": [],
   "source": [
    "print(ship.state)"
   ]
  },
  {
   "cell_type": "code",
   "execution_count": null,
   "id": "25ab17c8",
   "metadata": {},
   "outputs": [],
   "source": [
    "del ship.silly"
   ]
  },
  {
   "cell_type": "markdown",
   "id": "97e4ca83",
   "metadata": {},
   "source": [
    "## When to use properties\n",
    "\n",
    "- can be confusing when properties blur the distinction between behavior and data\n",
    "- properties, data, and behavior are generally called the attributes of a class\n",
    "- follow these principles:\n",
    "    - use methods to represent actions; method names are generally verbs\n",
    "    - use attributes or properties to represent the state of the object; these are nouns, adjectives, and prepositions\n",
    "        - use properties for attributes in the exceptional case when:\n",
    "            - complex computation is involved such as data validation, logging, access controls, caching, etc.\n",
    "- example of caching data using `@property` method\n",
    "- without the method, you'll not be able to write code logic to use the cache content"
   ]
  },
  {
   "cell_type": "code",
   "execution_count": 20,
   "id": "716c3d08",
   "metadata": {},
   "outputs": [],
   "source": [
    "from urllib.request import urlopen\n",
    "from typing import Optional, cast\n",
    "\n",
    "class WebPage:\n",
    "    def __init__(self, url: str) -> None:\n",
    "        self._url = url # private attribute\n",
    "        self._content: Optional[bytes] = None # private attribute\n",
    "            \n",
    "    @property\n",
    "    def content(self) -> bytes:\n",
    "        if self._content is None:\n",
    "            print(\"Retrieving New Page...\")\n",
    "            with urlopen(self._url) as response:\n",
    "                self._content = response.read()\n",
    "        return self._content"
   ]
  },
  {
   "cell_type": "code",
   "execution_count": 21,
   "id": "e7ca23da",
   "metadata": {},
   "outputs": [
    {
     "name": "stdout",
     "output_type": "stream",
     "text": [
      "Retrieving New Page...\n",
      "Initial Request     0.29709\n",
      "Subsequent Requests 0.00010\n"
     ]
    }
   ],
   "source": [
    "import time\n",
    "webpage = WebPage(\"http://ccphillips.net/\")\n",
    "now = time.perf_counter()\n",
    "content1 = webpage.content\n",
    "first_fetch = time.perf_counter() - now\n",
    "\n",
    "now = time.perf_counter()\n",
    "content2 = webpage.content\n",
    "second_fetch = time.perf_counter() - now\n",
    "assert content2 == content1, \"Problem: Pages were different\"\n",
    "print(f\"Initial Request     {first_fetch:.5f}\")\n",
    "print(f\"Subsequent Requests {second_fetch:.5f}\")"
   ]
  },
  {
   "cell_type": "markdown",
   "id": "6f651130",
   "metadata": {},
   "source": [
    "## Removing duplicate code\n",
    "\n",
    "- Why is duplicate code a bad thing?\n",
    "    - boils down to 2 reasons: **readability** and **maintainability**\n",
    "    \n",
    "- **copy-pasta** programming: copy/pasting similar code to extend/add new functionalities\n",
    "    - creates a big mess of tangled noodles of code like a bowl of spaghetti\n",
    "- when we see similar or near duplicate code blocks, we have *additional* intellectual barrier to understanding:\n",
    "    1. Are they truly identical?\n",
    "    2. If not, how is one section different from the other?\n",
    "    3. When do we use one or the other?\n",
    "       \n",
    "- you may be the only person working on the project and it may all make sense to you now\n",
    "    - just easy to copy and paste! However, can you remember the logic behind it the next day/next year?\n",
    "    - What if someone else takes over/joins the project?\n",
    "\n",
    "#### NOTE: Code should always be written to be readable first.\n",
    "\n",
    "### DRY principle\n",
    "\n",
    "- Python developers prefer elegant, clean code and follow the **Don't Repeat Yourself** principle\n",
    "- Never copy and paste code! Think thrice before hitting `Ctrl+C`"
   ]
  },
  {
   "cell_type": "code",
   "execution_count": null,
   "id": "f29c939c",
   "metadata": {},
   "outputs": [],
   "source": []
  }
 ],
 "metadata": {
  "kernelspec": {
   "display_name": "Python 3",
   "language": "python",
   "name": "python3"
  },
  "language_info": {
   "codemirror_mode": {
    "name": "ipython",
    "version": 3
   },
   "file_extension": ".py",
   "mimetype": "text/x-python",
   "name": "python",
   "nbconvert_exporter": "python",
   "pygments_lexer": "ipython3",
   "version": "3.12.1"
  }
 },
 "nbformat": 4,
 "nbformat_minor": 5
}
