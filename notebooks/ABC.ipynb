{
 "cells": [
  {
   "cell_type": "markdown",
   "id": "bcb85272",
   "metadata": {},
   "source": [
    "# Abstract Base Class\n",
    "\n",
    "- not all classes are concrete with attributes and methods\n",
    "- some classes are missing details and are called abstract classes\n",
    "- abstract classes aren't directly usable themselves; but are meant to be inherited to create concrete classes\n",
    "- Note: *base* class and *super* class are used as synonyms\n",
    "- abstract class helps us create abstraction and make sure that child/concrete classes have replaced the abstraction\n",
    "\n",
    "![ABC Figure](resources/ABC.png)\n",
    "\n",
    "- learn:\n",
    "    - creating an abstract base class\n",
    "    - ABCs and type hints\n",
    "    - the *collections.abc* module\n",
    "    - operator overloading\n",
    "    - extending built-ins\n",
    "    - Metaclasses\n",
    "    \n",
    "## Creating an abstract base class (ABC)\n",
    "\n",
    "- define a media player as an *abstraction*\n",
    "- each unique kind of media file format can provide a *concrete* implementation of the abstraction\n",
    "- use `pass` or `...` keywords to complete the function definition\n",
    "- doc string also syntactically completes the function definition"
   ]
  },
  {
   "cell_type": "code",
   "execution_count": null,
   "id": "5e57a147",
   "metadata": {},
   "outputs": [],
   "source": [
    "import abc\n",
    "\n",
    "class MediaLoader(abc.ABC):\n",
    "    @abc.abstractmethod\n",
    "    def play(self) -> None:\n",
    "        ... # ellipsis\n",
    "        \n",
    "    @property\n",
    "    @abc.abstractmethod\n",
    "    def ext(self) -> str:\n",
    "        pass # placeholder"
   ]
  },
  {
   "cell_type": "code",
   "execution_count": null,
   "id": "294121e7",
   "metadata": {},
   "outputs": [],
   "source": [
    "# special attribute of class shows you a set of all the abstract methods\n",
    "MediaLoader.__abstractmethods__"
   ]
  },
  {
   "cell_type": "code",
   "execution_count": null,
   "id": "1441f4f5",
   "metadata": {},
   "outputs": [],
   "source": [
    "# let's see what happens if we implement a subclass\n",
    "# without providing details for abstract methods\n",
    "class MP3(MediaLoader):\n",
    "    pass"
   ]
  },
  {
   "cell_type": "code",
   "execution_count": null,
   "id": "e48e0a24",
   "metadata": {},
   "outputs": [],
   "source": [
    "mp3 = MP3()"
   ]
  },
  {
   "cell_type": "code",
   "execution_count": null,
   "id": "fd39a6d5",
   "metadata": {},
   "outputs": [],
   "source": [
    "class Ogg(MediaLoader):\n",
    "    ext = '.ogg' # property\n",
    "    \n",
    "    def play(self): # method\n",
    "        pass"
   ]
  },
  {
   "cell_type": "code",
   "execution_count": null,
   "id": "cb11d75f",
   "metadata": {},
   "outputs": [],
   "source": [
    "ogg = Ogg()"
   ]
  },
  {
   "cell_type": "code",
   "execution_count": null,
   "id": "c3ca82f4-8b3a-4f6d-9bce-b6b55d8bbd6a",
   "metadata": {},
   "outputs": [],
   "source": [
    "ogg.ext"
   ]
  },
  {
   "cell_type": "markdown",
   "id": "7647dd9d",
   "metadata": {},
   "source": [
    "## The ABCs of collections\n",
    "\n",
    "- collections module contains *abc* to extend and create custom containers\n",
    "- *Collection* is an extension of an even more fundamental abstraction, *Container*\n",
    "- the `collection.abc` module provides abstract base class definitions for Python built-in collections such as: list, dict, set, etc.\n",
    "- we can use the definitions to build our own unique data structures\n",
    "- e.g., `dict` concrete container has the following class hierarchy\n",
    "![ABC Containers](resources/abc_containers.png)\n"
   ]
  },
  {
   "cell_type": "code",
   "execution_count": null,
   "id": "c266c715",
   "metadata": {},
   "outputs": [],
   "source": [
    "import collections.abc"
   ]
  },
  {
   "cell_type": "code",
   "execution_count": null,
   "id": "a471659a",
   "metadata": {},
   "outputs": [],
   "source": [
    "help(collections.abc)"
   ]
  },
  {
   "cell_type": "code",
   "execution_count": null,
   "id": "d279d24c",
   "metadata": {},
   "outputs": [],
   "source": [
    "# let's see the APIs of dict to replicate them in our own example below\n",
    "help(dict)"
   ]
  },
  {
   "cell_type": "code",
   "execution_count": null,
   "id": "9bba87a4",
   "metadata": {},
   "outputs": [],
   "source": [
    "from collections.abc import Container"
   ]
  },
  {
   "cell_type": "code",
   "execution_count": null,
   "id": "de3a8e3f",
   "metadata": {},
   "outputs": [],
   "source": [
    "Container.__abstractmethods__"
   ]
  },
  {
   "cell_type": "code",
   "execution_count": null,
   "id": "b890b9c2",
   "metadata": {},
   "outputs": [],
   "source": [
    "help(Container.__contains__)"
   ]
  },
  {
   "cell_type": "code",
   "execution_count": null,
   "id": "1bfed664",
   "metadata": {},
   "outputs": [],
   "source": [
    "class OddIntegers:\n",
    "    def __contains__(self, x: int) -> bool:\n",
    "        return x%2 != 0"
   ]
  },
  {
   "cell_type": "code",
   "execution_count": null,
   "id": "849afcef",
   "metadata": {},
   "outputs": [],
   "source": [
    "odd = OddIntegers()"
   ]
  },
  {
   "cell_type": "code",
   "execution_count": null,
   "id": "2e361e34",
   "metadata": {},
   "outputs": [],
   "source": [
    "# Though OddIntegers doesn't inherit from Container, \n",
    "# it looks like Container because of __contains__ -- duck typing!\n",
    "isinstance(odd, Container)"
   ]
  },
  {
   "cell_type": "code",
   "execution_count": null,
   "id": "de8e9921",
   "metadata": {},
   "outputs": [],
   "source": [
    "issubclass(OddIntegers, Container)"
   ]
  },
  {
   "cell_type": "code",
   "execution_count": null,
   "id": "ec76164f",
   "metadata": {},
   "outputs": [],
   "source": [
    "# any class that has __contains__ method is a container\n",
    "# in operator is overloaded which calls __contains___\n",
    "2 in odd"
   ]
  },
  {
   "cell_type": "code",
   "execution_count": null,
   "id": "bddae361",
   "metadata": {},
   "outputs": [],
   "source": [
    "3 in odd"
   ]
  },
  {
   "cell_type": "markdown",
   "id": "1909e3d2",
   "metadata": {},
   "source": [
    "### Implement an Immutable Mapping container\n",
    "\n",
    "- **Protocol** - is how the duck typing works:\n",
    "    - when two classes have the same set of methods, they both adhere to a common protocol    \n",
    "- let's extend the `collections.abc` to define our own dictionary-like mapping (look-up) object\n",
    "- we'll use the following type hint for *mypy*\n",
    "\n",
    "```python\n",
    "BaseMapping = abc.Mapping[Comparable, Any]\n",
    "```\n",
    "\n",
    "- key type is Comparable, so we can compare and order the keys\n",
    "    - searching a list in order is much faster than an unordered list\n",
    "- value type is Any object\n",
    "- we'll use same initializers as built-in dict is built from a mapping or a sequence of pairs as shown below\n",
    "- use `bisect_left` or `bisect_right` binary search functions in `bisect` module to keep the sorted list of keys\n",
    "- **bisect_left(alist, x)**\n",
    "    - returns the leftmost index where x should be inserted to keep `alist` sorted\n",
    "    - ff `x` is already present, the insertion point will be before (to the left of) any existing entries of x\n",
    "- **bisect_right(alist, x)**\n",
    "    - returns the rightmost index where x should be inserted to keep `alist` sorted\n",
    "    - if `x` is already present, the insertion point will be after the existing entries of x\n",
    "- what is the worst cast time complexity (big O notation) of binary search?"
   ]
  },
  {
   "cell_type": "code",
   "execution_count": null,
   "id": "dd31321b",
   "metadata": {},
   "outputs": [],
   "source": [
    "import bisect"
   ]
  },
  {
   "cell_type": "code",
   "execution_count": null,
   "id": "68956ef9",
   "metadata": {},
   "outputs": [],
   "source": [
    "alist = [1, 3, 3, 3, 5]"
   ]
  },
  {
   "cell_type": "code",
   "execution_count": null,
   "id": "7aab5438",
   "metadata": {},
   "outputs": [],
   "source": [
    "i = bisect.bisect_left(alist, 3)\n",
    "print(i)"
   ]
  },
  {
   "cell_type": "code",
   "execution_count": null,
   "id": "62fe9f97",
   "metadata": {},
   "outputs": [],
   "source": [
    "print(bisect.bisect_right(alist, 3))"
   ]
  },
  {
   "cell_type": "code",
   "execution_count": null,
   "id": "705402ce",
   "metadata": {},
   "outputs": [],
   "source": [
    "# dict can be generated by initilizing with various data types\n",
    "x = dict({\"a\": 42, \"b\": 7, \"c\": 6})"
   ]
  },
  {
   "cell_type": "code",
   "execution_count": null,
   "id": "16c60228",
   "metadata": {},
   "outputs": [],
   "source": [
    "y = dict(((\"a\", 42), (\"b\", 7), (\"c\", 6)))"
   ]
  },
  {
   "cell_type": "code",
   "execution_count": null,
   "id": "65c7432e",
   "metadata": {},
   "outputs": [],
   "source": [
    "z = dict([(\"a\", 42), (\"b\", 7), (\"c\", 6)])"
   ]
  },
  {
   "cell_type": "code",
   "execution_count": null,
   "id": "b40b289e",
   "metadata": {},
   "outputs": [],
   "source": [
    "x == y == z"
   ]
  },
  {
   "cell_type": "code",
   "execution_count": null,
   "id": "79cdfb0c",
   "metadata": {},
   "outputs": [],
   "source": [
    "# let's define a Comparable class that'll be used as a type in the Lookup class definition\n",
    "\n",
    "from typing import Protocol, Any\n",
    "\n",
    "class Comparable(Protocol):\n",
    "    def __eq__(self, other: Any) -> bool: ...\n",
    "    def __ne__(self, other: Any) -> bool: ...\n",
    "    def __le__(self, other: Any) -> bool: ...\n",
    "    def __lt__(self, other: Any) -> bool: ...\n",
    "    def __ge__(self, other: Any) -> bool: ...\n",
    "    def __gt__(self, other: Any) -> bool: ..."
   ]
  },
  {
   "cell_type": "code",
   "execution_count": null,
   "id": "5ad8ae13",
   "metadata": {},
   "outputs": [],
   "source": [
    "from __future__ import annotations\n",
    "from collections import abc\n",
    "from typing import Protocol, Any, overload, Union\n",
    "import bisect\n",
    "from typing import Iterator, Iterable, Sequence, Mapping\n",
    "\n",
    "BaseMapping = abc.Mapping[Comparable, Any]\n",
    "\n",
    "class Lookup(BaseMapping):\n",
    "    \n",
    "    # To make it clear to mypy, we need to provide overloaded method definitions using @overload\n",
    "    @overload\n",
    "    def __init__(self, source: Iterable[tuple[Comparable, Any]]) -> None:\n",
    "        ...\n",
    "        \n",
    "    @overload\n",
    "    def __init__(self, source: BaseMapping) -> None:\n",
    "        ...\n",
    "        \n",
    "    def __init__(self, \n",
    "                source: Union[Iterable[tuple[Comparable, Any]], \n",
    "                              BaseMapping, None] = None,\n",
    "    ) -> None:\n",
    "        sorted_pairs: Sequence[tuple[Comparable, Any]]\n",
    "        if isinstance(source, Sequence):\n",
    "            sorted_pairs = sorted(source)\n",
    "        elif isinstance(source, abc.Mapping):\n",
    "            sorted_pairs = sorted(source.items())\n",
    "        else:\n",
    "            sorted_pairs = []\n",
    "        self.key_list = [p[0] for p in sorted_pairs]\n",
    "        self.value_list = [p[1] for p in sorted_pairs]\n",
    "        assert len(self.key_list) == len(self.value_list)\n",
    "        \n",
    "    # Abstract methods from base classes\n",
    "    def __len__(self) -> int:\n",
    "        return len(self.key_list)\n",
    "    \n",
    "    def __iter__(self) -> Iterator[Comparable]:\n",
    "        return iter(self.key_list)\n",
    "    \n",
    "    def __contains__(self, key: object) -> bool:\n",
    "        # can use bisect_right or left\n",
    "        index = bisect.bisect_left(self.key_list, key)\n",
    "        return key == self.key_list[index]\n",
    "    \n",
    "    def __getitem__(self, key:Comparable) -> Any:\n",
    "        index = bisect.bisect_left(self.key_list, key)\n",
    "        if key == self.key_list[index]:\n",
    "            return self.value_list[index]\n",
    "        raise KeyError(key)\n",
    "        "
   ]
  },
  {
   "cell_type": "code",
   "execution_count": null,
   "id": "d792e308",
   "metadata": {},
   "outputs": [],
   "source": [
    "look = Lookup({'a': 1, 'b': 2, 'c': 3, 'z': 26})"
   ]
  },
  {
   "cell_type": "code",
   "execution_count": null,
   "id": "f0856d8e",
   "metadata": {},
   "outputs": [],
   "source": [
    "'z' in look"
   ]
  },
  {
   "cell_type": "code",
   "execution_count": null,
   "id": "dc87e61e",
   "metadata": {},
   "outputs": [],
   "source": [
    "'f' in look"
   ]
  },
  {
   "cell_type": "code",
   "execution_count": null,
   "id": "10fe3839",
   "metadata": {},
   "outputs": [],
   "source": [
    "look['z']"
   ]
  },
  {
   "cell_type": "code",
   "execution_count": null,
   "id": "dd8831c1",
   "metadata": {},
   "outputs": [],
   "source": [
    "look['m']"
   ]
  },
  {
   "cell_type": "code",
   "execution_count": null,
   "id": "bb8c7c86",
   "metadata": {},
   "outputs": [],
   "source": [
    "for k in look:\n",
    "    print(k, '->', look[k])"
   ]
  },
  {
   "cell_type": "code",
   "execution_count": null,
   "id": "fa0fd331",
   "metadata": {},
   "outputs": [],
   "source": [
    "list(look.items())"
   ]
  },
  {
   "cell_type": "code",
   "execution_count": null,
   "id": "781ea19a",
   "metadata": {},
   "outputs": [],
   "source": [
    "# Since keys are sorted, they must be comparable\n",
    "x = Lookup([\n",
    "    ('a', 'Apple'),\n",
    "    ('b', 'Ball'),\n",
    "    ('uno', 'one'),\n",
    "    ('1', 'One')\n",
    "])"
   ]
  },
  {
   "cell_type": "code",
   "execution_count": null,
   "id": "53aa2e9f",
   "metadata": {},
   "outputs": [],
   "source": [
    "x['a']"
   ]
  },
  {
   "cell_type": "code",
   "execution_count": null,
   "id": "7debae1a",
   "metadata": {},
   "outputs": [],
   "source": [
    "x['10']"
   ]
  },
  {
   "cell_type": "code",
   "execution_count": null,
   "id": "46bf015b-f43b-4e11-8095-24e45ae193fd",
   "metadata": {},
   "outputs": [],
   "source": [
    "# Immutable dictionary! __setitem__ is not implemented!\n",
    "x['10'] = 'Ten'"
   ]
  },
  {
   "cell_type": "markdown",
   "id": "f6b36878",
   "metadata": {},
   "source": [
    "### Rules to extend abc\n",
    "\n",
    "- Find a class that does most of what you need\n",
    "- Identify the abstract methods in collections.abc definitions\n",
    "    - look at the help docs, source code, etc.\n",
    "- Subclass the abstract class, filling in the missing methods\n",
    "- use **mypy** and **unittest** to make sure abstract methods are implemented and working correctly"
   ]
  },
  {
   "cell_type": "markdown",
   "id": "d30008b7",
   "metadata": {},
   "source": [
    "## Creating your own abc \n",
    "\n",
    "- simulating a game that involves rolling of polyhedral dice\n",
    "    - dices with four, eight, twelve and twenty sides\n",
    "    \n",
    "  "
   ]
  },
  {
   "cell_type": "code",
   "execution_count": null,
   "id": "24ae95be",
   "metadata": {},
   "outputs": [],
   "source": [
    "import abc\n",
    "\n",
    "class Die(abc.ABC):\n",
    "    def __init__(self) -> None:\n",
    "        self.face: int\n",
    "        self.roll()\n",
    "        \n",
    "    @abc.abstractmethod\n",
    "    def roll(self) -> None:\n",
    "        ...\n",
    "        \n",
    "    def __repr__(self) -> str:\n",
    "        return f'{self.face}'\n",
    "    "
   ]
  },
  {
   "cell_type": "code",
   "execution_count": null,
   "id": "3f9f0595",
   "metadata": {},
   "outputs": [],
   "source": [
    "Die.__abstractmethods__"
   ]
  },
  {
   "cell_type": "code",
   "execution_count": null,
   "id": "9ee9b370",
   "metadata": {},
   "outputs": [],
   "source": [
    "# can also check if a method is abstract method\n",
    "Die.roll.__isabstractmethod__"
   ]
  },
  {
   "cell_type": "code",
   "execution_count": null,
   "id": "a563237f",
   "metadata": {},
   "outputs": [],
   "source": [
    "import random\n",
    "\n",
    "class D4(Die):\n",
    "    def roll(self) -> None:\n",
    "        self.face = random.choice((1, 2, 3, 4))\n",
    "\n",
    "class D6(Die):\n",
    "    def roll(self) -> None:\n",
    "        self.face = random.randint(1, 6)\n",
    "        "
   ]
  },
  {
   "cell_type": "code",
   "execution_count": null,
   "id": "efdf18a0",
   "metadata": {},
   "outputs": [],
   "source": [
    "class Dice(abc.ABC):\n",
    "    def __init__(self, n: int, die_class: Die) -> None:\n",
    "        self.dice = [die_class() for _ in range(n)]\n",
    "    \n",
    "    @abc.abstractmethod\n",
    "    def roll(self) -> None:\n",
    "        ...\n",
    "        \n",
    "    @property\n",
    "    def total(self) ->int:\n",
    "        return sum(d.face for d in self.dice)"
   ]
  },
  {
   "cell_type": "code",
   "execution_count": null,
   "id": "be8d1c4c",
   "metadata": {},
   "outputs": [],
   "source": [
    "# The subclass implements the roll-all-the-dice rule\n",
    "class SimpleDice(Dice):\n",
    "    def roll(self) -> None:\n",
    "        for d in self.dice:\n",
    "            d.roll()"
   ]
  },
  {
   "cell_type": "code",
   "execution_count": null,
   "id": "5a84300d",
   "metadata": {},
   "outputs": [],
   "source": [
    "sd = SimpleDice(6, D6)"
   ]
  },
  {
   "cell_type": "code",
   "execution_count": null,
   "id": "c96244be",
   "metadata": {},
   "outputs": [],
   "source": [
    "# roll the dice a few times to see the random total\n",
    "sd.roll()"
   ]
  },
  {
   "cell_type": "code",
   "execution_count": null,
   "id": "66039237",
   "metadata": {},
   "outputs": [],
   "source": [
    "sd.total"
   ]
  },
  {
   "cell_type": "markdown",
   "id": "eaa27433",
   "metadata": {},
   "source": [
    "### Yacht dice game\n",
    "\n",
    "- 5 6-sided dice are used\n",
    "- players take turns (usually 12 turns total)\n",
    "- on your turn:\n",
    "    - roll all 5 dice\n",
    "    - you can re-roll any number of dice up to 2 more times (max 3 rolls per turn)\n",
    "    - choose a scoring category to place your final dice in\n",
    "    - once a category is used, it can’t be used again"
   ]
  },
  {
   "cell_type": "code",
   "execution_count": null,
   "id": "628e82e9",
   "metadata": {},
   "outputs": [],
   "source": [
    "from typing import Iterable\n",
    "\n",
    "class YachtDice(Dice):\n",
    "    def __init__(self) -> None:\n",
    "        super().__init__(5, D6)\n",
    "        self.saved: Set[int] = set()\n",
    "            \n",
    "    # save dice positions in the saved set\n",
    "    def saving(self, positions: Iterable[int]) -> \"YactDice\":\n",
    "        if not all(0 <= n < 6 for n in positions):\n",
    "            raise ValueError(\"Invalid position\")\n",
    "        self.saved = set(positions)\n",
    "        return self\n",
    "    \n",
    "    def roll(self) -> None:\n",
    "        for n, d in enumerate(self.dice):\n",
    "            if n not in self.saved:\n",
    "                d.roll()\n",
    "                \n",
    "        self.saved = set()"
   ]
  },
  {
   "cell_type": "code",
   "execution_count": null,
   "id": "928a03b4",
   "metadata": {},
   "outputs": [],
   "source": [
    "YachtDice.__abstractmethods__"
   ]
  },
  {
   "cell_type": "code",
   "execution_count": null,
   "id": "294f3571",
   "metadata": {},
   "outputs": [],
   "source": [
    "yd = YachtDice()"
   ]
  },
  {
   "cell_type": "code",
   "execution_count": null,
   "id": "be908eed",
   "metadata": {},
   "outputs": [],
   "source": [
    "yd.roll()"
   ]
  },
  {
   "cell_type": "code",
   "execution_count": null,
   "id": "70ae5f89",
   "metadata": {},
   "outputs": [],
   "source": [
    "yd.dice"
   ]
  },
  {
   "cell_type": "code",
   "execution_count": null,
   "id": "bbce1428",
   "metadata": {},
   "outputs": [],
   "source": [
    "yd.saving([0, 3]).roll()"
   ]
  },
  {
   "cell_type": "code",
   "execution_count": null,
   "id": "7101639e",
   "metadata": {},
   "outputs": [],
   "source": [
    "yd.dice"
   ]
  },
  {
   "cell_type": "code",
   "execution_count": null,
   "id": "733f13c2",
   "metadata": {},
   "outputs": [],
   "source": [
    "yd.saving([1, 2, 4]).roll()"
   ]
  },
  {
   "cell_type": "code",
   "execution_count": null,
   "id": "300b2bc4",
   "metadata": {},
   "outputs": [],
   "source": [
    "yd.dice"
   ]
  },
  {
   "cell_type": "code",
   "execution_count": null,
   "id": "ac973bc5",
   "metadata": {},
   "outputs": [],
   "source": [
    "yd.total"
   ]
  },
  {
   "cell_type": "markdown",
   "id": "2a0ae521",
   "metadata": {},
   "source": [
    "## Exercises\n",
    "\n",
    "- solve the following Kattis problems using ABC\n",
    "- must use the following Kattis ABC class\n",
    "- see demo: [https://github.com/rambasnet/Object-Oriented-Programming-Design-Patterns/tree/main/demo-assignments/A2-ABC/egypt](https://github.com/rambasnet/Object-Oriented-Programming-Design-Patterns/tree/main/demo-assignments/A2-ABC/egypt)\n",
    "\n",
    "```python\n",
    "\n",
    "from abc import ABC, abstractmethod\n",
    "from typing import Any\n",
    "\n",
    "class Kattis(ABC):\n",
    "\t\"\"\"\n",
    "\tSolution ABC class for Kattis problems\n",
    "\t\"\"\"\n",
    "\tdef __init__(self, data_source: Any) -> None:\n",
    "\t\t\"\"\"\n",
    "\t\tConstructor\n",
    "        :param data_source: input data source object\n",
    "        :return: None\n",
    "\t\t\"\"\"\n",
    "\t\tself._input_source: Any = data_source\n",
    "\t\tself._data: Any = None\n",
    "\t\tself._answer: Any = None\n",
    "\n",
    "\t@abstractmethod\n",
    "\tdef read_input(self) -> None:\n",
    "\t\t\"\"\"\n",
    "\t\tReads the data from the given source\n",
    "\t\t:return: None\n",
    "\t\t\"\"\"\n",
    "\t\t...\n",
    "\n",
    "\t@property\n",
    "\t@abstractmethod\n",
    "\tdef data(self) -> Any:\n",
    "\t\t\"\"\"\n",
    "\t\tReturns the data\n",
    "\t\t:return: data\n",
    "\t\t\"\"\"\n",
    "\t\t...\n",
    "\n",
    "\t@property\n",
    "\t@abstractmethod\n",
    "\tdef answer(self) -> Any:\n",
    "\t\t\"\"\"\n",
    "\t\tReturns the answer\n",
    "\t\t:return: answer\n",
    "\t\t\"\"\"\n",
    "\t\t...\n",
    "\n",
    "\t@abstractmethod\n",
    "\tdef solve(self) -> None:\n",
    "\t\t\"\"\"\n",
    "\t\tSolves the problem\n",
    "\t\t:return: None\n",
    "\t\t\"\"\"\n",
    "\t\t...\n",
    "\n",
    "\t@abstractmethod\n",
    "\tdef print_answer(self) -> None:\n",
    "\t\t\"\"\"\n",
    "\t\tPrints the answer\n",
    "\t\t:return: None\n",
    "\t\t\"\"\"\n",
    "\t\t...\n",
    "\t\t\n",
    "```\n",
    "\n",
    "1. Create a new data structure called Teque -- the definition of which can be found here: https://open.kattis.com/problems/teque\n",
    "    - Solve the problem using the new Teque type defined by extending Deque or similar abc\n",
    "    - Teque must implent push_back, push_front, push_middle and get interfaces at a minimum\n",
    "    - Solution will be accepted if at least all but last 2 cases are accepted. If you receive TLE in the last or 2nd last test case on Kattis, you will receive full credit.\n",
    "    \n",
    "```python\n",
    "\n",
    "from typing import Deque\n",
    "from collections.abc import Sequence\n",
    "\n",
    "class Teque(Sequence[int]):\n",
    "    def __init__(self) -> None:\n",
    "        self._q1: Deque = deque()\n",
    "        self._q2: Deque = deque()\n",
    "\n",
    "    def __len__(self) -> int:\n",
    "        pass\n",
    "\n",
    "    @overload\n",
    "    def __getitem__(self, i: int) -> int: ...\n",
    "\n",
    "    @overload\n",
    "    def __getitem__(self, i: slice) -> Teque: ...\n",
    "\n",
    "    def __getitem__(self, i: Union[int, slice]) -> Union[int, Teque]:\n",
    "        if isinstance(i, slice):\n",
    "            return Teque()\n",
    "        if i < len(self._q1):\n",
    "            return self._q1[i]\n",
    "        else:\n",
    "            return self._q2[i-len(self._q1)]\n",
    "\n",
    "    def __iter__(self) -> Iterator[int]:\n",
    "        for x in self._q1:\n",
    "            yield x\n",
    "        for x in self._q2:\n",
    "            yield x\n",
    "\n",
    "    def __reversed__(self) -> Iterator[int]:\n",
    "        pass\n",
    "\n",
    "    def insert(self, i, x) -> None:\n",
    "        pass\n",
    "\n",
    "    def push_back(self, x) -> None:\n",
    "        pass\n",
    "\n",
    "    def push_front(self, x) -> None:\n",
    "        pass\n",
    "\n",
    "    def push_middle(self, x) -> None:\n",
    "        pass\n",
    "\n",
    "    def get(self, i) -> int:\n",
    "        return self[i]\n",
    "```\n",
    "    \n",
    "2. Solve Kattis CD problem - https://open.kattis.com/problems/cd using ABC and OOD\n",
    "    - Create a new data structure called CD inherited from MutableSequence.\n",
    "    - CD must have `common()` interface method to find the intersection between other CD object\n",
    "    - `__and__()` method overloads `&` intersection operator\n",
    "    - e.g., jack & jill\n",
    "    - Must use the following class definition\n",
    "\n",
    "```python\n",
    "from __future__ import annotations\n",
    "from collections.abc import MutableSequence\n",
    "from typing import List, Iterator, Union, overload\n",
    "\n",
    "class CD(MutableSequence[int]):\n",
    "\tdef __init__(self, count: int = 0, maxCount: int = 1_000_000) -> None:\n",
    "\t\tself._count: int = count\n",
    "\t\tself._ids : List[int] = [0]*maxCount\n",
    "\n",
    "\tdef __len__(self) -> int:\n",
    "\t\treturn len(self._ids)\n",
    "\n",
    "\t@overload\n",
    "\tdef __getitem__(self, idx: int) -> int: ...\n",
    "\n",
    "\t@overload\n",
    "\tdef __getitem__(self, idx: slice) -> CD: ...\n",
    "\n",
    "\tdef __getitem__(self, idx: Union[int, slice]) -> Union[int, CD]:\n",
    "\t\tif isinstance(idx, slice):\n",
    "\t\t\treturn CD() \n",
    "\t\treturn self._ids[idx]\n",
    "\n",
    "\t@overload\n",
    "\tdef __setitem__(self, idx:int, x: int) -> None: ...\n",
    "\n",
    "\t@overload\n",
    "\tdef __setitem__(self, idx: slice, x: Iterable[int]) -> None: ...\n",
    "\n",
    "\tdef __setitem__(self, idx: Union[int, slice], x: Union[int, Iterable]) -> None:\n",
    "\t\tif isinstance(idx, int) and isinstance(x, int):\n",
    "\t\t\tself._ids[idx] = x\n",
    "\t\telif isinstance(idx, slice) or isinstance(x, Iterable):\n",
    "\t\t\traise NotImplementedError\n",
    "\n",
    "\tdef __delitem__(self, i) -> None:\n",
    "\t\tdel self._ids[i]\n",
    "\n",
    "\tdef __iter__(self) -> Iterator[int]:\n",
    "\t\tfor x in self._ids:\n",
    "\t\t\tyield x\n",
    "\n",
    "\tdef __reversed__(self) -> Iterator[int]:\n",
    "\t\tfor x in reversed(self._ids):\n",
    "            yield x\n",
    "\n",
    "\tdef __str__(self) -> str:\n",
    "\t\treturn str(self._ids)\n",
    "    \n",
    "    def insert(self, i: int, x: int) -> None:\n",
    "\t\tself._ids[i] = x\n",
    "\n",
    "\t@property\n",
    "\tdef last(self) -> int:\n",
    "\t\tpass\n",
    "\n",
    "\t@property\n",
    "\tdef count(self) -> int:\n",
    "\t\treturn self._count\n",
    "\n",
    "\t@count.setter\n",
    "\tdef count(self, count: int) -> None:\n",
    "\t\tself._count = count\n",
    "    \n",
    "\tdef __and__(self, other: 'CD') -> int:\n",
    "\t\tcommon = 0\n",
    "\t\ti = 0\n",
    "\t\tj = 0\n",
    "\t\t# FIXME: find the common ids between this and other\n",
    "        - loop from 0 to count\n",
    "            - if this id at i is larger than the last id of other or vice versa exit loop\n",
    "            - if this id at i equals other id at j, increment common, i and j\n",
    "            - else if this id at i less than other id at j, increment i\n",
    "            - else increment j\n",
    "\t\treturn common\n",
    "```"
   ]
  },
  {
   "cell_type": "code",
   "execution_count": null,
   "id": "219abbaa",
   "metadata": {},
   "outputs": [],
   "source": []
  }
 ],
 "metadata": {
  "kernelspec": {
   "display_name": "Python 3 (ipykernel)",
   "language": "python",
   "name": "python3"
  },
  "language_info": {
   "codemirror_mode": {
    "name": "ipython",
    "version": 3
   },
   "file_extension": ".py",
   "mimetype": "text/x-python",
   "name": "python",
   "nbconvert_exporter": "python",
   "pygments_lexer": "ipython3",
   "version": "3.10.8"
  },
  "vscode": {
   "interpreter": {
    "hash": "1a1af0ee75eeea9e2e1ee996c87e7a2b11a0bebd85af04bb136d915cefc0abce"
   }
  }
 },
 "nbformat": 4,
 "nbformat_minor": 5
}
